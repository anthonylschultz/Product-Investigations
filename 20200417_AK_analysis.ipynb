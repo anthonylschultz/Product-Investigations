{
  "cells": [
    {
      "cell_type": "markdown",
      "source": [
        "# Table of Contents\n",
        "## 0. load libraries, modules\n",
        "## 1. Online audiences vs. Offline audiences\n",
        "## 2. Data store audiences vs. non-data store audiences\n",
        "## 3. Email-only audiences \n",
        "## 4. CID-only audiences \n",
        "## 5. Address-only audiences"
      ],
      "metadata": {
        "nteract": {
          "transient": {
            "deleting": false
          }
        }
      }
    },
    {
      "cell_type": "markdown",
      "source": [
        "# 0. load libraries, modules"
      ],
      "metadata": {
        "nteract": {
          "transient": {
            "deleting": false
          }
        }
      }
    },
    {
      "cell_type": "code",
      "source": [
        "# import basics\n",
        "import pandas as pd\n",
        "import matplotlib.pyplot as plt\n",
        "import matplotlib.patches as mpatches\n",
        "pd.set_option('display.max_rows', 500)"
      ],
      "outputs": [],
      "execution_count": 3,
      "metadata": {
        "execution": {
          "iopub.status.busy": "2020-05-06T02:51:52.789Z",
          "iopub.execute_input": "2020-05-06T02:51:52.800Z",
          "iopub.status.idle": "2020-05-06T02:51:54.844Z",
          "shell.execute_reply": "2020-05-06T02:51:54.853Z"
        }
      }
    },
    {
      "cell_type": "markdown",
      "source": [
        "# 1. Online audiences vs. Offline audiences"
      ],
      "metadata": {
        "nteract": {
          "transient": {
            "deleting": false
          }
        }
      }
    },
    {
      "cell_type": "markdown",
      "source": [
        "## 1.1 results\n",
        "\n",
        "total enabled audiences:\n",
        "21,364\n",
        "\n",
        "offline audiences: 15,707\n",
        "\n",
        "online audiences: 5,117\n"
      ],
      "metadata": {
        "nteract": {
          "transient": {
            "deleting": false
          }
        }
      }
    },
    {
      "cell_type": "markdown",
      "source": [
        "## 1.2 data wrangling"
      ],
      "metadata": {
        "nteract": {
          "transient": {
            "deleting": false
          }
        }
      }
    },
    {
      "cell_type": "markdown",
      "source": [
        "### query all audiences -> enabled, non-FBR"
      ],
      "metadata": {
        "nteract": {
          "transient": {
            "deleting": false
          }
        }
      }
    },
    {
      "cell_type": "markdown",
      "source": [
        "``` mysql\n",
        "SELECT *\n",
        "FROM `corp-bi-us-prod.rldb.liveramp_customer_accounts` \n",
        "WHERE enabled = true AND customer_link_audience = false;\n",
        "```"
      ],
      "metadata": {
        "nteract": {
          "transient": {
            "deleting": false
          }
        }
      }
    },
    {
      "cell_type": "code",
      "source": [
        "# load table w/all audiences\n",
        "lcas = pd.read_csv('/Users/aschul/Documents/Documents - aschul1118mac/Code_Base/Investigations/20200417_AK_analysis/all_LCAs.csv')"
      ],
      "outputs": [],
      "execution_count": null,
      "metadata": {
        "collapsed": true,
        "outputExpanded": false,
        "jupyter": {
          "source_hidden": false,
          "outputs_hidden": false
        },
        "nteract": {
          "transient": {
            "deleting": false
          }
        }
      }
    },
    {
      "cell_type": "markdown",
      "source": [
        "### query audience type summary -> enabled, non-FBR"
      ],
      "metadata": {
        "nteract": {
          "transient": {
            "deleting": false
          }
        }
      }
    },
    {
      "cell_type": "markdown",
      "source": [
        "``` myql\n",
        "SELECT type, count(type) AS type_count\n",
        "FROM `corp-bi-us-prod.rldb.liveramp_customer_accounts` \n",
        "WHERE enabled = true AND customer_link_audience = false\n",
        "GROUP BY type\n",
        "ORDER BY type_count DESC\n",
        "```"
      ],
      "metadata": {
        "nteract": {
          "transient": {
            "deleting": false
          }
        }
      }
    },
    {
      "cell_type": "code",
      "source": [
        "aud_sum = pd.read_csv('/Users/aschul/Documents/Documents - aschul1118mac/Code_Base/Investigations/20200417_AK_analysis/all_LCAs_summary.csv')\n",
        "aud_sum"
      ],
      "outputs": [
        {
          "output_type": "execute_result",
          "execution_count": 79,
          "data": {
            "text/plain": [
              "                                               type  type_count\n",
              "0                    OfflineLiverampCustomerAccount       15707\n",
              "1                     OnlineLiverampCustomerAccount        5117\n",
              "2              CidPinMappingLiverampCustomerAccount         206\n",
              "3      CidAnonymousIdMappingLiverampCustomerAccount         158\n",
              "4                   MuidOnlyLiverampCustomerAccount          75\n",
              "5            MuidHeidMappingLiverampCustomerAccount          73\n",
              "6                      MatchLiverampCustomerAccount          45\n",
              "7  OfflineFulfillmentMappingLiverampCustomerAccount          17\n",
              "8              IdSyncMappingLiverampCustomerAccount          16"
            ],
            "text/html": [
              "<div>\n",
              "<style scoped>\n",
              "    .dataframe tbody tr th:only-of-type {\n",
              "        vertical-align: middle;\n",
              "    }\n",
              "\n",
              "    .dataframe tbody tr th {\n",
              "        vertical-align: top;\n",
              "    }\n",
              "\n",
              "    .dataframe thead th {\n",
              "        text-align: right;\n",
              "    }\n",
              "</style>\n",
              "<table border=\"1\" class=\"dataframe\">\n",
              "  <thead>\n",
              "    <tr style=\"text-align: right;\">\n",
              "      <th></th>\n",
              "      <th>type</th>\n",
              "      <th>type_count</th>\n",
              "    </tr>\n",
              "  </thead>\n",
              "  <tbody>\n",
              "    <tr>\n",
              "      <th>0</th>\n",
              "      <td>OfflineLiverampCustomerAccount</td>\n",
              "      <td>15707</td>\n",
              "    </tr>\n",
              "    <tr>\n",
              "      <th>1</th>\n",
              "      <td>OnlineLiverampCustomerAccount</td>\n",
              "      <td>5117</td>\n",
              "    </tr>\n",
              "    <tr>\n",
              "      <th>2</th>\n",
              "      <td>CidPinMappingLiverampCustomerAccount</td>\n",
              "      <td>206</td>\n",
              "    </tr>\n",
              "    <tr>\n",
              "      <th>3</th>\n",
              "      <td>CidAnonymousIdMappingLiverampCustomerAccount</td>\n",
              "      <td>158</td>\n",
              "    </tr>\n",
              "    <tr>\n",
              "      <th>4</th>\n",
              "      <td>MuidOnlyLiverampCustomerAccount</td>\n",
              "      <td>75</td>\n",
              "    </tr>\n",
              "    <tr>\n",
              "      <th>5</th>\n",
              "      <td>MuidHeidMappingLiverampCustomerAccount</td>\n",
              "      <td>73</td>\n",
              "    </tr>\n",
              "    <tr>\n",
              "      <th>6</th>\n",
              "      <td>MatchLiverampCustomerAccount</td>\n",
              "      <td>45</td>\n",
              "    </tr>\n",
              "    <tr>\n",
              "      <th>7</th>\n",
              "      <td>OfflineFulfillmentMappingLiverampCustomerAccount</td>\n",
              "      <td>17</td>\n",
              "    </tr>\n",
              "    <tr>\n",
              "      <th>8</th>\n",
              "      <td>IdSyncMappingLiverampCustomerAccount</td>\n",
              "      <td>16</td>\n",
              "    </tr>\n",
              "  </tbody>\n",
              "</table>\n",
              "</div>"
            ]
          },
          "metadata": {}
        }
      ],
      "execution_count": 79,
      "metadata": {
        "execution": {
          "iopub.status.busy": "2020-04-30T19:05:46.707Z",
          "iopub.execute_input": "2020-04-30T19:05:46.711Z",
          "iopub.status.idle": "2020-04-30T19:05:46.720Z",
          "shell.execute_reply": "2020-04-30T19:05:46.725Z"
        },
        "jupyter": {
          "outputs_hidden": true
        }
      }
    },
    {
      "cell_type": "markdown",
      "source": [
        "## 1.3 data exploration"
      ],
      "metadata": {
        "nteract": {
          "transient": {
            "deleting": false
          }
        }
      }
    },
    {
      "cell_type": "code",
      "source": [
        "lcas.info()"
      ],
      "outputs": [],
      "execution_count": null,
      "metadata": {
        "execution": {
          "iopub.status.busy": "2020-04-29T15:26:49.515Z",
          "iopub.execute_input": "2020-04-29T15:26:49.519Z",
          "iopub.status.idle": "2020-04-29T15:26:49.531Z",
          "shell.execute_reply": "2020-04-29T15:26:49.542Z"
        }
      }
    },
    {
      "cell_type": "code",
      "source": [
        "lcas.head(2)"
      ],
      "outputs": [],
      "execution_count": null,
      "metadata": {}
    },
    {
      "cell_type": "markdown",
      "source": [
        "# 2. Data store audiences vs. non-data store audiences"
      ],
      "metadata": {}
    },
    {
      "cell_type": "markdown",
      "source": [
        "## 2.1 results\n",
        "data provider customers - 804 (active customers, defined as having entry in the dms_provider table)\n",
        "\n",
        "total active audiences - 21,364\n",
        "___________________\n",
        "\n",
        "offline audiences - 15,707\n",
        "\n",
        "offline, data store provider audiences - 546\n",
        "\n",
        "___________________\n",
        "\n",
        "online audiences - 5,110\n",
        "\n",
        "online, data store provider audiences - 1,018\n",
        "___________________\n",
        "\n",
        "total data store provider audiences - 1,567\n",
        "\n"
      ],
      "metadata": {
        "nteract": {
          "transient": {
            "deleting": false
          }
        }
      }
    },
    {
      "cell_type": "markdown",
      "source": [
        "## 2.2 data wrangling"
      ],
      "metadata": {
        "nteract": {
          "transient": {
            "deleting": false
          }
        }
      }
    },
    {
      "cell_type": "markdown",
      "source": [
        "### query all data provider customers -> customer status = enabled"
      ],
      "metadata": {
        "nteract": {
          "transient": {
            "deleting": false
          }
        }
      }
    },
    {
      "cell_type": "markdown",
      "source": [
        "```mysql\n",
        "SELECT dms_providers.customer_id, customers.id\n",
        "FROM `corp-bi-us-prod.rldb.dms_providers` AS dms_providers\n",
        "  INNER JOIN `corp-bi-us-prod.rldb.customers` AS customers\n",
        "    ON dms_providers.customer_id = customers.id\n",
        "WHERE customers.status = 1\n",
        "```"
      ],
      "metadata": {
        "nteract": {
          "transient": {
            "deleting": false
          }
        }
      }
    },
    {
      "cell_type": "code",
      "source": [
        "# 804 customers are data providers, defined by having an entry in the dms_provider table and customers.enabled = true\n",
        "\n",
        "dms_providers = pd.read_csv('/Users/aschul/Documents/Documents - aschul1118mac/Code_Base/Investigations/20200417_AK_analysis/dms_providers.csv')\n",
        "dms_providers.count()\n",
        "dms_providers.head(2)"
      ],
      "outputs": [
        {
          "output_type": "execute_result",
          "execution_count": 68,
          "data": {
            "text/plain": [
              "customer_id    804\n",
              "name           804\n",
              "dtype: int64"
            ]
          },
          "metadata": {}
        }
      ],
      "execution_count": 68,
      "metadata": {
        "collapsed": true,
        "outputExpanded": false,
        "jupyter": {
          "source_hidden": false,
          "outputs_hidden": true
        },
        "nteract": {
          "transient": {
            "deleting": false
          }
        },
        "execution": {
          "shell.execute_reply": "2020-04-30T19:04:47.159Z",
          "iopub.status.busy": "2020-04-30T19:04:47.127Z",
          "iopub.execute_input": "2020-04-30T19:04:47.131Z",
          "iopub.status.idle": "2020-04-30T19:04:47.142Z"
        }
      }
    },
    {
      "cell_type": "markdown",
      "source": [
        "### query all data store audiences -> enabled, non-FBR audiences, customer status = enabled"
      ],
      "metadata": {
        "nteract": {
          "transient": {
            "deleting": false
          }
        }
      }
    },
    {
      "cell_type": "markdown",
      "source": [
        "```mysql\n",
        "SELECT lr_customer_accounts.id AS audience_id, lr_customer_accounts.display_name AS audience_name, customers.name AS customer_name, customers.id AS customer_id, lr_customer_accounts.type\n",
        "FROM `corp-bi-us-prod.rldb.dms_segments` AS dms_segments\n",
        "INNER JOIN `corp-bi-us-prod.rldb.lrc_field_definitions` AS lrc_field_definitions\n",
        "  ON dms_segments.lrc_field_definition_id = lrc_field_definitions.id\n",
        "INNER JOIN `corp-bi-us-prod.rldb.liveramp_customer_accounts` AS lr_customer_accounts\n",
        "  ON lrc_field_definitions.lr_customer_account_id = lr_customer_accounts.id\n",
        "INNER JOIN `corp-bi-us-prod.rldb.customers` AS customers\n",
        "  ON lr_customer_accounts.customer_id = customers.id\n",
        "WHERE lr_customer_accounts.enabled = true AND lr_customer_accounts.customer_link_audience = false AND customers.status = 1\n",
        "GROUP BY lr_customer_accounts.id, lr_customer_accounts.display_name, customers.name, customers.id, lr_customer_accounts.type\n",
        "```"
      ],
      "metadata": {
        "nteract": {
          "transient": {
            "deleting": false
          }
        }
      }
    },
    {
      "cell_type": "code",
      "source": [
        "dms_audiences = pd.read_csv('/Users/aschul/Documents/Documents - aschul1118mac/Code_Base/Investigations/20200417_AK_analysis/all_DS_non_DS_audiences.csv')\n",
        "dms_audiences\n",
        "dms_audiences.info()"
      ],
      "outputs": [
        {
          "output_type": "stream",
          "name": "stdout",
          "text": [
            "<class 'pandas.core.frame.DataFrame'>\n",
            "RangeIndex: 1564 entries, 0 to 1563\n",
            "Data columns (total 5 columns):\n",
            " #   Column         Non-Null Count  Dtype \n",
            "---  ------         --------------  ----- \n",
            " 0   audience_id    1564 non-null   int64 \n",
            " 1   audience_name  1564 non-null   object\n",
            " 2   customer_name  1564 non-null   object\n",
            " 3   customer_id    1564 non-null   int64 \n",
            " 4   type           1564 non-null   object\n",
            "dtypes: int64(2), object(3)\n",
            "memory usage: 61.2+ KB\n"
          ]
        }
      ],
      "execution_count": 74,
      "metadata": {
        "collapsed": true,
        "outputExpanded": false,
        "jupyter": {
          "source_hidden": false,
          "outputs_hidden": false
        },
        "nteract": {
          "transient": {
            "deleting": false
          }
        },
        "execution": {
          "iopub.status.busy": "2020-04-30T19:05:10.246Z",
          "iopub.execute_input": "2020-04-30T19:05:10.251Z",
          "iopub.status.idle": "2020-04-30T19:05:10.263Z",
          "shell.execute_reply": "2020-04-30T19:05:10.273Z"
        }
      }
    },
    {
      "cell_type": "markdown",
      "source": [
        "# 3. Email-only audiences"
      ],
      "metadata": {
        "nteract": {
          "transient": {
            "deleting": false
          }
        }
      }
    },
    {
      "cell_type": "markdown",
      "source": [
        "## 3.1 Results\n",
        "### all audiences\n",
        "enabled, non-FBR audiences where AK = email and customer = enabled\n",
        "\n",
        "audiences w/AK as raw email - 4,995\n",
        "\n",
        "audiences w/AK as hashed email - 358\n",
        "\n",
        "-------------\n",
        "audiences w/AK as MD5 email - 175\n",
        "\n",
        "audiences w/AK as SHA256 email - 84\n",
        "\n",
        "audiences w/AK as SHA1 email - 46\n",
        "\n",
        "audiences w/AK as unknown hash email - 53\n",
        "\n",
        "### non-DS audiences\n",
        "enabled, non-FBR audiences where AK = email and customer = enabled\n",
        "\n",
        "non DS audiences w/AK set as raw email - 4,918\n",
        "\n",
        "non-DS audienecs w/AK set as hashed email - 328\n",
        "\n",
        "-------------\n",
        "audiences w/AK set as MD5 email - 159\n",
        "\n",
        "audiences w/AK set as SHA256 email - 78\n",
        "\n",
        "audiences w/AK set as SHA1 email - 38\n",
        "\n",
        "audiences w/AK set as unknown hash email - 52\n",
        "\n",
        "### DS audiences\n",
        "enabled, non-FBR audiences where AK = email and customer = enabled\n",
        "\n",
        "DS audiences w/AK set as raw email - 77\n",
        "\n",
        "DS audiences w/AK set as hashed email - 31\n",
        "\n",
        "-------------\n",
        "DS audiences w/AK set as MD5 email - 16\n",
        "\n",
        "DS audiences w/AK set as SHA256 email - 6\n",
        "\n",
        "DS audiences w/AK set as SHA1 email - 8\n",
        "\n",
        "DS audiences w/AK set as unknown hash email - 1"
      ],
      "metadata": {
        "nteract": {
          "transient": {
            "deleting": false
          }
        }
      }
    },
    {
      "cell_type": "markdown",
      "source": [
        "## 3.2 Data wrangling"
      ],
      "metadata": {
        "nteract": {
          "transient": {
            "deleting": false
          }
        }
      }
    },
    {
      "cell_type": "markdown",
      "source": [
        "\n",
        "### 3.2.1 query all audiences with AK like '%email%' -> enabled, non-FBR audiences, enabled customers"
      ],
      "metadata": {
        "nteract": {
          "transient": {
            "deleting": false
          }
        }
      }
    },
    {
      "cell_type": "markdown",
      "source": [
        "```mysql\n",
        "SELECT *\n",
        "FROM audience_key_labels\n",
        "INNER JOIN liveramp_customer_accounts\n",
        "\tON audience_key_labels.liveramp_customer_account_id = liveramp_customer_accounts.id\n",
        "INNER JOIN customers\n",
        "\tON liveramp_customer_accounts.customer_id = customers.id\n",
        "WHERE audience_key_labels.key_index = 0 AND audience_key_labels.label like '%email%' AND customers.status = 1 AND liveramp_customer_accounts.enabled = true AND liveramp_customer_accounts.customer_link_audience = false\n",
        "GROUP BY liveramp_customer_accounts.id\n",
        "```"
      ],
      "metadata": {
        "nteract": {
          "transient": {
            "deleting": false
          }
        }
      }
    },
    {
      "cell_type": "code",
      "source": [
        "raw_emails_all_audiences = pd.read_csv('/Users/aschul/Documents/Documents - aschul1118mac/Code_Base/Investigations/20200417_AK_analysis/email_AKs/raw_emails.csv')    "
      ],
      "outputs": [],
      "execution_count": 17,
      "metadata": {
        "collapsed": true,
        "outputExpanded": false,
        "jupyter": {
          "source_hidden": false,
          "outputs_hidden": false
        },
        "nteract": {
          "transient": {
            "deleting": false
          }
        },
        "execution": {
          "iopub.status.busy": "2020-05-06T03:04:10.399Z",
          "iopub.execute_input": "2020-05-06T03:04:10.409Z",
          "iopub.status.idle": "2020-05-06T03:04:10.458Z",
          "shell.execute_reply": "2020-05-06T03:04:10.470Z"
        }
      }
    },
    {
      "cell_type": "code",
      "source": [
        "raw_emails_all_audiences.head(5)"
      ],
      "outputs": [
        {
          "output_type": "execute_result",
          "execution_count": 130,
          "data": {
            "text/plain": [
              "      id  liveramp_customer_account_id  key_index      label    id.1  \\\n",
              "0    928                           607          0      email   607.0   \n",
              "1   4948                          1678          0  Md5 Email  1678.0   \n",
              "2   5038                          2098          0      Email  2098.0   \n",
              "3  11148                          2258          0      Email  2258.0   \n",
              "4  11358                          2288          0      Email  2288.0   \n",
              "\n",
              "  customer_id  data_partner_thrift_identifier  \\\n",
              "0      337461                              64   \n",
              "1       48144                             179   \n",
              "2      522676                             221   \n",
              "3      400648                             232   \n",
              "4      400648                             235   \n",
              "\n",
              "                           display_name  volume_limit           updated_at  \\\n",
              "0                 Madison Logic - Email           NaN  2018-10-18 18:30:49   \n",
              "1  LiveRamp Analysis - Gmail Test Users           NaN  2018-05-02 15:07:36   \n",
              "2                 Arrivalist - One Bird           NaN  2018-05-02 15:07:36   \n",
              "3                         Webbula - CAL           NaN  2018-02-20 18:51:07   \n",
              "4                         Webbula - PUB           NaN  2018-02-20 18:51:08   \n",
              "\n",
              "   ...  evaluation_tos_accepted_by  merged  query_rate_estimate esp_key  \\\n",
              "0  ...                         NaN       0                  NaN     NaN   \n",
              "1  ...                         NaN       0                  NaN     NaN   \n",
              "2  ...                         NaN       0                  NaN     NaN   \n",
              "3  ...                         NaN       0                  NaN     NaN   \n",
              "4  ...                         NaN       0                  NaN     NaN   \n",
              "\n",
              "  reference_liveramp_customer_account_id                       email_alias  \\\n",
              "0                                 101819              bombora@liveramp.com   \n",
              "1                                    NaN  datastoreoperations@liveramp.com   \n",
              "2                                    NaN           arrivalist@liveramp.com   \n",
              "3                                    NaN              webbula@liveramp.com   \n",
              "4                                    NaN              webbula@liveramp.com   \n",
              "\n",
              "   custom_billing_rule_id  custom_billing_rule_type  \\\n",
              "0                     NaN                       NaN   \n",
              "1                     NaN                       NaN   \n",
              "2                     NaN                       NaN   \n",
              "3                     NaN                       NaN   \n",
              "4                     NaN                       NaN   \n",
              "\n",
              "                     encryption_key  enable_match_reports  \n",
              "0  e5782f17c88e4f9cc9a6b1b7623d1a0d                   1.0  \n",
              "1  97f4b92984b03701b3c54d433a3ffa7d                   0.0  \n",
              "2  1082549ad65243db9746b52448aff0ad                   0.0  \n",
              "3  b8d11659c18061ec8e72a19fd92c94b3                   0.0  \n",
              "4  b8d11659c18061ec8e72a19fd92c94b3                   0.0  \n",
              "\n",
              "[5 rows x 70 columns]"
            ],
            "text/html": [
              "<div>\n",
              "<style scoped>\n",
              "    .dataframe tbody tr th:only-of-type {\n",
              "        vertical-align: middle;\n",
              "    }\n",
              "\n",
              "    .dataframe tbody tr th {\n",
              "        vertical-align: top;\n",
              "    }\n",
              "\n",
              "    .dataframe thead th {\n",
              "        text-align: right;\n",
              "    }\n",
              "</style>\n",
              "<table border=\"1\" class=\"dataframe\">\n",
              "  <thead>\n",
              "    <tr style=\"text-align: right;\">\n",
              "      <th></th>\n",
              "      <th>id</th>\n",
              "      <th>liveramp_customer_account_id</th>\n",
              "      <th>key_index</th>\n",
              "      <th>label</th>\n",
              "      <th>id.1</th>\n",
              "      <th>customer_id</th>\n",
              "      <th>data_partner_thrift_identifier</th>\n",
              "      <th>display_name</th>\n",
              "      <th>volume_limit</th>\n",
              "      <th>updated_at</th>\n",
              "      <th>...</th>\n",
              "      <th>evaluation_tos_accepted_by</th>\n",
              "      <th>merged</th>\n",
              "      <th>query_rate_estimate</th>\n",
              "      <th>esp_key</th>\n",
              "      <th>reference_liveramp_customer_account_id</th>\n",
              "      <th>email_alias</th>\n",
              "      <th>custom_billing_rule_id</th>\n",
              "      <th>custom_billing_rule_type</th>\n",
              "      <th>encryption_key</th>\n",
              "      <th>enable_match_reports</th>\n",
              "    </tr>\n",
              "  </thead>\n",
              "  <tbody>\n",
              "    <tr>\n",
              "      <th>0</th>\n",
              "      <td>928</td>\n",
              "      <td>607</td>\n",
              "      <td>0</td>\n",
              "      <td>email</td>\n",
              "      <td>607.0</td>\n",
              "      <td>337461</td>\n",
              "      <td>64</td>\n",
              "      <td>Madison Logic - Email</td>\n",
              "      <td>NaN</td>\n",
              "      <td>2018-10-18 18:30:49</td>\n",
              "      <td>...</td>\n",
              "      <td>NaN</td>\n",
              "      <td>0</td>\n",
              "      <td>NaN</td>\n",
              "      <td>NaN</td>\n",
              "      <td>101819</td>\n",
              "      <td>bombora@liveramp.com</td>\n",
              "      <td>NaN</td>\n",
              "      <td>NaN</td>\n",
              "      <td>e5782f17c88e4f9cc9a6b1b7623d1a0d</td>\n",
              "      <td>1.0</td>\n",
              "    </tr>\n",
              "    <tr>\n",
              "      <th>1</th>\n",
              "      <td>4948</td>\n",
              "      <td>1678</td>\n",
              "      <td>0</td>\n",
              "      <td>Md5 Email</td>\n",
              "      <td>1678.0</td>\n",
              "      <td>48144</td>\n",
              "      <td>179</td>\n",
              "      <td>LiveRamp Analysis - Gmail Test Users</td>\n",
              "      <td>NaN</td>\n",
              "      <td>2018-05-02 15:07:36</td>\n",
              "      <td>...</td>\n",
              "      <td>NaN</td>\n",
              "      <td>0</td>\n",
              "      <td>NaN</td>\n",
              "      <td>NaN</td>\n",
              "      <td>NaN</td>\n",
              "      <td>datastoreoperations@liveramp.com</td>\n",
              "      <td>NaN</td>\n",
              "      <td>NaN</td>\n",
              "      <td>97f4b92984b03701b3c54d433a3ffa7d</td>\n",
              "      <td>0.0</td>\n",
              "    </tr>\n",
              "    <tr>\n",
              "      <th>2</th>\n",
              "      <td>5038</td>\n",
              "      <td>2098</td>\n",
              "      <td>0</td>\n",
              "      <td>Email</td>\n",
              "      <td>2098.0</td>\n",
              "      <td>522676</td>\n",
              "      <td>221</td>\n",
              "      <td>Arrivalist - One Bird</td>\n",
              "      <td>NaN</td>\n",
              "      <td>2018-05-02 15:07:36</td>\n",
              "      <td>...</td>\n",
              "      <td>NaN</td>\n",
              "      <td>0</td>\n",
              "      <td>NaN</td>\n",
              "      <td>NaN</td>\n",
              "      <td>NaN</td>\n",
              "      <td>arrivalist@liveramp.com</td>\n",
              "      <td>NaN</td>\n",
              "      <td>NaN</td>\n",
              "      <td>1082549ad65243db9746b52448aff0ad</td>\n",
              "      <td>0.0</td>\n",
              "    </tr>\n",
              "    <tr>\n",
              "      <th>3</th>\n",
              "      <td>11148</td>\n",
              "      <td>2258</td>\n",
              "      <td>0</td>\n",
              "      <td>Email</td>\n",
              "      <td>2258.0</td>\n",
              "      <td>400648</td>\n",
              "      <td>232</td>\n",
              "      <td>Webbula - CAL</td>\n",
              "      <td>NaN</td>\n",
              "      <td>2018-02-20 18:51:07</td>\n",
              "      <td>...</td>\n",
              "      <td>NaN</td>\n",
              "      <td>0</td>\n",
              "      <td>NaN</td>\n",
              "      <td>NaN</td>\n",
              "      <td>NaN</td>\n",
              "      <td>webbula@liveramp.com</td>\n",
              "      <td>NaN</td>\n",
              "      <td>NaN</td>\n",
              "      <td>b8d11659c18061ec8e72a19fd92c94b3</td>\n",
              "      <td>0.0</td>\n",
              "    </tr>\n",
              "    <tr>\n",
              "      <th>4</th>\n",
              "      <td>11358</td>\n",
              "      <td>2288</td>\n",
              "      <td>0</td>\n",
              "      <td>Email</td>\n",
              "      <td>2288.0</td>\n",
              "      <td>400648</td>\n",
              "      <td>235</td>\n",
              "      <td>Webbula - PUB</td>\n",
              "      <td>NaN</td>\n",
              "      <td>2018-02-20 18:51:08</td>\n",
              "      <td>...</td>\n",
              "      <td>NaN</td>\n",
              "      <td>0</td>\n",
              "      <td>NaN</td>\n",
              "      <td>NaN</td>\n",
              "      <td>NaN</td>\n",
              "      <td>webbula@liveramp.com</td>\n",
              "      <td>NaN</td>\n",
              "      <td>NaN</td>\n",
              "      <td>b8d11659c18061ec8e72a19fd92c94b3</td>\n",
              "      <td>0.0</td>\n",
              "    </tr>\n",
              "  </tbody>\n",
              "</table>\n",
              "<p>5 rows × 70 columns</p>\n",
              "</div>"
            ]
          },
          "metadata": {}
        }
      ],
      "execution_count": 130,
      "metadata": {
        "collapsed": true,
        "outputExpanded": false,
        "jupyter": {
          "source_hidden": false,
          "outputs_hidden": false
        },
        "nteract": {
          "transient": {
            "deleting": false
          }
        },
        "execution": {
          "iopub.status.busy": "2020-05-01T01:25:54.740Z",
          "iopub.execute_input": "2020-05-01T01:25:54.765Z",
          "iopub.status.idle": "2020-05-01T01:25:54.779Z",
          "shell.execute_reply": "2020-05-01T01:25:54.783Z"
        }
      }
    },
    {
      "cell_type": "code",
      "source": [
        "raw_email_values = pd.DataFrame(raw_emails_all_audiences[\"label\"].value_counts())"
      ],
      "outputs": [],
      "execution_count": 18,
      "metadata": {
        "collapsed": true,
        "outputExpanded": false,
        "jupyter": {
          "source_hidden": false,
          "outputs_hidden": false
        },
        "nteract": {
          "transient": {
            "deleting": false
          }
        },
        "execution": {
          "iopub.status.busy": "2020-05-06T03:04:12.263Z",
          "iopub.execute_input": "2020-05-06T03:04:12.272Z",
          "iopub.status.idle": "2020-05-06T03:04:12.284Z",
          "shell.execute_reply": "2020-05-06T03:04:12.293Z"
        }
      }
    },
    {
      "cell_type": "code",
      "source": [
        "raw_email_values.info()"
      ],
      "outputs": [
        {
          "output_type": "stream",
          "name": "stdout",
          "text": [
            "<class 'pandas.core.frame.DataFrame'>\n",
            "Index: 250 entries, Email to MEMBER_EMAIL\n",
            "Data columns (total 1 columns):\n",
            " #   Column  Non-Null Count  Dtype\n",
            "---  ------  --------------  -----\n",
            " 0   label   250 non-null    int64\n",
            "dtypes: int64(1)\n",
            "memory usage: 3.9+ KB\n"
          ]
        }
      ],
      "execution_count": 19,
      "metadata": {
        "collapsed": true,
        "outputExpanded": false,
        "jupyter": {
          "source_hidden": false,
          "outputs_hidden": false
        },
        "nteract": {
          "transient": {
            "deleting": false
          }
        },
        "execution": {
          "iopub.status.busy": "2020-05-06T03:04:15.506Z",
          "iopub.execute_input": "2020-05-06T03:04:15.517Z",
          "iopub.status.idle": "2020-05-06T03:04:15.539Z",
          "shell.execute_reply": "2020-05-06T03:04:15.550Z"
        }
      }
    },
    {
      "cell_type": "code",
      "source": [
        "# normalize email columns (raw, MD5, SHA1, SHA256)\n",
        "raw_emails_all_audiences[\"label\"].replace({\"Email\":\"email\", \n",
        "                             \"Email1\":\"email\",\n",
        "                             \"Email Address\":\"email\",\n",
        "                             \"EmailAddress\":\"email\", \n",
        "                             \"Emails\":\"email\",\n",
        "                             \"EMAIL\":\"email\",\n",
        "                             \"Email_1\":\"email\",\n",
        "                             \"EmailAddress\":\"email\",\n",
        "                             \"email_address\":\"email\",\n",
        "                             \"EMAIL_ADDRESS\":\"email\",\n",
        "                             \"Email 1\":\"email\",\n",
        "                             \"Email(s)\":\"email\",\n",
        "                             \"email1\":\"email\",\n",
        "                             \"EMAIL_ID\":\"email\",\n",
        "                             \"email1_MD5\":\"MD5\",\n",
        "                             \"emailmd5\":\"MD5\",\n",
        "                             \"profiles.email_address\":\"email\",\n",
        "                             \"EMAIL_ADDR\":\"email\",\n",
        "                             \"SHA256EMAIL1\":\"email\",\n",
        "                             \"email_addr\":\"email\",\n",
        "                             \"MD5EMAIL\":\"MD5\",\n",
        "                             \"EmailAddress\":\"email\",\n",
        "                             \"EMAIL1\":\"email\",\n",
        "                             \"cust_email_addr\":\"email\",\n",
        "                             \"Email_Address\":\"email\",\n",
        "                             \"md5_email\":\"MD5\",\n",
        "                             \"Email_ID\":\"email\",\n",
        "                             \"EMAIL_ADDR_TXT\":\"email\",\n",
        "                             \"emailAddress\":\"email\",\n",
        "                             \"sha1_email\":\"SHA1\",\n",
        "                             \"MD5Email\":\"MD5\",\n",
        "                             \"email_1\":\"email\",\n",
        "                             \"LRI_G_SHA1EMAIL1\":\"SHA1\",\n",
        "                             \"LRI_G_SHA256EMAIL1\":\"SHA256\",\n",
        "                             \"loweremailmd5\":\"MD5\",\n",
        "                             \"email_sha256\":\"SHA256\",\n",
        "                             \"SHA256_EMAIL\":\"SHA256\",\n",
        "                             \"MD5_Email\":\"MD5\",\n",
        "                             \"LRI_DER_SHA256EMAIL1\":\"SHA256\",\n",
        "                             \"email_SHA-1\":\"SHA1\",\n",
        "                             \"sha256email\":\"SHA256\",\n",
        "                             \"email address\":\"email\",\n",
        "                             \"purch_email_addr\":\"email\",\n",
        "                             \"HashedEmail\":\"hashed_email\",\n",
        "                             \"P_EMAIL_ADDRESS\":\"email\",\n",
        "                             \"Member Email Address\":\"email\",\n",
        "                             \"Email Addresses\":\"email\",\n",
        "                             \"email_md5\":\"MD5\",\n",
        "                             \"emails\":\"email\",\n",
        "                             \"Email Hash\":\"hashed_email\",\n",
        "                             \"customer_email\":\"email\",\n",
        "                             \"EMAIL_ADDRESS_\":\"email\",\n",
        "                             \"SHA 256 Email\":\"SHA256\",\n",
        "                             \"EMAILADDRESS\":\"email\",\n",
        "                             \"LRI_DER_SHA1EMAIL1\":\"SHA1\",\n",
        "                             \"email_hash\":\"hashed_email\",\n",
        "                             \"LRI_G_MD5EMAIL1\":\"MD5\",\n",
        "                             \"EMAIL_SHA256\":\"SHA256\",\n",
        "                             \"PII_EMAIL_ADDRESS\":\"email\",\n",
        "                             \"EMail\":\"email\",\n",
        "                             \"Email address\":\"email\",\n",
        "                             \"SHA1_Email\":\"SHA1\",\n",
        "                             \"LRI_DER_MD5EMAIL1\":\"MD5\",\n",
        "                             \"EMAIL_1\":\"email\",\n",
        "                             \"sha256_email\":\"SHA256\",\n",
        "                             \"SHA256EMAIL\":\"SHA256\",\n",
        "                             \"SHA256Email\":\"email\",\n",
        "                             \"emailaddress\":\"email\",\n",
        "                             \"email_id\":\"email\",\n",
        "                             \"SHA1EMAIL\":\"SHA1\",\n",
        "                             \"hashed email\":\"hashed_email\",\n",
        "                             \"SHA256HASHEDEMAIL\":\"SHA256\",\n",
        "                             \"email2\":\"email\",\n",
        "                             \"EMAIL_ADDRESS_1\":\"email\",\n",
        "                             \"md5email\":\"MD5\",\n",
        "                             \"hashedemail\":\"hashed_email\",\n",
        "                             \"EMAIL_HASHED\":\"hashed_email\",\n",
        "                             \"Broker Email\":\"email\",\n",
        "                             \"HASH_MD5_LOWER_EMAIL\":\"MD5\",\n",
        "                             \"profileEmail\":\"email\",\n",
        "                             \"email_Address\":\"email\",\n",
        "                             \"Hashed_Email\":\"hashed_email\",\n",
        "                             \"PER_EMAIL\":\"email\",\n",
        "                             \"Hashed_Email_Address\":\"email\",\n",
        "                             \"Peloton Order Order Email\":\"email\",\n",
        "                             \"EMAIL,FN,LN,,ZIP,CT,PHONE,\":\"email\",\n",
        "                             \"Hashed_Email_ID_Hex\":\"hashed_email\",\n",
        "                             \"#email_lc_md5\":\"MD5\",\n",
        "                             \"MD5_EMAIL\":\"MD5\",\n",
        "                             \"\\EMAIL\\\"\":\"email\",\n",
        "                             \"Customer Email\":\"email\",\n",
        "                             \"CUSTOMERS_SalesOrder_BILLTOLookup::Email\":\"email\",\n",
        "                             \"profile.email\":\"email\",\n",
        "                             \"HASHED_EMAIL\":\"hashed_email\",\n",
        "                             \"sha256email1\":\"SHA256\",\n",
        "                             \"Hashed Email\":\"hashed_email\",\n",
        "                             \"CUST_EMAIL\":\"email\",\n",
        "                             \"SHA256 Email\":\"SHA256\",\n",
        "                             \"email,fn,ln,st,zip,ct,phone,\":\"email\",\n",
        "                             \"best_email\":\"email\",\n",
        "                             \"LRI_G_EMAIL1\":\"email\",\n",
        "                             \"SHA2_EMAIL\":\"SHA2\",\n",
        "                             \"Md5 Email\":\"MD5\",\n",
        "                             \"md5(email1)\":\"MD5\",\n",
        "                             \"master_email\":\"email\",\n",
        "                             \"HASHED_CUST_EMAIL\":\"hashed_email\",\n",
        "                             \"REAL_EMAIL\":\"email\",\n",
        "                             \"email_sha1\":\"SHA1\",\n",
        "                             \"MD5 EMAIL\":\"MD5\",\n",
        "                             \"Email/Email\":\"email\",\n",
        "                             \"hash_email\":\"hashed_email\",\n",
        "                             \"email md5\":\"MD5\",\n",
        "                             \"Email_address\":\"email\",\n",
        "                             \"Email1_SHA-1\":\"SHA1\",\n",
        "                             \"MD5 Hashed Email\":\"MD5\",\n",
        "                             \"EE_EMAIL_ADDRESS\":\"email\",\n",
        "                             \"Email1 Address\":\"email\",\n",
        "                             \"DMD_EMAIL\":\"email\",\n",
        "                             \"QBOVRT_master_email\":\"email\",\n",
        "                             \"lower(b.email_addr_hash_txt)\":\"hashed_email\",\n",
        "                             \"Email1_SHA256\":\"SHA256\",\n",
        "                             \"HashedEmail1\":\"hashed_email\",\n",
        "                             \"CONTACT_EMAIL_ADDR\":\"email\",\n",
        "                             \"Email \":\"email\",\n",
        "                             \"EmailAddressmd5\":\"MD5\",\n",
        "                             \"CONTACT EMAIL\":\"email\",\n",
        "                             \"MD5EMAIL1\":\"MD5\",\n",
        "                             \"MD5email\":\"MD5\",\n",
        "                             \"sha256email\\\",470121,624331,470121,UPHE - Onboarding - Salesforce Data\\\"\":\"SHA256\",\n",
        "                             \"sha256email\\\",287259,579949,28236,Swirl McGarryBowen - Onboarding\\\"\":\"SHA256\",\n",
        "                             \"AX_CUREMAIL_10\":\"email\",\n",
        "                             \"Email \":\"email\",\n",
        "                             \"SHA256_email\":\"SHA256\",\n",
        "                             \"USA_EMAIL\":\"email\",\n",
        "                             \"Right_email\":\"email\",\n",
        "                             \"MDG EMAIL\":\"MD5\",\n",
        "                             \"email3\":\"email\",\n",
        "                             \"sha256email\\\",287259,579949,28236,Swirl McGarryBowen - Onboarding\\\"\":\"SHA256\",\n",
        "                             \"sha256email\\\",470121,624331,470121,UPHE - Onboarding - Salesforce Data\\\"\":\"SHA256\",\n",
        "                             \"email_SHA_256\":\"SHA256\",\n",
        "                             \"hashed_emailId\":\"hashed_email\",\n",
        "                             \"EMAIL_ADDRESS1\":\"email\",\n",
        "                             \"email_adr1\":\"email\",\n",
        "                             \"EmailAddressHash_MD5\":\"MD5\",\n",
        "                             \"LRI_G_email_address\":\"email\",\n",
        "                             \"DANDRVINSON@EMAIL.COM\":\"email\",\n",
        "                             \"user_email\":\"email\",\n",
        "                             \"Email_hashed\":\"hashed_email\",\n",
        "                             \"P_EMAIL\":\"email\",\n",
        "                             \"Hashed email\":\"hashed_email\",\n",
        "                             \"SHA250Email\":\"SHA256\",\n",
        "                             \"sha256email\\\",287259,579949,28236,Swirl McGarryBowen - Onboarding\\\"\":\"SHA256\",\n",
        "                             \"sha256email\\\",470121,624331,470121,UPHE - Onboarding - Salesforce Data\\\"\":\"SHA256\",\n",
        "                             \"Email5\":\"email\",\n",
        "                             \"Orders Customer Email\":\"email\",\n",
        "                             \"Encrypted Email address\":\"hashed_email\",\n",
        "                             \"eMail\":\"email\",\n",
        "                             \"patron_email_addr\":\"email\",\n",
        "                             \"Client_Email\":\"email\",\n",
        "                             \"email_01\":\"email\",\n",
        "                             \"emailhash_md5\":\"MD5\",\n",
        "                             \"Person Account: Email\":\"email\",\n",
        "                             \"Email_Appended\":\"email\",\n",
        "                             \"Email_address_hash\":\"hashed_email\",\n",
        "                             \"sha256email\\\",470121,624331,470121,UPHE - Onboarding - Salesforce Data\\\"\":\"SHA256\",\n",
        "                             \"EMAIL_HASH\":\"hashed_email\",\n",
        "                             \"Email ID\":\"email\",\n",
        "                             \"email_billing\":\"email\",\n",
        "                             \"PRIMARY_EMAIL_ADDRESS\":\"email\",\n",
        "                             \"Opportunity Email\":\"email\",\n",
        "                             \"CnPh_1_01_Email\":\"email\",\n",
        "                             \"MD5_email\":\"MD5\",\n",
        "                             \"email_address_256hash\":\"SHA256\",\n",
        "                             \"EMAIL ADDR\":\"email\",\n",
        "                             \"sha256email\\\",154996,542386,15314,StubHub - Salesforce Onboarding\\\"\":\"SHA256\",\n",
        "                             \"Hash Email\":\"hashed_email\",\n",
        "                             \"prmry_email_addr\":\"email\",\n",
        "                             \"sha256email\\\",248499,508256,24412,Caesars - Salesforce RFP\\\"\":\"SHA256\",\n",
        "                             \"MEMBER_EMAIL\":\"email\",\n",
        "                             \"Sha1_Email\":\"SHA1\",\n",
        "                             \"HASH EMAIL ADDR\":\"hashed_email\",\n",
        "                             \"Sha1_Email\":\"SHA1\",\n",
        "                             \"HASH EMAIL ADDR\":\"hashed_email\",\n",
        "                             \"CUS_EMAIL_ADDRESS\":\"email\",\n",
        "                             \"channels.email.address\":\"email\",\n",
        "                             \"\\Email1\\\"\\\"\":\"email\",\n",
        "                             \"primaryEmail\":\"email\",\n",
        "                             \"sha256email\\\",313789,533849,313789,Audi - Salesforce Imports\\\"\":\"SHA256\",\n",
        "                             \"HASEHD_EMAIL\":\"hashed_email\",\n",
        "                             \"\\Email1\\\"\\\"\":\"email\",\n",
        "                             \"hash email\":\"hashed_email\",\n",
        "                             \"REGI_EMAIL_ADDR\":\"email\",\n",
        "                             \"Customers Email\":\"email\",\n",
        "                             \"email_addres\":\"email\",\n",
        "                             \"sha256email\\\",116909,533639,11536,Weight Watchers - Onboarding\\\"\":\"SHA256\",\n",
        "                             \"EMAIL-sha1\":\"SHA1\",\n",
        "                             \"Email Address 1\":\"email\",\n",
        "                             \"Contact Business Email\":\"email\",\n",
        "                             \"\\Email1\\\"\\\"\":\"email\",\n",
        "                             \"Personal_email\":\"email\",\n",
        "                             \"sha256email\\\",154996,542386,15314,StubHub - Salesforce Onboarding\\\"\":\"SHA256\",\n",
        "                             \"EMAIL_MATCH_ID_1\":\"email\",\n",
        "                             \"MD5 Email\":\"MD5\",\n",
        "                             \"associatedemailaddress\":\"email\",\n",
        "                             \"Email_Hash\":\"hashed_email\",\n",
        "                             \"Email_Hash \":\"hashed_email\",\n",
        "                             \"EMAIL ADDRESS\t\":\"email\",\n",
        "                             \"EMAILADDR\":\"email\",\n",
        "                             \"EMAILADDR \":\"email\",\n",
        "                             \"Contact: Primary Email\":\"email\",\n",
        "                             \"Email Address - Prospects\":\"email\",\n",
        "                             \"sha_email\t\":\"hashed_email\",\n",
        "                             \"sha_email\":\"hashed_email\",\n",
        "                             \"primary_contact_primary_email\":\"email\",\n",
        "                             \"EMAIL_ADDR_1\":\"email\",\n",
        "                             \"Primary_Email_Address\":\"email\",\n",
        "                             \"CUST_EMAIL_ADDR\":\"email\",\n",
        "                             \"AlternateEmail\":\"email\"\n",
        "                            }, inplace = True)                       "
      ],
      "outputs": [],
      "execution_count": 133,
      "metadata": {
        "collapsed": false,
        "outputExpanded": true,
        "jupyter": {
          "source_hidden": false,
          "outputs_hidden": false
        },
        "nteract": {
          "transient": {
            "deleting": false
          }
        },
        "execution": {
          "iopub.status.busy": "2020-05-01T01:26:05.616Z",
          "iopub.execute_input": "2020-05-01T01:26:05.622Z",
          "iopub.status.idle": "2020-05-01T01:26:05.629Z",
          "shell.execute_reply": "2020-05-01T01:26:05.639Z"
        }
      }
    },
    {
      "cell_type": "code",
      "source": [
        "raw_email_values.head(25)"
      ],
      "outputs": [
        {
          "output_type": "execute_result",
          "execution_count": 21,
          "data": {
            "text/plain": [
              "                        label\n",
              "Email                    1584\n",
              "Email1                    793\n",
              "email                     758\n",
              "Email Address             424\n",
              "Emails                    327\n",
              "EMAIL                     230\n",
              "Email_1                   207\n",
              "EMAIL1                    113\n",
              "EmailAddress               71\n",
              "email_address              63\n",
              "EMAIL_ADDRESS              42\n",
              "Email 1                    37\n",
              "Email(s)                   36\n",
              "email1                     26\n",
              "EMAIL_ID                   20\n",
              "email1_MD5                 19\n",
              "emailmd5                   19\n",
              "profiles.email_address     16\n",
              "EMAIL_ADDR                 16\n",
              "SHA256EMAIL1               14\n",
              "email_addr                 12\n",
              "MD5EMAIL                   11\n",
              "cust_email_addr            10\n",
              "md5_email                   9\n",
              "Email_Address               9"
            ],
            "text/html": [
              "<div>\n",
              "<style scoped>\n",
              "    .dataframe tbody tr th:only-of-type {\n",
              "        vertical-align: middle;\n",
              "    }\n",
              "\n",
              "    .dataframe tbody tr th {\n",
              "        vertical-align: top;\n",
              "    }\n",
              "\n",
              "    .dataframe thead th {\n",
              "        text-align: right;\n",
              "    }\n",
              "</style>\n",
              "<table border=\"1\" class=\"dataframe\">\n",
              "  <thead>\n",
              "    <tr style=\"text-align: right;\">\n",
              "      <th></th>\n",
              "      <th>label</th>\n",
              "    </tr>\n",
              "  </thead>\n",
              "  <tbody>\n",
              "    <tr>\n",
              "      <th>Email</th>\n",
              "      <td>1584</td>\n",
              "    </tr>\n",
              "    <tr>\n",
              "      <th>Email1</th>\n",
              "      <td>793</td>\n",
              "    </tr>\n",
              "    <tr>\n",
              "      <th>email</th>\n",
              "      <td>758</td>\n",
              "    </tr>\n",
              "    <tr>\n",
              "      <th>Email Address</th>\n",
              "      <td>424</td>\n",
              "    </tr>\n",
              "    <tr>\n",
              "      <th>Emails</th>\n",
              "      <td>327</td>\n",
              "    </tr>\n",
              "    <tr>\n",
              "      <th>EMAIL</th>\n",
              "      <td>230</td>\n",
              "    </tr>\n",
              "    <tr>\n",
              "      <th>Email_1</th>\n",
              "      <td>207</td>\n",
              "    </tr>\n",
              "    <tr>\n",
              "      <th>EMAIL1</th>\n",
              "      <td>113</td>\n",
              "    </tr>\n",
              "    <tr>\n",
              "      <th>EmailAddress</th>\n",
              "      <td>71</td>\n",
              "    </tr>\n",
              "    <tr>\n",
              "      <th>email_address</th>\n",
              "      <td>63</td>\n",
              "    </tr>\n",
              "    <tr>\n",
              "      <th>EMAIL_ADDRESS</th>\n",
              "      <td>42</td>\n",
              "    </tr>\n",
              "    <tr>\n",
              "      <th>Email 1</th>\n",
              "      <td>37</td>\n",
              "    </tr>\n",
              "    <tr>\n",
              "      <th>Email(s)</th>\n",
              "      <td>36</td>\n",
              "    </tr>\n",
              "    <tr>\n",
              "      <th>email1</th>\n",
              "      <td>26</td>\n",
              "    </tr>\n",
              "    <tr>\n",
              "      <th>EMAIL_ID</th>\n",
              "      <td>20</td>\n",
              "    </tr>\n",
              "    <tr>\n",
              "      <th>email1_MD5</th>\n",
              "      <td>19</td>\n",
              "    </tr>\n",
              "    <tr>\n",
              "      <th>emailmd5</th>\n",
              "      <td>19</td>\n",
              "    </tr>\n",
              "    <tr>\n",
              "      <th>profiles.email_address</th>\n",
              "      <td>16</td>\n",
              "    </tr>\n",
              "    <tr>\n",
              "      <th>EMAIL_ADDR</th>\n",
              "      <td>16</td>\n",
              "    </tr>\n",
              "    <tr>\n",
              "      <th>SHA256EMAIL1</th>\n",
              "      <td>14</td>\n",
              "    </tr>\n",
              "    <tr>\n",
              "      <th>email_addr</th>\n",
              "      <td>12</td>\n",
              "    </tr>\n",
              "    <tr>\n",
              "      <th>MD5EMAIL</th>\n",
              "      <td>11</td>\n",
              "    </tr>\n",
              "    <tr>\n",
              "      <th>cust_email_addr</th>\n",
              "      <td>10</td>\n",
              "    </tr>\n",
              "    <tr>\n",
              "      <th>md5_email</th>\n",
              "      <td>9</td>\n",
              "    </tr>\n",
              "    <tr>\n",
              "      <th>Email_Address</th>\n",
              "      <td>9</td>\n",
              "    </tr>\n",
              "  </tbody>\n",
              "</table>\n",
              "</div>"
            ]
          },
          "metadata": {}
        }
      ],
      "execution_count": 21,
      "metadata": {
        "collapsed": true,
        "outputExpanded": false,
        "jupyter": {
          "source_hidden": false,
          "outputs_hidden": false
        },
        "nteract": {
          "transient": {
            "deleting": false
          }
        },
        "execution": {
          "iopub.status.busy": "2020-05-06T03:04:46.619Z",
          "iopub.execute_input": "2020-05-06T03:04:46.627Z",
          "iopub.status.idle": "2020-05-06T03:04:46.643Z",
          "shell.execute_reply": "2020-05-06T03:04:46.651Z"
        }
      }
    },
    {
      "cell_type": "code",
      "source": [
        "raw_emails_all_audiences[\"label\"]"
      ],
      "outputs": [
        {
          "output_type": "execute_result",
          "execution_count": 20,
          "data": {
            "text/plain": [
              "0           email\n",
              "1       Md5 Email\n",
              "2           Email\n",
              "3           Email\n",
              "4           Email\n",
              "          ...    \n",
              "5303        Email\n",
              "5304       Email1\n",
              "5305        email\n",
              "5306        Email\n",
              "5307     emailmd5\n",
              "Name: label, Length: 5308, dtype: object"
            ]
          },
          "metadata": {}
        }
      ],
      "execution_count": 20,
      "metadata": {
        "collapsed": true,
        "outputExpanded": false,
        "jupyter": {
          "source_hidden": false,
          "outputs_hidden": false
        },
        "nteract": {
          "transient": {
            "deleting": false
          }
        },
        "execution": {
          "iopub.status.busy": "2020-05-06T03:04:37.107Z",
          "iopub.execute_input": "2020-05-06T03:04:37.116Z",
          "iopub.status.idle": "2020-05-06T03:04:37.138Z",
          "shell.execute_reply": "2020-05-06T03:04:37.149Z"
        }
      }
    },
    {
      "cell_type": "markdown",
      "source": [
        "### 3.2.1 query all audiences with AK like '%email%' -> enabled, non-FBR audiences, enabled customers, data store"
      ],
      "metadata": {
        "nteract": {
          "transient": {
            "deleting": false
          }
        }
      }
    },
    {
      "cell_type": "markdown",
      "source": [
        "```mysql\n",
        "SELECT liveramp_customer_accounts.id AS audience_id, liveramp_customer_accounts.display_name AS audience_name, customers.name AS customer_name, customers.id AS customer_id, liveramp_customer_accounts.type, audience_key_labels.label\n",
        "FROM dms_segments\n",
        "INNER JOIN lrc_field_definitions \n",
        "\tON dms_segments.lrc_field_definition_id = lrc_field_definitions.id\n",
        "INNER JOIN liveramp_customer_accounts\n",
        " \tON lrc_field_definitions.lr_customer_account_id = liveramp_customer_accounts.id\n",
        "INNER JOIN customers\n",
        "\tON liveramp_customer_accounts.customer_id = customers.id\n",
        "INNER JOIN audience_key_labels\n",
        "\tON audience_key_labels.liveramp_customer_account_id = liveramp_customer_accounts.id\n",
        "WHERE liveramp_customer_accounts.enabled = true AND liveramp_customer_accounts.customer_link_audience = false AND customers.status = 1 AND audience_key_labels.key_index = 0 AND audience_key_labels.label like '%email%' \n",
        "GROUP BY liveramp_customer_accounts.id\n",
        "```"
      ],
      "metadata": {
        "nteract": {
          "transient": {
            "deleting": false
          }
        }
      }
    },
    {
      "cell_type": "code",
      "source": [
        "raw_emails_DS = pd.read_csv('/Users/aschul/Documents/Documents - aschul1118mac/Code_Base/Investigations/20200417_AK_analysis/email_AKs/raw_emails_DS_audiences.csv')"
      ],
      "outputs": [],
      "execution_count": 23,
      "metadata": {
        "collapsed": true,
        "outputExpanded": false,
        "jupyter": {
          "source_hidden": false,
          "outputs_hidden": false
        },
        "nteract": {
          "transient": {
            "deleting": false
          }
        },
        "execution": {
          "iopub.status.busy": "2020-05-06T03:05:44.062Z",
          "iopub.execute_input": "2020-05-06T03:05:44.072Z",
          "iopub.status.idle": "2020-05-06T03:05:44.090Z",
          "shell.execute_reply": "2020-05-06T03:05:44.100Z"
        }
      }
    },
    {
      "cell_type": "code",
      "source": [
        "raw_emails_DS.count()"
      ],
      "outputs": [
        {
          "output_type": "execute_result",
          "execution_count": 24,
          "data": {
            "text/plain": [
              "audience_id      108\n",
              "audience_name    108\n",
              "customer_name    108\n",
              "customer_id      108\n",
              "type             108\n",
              "label            108\n",
              "dtype: int64"
            ]
          },
          "metadata": {}
        }
      ],
      "execution_count": 24,
      "metadata": {
        "collapsed": true,
        "outputExpanded": false,
        "jupyter": {
          "source_hidden": false,
          "outputs_hidden": false
        },
        "nteract": {
          "transient": {
            "deleting": false
          }
        },
        "execution": {
          "iopub.status.busy": "2020-05-06T03:05:46.521Z",
          "iopub.execute_input": "2020-05-06T03:05:46.532Z",
          "iopub.status.idle": "2020-05-06T03:05:46.553Z",
          "shell.execute_reply": "2020-05-06T03:05:46.561Z"
        }
      }
    },
    {
      "cell_type": "code",
      "source": [
        "raw_emails_DS.head(5)"
      ],
      "outputs": [
        {
          "output_type": "execute_result",
          "execution_count": 25,
          "data": {
            "text/plain": [
              "   audience_id                     audience_name customer_name  customer_id  \\\n",
              "0        50116        Bridge - Household (Email)        Bridge       506009   \n",
              "1       333819                Illion - Australia        illion       592889   \n",
              "2       201846                 WealthEngine Test     Dstillery       370247   \n",
              "3        51336             TruSignal - DMS - md5     TruSignal       515376   \n",
              "4       326309  Cinemark - Match Test - testfile      Cinemark       552646   \n",
              "\n",
              "                             type     label  \n",
              "0  OfflineLiverampCustomerAccount     email  \n",
              "1  OfflineLiverampCustomerAccount  MD5EMAIL  \n",
              "2  OfflineLiverampCustomerAccount     email  \n",
              "3  OfflineLiverampCustomerAccount  emailmd5  \n",
              "4  OfflineLiverampCustomerAccount    EMAIL1  "
            ],
            "text/html": [
              "<div>\n",
              "<style scoped>\n",
              "    .dataframe tbody tr th:only-of-type {\n",
              "        vertical-align: middle;\n",
              "    }\n",
              "\n",
              "    .dataframe tbody tr th {\n",
              "        vertical-align: top;\n",
              "    }\n",
              "\n",
              "    .dataframe thead th {\n",
              "        text-align: right;\n",
              "    }\n",
              "</style>\n",
              "<table border=\"1\" class=\"dataframe\">\n",
              "  <thead>\n",
              "    <tr style=\"text-align: right;\">\n",
              "      <th></th>\n",
              "      <th>audience_id</th>\n",
              "      <th>audience_name</th>\n",
              "      <th>customer_name</th>\n",
              "      <th>customer_id</th>\n",
              "      <th>type</th>\n",
              "      <th>label</th>\n",
              "    </tr>\n",
              "  </thead>\n",
              "  <tbody>\n",
              "    <tr>\n",
              "      <th>0</th>\n",
              "      <td>50116</td>\n",
              "      <td>Bridge - Household (Email)</td>\n",
              "      <td>Bridge</td>\n",
              "      <td>506009</td>\n",
              "      <td>OfflineLiverampCustomerAccount</td>\n",
              "      <td>email</td>\n",
              "    </tr>\n",
              "    <tr>\n",
              "      <th>1</th>\n",
              "      <td>333819</td>\n",
              "      <td>Illion - Australia</td>\n",
              "      <td>illion</td>\n",
              "      <td>592889</td>\n",
              "      <td>OfflineLiverampCustomerAccount</td>\n",
              "      <td>MD5EMAIL</td>\n",
              "    </tr>\n",
              "    <tr>\n",
              "      <th>2</th>\n",
              "      <td>201846</td>\n",
              "      <td>WealthEngine Test</td>\n",
              "      <td>Dstillery</td>\n",
              "      <td>370247</td>\n",
              "      <td>OfflineLiverampCustomerAccount</td>\n",
              "      <td>email</td>\n",
              "    </tr>\n",
              "    <tr>\n",
              "      <th>3</th>\n",
              "      <td>51336</td>\n",
              "      <td>TruSignal - DMS - md5</td>\n",
              "      <td>TruSignal</td>\n",
              "      <td>515376</td>\n",
              "      <td>OfflineLiverampCustomerAccount</td>\n",
              "      <td>emailmd5</td>\n",
              "    </tr>\n",
              "    <tr>\n",
              "      <th>4</th>\n",
              "      <td>326309</td>\n",
              "      <td>Cinemark - Match Test - testfile</td>\n",
              "      <td>Cinemark</td>\n",
              "      <td>552646</td>\n",
              "      <td>OfflineLiverampCustomerAccount</td>\n",
              "      <td>EMAIL1</td>\n",
              "    </tr>\n",
              "  </tbody>\n",
              "</table>\n",
              "</div>"
            ]
          },
          "metadata": {}
        }
      ],
      "execution_count": 25,
      "metadata": {
        "collapsed": true,
        "outputExpanded": false,
        "jupyter": {
          "source_hidden": false,
          "outputs_hidden": false
        },
        "nteract": {
          "transient": {
            "deleting": false
          }
        },
        "execution": {
          "iopub.status.busy": "2020-05-06T03:05:48.629Z",
          "iopub.execute_input": "2020-05-06T03:05:48.639Z",
          "iopub.status.idle": "2020-05-06T03:05:48.657Z",
          "shell.execute_reply": "2020-05-06T03:05:48.683Z"
        }
      }
    },
    {
      "cell_type": "code",
      "source": [
        "raw_emails_DS.count()"
      ],
      "outputs": [
        {
          "output_type": "execute_result",
          "execution_count": 26,
          "data": {
            "text/plain": [
              "audience_id      108\n",
              "audience_name    108\n",
              "customer_name    108\n",
              "customer_id      108\n",
              "type             108\n",
              "label            108\n",
              "dtype: int64"
            ]
          },
          "metadata": {}
        }
      ],
      "execution_count": 26,
      "metadata": {
        "collapsed": true,
        "outputExpanded": false,
        "jupyter": {
          "source_hidden": false,
          "outputs_hidden": false
        },
        "nteract": {
          "transient": {
            "deleting": false
          }
        },
        "execution": {
          "iopub.status.busy": "2020-05-06T03:05:51.501Z",
          "iopub.execute_input": "2020-05-06T03:05:51.510Z",
          "iopub.status.idle": "2020-05-06T03:05:51.528Z",
          "shell.execute_reply": "2020-05-06T03:05:51.536Z"
        }
      }
    },
    {
      "cell_type": "code",
      "source": [
        "raw_emails_DS_values = pd.DataFrame(raw_emails_DS[\"label\"].value_counts())"
      ],
      "outputs": [],
      "execution_count": 27,
      "metadata": {
        "collapsed": true,
        "outputExpanded": false,
        "jupyter": {
          "source_hidden": false,
          "outputs_hidden": false
        },
        "nteract": {
          "transient": {
            "deleting": false
          }
        },
        "execution": {
          "iopub.status.busy": "2020-05-06T03:05:54.191Z",
          "iopub.execute_input": "2020-05-06T03:05:54.200Z",
          "iopub.status.idle": "2020-05-06T03:05:54.211Z",
          "shell.execute_reply": "2020-05-06T03:05:54.218Z"
        }
      }
    },
    {
      "cell_type": "code",
      "source": [
        "raw_emails_DS_values"
      ],
      "outputs": [
        {
          "output_type": "execute_result",
          "execution_count": 28,
          "data": {
            "text/plain": [
              "                              label\n",
              "Email                            31\n",
              "email                            18\n",
              "emailmd5                          6\n",
              "LRI_G_SHA1EMAIL1                  6\n",
              "email_address                     4\n",
              "email_addr                        4\n",
              "LRI_G_MD5EMAIL1                   3\n",
              "Email Address                     3\n",
              "EMAIL                             3\n",
              "email,fn,ln,st,zip,ct,phone,      2\n",
              "LRI_G_SHA256EMAIL1                2\n",
              "EMAIL1                            2\n",
              "SHA256EMAIL1                      2\n",
              "MD5_EMAIL                         2\n",
              "Email_Address                     1\n",
              "SHA256EMAIL                       1\n",
              "cust_email_addr                   1\n",
              "LRI_DER_MD5EMAIL1                 1\n",
              "SHA 256 Email                     1\n",
              "purch_email_addr                  1\n",
              "hashed_emailId                    1\n",
              "MD5email                          1\n",
              "md5_email                         1\n",
              "Email1                            1\n",
              "LRI_DER_SHA256EMAIL1              1\n",
              "SHA1_Email                        1\n",
              "Email1_SHA256                     1\n",
              "email_address_01                  1\n",
              "patron_email_addr                 1\n",
              "MD5EMAIL                          1\n",
              "PERSONEMAIL                       1\n",
              "LRI_DER_SHA1EMAIL1                1\n",
              "Client_Email                      1\n",
              "email1_MD5                        1"
            ],
            "text/html": [
              "<div>\n",
              "<style scoped>\n",
              "    .dataframe tbody tr th:only-of-type {\n",
              "        vertical-align: middle;\n",
              "    }\n",
              "\n",
              "    .dataframe tbody tr th {\n",
              "        vertical-align: top;\n",
              "    }\n",
              "\n",
              "    .dataframe thead th {\n",
              "        text-align: right;\n",
              "    }\n",
              "</style>\n",
              "<table border=\"1\" class=\"dataframe\">\n",
              "  <thead>\n",
              "    <tr style=\"text-align: right;\">\n",
              "      <th></th>\n",
              "      <th>label</th>\n",
              "    </tr>\n",
              "  </thead>\n",
              "  <tbody>\n",
              "    <tr>\n",
              "      <th>Email</th>\n",
              "      <td>31</td>\n",
              "    </tr>\n",
              "    <tr>\n",
              "      <th>email</th>\n",
              "      <td>18</td>\n",
              "    </tr>\n",
              "    <tr>\n",
              "      <th>emailmd5</th>\n",
              "      <td>6</td>\n",
              "    </tr>\n",
              "    <tr>\n",
              "      <th>LRI_G_SHA1EMAIL1</th>\n",
              "      <td>6</td>\n",
              "    </tr>\n",
              "    <tr>\n",
              "      <th>email_address</th>\n",
              "      <td>4</td>\n",
              "    </tr>\n",
              "    <tr>\n",
              "      <th>email_addr</th>\n",
              "      <td>4</td>\n",
              "    </tr>\n",
              "    <tr>\n",
              "      <th>LRI_G_MD5EMAIL1</th>\n",
              "      <td>3</td>\n",
              "    </tr>\n",
              "    <tr>\n",
              "      <th>Email Address</th>\n",
              "      <td>3</td>\n",
              "    </tr>\n",
              "    <tr>\n",
              "      <th>EMAIL</th>\n",
              "      <td>3</td>\n",
              "    </tr>\n",
              "    <tr>\n",
              "      <th>email,fn,ln,st,zip,ct,phone,</th>\n",
              "      <td>2</td>\n",
              "    </tr>\n",
              "    <tr>\n",
              "      <th>LRI_G_SHA256EMAIL1</th>\n",
              "      <td>2</td>\n",
              "    </tr>\n",
              "    <tr>\n",
              "      <th>EMAIL1</th>\n",
              "      <td>2</td>\n",
              "    </tr>\n",
              "    <tr>\n",
              "      <th>SHA256EMAIL1</th>\n",
              "      <td>2</td>\n",
              "    </tr>\n",
              "    <tr>\n",
              "      <th>MD5_EMAIL</th>\n",
              "      <td>2</td>\n",
              "    </tr>\n",
              "    <tr>\n",
              "      <th>Email_Address</th>\n",
              "      <td>1</td>\n",
              "    </tr>\n",
              "    <tr>\n",
              "      <th>SHA256EMAIL</th>\n",
              "      <td>1</td>\n",
              "    </tr>\n",
              "    <tr>\n",
              "      <th>cust_email_addr</th>\n",
              "      <td>1</td>\n",
              "    </tr>\n",
              "    <tr>\n",
              "      <th>LRI_DER_MD5EMAIL1</th>\n",
              "      <td>1</td>\n",
              "    </tr>\n",
              "    <tr>\n",
              "      <th>SHA 256 Email</th>\n",
              "      <td>1</td>\n",
              "    </tr>\n",
              "    <tr>\n",
              "      <th>purch_email_addr</th>\n",
              "      <td>1</td>\n",
              "    </tr>\n",
              "    <tr>\n",
              "      <th>hashed_emailId</th>\n",
              "      <td>1</td>\n",
              "    </tr>\n",
              "    <tr>\n",
              "      <th>MD5email</th>\n",
              "      <td>1</td>\n",
              "    </tr>\n",
              "    <tr>\n",
              "      <th>md5_email</th>\n",
              "      <td>1</td>\n",
              "    </tr>\n",
              "    <tr>\n",
              "      <th>Email1</th>\n",
              "      <td>1</td>\n",
              "    </tr>\n",
              "    <tr>\n",
              "      <th>LRI_DER_SHA256EMAIL1</th>\n",
              "      <td>1</td>\n",
              "    </tr>\n",
              "    <tr>\n",
              "      <th>SHA1_Email</th>\n",
              "      <td>1</td>\n",
              "    </tr>\n",
              "    <tr>\n",
              "      <th>Email1_SHA256</th>\n",
              "      <td>1</td>\n",
              "    </tr>\n",
              "    <tr>\n",
              "      <th>email_address_01</th>\n",
              "      <td>1</td>\n",
              "    </tr>\n",
              "    <tr>\n",
              "      <th>patron_email_addr</th>\n",
              "      <td>1</td>\n",
              "    </tr>\n",
              "    <tr>\n",
              "      <th>MD5EMAIL</th>\n",
              "      <td>1</td>\n",
              "    </tr>\n",
              "    <tr>\n",
              "      <th>PERSONEMAIL</th>\n",
              "      <td>1</td>\n",
              "    </tr>\n",
              "    <tr>\n",
              "      <th>LRI_DER_SHA1EMAIL1</th>\n",
              "      <td>1</td>\n",
              "    </tr>\n",
              "    <tr>\n",
              "      <th>Client_Email</th>\n",
              "      <td>1</td>\n",
              "    </tr>\n",
              "    <tr>\n",
              "      <th>email1_MD5</th>\n",
              "      <td>1</td>\n",
              "    </tr>\n",
              "  </tbody>\n",
              "</table>\n",
              "</div>"
            ]
          },
          "metadata": {}
        }
      ],
      "execution_count": 28,
      "metadata": {
        "collapsed": true,
        "outputExpanded": false,
        "jupyter": {
          "source_hidden": false,
          "outputs_hidden": false
        },
        "nteract": {
          "transient": {
            "deleting": false
          }
        },
        "execution": {
          "iopub.status.busy": "2020-05-06T03:05:56.305Z",
          "iopub.execute_input": "2020-05-06T03:05:56.315Z",
          "iopub.status.idle": "2020-05-06T03:05:56.333Z",
          "shell.execute_reply": "2020-05-06T03:05:56.341Z"
        }
      }
    },
    {
      "cell_type": "code",
      "source": [
        "# normalize email columns (raw, MD5, SHA1, SHA256)\n",
        "raw_emails_DS[\"label\"].replace({\"Email\":\"email\", \n",
        "                             \"Email1\":\"email\",\n",
        "                             \"Email Address\":\"email\",\n",
        "                             \"EmailAddress\":\"email\", \n",
        "                             \"Emails\":\"email\",\n",
        "                             \"EMAIL\":\"email\",\n",
        "                             \"Email_1\":\"email\",\n",
        "                             \"EmailAddress\":\"email\",\n",
        "                             \"email_address\":\"email\",\n",
        "                             \"EMAIL_ADDRESS\":\"email\",\n",
        "                             \"Email 1\":\"email\",\n",
        "                             \"Email(s)\":\"email\",\n",
        "                             \"email1\":\"email\",\n",
        "                             \"EMAIL_ID\":\"email\",\n",
        "                             \"email1_MD5\":\"MD5\",\n",
        "                             \"emailmd5\":\"MD5\",\n",
        "                             \"profiles.email_address\":\"email\",\n",
        "                             \"EMAIL_ADDR\":\"email\",\n",
        "                             \"SHA256EMAIL1\":\"email\",\n",
        "                             \"email_addr\":\"email\",\n",
        "                             \"MD5EMAIL\":\"MD5\",\n",
        "                             \"EmailAddress\":\"email\",\n",
        "                             \"EMAIL1\":\"email\",\n",
        "                             \"cust_email_addr\":\"email\",\n",
        "                             \"Email_Address\":\"email\",\n",
        "                             \"md5_email\":\"MD5\",\n",
        "                             \"Email_ID\":\"email\",\n",
        "                             \"EMAIL_ADDR_TXT\":\"email\",\n",
        "                             \"emailAddress\":\"email\",\n",
        "                             \"sha1_email\":\"SHA1\",\n",
        "                             \"MD5Email\":\"MD5\",\n",
        "                             \"email_1\":\"email\",\n",
        "                             \"LRI_G_SHA1EMAIL1\":\"SHA1\",\n",
        "                             \"LRI_G_SHA256EMAIL1\":\"SHA256\",\n",
        "                             \"loweremailmd5\":\"MD5\",\n",
        "                             \"email_sha256\":\"SHA256\",\n",
        "                             \"SHA256_EMAIL\":\"SHA256\",\n",
        "                             \"MD5_Email\":\"MD5\",\n",
        "                             \"LRI_DER_SHA256EMAIL1\":\"SHA256\",\n",
        "                             \"email_SHA-1\":\"SHA1\",\n",
        "                             \"sha256email\":\"SHA256\",\n",
        "                             \"email address\":\"email\",\n",
        "                             \"purch_email_addr\":\"email\",\n",
        "                             \"HashedEmail\":\"hashed_email\",\n",
        "                             \"P_EMAIL_ADDRESS\":\"email\",\n",
        "                             \"Member Email Address\":\"email\",\n",
        "                             \"Email Addresses\":\"email\",\n",
        "                             \"email_md5\":\"MD5\",\n",
        "                             \"emails\":\"email\",\n",
        "                             \"Email Hash\":\"hashed_email\",\n",
        "                             \"customer_email\":\"email\",\n",
        "                             \"EMAIL_ADDRESS_\":\"email\",\n",
        "                             \"SHA 256 Email\":\"SHA256\",\n",
        "                             \"EMAILADDRESS\":\"email\",\n",
        "                             \"LRI_DER_SHA1EMAIL1\":\"SHA1\",\n",
        "                             \"email_hash\":\"hashed_email\",\n",
        "                             \"LRI_G_MD5EMAIL1\":\"MD5\",\n",
        "                             \"EMAIL_SHA256\":\"SHA256\",\n",
        "                             \"PII_EMAIL_ADDRESS\":\"email\",\n",
        "                             \"EMail\":\"email\",\n",
        "                             \"Email address\":\"email\",\n",
        "                             \"SHA1_Email\":\"SHA1\",\n",
        "                             \"LRI_DER_MD5EMAIL1\":\"MD5\",\n",
        "                             \"EMAIL_1\":\"email\",\n",
        "                             \"sha256_email\":\"SHA256\",\n",
        "                             \"SHA256EMAIL\":\"SHA256\",\n",
        "                             \"SHA256Email\":\"email\",\n",
        "                             \"emailaddress\":\"email\",\n",
        "                             \"email_id\":\"email\",\n",
        "                             \"SHA1EMAIL\":\"SHA1\",\n",
        "                             \"hashed email\":\"hashed_email\",\n",
        "                             \"SHA256HASHEDEMAIL\":\"SHA256\",\n",
        "                             \"email2\":\"email\",\n",
        "                             \"EMAIL_ADDRESS_1\":\"email\",\n",
        "                             \"md5email\":\"MD5\",\n",
        "                             \"hashedemail\":\"hashed_email\",\n",
        "                             \"EMAIL_HASHED\":\"hashed_email\",\n",
        "                             \"Broker Email\":\"email\",\n",
        "                             \"HASH_MD5_LOWER_EMAIL\":\"MD5\",\n",
        "                             \"profileEmail\":\"email\",\n",
        "                             \"email_Address\":\"email\",\n",
        "                             \"Hashed_Email\":\"hashed_email\",\n",
        "                             \"PER_EMAIL\":\"email\",\n",
        "                             \"Hashed_Email_Address\":\"email\",\n",
        "                             \"Peloton Order Order Email\":\"email\",\n",
        "                             \"EMAIL,FN,LN,,ZIP,CT,PHONE,\":\"email\",\n",
        "                             \"Hashed_Email_ID_Hex\":\"hashed_email\",\n",
        "                             \"#email_lc_md5\":\"MD5\",\n",
        "                             \"MD5_EMAIL\":\"MD5\",\n",
        "                             \"\\EMAIL\\\"\":\"email\",\n",
        "                             \"Customer Email\":\"email\",\n",
        "                             \"CUSTOMERS_SalesOrder_BILLTOLookup::Email\":\"email\",\n",
        "                             \"profile.email\":\"email\",\n",
        "                             \"HASHED_EMAIL\":\"hashed_email\",\n",
        "                             \"sha256email1\":\"SHA256\",\n",
        "                             \"Hashed Email\":\"hashed_email\",\n",
        "                             \"CUST_EMAIL\":\"email\",\n",
        "                             \"SHA256 Email\":\"SHA256\",\n",
        "                             \"email,fn,ln,st,zip,ct,phone,\":\"email\",\n",
        "                             \"best_email\":\"email\",\n",
        "                             \"LRI_G_EMAIL1\":\"email\",\n",
        "                             \"SHA2_EMAIL\":\"SHA2\",\n",
        "                             \"Md5 Email\":\"MD5\",\n",
        "                             \"md5(email1)\":\"MD5\",\n",
        "                             \"master_email\":\"email\",\n",
        "                             \"HASHED_CUST_EMAIL\":\"hashed_email\",\n",
        "                             \"REAL_EMAIL\":\"email\",\n",
        "                             \"email_sha1\":\"SHA1\",\n",
        "                             \"MD5 EMAIL\":\"MD5\",\n",
        "                             \"Email/Email\":\"email\",\n",
        "                             \"hash_email\":\"hashed_email\",\n",
        "                             \"email md5\":\"MD5\",\n",
        "                             \"Email_address\":\"email\",\n",
        "                             \"Email1_SHA-1\":\"SHA1\",\n",
        "                             \"MD5 Hashed Email\":\"MD5\",\n",
        "                             \"EE_EMAIL_ADDRESS\":\"email\",\n",
        "                             \"Email1 Address\":\"email\",\n",
        "                             \"DMD_EMAIL\":\"email\",\n",
        "                             \"QBOVRT_master_email\":\"email\",\n",
        "                             \"lower(b.email_addr_hash_txt)\":\"hashed_email\",\n",
        "                             \"Email1_SHA256\":\"SHA256\",\n",
        "                             \"HashedEmail1\":\"hashed_email\",\n",
        "                             \"CONTACT_EMAIL_ADDR\":\"email\",\n",
        "                             \"Email \":\"email\",\n",
        "                             \"EmailAddressmd5\":\"MD5\",\n",
        "                             \"CONTACT EMAIL\":\"email\",\n",
        "                             \"MD5EMAIL1\":\"MD5\",\n",
        "                             \"MD5email\":\"MD5\",\n",
        "                             \"sha256email\\\",470121,624331,470121,UPHE - Onboarding - Salesforce Data\\\"\":\"SHA256\",\n",
        "                             \"sha256email\\\",287259,579949,28236,Swirl McGarryBowen - Onboarding\\\"\":\"SHA256\",\n",
        "                             \"AX_CUREMAIL_10\":\"email\",\n",
        "                             \"Email \":\"email\",\n",
        "                             \"SHA256_email\":\"SHA256\",\n",
        "                             \"USA_EMAIL\":\"email\",\n",
        "                             \"Right_email\":\"email\",\n",
        "                             \"MDG EMAIL\":\"MD5\",\n",
        "                             \"email3\":\"email\",\n",
        "                             \"sha256email\\\",287259,579949,28236,Swirl McGarryBowen - Onboarding\\\"\":\"SHA256\",\n",
        "                             \"sha256email\\\",470121,624331,470121,UPHE - Onboarding - Salesforce Data\\\"\":\"SHA256\",\n",
        "                             \"email_SHA_256\":\"SHA256\",\n",
        "                             \"hashed_emailId\":\"hashed_email\",\n",
        "                             \"EMAIL_ADDRESS1\":\"email\",\n",
        "                             \"email_adr1\":\"email\",\n",
        "                             \"EmailAddressHash_MD5\":\"MD5\",\n",
        "                             \"LRI_G_email_address\":\"email\",\n",
        "                             \"DANDRVINSON@EMAIL.COM\":\"email\",\n",
        "                             \"user_email\":\"email\",\n",
        "                             \"Email_hashed\":\"hashed_email\",\n",
        "                             \"P_EMAIL\":\"email\",\n",
        "                             \"Hashed email\":\"hashed_email\",\n",
        "                             \"SHA250Email\":\"SHA256\",\n",
        "                             \"sha256email\\\",287259,579949,28236,Swirl McGarryBowen - Onboarding\\\"\":\"SHA256\",\n",
        "                             \"sha256email\\\",470121,624331,470121,UPHE - Onboarding - Salesforce Data\\\"\":\"SHA256\",\n",
        "                             \"Email5\":\"email\",\n",
        "                             \"Orders Customer Email\":\"email\",\n",
        "                             \"Encrypted Email address\":\"hashed_email\",\n",
        "                             \"eMail\":\"email\",\n",
        "                             \"patron_email_addr\":\"email\",\n",
        "                             \"Client_Email\":\"email\",\n",
        "                             \"email_01\":\"email\",\n",
        "                             \"emailhash_md5\":\"MD5\",\n",
        "                             \"Person Account: Email\":\"email\",\n",
        "                             \"Email_Appended\":\"email\",\n",
        "                             \"Email_address_hash\":\"hashed_email\",\n",
        "                             \"sha256email\\\",470121,624331,470121,UPHE - Onboarding - Salesforce Data\\\"\":\"SHA256\",\n",
        "                             \"EMAIL_HASH\":\"hashed_email\",\n",
        "                             \"Email ID\":\"email\",\n",
        "                             \"email_billing\":\"email\",\n",
        "                             \"PRIMARY_EMAIL_ADDRESS\":\"email\",\n",
        "                             \"Opportunity Email\":\"email\",\n",
        "                             \"CnPh_1_01_Email\":\"email\",\n",
        "                             \"MD5_email\":\"MD5\",\n",
        "                             \"email_address_256hash\":\"SHA256\",\n",
        "                             \"EMAIL ADDR\":\"email\",\n",
        "                             \"sha256email\\\",154996,542386,15314,StubHub - Salesforce Onboarding\\\"\":\"SHA256\",\n",
        "                             \"Hash Email\":\"hashed_email\",\n",
        "                             \"prmry_email_addr\":\"email\",\n",
        "                             \"sha256email\\\",248499,508256,24412,Caesars - Salesforce RFP\\\"\":\"SHA256\",\n",
        "                             \"MEMBER_EMAIL\":\"email\",\n",
        "                             \"Sha1_Email\":\"SHA1\",\n",
        "                             \"HASH EMAIL ADDR\":\"hashed_email\",\n",
        "                             \"Sha1_Email\":\"SHA1\",\n",
        "                             \"HASH EMAIL ADDR\":\"hashed_email\",\n",
        "                             \"CUS_EMAIL_ADDRESS\":\"email\",\n",
        "                             \"channels.email.address\":\"email\",\n",
        "                             \"\\Email1\\\"\\\"\":\"email\",\n",
        "                             \"primaryEmail\":\"email\",\n",
        "                             \"sha256email\\\",313789,533849,313789,Audi - Salesforce Imports\\\"\":\"SHA256\",\n",
        "                             \"HASEHD_EMAIL\":\"hashed_email\",\n",
        "                             \"\\Email1\\\"\\\"\":\"email\",\n",
        "                             \"hash email\":\"hashed_email\",\n",
        "                             \"REGI_EMAIL_ADDR\":\"email\",\n",
        "                             \"Customers Email\":\"email\",\n",
        "                             \"email_addres\":\"email\",\n",
        "                             \"sha256email\\\",116909,533639,11536,Weight Watchers - Onboarding\\\"\":\"SHA256\",\n",
        "                             \"EMAIL-sha1\":\"SHA1\",\n",
        "                             \"Email Address 1\":\"email\",\n",
        "                             \"Contact Business Email\":\"email\",\n",
        "                             \"\\Email1\\\"\\\"\":\"email\",\n",
        "                             \"Personal_email\":\"email\",\n",
        "                             \"sha256email\\\",154996,542386,15314,StubHub - Salesforce Onboarding\\\"\":\"SHA256\",\n",
        "                             \"EMAIL_MATCH_ID_1\":\"email\",\n",
        "                             \"MD5 Email\":\"MD5\",\n",
        "                             \"associatedemailaddress\":\"email\",\n",
        "                             \"Email_Hash\":\"hashed_email\",\n",
        "                             \"Email_Hash \":\"hashed_email\",\n",
        "                             \"EMAIL ADDRESS\t\":\"email\",\n",
        "                             \"EMAILADDR\":\"email\",\n",
        "                             \"EMAILADDR \":\"email\",\n",
        "                             \"Contact: Primary Email\":\"email\",\n",
        "                             \"Email Address - Prospects\":\"email\",\n",
        "                             \"sha_email\t\":\"hashed_email\",\n",
        "                             \"sha_email\":\"hashed_email\",\n",
        "                             \"primary_contact_primary_email\":\"email\",\n",
        "                             \"EMAIL_ADDR_1\":\"email\",\n",
        "                             \"Primary_Email_Address\":\"email\",\n",
        "                             \"CUST_EMAIL_ADDR\":\"email\",\n",
        "                             \"AlternateEmail\":\"email\",\n",
        "                             \"PERSONEMAIL\":\"email\",\n",
        "                             \"email_address_01\":\"email\"\n",
        "                            }, inplace = True)                       "
      ],
      "outputs": [],
      "execution_count": 29,
      "metadata": {
        "collapsed": true,
        "outputExpanded": false,
        "jupyter": {
          "source_hidden": false,
          "outputs_hidden": false
        },
        "nteract": {
          "transient": {
            "deleting": false
          }
        },
        "execution": {
          "iopub.status.busy": "2020-05-06T03:06:22.246Z",
          "iopub.execute_input": "2020-05-06T03:06:22.254Z",
          "iopub.status.idle": "2020-05-06T03:06:22.267Z",
          "shell.execute_reply": "2020-05-06T03:06:22.281Z"
        }
      }
    },
    {
      "cell_type": "markdown",
      "source": [
        "### Follow up question: check cases where online audiences have email audience key label"
      ],
      "metadata": {
        "nteract": {
          "transient": {
            "deleting": false
          }
        }
      }
    },
    {
      "cell_type": "markdown",
      "source": [
        "## 4. CID-only audiences "
      ],
      "metadata": {
        "nteract": {
          "transient": {
            "deleting": false
          }
        }
      }
    },
    {
      "cell_type": "markdown",
      "source": [
        "## 4.1 Results\n",
        "### all audiences\n",
        "enabled, non-FBR audiences where AK = CID and customer = enabled\n",
        "\n",
        "audiences w/AK as CID - 5,746\n",
        "-------------\n",
        "\n",
        "\n",
        "### non-DS audiences\n",
        "enabled, non-FBR audiences where AK = CID and customer = enabled\n",
        "\n",
        "non DS audiences w/AK set as CID - 5,347\n",
        "-------------\n",
        "\n",
        "\n",
        "### DS audiences\n",
        "enabled, non-FBR audiences where AK = CID and customer = enabled\n",
        "\n",
        "DS audiences w/AK set as CID - 399\n",
        "-------------\n"
      ],
      "metadata": {
        "nteract": {
          "transient": {
            "deleting": false
          }
        }
      }
    },
    {
      "cell_type": "markdown",
      "source": [
        "### 3.2.1 query all audiences with AK like '%id%' -> enabled, non-FBR audiences, enabled customers, not like: aaid, IDFA, cookie, device id, email, pel, identity_link, idl, liveramp, LR ID 1, LRID, MAID, mobile, order_id, PELID\n",
        "\n",
        "#### CID definition methodology: after combing through AK labels strings that match AK like '%id%', IDs that do not resemble CIDs were removed. This analysis thus treats a CID as a synthetic identifier distinguished from IDLs/PELs, cookies, and device IDs."
      ],
      "metadata": {
        "nteract": {
          "transient": {
            "deleting": false
          }
        }
      }
    },
    {
      "cell_type": "markdown",
      "source": [
        "```mysql\n",
        "SELECT\n",
        "  *\n",
        "FROM\n",
        "  audience_key_labels\n",
        "INNER JOIN\n",
        "  liveramp_customer_accounts\n",
        "ON\n",
        "  audience_key_labels.liveramp_customer_account_id = liveramp_customer_accounts.id\n",
        "INNER JOIN\n",
        "  customers\n",
        "ON\n",
        "  liveramp_customer_accounts.customer_id = customers.id\n",
        "WHERE\n",
        "  audience_key_labels.key_index = 0\n",
        "  AND audience_key_labels.label LIKE '%ID%' \n",
        "  AND audience_key_labels.label NOT LIKE '%aaid%'\n",
        "  AND audience_key_labels.label NOT LIKE '%idfa%'\n",
        "  AND audience_key_labels.label NOT LIKE '%cookie%'\n",
        "  AND audience_key_labels.label NOT LIKE '%device id%'\n",
        "  AND audience_key_labels.label NOT LIKE '%Device_ID%'\n",
        "  AND audience_key_labels.label NOT LIKE '%device%'\n",
        "  AND audience_key_labels.label NOT LIKE '%email%'\n",
        "  AND audience_key_labels.label NOT LIKE '%pel%'\n",
        "  AND audience_key_labels.label NOT LIKE '%identity_link%'\n",
        "  AND audience_key_labels.label NOT LIKE '%idl%'\n",
        "  AND audience_key_labels.label NOT LIKE '%liveramp%'\n",
        "  AND audience_key_labels.label NOT LIKE '%LR ID 1%'\n",
        "  AND audience_key_labels.label NOT LIKE '%LRID%'\n",
        "  AND audience_key_labels.label NOT LIKE '%MAID%'\n",
        "  AND audience_key_labels.label NOT LIKE '%mobile%'\n",
        "  AND audience_key_labels.label NOT LIKE '%order_id%'\n",
        "  AND audience_key_labels.label NOT LIKE '%PELID%'\n",
        "  AND audience_key_labels.label NOT LIKE '%FB_Ext_ID%'\n",
        "  AND audience_key_labels.label NOT LIKE '%IdentityLink%'\n",
        "  AND audience_key_labels.label NOT LIKE '%muid%'\n",
        "  AND audience_key_labels.label NOT LIKE '%abilitec%'\n",
        "  AND audience_key_labels.label NOT LIKE '%acxiom_id%'\n",
        "  AND audience_key_labels.label NOT LIKE '%EXTERN_ID%'\n",
        "  AND audience_key_labels.label NOT LIKE '%CNSMR_LINK_ID%'\n",
        "  AND audience_key_labels.label NOT LIKE '%ttd_android%'\n",
        "  AND customers.status = 1\n",
        "  AND liveramp_customer_accounts.enabled = TRUE\n",
        "  AND liveramp_customer_accounts.customer_link_audience = FALSE\n",
        "GROUP BY\n",
        "  liveramp_customer_accounts.id\n",
        "```"
      ],
      "metadata": {
        "nteract": {
          "transient": {
            "deleting": false
          }
        }
      }
    },
    {
      "cell_type": "code",
      "source": [
        "CIDs_all_audiences = pd.read_csv('/Users/aschul/Documents/Documents - aschul1118mac/Code_Base/Investigations/20200417_AK_analysis/CID_AKs/CIDs.csv')"
      ],
      "outputs": [],
      "execution_count": 44,
      "metadata": {
        "collapsed": true,
        "outputExpanded": false,
        "jupyter": {
          "source_hidden": false,
          "outputs_hidden": false
        },
        "nteract": {
          "transient": {
            "deleting": false
          }
        },
        "execution": {
          "iopub.status.busy": "2020-05-07T01:27:40.971Z",
          "iopub.execute_input": "2020-05-07T01:27:40.980Z",
          "iopub.status.idle": "2020-05-07T01:27:41.022Z",
          "shell.execute_reply": "2020-05-07T01:27:41.031Z"
        }
      }
    },
    {
      "cell_type": "code",
      "source": [
        "CIDs_all_audiences.head(2)"
      ],
      "outputs": [
        {
          "output_type": "execute_result",
          "execution_count": 45,
          "data": {
            "text/plain": [
              "      id  liveramp_customer_account_id  key_index          label  id.1  \\\n",
              "0  11378                           591          0            uid   591   \n",
              "1    868                          1246          0  INDIVIDUAL_ID  1246   \n",
              "\n",
              "   customer_id  data_partner_thrift_identifier display_name  volume_limit  \\\n",
              "0       199441                              84         i360           NaN   \n",
              "1        60794                             142  Conde Nast            NaN   \n",
              "\n",
              "            updated_at  ...  evaluation_tos_accepted_by  merged  \\\n",
              "0  2020-05-06 10:07:40  ...                         NaN       0   \n",
              "1  2020-03-17 18:41:38  ...                         NaN       0   \n",
              "\n",
              "   query_rate_estimate esp_key  reference_liveramp_customer_account_id  \\\n",
              "0                  NaN     NaN                                     NaN   \n",
              "1                  NaN     NaN                                 61126.0   \n",
              "\n",
              "              email_alias  custom_billing_rule_id  custom_billing_rule_type  \\\n",
              "0       i360@liveramp.com                     NaN                       NaN   \n",
              "1  condenast@liveramp.com                     NaN                       NaN   \n",
              "\n",
              "                     encryption_key  enable_match_reports  \n",
              "0  81aa0c2b5dd6c9563eb617d317df3378                     0  \n",
              "1  72d194302037c9abace2ae0d35222259                     0  \n",
              "\n",
              "[2 rows x 70 columns]"
            ],
            "text/html": [
              "<div>\n",
              "<style scoped>\n",
              "    .dataframe tbody tr th:only-of-type {\n",
              "        vertical-align: middle;\n",
              "    }\n",
              "\n",
              "    .dataframe tbody tr th {\n",
              "        vertical-align: top;\n",
              "    }\n",
              "\n",
              "    .dataframe thead th {\n",
              "        text-align: right;\n",
              "    }\n",
              "</style>\n",
              "<table border=\"1\" class=\"dataframe\">\n",
              "  <thead>\n",
              "    <tr style=\"text-align: right;\">\n",
              "      <th></th>\n",
              "      <th>id</th>\n",
              "      <th>liveramp_customer_account_id</th>\n",
              "      <th>key_index</th>\n",
              "      <th>label</th>\n",
              "      <th>id.1</th>\n",
              "      <th>customer_id</th>\n",
              "      <th>data_partner_thrift_identifier</th>\n",
              "      <th>display_name</th>\n",
              "      <th>volume_limit</th>\n",
              "      <th>updated_at</th>\n",
              "      <th>...</th>\n",
              "      <th>evaluation_tos_accepted_by</th>\n",
              "      <th>merged</th>\n",
              "      <th>query_rate_estimate</th>\n",
              "      <th>esp_key</th>\n",
              "      <th>reference_liveramp_customer_account_id</th>\n",
              "      <th>email_alias</th>\n",
              "      <th>custom_billing_rule_id</th>\n",
              "      <th>custom_billing_rule_type</th>\n",
              "      <th>encryption_key</th>\n",
              "      <th>enable_match_reports</th>\n",
              "    </tr>\n",
              "  </thead>\n",
              "  <tbody>\n",
              "    <tr>\n",
              "      <th>0</th>\n",
              "      <td>11378</td>\n",
              "      <td>591</td>\n",
              "      <td>0</td>\n",
              "      <td>uid</td>\n",
              "      <td>591</td>\n",
              "      <td>199441</td>\n",
              "      <td>84</td>\n",
              "      <td>i360</td>\n",
              "      <td>NaN</td>\n",
              "      <td>2020-05-06 10:07:40</td>\n",
              "      <td>...</td>\n",
              "      <td>NaN</td>\n",
              "      <td>0</td>\n",
              "      <td>NaN</td>\n",
              "      <td>NaN</td>\n",
              "      <td>NaN</td>\n",
              "      <td>i360@liveramp.com</td>\n",
              "      <td>NaN</td>\n",
              "      <td>NaN</td>\n",
              "      <td>81aa0c2b5dd6c9563eb617d317df3378</td>\n",
              "      <td>0</td>\n",
              "    </tr>\n",
              "    <tr>\n",
              "      <th>1</th>\n",
              "      <td>868</td>\n",
              "      <td>1246</td>\n",
              "      <td>0</td>\n",
              "      <td>INDIVIDUAL_ID</td>\n",
              "      <td>1246</td>\n",
              "      <td>60794</td>\n",
              "      <td>142</td>\n",
              "      <td>Conde Nast</td>\n",
              "      <td>NaN</td>\n",
              "      <td>2020-03-17 18:41:38</td>\n",
              "      <td>...</td>\n",
              "      <td>NaN</td>\n",
              "      <td>0</td>\n",
              "      <td>NaN</td>\n",
              "      <td>NaN</td>\n",
              "      <td>61126.0</td>\n",
              "      <td>condenast@liveramp.com</td>\n",
              "      <td>NaN</td>\n",
              "      <td>NaN</td>\n",
              "      <td>72d194302037c9abace2ae0d35222259</td>\n",
              "      <td>0</td>\n",
              "    </tr>\n",
              "  </tbody>\n",
              "</table>\n",
              "<p>2 rows × 70 columns</p>\n",
              "</div>"
            ]
          },
          "metadata": {}
        }
      ],
      "execution_count": 45,
      "metadata": {
        "collapsed": true,
        "outputExpanded": false,
        "jupyter": {
          "source_hidden": false,
          "outputs_hidden": false
        },
        "nteract": {
          "transient": {
            "deleting": false
          }
        },
        "execution": {
          "iopub.status.busy": "2020-05-07T01:27:43.570Z",
          "iopub.execute_input": "2020-05-07T01:27:43.581Z",
          "iopub.status.idle": "2020-05-07T01:27:43.601Z",
          "shell.execute_reply": "2020-05-07T01:27:43.625Z"
        }
      }
    },
    {
      "cell_type": "code",
      "source": [
        "CID_values = pd.DataFrame(CIDs_all_audiences[\"label\"].value_counts())"
      ],
      "outputs": [],
      "execution_count": 46,
      "metadata": {
        "collapsed": true,
        "outputExpanded": false,
        "jupyter": {
          "source_hidden": false,
          "outputs_hidden": false
        },
        "nteract": {
          "transient": {
            "deleting": false
          }
        },
        "execution": {
          "iopub.status.busy": "2020-05-07T01:27:47.344Z",
          "iopub.execute_input": "2020-05-07T01:27:47.353Z",
          "iopub.status.idle": "2020-05-07T01:27:47.367Z",
          "shell.execute_reply": "2020-05-07T01:27:47.377Z"
        }
      }
    },
    {
      "cell_type": "code",
      "source": [
        "CID_values.head(50)"
      ],
      "outputs": [
        {
          "output_type": "execute_result",
          "execution_count": 47,
          "data": {
            "text/plain": [
              "                    label\n",
              "Customer ID           591\n",
              "Client Customer ID    543\n",
              "CustomerID            226\n",
              "ID                    223\n",
              "Customer_ID           222\n",
              "CCID                  204\n",
              "FICO INDIVIDUAL ID    163\n",
              "CUSTOMERID            119\n",
              "MBID                  113\n",
              "record_id             103\n",
              "id                    100\n",
              "CID                    68\n",
              "CUSTID                 61\n",
              "AIQ_HHID               58\n",
              "cust_id                54\n",
              "customer_id            49\n",
              "effo_hh_id             45\n",
              "ms_lead_contact_id     44\n",
              "PID                    44\n",
              "ContactID              40\n",
              "LUID                   37\n",
              "UID                    35\n",
              "NCS_HHID               33\n",
              "Client_Customer_ID     32\n",
              "cid                    31\n",
              "uid                    31\n",
              "RecordId               30\n",
              "CS_RegID               29\n",
              "client_customer_id     29\n",
              "XaxisID                28\n",
              "Record_ID              28\n",
              "CUSTOMER_ID            27\n",
              "CLIENT_CUSTOMER_ID     27\n",
              "DMP_ID                 26\n",
              "user_id                26\n",
              "lalvoterid             26\n",
              "voterbase_id           26\n",
              "rnc_reg_id             25\n",
              "User ID                25\n",
              "EPSILON_MATCH_ID_1     25\n",
              "agile_id               25\n",
              "MDG ID                 24\n",
              "CLIENTCUSTOMERID       24\n",
              "CONSUMER_ID            24\n",
              "Voter File VANID       23\n",
              "CUST_ID                21\n",
              "statefileid            20\n",
              "CONTACT_ID             19\n",
              "INDIV_ID               19\n",
              "stiristaid             18"
            ],
            "text/html": [
              "<div>\n",
              "<style scoped>\n",
              "    .dataframe tbody tr th:only-of-type {\n",
              "        vertical-align: middle;\n",
              "    }\n",
              "\n",
              "    .dataframe tbody tr th {\n",
              "        vertical-align: top;\n",
              "    }\n",
              "\n",
              "    .dataframe thead th {\n",
              "        text-align: right;\n",
              "    }\n",
              "</style>\n",
              "<table border=\"1\" class=\"dataframe\">\n",
              "  <thead>\n",
              "    <tr style=\"text-align: right;\">\n",
              "      <th></th>\n",
              "      <th>label</th>\n",
              "    </tr>\n",
              "  </thead>\n",
              "  <tbody>\n",
              "    <tr>\n",
              "      <th>Customer ID</th>\n",
              "      <td>591</td>\n",
              "    </tr>\n",
              "    <tr>\n",
              "      <th>Client Customer ID</th>\n",
              "      <td>543</td>\n",
              "    </tr>\n",
              "    <tr>\n",
              "      <th>CustomerID</th>\n",
              "      <td>226</td>\n",
              "    </tr>\n",
              "    <tr>\n",
              "      <th>ID</th>\n",
              "      <td>223</td>\n",
              "    </tr>\n",
              "    <tr>\n",
              "      <th>Customer_ID</th>\n",
              "      <td>222</td>\n",
              "    </tr>\n",
              "    <tr>\n",
              "      <th>CCID</th>\n",
              "      <td>204</td>\n",
              "    </tr>\n",
              "    <tr>\n",
              "      <th>FICO INDIVIDUAL ID</th>\n",
              "      <td>163</td>\n",
              "    </tr>\n",
              "    <tr>\n",
              "      <th>CUSTOMERID</th>\n",
              "      <td>119</td>\n",
              "    </tr>\n",
              "    <tr>\n",
              "      <th>MBID</th>\n",
              "      <td>113</td>\n",
              "    </tr>\n",
              "    <tr>\n",
              "      <th>record_id</th>\n",
              "      <td>103</td>\n",
              "    </tr>\n",
              "    <tr>\n",
              "      <th>id</th>\n",
              "      <td>100</td>\n",
              "    </tr>\n",
              "    <tr>\n",
              "      <th>CID</th>\n",
              "      <td>68</td>\n",
              "    </tr>\n",
              "    <tr>\n",
              "      <th>CUSTID</th>\n",
              "      <td>61</td>\n",
              "    </tr>\n",
              "    <tr>\n",
              "      <th>AIQ_HHID</th>\n",
              "      <td>58</td>\n",
              "    </tr>\n",
              "    <tr>\n",
              "      <th>cust_id</th>\n",
              "      <td>54</td>\n",
              "    </tr>\n",
              "    <tr>\n",
              "      <th>customer_id</th>\n",
              "      <td>49</td>\n",
              "    </tr>\n",
              "    <tr>\n",
              "      <th>effo_hh_id</th>\n",
              "      <td>45</td>\n",
              "    </tr>\n",
              "    <tr>\n",
              "      <th>ms_lead_contact_id</th>\n",
              "      <td>44</td>\n",
              "    </tr>\n",
              "    <tr>\n",
              "      <th>PID</th>\n",
              "      <td>44</td>\n",
              "    </tr>\n",
              "    <tr>\n",
              "      <th>ContactID</th>\n",
              "      <td>40</td>\n",
              "    </tr>\n",
              "    <tr>\n",
              "      <th>LUID</th>\n",
              "      <td>37</td>\n",
              "    </tr>\n",
              "    <tr>\n",
              "      <th>UID</th>\n",
              "      <td>35</td>\n",
              "    </tr>\n",
              "    <tr>\n",
              "      <th>NCS_HHID</th>\n",
              "      <td>33</td>\n",
              "    </tr>\n",
              "    <tr>\n",
              "      <th>Client_Customer_ID</th>\n",
              "      <td>32</td>\n",
              "    </tr>\n",
              "    <tr>\n",
              "      <th>cid</th>\n",
              "      <td>31</td>\n",
              "    </tr>\n",
              "    <tr>\n",
              "      <th>uid</th>\n",
              "      <td>31</td>\n",
              "    </tr>\n",
              "    <tr>\n",
              "      <th>RecordId</th>\n",
              "      <td>30</td>\n",
              "    </tr>\n",
              "    <tr>\n",
              "      <th>CS_RegID</th>\n",
              "      <td>29</td>\n",
              "    </tr>\n",
              "    <tr>\n",
              "      <th>client_customer_id</th>\n",
              "      <td>29</td>\n",
              "    </tr>\n",
              "    <tr>\n",
              "      <th>XaxisID</th>\n",
              "      <td>28</td>\n",
              "    </tr>\n",
              "    <tr>\n",
              "      <th>Record_ID</th>\n",
              "      <td>28</td>\n",
              "    </tr>\n",
              "    <tr>\n",
              "      <th>CUSTOMER_ID</th>\n",
              "      <td>27</td>\n",
              "    </tr>\n",
              "    <tr>\n",
              "      <th>CLIENT_CUSTOMER_ID</th>\n",
              "      <td>27</td>\n",
              "    </tr>\n",
              "    <tr>\n",
              "      <th>DMP_ID</th>\n",
              "      <td>26</td>\n",
              "    </tr>\n",
              "    <tr>\n",
              "      <th>user_id</th>\n",
              "      <td>26</td>\n",
              "    </tr>\n",
              "    <tr>\n",
              "      <th>lalvoterid</th>\n",
              "      <td>26</td>\n",
              "    </tr>\n",
              "    <tr>\n",
              "      <th>voterbase_id</th>\n",
              "      <td>26</td>\n",
              "    </tr>\n",
              "    <tr>\n",
              "      <th>rnc_reg_id</th>\n",
              "      <td>25</td>\n",
              "    </tr>\n",
              "    <tr>\n",
              "      <th>User ID</th>\n",
              "      <td>25</td>\n",
              "    </tr>\n",
              "    <tr>\n",
              "      <th>EPSILON_MATCH_ID_1</th>\n",
              "      <td>25</td>\n",
              "    </tr>\n",
              "    <tr>\n",
              "      <th>agile_id</th>\n",
              "      <td>25</td>\n",
              "    </tr>\n",
              "    <tr>\n",
              "      <th>MDG ID</th>\n",
              "      <td>24</td>\n",
              "    </tr>\n",
              "    <tr>\n",
              "      <th>CLIENTCUSTOMERID</th>\n",
              "      <td>24</td>\n",
              "    </tr>\n",
              "    <tr>\n",
              "      <th>CONSUMER_ID</th>\n",
              "      <td>24</td>\n",
              "    </tr>\n",
              "    <tr>\n",
              "      <th>Voter File VANID</th>\n",
              "      <td>23</td>\n",
              "    </tr>\n",
              "    <tr>\n",
              "      <th>CUST_ID</th>\n",
              "      <td>21</td>\n",
              "    </tr>\n",
              "    <tr>\n",
              "      <th>statefileid</th>\n",
              "      <td>20</td>\n",
              "    </tr>\n",
              "    <tr>\n",
              "      <th>CONTACT_ID</th>\n",
              "      <td>19</td>\n",
              "    </tr>\n",
              "    <tr>\n",
              "      <th>INDIV_ID</th>\n",
              "      <td>19</td>\n",
              "    </tr>\n",
              "    <tr>\n",
              "      <th>stiristaid</th>\n",
              "      <td>18</td>\n",
              "    </tr>\n",
              "  </tbody>\n",
              "</table>\n",
              "</div>"
            ]
          },
          "metadata": {}
        }
      ],
      "execution_count": 47,
      "metadata": {
        "collapsed": true,
        "outputExpanded": false,
        "jupyter": {
          "source_hidden": false,
          "outputs_hidden": false
        },
        "nteract": {
          "transient": {
            "deleting": false
          }
        },
        "execution": {
          "iopub.status.busy": "2020-05-07T01:27:50.247Z",
          "iopub.execute_input": "2020-05-07T01:27:50.256Z",
          "iopub.status.idle": "2020-05-07T01:27:50.276Z",
          "shell.execute_reply": "2020-05-07T01:27:50.284Z"
        }
      }
    },
    {
      "cell_type": "code",
      "source": [
        "CID_values.info()"
      ],
      "outputs": [
        {
          "output_type": "stream",
          "name": "stdout",
          "text": [
            "<class 'pandas.core.frame.DataFrame'>\n",
            "Index: 809 entries, Customer ID to enc_pid\n",
            "Data columns (total 1 columns):\n",
            " #   Column  Non-Null Count  Dtype\n",
            "---  ------  --------------  -----\n",
            " 0   label   809 non-null    int64\n",
            "dtypes: int64(1)\n",
            "memory usage: 12.6+ KB\n"
          ]
        }
      ],
      "execution_count": 48,
      "metadata": {
        "collapsed": true,
        "outputExpanded": false,
        "jupyter": {
          "source_hidden": false,
          "outputs_hidden": false
        },
        "nteract": {
          "transient": {
            "deleting": false
          }
        },
        "execution": {
          "iopub.status.busy": "2020-05-07T01:28:06.817Z",
          "iopub.execute_input": "2020-05-07T01:28:06.827Z",
          "iopub.status.idle": "2020-05-07T01:28:06.849Z",
          "shell.execute_reply": "2020-05-07T01:28:06.858Z"
        }
      }
    },
    {
      "cell_type": "code",
      "source": [
        "CID_values[\"label\"]"
      ],
      "outputs": [
        {
          "output_type": "execute_result",
          "execution_count": 49,
          "data": {
            "text/plain": [
              "Customer ID           591\n",
              "Client Customer ID    543\n",
              "CustomerID            226\n",
              "ID                    223\n",
              "Customer_ID           222\n",
              "                     ... \n",
              "ODS_MEMBER_ID           1\n",
              "wm_id                   1\n",
              "Tidewater_ID            1\n",
              "Client Contact ID       1\n",
              "enc_pid                 1\n",
              "Name: label, Length: 809, dtype: int64"
            ]
          },
          "metadata": {}
        }
      ],
      "execution_count": 49,
      "metadata": {
        "collapsed": true,
        "outputExpanded": false,
        "jupyter": {
          "source_hidden": false,
          "outputs_hidden": false
        },
        "nteract": {
          "transient": {
            "deleting": false
          }
        },
        "execution": {
          "iopub.status.busy": "2020-05-07T01:28:15.692Z",
          "iopub.execute_input": "2020-05-07T01:28:15.703Z",
          "iopub.status.idle": "2020-05-07T01:28:15.723Z",
          "shell.execute_reply": "2020-05-07T01:28:15.731Z"
        }
      }
    },
    {
      "cell_type": "markdown",
      "source": [
        "### 3.2.1 query all audiences with AK like '%ID%' -> enabled, non-FBR audiences, enabled customers, data store"
      ],
      "metadata": {
        "nteract": {
          "transient": {
            "deleting": false
          }
        }
      }
    },
    {
      "cell_type": "markdown",
      "source": [
        "```mysql\n",
        "SELECT\n",
        "  liveramp_customer_accounts.id AS audience_id,\n",
        "  liveramp_customer_accounts.display_name AS audience_name,\n",
        "  customers.name AS customer_name,\n",
        "  customers.id AS customer_id,\n",
        "  liveramp_customer_accounts.type,\n",
        "  audience_key_labels.label\n",
        "FROM\n",
        "  dms_segments\n",
        "INNER JOIN\n",
        "  lrc_field_definitions\n",
        "ON\n",
        "  dms_segments.lrc_field_definition_id = lrc_field_definitions.id\n",
        "INNER JOIN\n",
        "  liveramp_customer_accounts\n",
        "ON\n",
        "  lrc_field_definitions.lr_customer_account_id = liveramp_customer_accounts.id\n",
        "INNER JOIN\n",
        "  customers\n",
        "ON\n",
        "  liveramp_customer_accounts.customer_id = customers.id\n",
        "INNER JOIN\n",
        "  audience_key_labels\n",
        "ON\n",
        "  audience_key_labels.liveramp_customer_account_id = liveramp_customer_accounts.id\n",
        "WHERE\n",
        "  audience_key_labels.key_index = 0\n",
        "  AND audience_key_labels.label LIKE '%ID%'\n",
        "  AND audience_key_labels.label NOT LIKE '%aaid%'\n",
        "  AND audience_key_labels.label NOT LIKE '%idfa%'\n",
        "  AND audience_key_labels.label NOT LIKE '%cookie%'\n",
        "  AND audience_key_labels.label NOT LIKE '%device id%'\n",
        "  AND audience_key_labels.label NOT LIKE '%Device_ID%'\n",
        "  AND audience_key_labels.label NOT LIKE '%device%'\n",
        "  AND audience_key_labels.label NOT LIKE '%email%'\n",
        "  AND audience_key_labels.label NOT LIKE '%pel%'\n",
        "  AND audience_key_labels.label NOT LIKE '%identity_link%'\n",
        "  AND audience_key_labels.label NOT LIKE '%idl%'\n",
        "  AND audience_key_labels.label NOT LIKE '%liveramp%'\n",
        "  AND audience_key_labels.label NOT LIKE '%LR ID 1%'\n",
        "  AND audience_key_labels.label NOT LIKE '%LRID%'\n",
        "  AND audience_key_labels.label NOT LIKE '%MAID%'\n",
        "  AND audience_key_labels.label NOT LIKE '%mobile%'\n",
        "  AND audience_key_labels.label NOT LIKE '%order_id%'\n",
        "  AND audience_key_labels.label NOT LIKE '%PELID%'\n",
        "  AND audience_key_labels.label NOT LIKE '%FB_Ext_ID%'\n",
        "  AND audience_key_labels.label NOT LIKE '%IdentityLink%'\n",
        "  AND audience_key_labels.label NOT LIKE '%muid%'\n",
        "  AND audience_key_labels.label NOT LIKE '%abilitec%'\n",
        "  AND audience_key_labels.label NOT LIKE '%acxiom_id%'\n",
        "  AND audience_key_labels.label NOT LIKE '%EXTERN_ID%'\n",
        "  AND audience_key_labels.label NOT LIKE '%CNSMR_LINK_ID%'\n",
        "  AND audience_key_labels.label NOT LIKE '%ttd_android%'\n",
        "  AND customers.status = 1\n",
        "  AND liveramp_customer_accounts.enabled = TRUE\n",
        "  AND liveramp_customer_accounts.customer_link_audience = FALSE\n",
        "GROUP BY\n",
        "  liveramp_customer_accounts.id\n",
        "```"
      ],
      "metadata": {
        "nteract": {
          "transient": {
            "deleting": false
          }
        }
      }
    },
    {
      "cell_type": "code",
      "source": [
        "CIDs_DS_audiences = pd.read_csv('/Users/aschul/Documents/Documents - aschul1118mac/Code_Base/Investigations/20200417_AK_analysis/CID_AKs/CIDs_DS.csv')"
      ],
      "outputs": [],
      "execution_count": 50,
      "metadata": {
        "collapsed": true,
        "outputExpanded": false,
        "jupyter": {
          "source_hidden": false,
          "outputs_hidden": false
        },
        "nteract": {
          "transient": {
            "deleting": false
          }
        },
        "execution": {
          "iopub.status.busy": "2020-05-07T02:17:24.868Z",
          "iopub.execute_input": "2020-05-07T02:17:24.880Z",
          "iopub.status.idle": "2020-05-07T02:17:24.894Z",
          "shell.execute_reply": "2020-05-07T02:17:24.905Z"
        }
      }
    },
    {
      "cell_type": "code",
      "source": [
        "CIDs_DS_audiences.head(5)"
      ],
      "outputs": [
        {
          "output_type": "execute_result",
          "execution_count": 51,
          "data": {
            "text/plain": [
              "   audience_id                         audience_name customer_name  \\\n",
              "0       345649               Custom Segments - MAIDS      180byTWO   \n",
              "1       470951           Arity - Data Store Segments         Arity   \n",
              "2       346269       Custom Segments - Appnexus ID's      180byTWO   \n",
              "3       253989  180byTwo - APP ID2 - AppNexus Cookie      180byTWO   \n",
              "4       447761              X-Mode - Data Store - CA        X-Mode   \n",
              "\n",
              "   customer_id                           type          label  \n",
              "0       531379  OnlineLiverampCustomerAccount          ad_id  \n",
              "1       622131  OnlineLiverampCustomerAccount           adid  \n",
              "2       531379  OnlineLiverampCustomerAccount       adnxs_id  \n",
              "3       531379  OnlineLiverampCustomerAccount       adnxs_id  \n",
              "4       604579  OnlineLiverampCustomerAccount  advertiser_id  "
            ],
            "text/html": [
              "<div>\n",
              "<style scoped>\n",
              "    .dataframe tbody tr th:only-of-type {\n",
              "        vertical-align: middle;\n",
              "    }\n",
              "\n",
              "    .dataframe tbody tr th {\n",
              "        vertical-align: top;\n",
              "    }\n",
              "\n",
              "    .dataframe thead th {\n",
              "        text-align: right;\n",
              "    }\n",
              "</style>\n",
              "<table border=\"1\" class=\"dataframe\">\n",
              "  <thead>\n",
              "    <tr style=\"text-align: right;\">\n",
              "      <th></th>\n",
              "      <th>audience_id</th>\n",
              "      <th>audience_name</th>\n",
              "      <th>customer_name</th>\n",
              "      <th>customer_id</th>\n",
              "      <th>type</th>\n",
              "      <th>label</th>\n",
              "    </tr>\n",
              "  </thead>\n",
              "  <tbody>\n",
              "    <tr>\n",
              "      <th>0</th>\n",
              "      <td>345649</td>\n",
              "      <td>Custom Segments - MAIDS</td>\n",
              "      <td>180byTWO</td>\n",
              "      <td>531379</td>\n",
              "      <td>OnlineLiverampCustomerAccount</td>\n",
              "      <td>ad_id</td>\n",
              "    </tr>\n",
              "    <tr>\n",
              "      <th>1</th>\n",
              "      <td>470951</td>\n",
              "      <td>Arity - Data Store Segments</td>\n",
              "      <td>Arity</td>\n",
              "      <td>622131</td>\n",
              "      <td>OnlineLiverampCustomerAccount</td>\n",
              "      <td>adid</td>\n",
              "    </tr>\n",
              "    <tr>\n",
              "      <th>2</th>\n",
              "      <td>346269</td>\n",
              "      <td>Custom Segments - Appnexus ID's</td>\n",
              "      <td>180byTWO</td>\n",
              "      <td>531379</td>\n",
              "      <td>OnlineLiverampCustomerAccount</td>\n",
              "      <td>adnxs_id</td>\n",
              "    </tr>\n",
              "    <tr>\n",
              "      <th>3</th>\n",
              "      <td>253989</td>\n",
              "      <td>180byTwo - APP ID2 - AppNexus Cookie</td>\n",
              "      <td>180byTWO</td>\n",
              "      <td>531379</td>\n",
              "      <td>OnlineLiverampCustomerAccount</td>\n",
              "      <td>adnxs_id</td>\n",
              "    </tr>\n",
              "    <tr>\n",
              "      <th>4</th>\n",
              "      <td>447761</td>\n",
              "      <td>X-Mode - Data Store - CA</td>\n",
              "      <td>X-Mode</td>\n",
              "      <td>604579</td>\n",
              "      <td>OnlineLiverampCustomerAccount</td>\n",
              "      <td>advertiser_id</td>\n",
              "    </tr>\n",
              "  </tbody>\n",
              "</table>\n",
              "</div>"
            ]
          },
          "metadata": {}
        }
      ],
      "execution_count": 51,
      "metadata": {
        "collapsed": true,
        "outputExpanded": false,
        "jupyter": {
          "source_hidden": false,
          "outputs_hidden": false
        },
        "nteract": {
          "transient": {
            "deleting": false
          }
        },
        "execution": {
          "iopub.status.busy": "2020-05-07T02:17:39.989Z",
          "iopub.execute_input": "2020-05-07T02:17:40.000Z",
          "iopub.status.idle": "2020-05-07T02:17:40.020Z",
          "shell.execute_reply": "2020-05-07T02:17:40.042Z"
        }
      }
    },
    {
      "cell_type": "code",
      "source": [
        "CID_values_DS_audiences = pd.DataFrame(CIDs_DS_audiences[\"label\"].value_counts())"
      ],
      "outputs": [],
      "execution_count": 53,
      "metadata": {
        "collapsed": true,
        "outputExpanded": false,
        "jupyter": {
          "source_hidden": false,
          "outputs_hidden": false
        },
        "nteract": {
          "transient": {
            "deleting": false
          }
        },
        "execution": {
          "iopub.status.busy": "2020-05-07T02:18:18.794Z",
          "iopub.execute_input": "2020-05-07T02:18:18.804Z",
          "iopub.status.idle": "2020-05-07T02:18:18.819Z",
          "shell.execute_reply": "2020-05-07T02:18:18.828Z"
        }
      }
    },
    {
      "cell_type": "code",
      "source": [
        "CID_values_DS_audiences.head(10)"
      ],
      "outputs": [
        {
          "output_type": "execute_result",
          "execution_count": 56,
          "data": {
            "text/plain": [
              "                    label\n",
              "ID                     50\n",
              "rnc_reg_id             24\n",
              "agile_id               20\n",
              "id                     19\n",
              "CustomerID             18\n",
              "AIQ_HHID               15\n",
              "Client Customer ID     11\n",
              "Customer ID            10\n",
              "dedupe_id               9\n",
              "stiristaid              9"
            ],
            "text/html": [
              "<div>\n",
              "<style scoped>\n",
              "    .dataframe tbody tr th:only-of-type {\n",
              "        vertical-align: middle;\n",
              "    }\n",
              "\n",
              "    .dataframe tbody tr th {\n",
              "        vertical-align: top;\n",
              "    }\n",
              "\n",
              "    .dataframe thead th {\n",
              "        text-align: right;\n",
              "    }\n",
              "</style>\n",
              "<table border=\"1\" class=\"dataframe\">\n",
              "  <thead>\n",
              "    <tr style=\"text-align: right;\">\n",
              "      <th></th>\n",
              "      <th>label</th>\n",
              "    </tr>\n",
              "  </thead>\n",
              "  <tbody>\n",
              "    <tr>\n",
              "      <th>ID</th>\n",
              "      <td>50</td>\n",
              "    </tr>\n",
              "    <tr>\n",
              "      <th>rnc_reg_id</th>\n",
              "      <td>24</td>\n",
              "    </tr>\n",
              "    <tr>\n",
              "      <th>agile_id</th>\n",
              "      <td>20</td>\n",
              "    </tr>\n",
              "    <tr>\n",
              "      <th>id</th>\n",
              "      <td>19</td>\n",
              "    </tr>\n",
              "    <tr>\n",
              "      <th>CustomerID</th>\n",
              "      <td>18</td>\n",
              "    </tr>\n",
              "    <tr>\n",
              "      <th>AIQ_HHID</th>\n",
              "      <td>15</td>\n",
              "    </tr>\n",
              "    <tr>\n",
              "      <th>Client Customer ID</th>\n",
              "      <td>11</td>\n",
              "    </tr>\n",
              "    <tr>\n",
              "      <th>Customer ID</th>\n",
              "      <td>10</td>\n",
              "    </tr>\n",
              "    <tr>\n",
              "      <th>dedupe_id</th>\n",
              "      <td>9</td>\n",
              "    </tr>\n",
              "    <tr>\n",
              "      <th>stiristaid</th>\n",
              "      <td>9</td>\n",
              "    </tr>\n",
              "  </tbody>\n",
              "</table>\n",
              "</div>"
            ]
          },
          "metadata": {}
        }
      ],
      "execution_count": 56,
      "metadata": {
        "collapsed": true,
        "outputExpanded": false,
        "jupyter": {
          "source_hidden": false,
          "outputs_hidden": false
        },
        "nteract": {
          "transient": {
            "deleting": false
          }
        },
        "execution": {
          "iopub.status.busy": "2020-05-07T02:23:31.642Z",
          "iopub.execute_input": "2020-05-07T02:23:31.654Z",
          "iopub.status.idle": "2020-05-07T02:23:31.679Z",
          "shell.execute_reply": "2020-05-07T02:23:31.689Z"
        }
      }
    },
    {
      "cell_type": "markdown",
      "source": [
        "### Follow up question: check which percentage of CID audiences are online vs offline"
      ],
      "metadata": {
        "nteract": {
          "transient": {
            "deleting": false
          }
        }
      }
    },
    {
      "cell_type": "code",
      "source": [],
      "outputs": [],
      "execution_count": null,
      "metadata": {
        "collapsed": true,
        "outputExpanded": false,
        "jupyter": {
          "source_hidden": false,
          "outputs_hidden": false
        },
        "nteract": {
          "transient": {
            "deleting": false
          }
        }
      }
    },
    {
      "cell_type": "code",
      "source": [],
      "outputs": [],
      "execution_count": null,
      "metadata": {
        "collapsed": true,
        "outputExpanded": false,
        "jupyter": {
          "source_hidden": false,
          "outputs_hidden": false
        },
        "nteract": {
          "transient": {
            "deleting": false
          }
        }
      }
    },
    {
      "cell_type": "code",
      "source": [],
      "outputs": [],
      "execution_count": null,
      "metadata": {
        "collapsed": true,
        "outputExpanded": false,
        "jupyter": {
          "source_hidden": false,
          "outputs_hidden": false
        },
        "nteract": {
          "transient": {
            "deleting": false
          }
        }
      }
    },
    {
      "cell_type": "markdown",
      "source": [
        "## 5. Address-only audiences"
      ],
      "metadata": {
        "nteract": {
          "transient": {
            "deleting": false
          }
        }
      }
    },
    {
      "cell_type": "code",
      "source": [],
      "outputs": [],
      "execution_count": null,
      "metadata": {
        "collapsed": true,
        "outputExpanded": false,
        "jupyter": {
          "source_hidden": false,
          "outputs_hidden": false
        },
        "nteract": {
          "transient": {
            "deleting": false
          }
        }
      }
    },
    {
      "cell_type": "code",
      "source": [],
      "outputs": [],
      "execution_count": null,
      "metadata": {
        "collapsed": true,
        "outputExpanded": false,
        "jupyter": {
          "source_hidden": false,
          "outputs_hidden": false
        },
        "nteract": {
          "transient": {
            "deleting": false
          }
        }
      }
    }
  ],
  "metadata": {
    "kernelspec": {
      "display_name": "Python 3",
      "language": "python",
      "name": "python3"
    },
    "language_info": {
      "name": "python",
      "version": "3.7.7",
      "mimetype": "text/x-python",
      "codemirror_mode": {
        "name": "ipython",
        "version": 3
      },
      "pygments_lexer": "ipython3",
      "nbconvert_exporter": "python",
      "file_extension": ".py"
    },
    "nteract": {
      "version": "0.23.1"
    }
  },
  "nbformat": 4,
  "nbformat_minor": 4
}