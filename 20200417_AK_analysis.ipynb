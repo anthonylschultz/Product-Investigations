{
  "cells": [
    {
      "cell_type": "code",
      "source": [
        "import pandas as pd\n",
        "import matplotlib.pyplot as plt\n",
        "import matplotlib.patches as mpatches"
      ],
      "outputs": [],
      "execution_count": 2,
      "metadata": {
        "execution": {
          "iopub.status.busy": "2020-04-21T16:57:48.829Z",
          "iopub.execute_input": "2020-04-21T16:57:48.834Z",
          "iopub.status.idle": "2020-04-21T16:57:52.694Z",
          "shell.execute_reply": "2020-04-21T16:57:52.710Z"
        }
      }
    },
    {
      "cell_type": "code",
      "source": [
        "# import dataset: all audiences AS LCAS\n",
        "# SELECT *\n",
        "# FROM `corp-bi-us-prod.rldb.liveramp_customer_accounts` \n",
        "# WHERE enabled = true AND customer_link_audience = false\n",
        "lcas = pd.read_csv('/Users/aschul/Documents/Code_Base/Investigations/20200417_AK_analysis/all_LCAs.csv')"
      ],
      "outputs": [],
      "execution_count": 21,
      "metadata": {
        "execution": {
          "iopub.status.busy": "2020-04-23T00:43:18.028Z",
          "iopub.execute_input": "2020-04-23T00:43:18.031Z",
          "shell.execute_reply": "2020-04-23T00:43:18.100Z",
          "iopub.status.idle": "2020-04-23T00:43:18.098Z"
        }
      }
    },
    {
      "cell_type": "code",
      "source": [
        "lcas.info()"
      ],
      "outputs": [],
      "execution_count": null,
      "metadata": {
        "execution": {
          "iopub.status.busy": "2020-04-23T00:43:18.922Z",
          "iopub.execute_input": "2020-04-23T00:43:18.925Z",
          "iopub.status.idle": "2020-04-23T00:43:18.937Z",
          "shell.execute_reply": "2020-04-23T00:43:18.940Z"
        }
      }
    },
    {
      "cell_type": "markdown",
      "source": [
        "### total audiences\n",
        "21364"
      ],
      "metadata": {}
    },
    {
      "cell_type": "code",
      "source": [
        "lcas.head(2)"
      ],
      "outputs": [
        {
          "output_type": "execute_result",
          "execution_count": 12,
          "data": {
            "text/html": [
              "<div>\n",
              "<style scoped>\n",
              "    .dataframe tbody tr th:only-of-type {\n",
              "        vertical-align: middle;\n",
              "    }\n",
              "\n",
              "    .dataframe tbody tr th {\n",
              "        vertical-align: top;\n",
              "    }\n",
              "\n",
              "    .dataframe thead th {\n",
              "        text-align: right;\n",
              "    }\n",
              "</style>\n",
              "<table border=\"1\" class=\"dataframe\">\n",
              "  <thead>\n",
              "    <tr style=\"text-align: right;\">\n",
              "      <th></th>\n",
              "      <th>id</th>\n",
              "      <th>customer_id</th>\n",
              "      <th>data_partner_thrift_identifier</th>\n",
              "      <th>display_name</th>\n",
              "      <th>volume_limit</th>\n",
              "      <th>updated_at</th>\n",
              "      <th>updated_by</th>\n",
              "      <th>most_recent_esp_version_reach_stats</th>\n",
              "      <th>created_by</th>\n",
              "      <th>created_at</th>\n",
              "      <th>...</th>\n",
              "      <th>type</th>\n",
              "      <th>automatic_backfill</th>\n",
              "      <th>custom_id_distribution_enabled</th>\n",
              "      <th>data_classification</th>\n",
              "      <th>customer_link_audience</th>\n",
              "      <th>field_encryption_key</th>\n",
              "      <th>import_recency_filter</th>\n",
              "      <th>abilitec_migration_mode</th>\n",
              "      <th>mobile_matching_accuracy_type</th>\n",
              "      <th>partner_link_fast_lane_enabled</th>\n",
              "    </tr>\n",
              "  </thead>\n",
              "  <tbody>\n",
              "    <tr>\n",
              "      <th>0</th>\n",
              "      <td>474731</td>\n",
              "      <td>517576</td>\n",
              "      <td>474731</td>\n",
              "      <td>Cliff Bentz for Congress</td>\n",
              "      <td>NaN</td>\n",
              "      <td>2020-03-24 10:10:23 UTC</td>\n",
              "      <td>1944106</td>\n",
              "      <td>NaN</td>\n",
              "      <td>1944106</td>\n",
              "      <td>2020-03-24 10:10:23 UTC</td>\n",
              "      <td>...</td>\n",
              "      <td>OfflineLiverampCustomerAccount</td>\n",
              "      <td>False</td>\n",
              "      <td>False</td>\n",
              "      <td>0</td>\n",
              "      <td>False</td>\n",
              "      <td>NaN</td>\n",
              "      <td>NaN</td>\n",
              "      <td>2</td>\n",
              "      <td>0.0</td>\n",
              "      <td>False</td>\n",
              "    </tr>\n",
              "    <tr>\n",
              "      <th>1</th>\n",
              "      <td>474741</td>\n",
              "      <td>539719</td>\n",
              "      <td>474741</td>\n",
              "      <td>Nerdwallet - Home</td>\n",
              "      <td>NaN</td>\n",
              "      <td>2020-03-24 11:48:55 UTC</td>\n",
              "      <td>2085729</td>\n",
              "      <td>NaN</td>\n",
              "      <td>2085729</td>\n",
              "      <td>2020-03-24 11:48:55 UTC</td>\n",
              "      <td>...</td>\n",
              "      <td>OfflineLiverampCustomerAccount</td>\n",
              "      <td>False</td>\n",
              "      <td>False</td>\n",
              "      <td>0</td>\n",
              "      <td>False</td>\n",
              "      <td>NaN</td>\n",
              "      <td>NaN</td>\n",
              "      <td>2</td>\n",
              "      <td>0.0</td>\n",
              "      <td>False</td>\n",
              "    </tr>\n",
              "  </tbody>\n",
              "</table>\n",
              "<p>2 rows × 24 columns</p>\n",
              "</div>"
            ],
            "text/plain": [
              "       id  customer_id  data_partner_thrift_identifier  \\\n",
              "0  474731       517576                          474731   \n",
              "1  474741       539719                          474741   \n",
              "\n",
              "               display_name  volume_limit               updated_at  \\\n",
              "0  Cliff Bentz for Congress           NaN  2020-03-24 10:10:23 UTC   \n",
              "1         Nerdwallet - Home           NaN  2020-03-24 11:48:55 UTC   \n",
              "\n",
              "   updated_by  most_recent_esp_version_reach_stats  created_by  \\\n",
              "0     1944106                                  NaN     1944106   \n",
              "1     2085729                                  NaN     2085729   \n",
              "\n",
              "                created_at  ...                            type  \\\n",
              "0  2020-03-24 10:10:23 UTC  ...  OfflineLiverampCustomerAccount   \n",
              "1  2020-03-24 11:48:55 UTC  ...  OfflineLiverampCustomerAccount   \n",
              "\n",
              "   automatic_backfill  custom_id_distribution_enabled  data_classification  \\\n",
              "0               False                           False                    0   \n",
              "1               False                           False                    0   \n",
              "\n",
              "  customer_link_audience  field_encryption_key  import_recency_filter  \\\n",
              "0                  False                   NaN                    NaN   \n",
              "1                  False                   NaN                    NaN   \n",
              "\n",
              "   abilitec_migration_mode  mobile_matching_accuracy_type  \\\n",
              "0                        2                            0.0   \n",
              "1                        2                            0.0   \n",
              "\n",
              "   partner_link_fast_lane_enabled  \n",
              "0                           False  \n",
              "1                           False  \n",
              "\n",
              "[2 rows x 24 columns]"
            ]
          },
          "metadata": {}
        }
      ],
      "execution_count": 12,
      "metadata": {}
    },
    {
      "cell_type": "code",
      "source": [
        "### Audiences Summary, grouped by Type, enabled = true, customer_link_audience = false\n",
        "# SELECT type, count(type) AS type_count\n",
        "# FROM `corp-bi-us-prod.rldb.liveramp_customer_accounts` \n",
        "# WHERE enabled = true AND customer_link_audience = false\n",
        "# GROUP BY type\n",
        "# ORDER BY type_count DESC\n",
        "\n",
        "aud_sum = pd.read_csv('/Users/aschul/Documents/Code_Base/Investigations/20200417_AK_analysis/all_LCAs_summary.csv')\n",
        "aud_sum"
      ],
      "outputs": [
        {
          "output_type": "execute_result",
          "execution_count": 7,
          "data": {
            "text/plain": [
              "                                               type  type_count\n",
              "0                    OfflineLiverampCustomerAccount       15707\n",
              "1                     OnlineLiverampCustomerAccount        5117\n",
              "2              CidPinMappingLiverampCustomerAccount         206\n",
              "3      CidAnonymousIdMappingLiverampCustomerAccount         158\n",
              "4                   MuidOnlyLiverampCustomerAccount          75\n",
              "5            MuidHeidMappingLiverampCustomerAccount          73\n",
              "6                      MatchLiverampCustomerAccount          45\n",
              "7  OfflineFulfillmentMappingLiverampCustomerAccount          17\n",
              "8              IdSyncMappingLiverampCustomerAccount          16"
            ],
            "text/html": [
              "<div>\n",
              "<style scoped>\n",
              "    .dataframe tbody tr th:only-of-type {\n",
              "        vertical-align: middle;\n",
              "    }\n",
              "\n",
              "    .dataframe tbody tr th {\n",
              "        vertical-align: top;\n",
              "    }\n",
              "\n",
              "    .dataframe thead th {\n",
              "        text-align: right;\n",
              "    }\n",
              "</style>\n",
              "<table border=\"1\" class=\"dataframe\">\n",
              "  <thead>\n",
              "    <tr style=\"text-align: right;\">\n",
              "      <th></th>\n",
              "      <th>type</th>\n",
              "      <th>type_count</th>\n",
              "    </tr>\n",
              "  </thead>\n",
              "  <tbody>\n",
              "    <tr>\n",
              "      <th>0</th>\n",
              "      <td>OfflineLiverampCustomerAccount</td>\n",
              "      <td>15707</td>\n",
              "    </tr>\n",
              "    <tr>\n",
              "      <th>1</th>\n",
              "      <td>OnlineLiverampCustomerAccount</td>\n",
              "      <td>5117</td>\n",
              "    </tr>\n",
              "    <tr>\n",
              "      <th>2</th>\n",
              "      <td>CidPinMappingLiverampCustomerAccount</td>\n",
              "      <td>206</td>\n",
              "    </tr>\n",
              "    <tr>\n",
              "      <th>3</th>\n",
              "      <td>CidAnonymousIdMappingLiverampCustomerAccount</td>\n",
              "      <td>158</td>\n",
              "    </tr>\n",
              "    <tr>\n",
              "      <th>4</th>\n",
              "      <td>MuidOnlyLiverampCustomerAccount</td>\n",
              "      <td>75</td>\n",
              "    </tr>\n",
              "    <tr>\n",
              "      <th>5</th>\n",
              "      <td>MuidHeidMappingLiverampCustomerAccount</td>\n",
              "      <td>73</td>\n",
              "    </tr>\n",
              "    <tr>\n",
              "      <th>6</th>\n",
              "      <td>MatchLiverampCustomerAccount</td>\n",
              "      <td>45</td>\n",
              "    </tr>\n",
              "    <tr>\n",
              "      <th>7</th>\n",
              "      <td>OfflineFulfillmentMappingLiverampCustomerAccount</td>\n",
              "      <td>17</td>\n",
              "    </tr>\n",
              "    <tr>\n",
              "      <th>8</th>\n",
              "      <td>IdSyncMappingLiverampCustomerAccount</td>\n",
              "      <td>16</td>\n",
              "    </tr>\n",
              "  </tbody>\n",
              "</table>\n",
              "</div>"
            ]
          },
          "metadata": {}
        }
      ],
      "execution_count": 7,
      "metadata": {
        "execution": {
          "iopub.status.busy": "2020-04-21T16:57:59.407Z",
          "iopub.execute_input": "2020-04-21T16:57:59.409Z",
          "iopub.status.idle": "2020-04-21T16:57:59.417Z",
          "shell.execute_reply": "2020-04-21T16:57:59.426Z"
        }
      }
    },
    {
      "cell_type": "markdown",
      "source": [
        "# Data Store vs Non-Data Store Customers, Audiences"
      ],
      "metadata": {}
    },
    {
      "cell_type": "code",
      "source": [
        "# DMS providers - customers\n",
        "# 804 customers are data providers, defined by having an entry in the dms_provider table and customers.enabled = true\n",
        "# SELECT dms_providers.customer_id, customers.id\n",
        "# FROM `corp-bi-us-prod.rldb.dms_providers` AS dms_providers\n",
        "#   INNER JOIN `corp-bi-us-prod.rldb.customers` AS customers\n",
        "#     ON dms_providers.customer_id = customers.id\n",
        "# WHERE customers.status = 1\n",
        "\n",
        "dms_providers = pd.read_csv('/Users/aschul/Documents/Code_Base/Investigations/20200417_AK_analysis/dms_providers.csv')\n",
        "\n",
        "dms_providers.count()\n",
        "dms_providers.head(10)"
      ],
      "outputs": [
        {
          "output_type": "execute_result",
          "execution_count": 24,
          "data": {
            "text/plain": [
              "   customer_id                    name\n",
              "0       263281                 Datalab\n",
              "1       510449            Demo Company\n",
              "2        39144               Infogroup\n",
              "3        57384                     SMS\n",
              "4        16851                test &'\"\n",
              "5        56444               SafeGraph\n",
              "6       213651                Relevate\n",
              "7       140601                 ownerIQ\n",
              "8       509776  Audience Elements APAC\n",
              "9       513836                   Chegg"
            ],
            "text/html": [
              "<div>\n",
              "<style scoped>\n",
              "    .dataframe tbody tr th:only-of-type {\n",
              "        vertical-align: middle;\n",
              "    }\n",
              "\n",
              "    .dataframe tbody tr th {\n",
              "        vertical-align: top;\n",
              "    }\n",
              "\n",
              "    .dataframe thead th {\n",
              "        text-align: right;\n",
              "    }\n",
              "</style>\n",
              "<table border=\"1\" class=\"dataframe\">\n",
              "  <thead>\n",
              "    <tr style=\"text-align: right;\">\n",
              "      <th></th>\n",
              "      <th>customer_id</th>\n",
              "      <th>name</th>\n",
              "    </tr>\n",
              "  </thead>\n",
              "  <tbody>\n",
              "    <tr>\n",
              "      <th>0</th>\n",
              "      <td>263281</td>\n",
              "      <td>Datalab</td>\n",
              "    </tr>\n",
              "    <tr>\n",
              "      <th>1</th>\n",
              "      <td>510449</td>\n",
              "      <td>Demo Company</td>\n",
              "    </tr>\n",
              "    <tr>\n",
              "      <th>2</th>\n",
              "      <td>39144</td>\n",
              "      <td>Infogroup</td>\n",
              "    </tr>\n",
              "    <tr>\n",
              "      <th>3</th>\n",
              "      <td>57384</td>\n",
              "      <td>SMS</td>\n",
              "    </tr>\n",
              "    <tr>\n",
              "      <th>4</th>\n",
              "      <td>16851</td>\n",
              "      <td>test &amp;'\"</td>\n",
              "    </tr>\n",
              "    <tr>\n",
              "      <th>5</th>\n",
              "      <td>56444</td>\n",
              "      <td>SafeGraph</td>\n",
              "    </tr>\n",
              "    <tr>\n",
              "      <th>6</th>\n",
              "      <td>213651</td>\n",
              "      <td>Relevate</td>\n",
              "    </tr>\n",
              "    <tr>\n",
              "      <th>7</th>\n",
              "      <td>140601</td>\n",
              "      <td>ownerIQ</td>\n",
              "    </tr>\n",
              "    <tr>\n",
              "      <th>8</th>\n",
              "      <td>509776</td>\n",
              "      <td>Audience Elements APAC</td>\n",
              "    </tr>\n",
              "    <tr>\n",
              "      <th>9</th>\n",
              "      <td>513836</td>\n",
              "      <td>Chegg</td>\n",
              "    </tr>\n",
              "  </tbody>\n",
              "</table>\n",
              "</div>"
            ]
          },
          "metadata": {}
        }
      ],
      "execution_count": 24,
      "metadata": {
        "collapsed": true,
        "outputExpanded": false,
        "jupyter": {
          "source_hidden": false,
          "outputs_hidden": true
        },
        "nteract": {
          "transient": {
            "deleting": false
          }
        },
        "execution": {
          "shell.execute_reply": "2020-04-23T00:44:50.501Z",
          "iopub.status.busy": "2020-04-23T00:44:50.482Z",
          "iopub.execute_input": "2020-04-23T00:44:50.485Z",
          "iopub.status.idle": "2020-04-23T00:44:50.491Z"
        }
      }
    },
    {
      "cell_type": "code",
      "source": [
        "# Data Store Audiences\n",
        "# DMS_segments -> LRC_field_definitions -> LR_customer_accounts -> customers \n",
        "\n",
        "# SELECT lr_customer_accounts.id AS audience_id, lr_customer_accounts.display_name AS audience_name, customers.name AS customer_name, customers.id AS customer_id, lr_customer_accounts.type\n",
        "# FROM `corp-bi-us-prod.rldb.dms_segments` AS dms_segments\n",
        "# INNER JOIN `corp-bi-us-prod.rldb.lrc_field_definitions` AS lrc_field_definitions\n",
        "#   ON dms_segments.lrc_field_definition_id = lrc_field_definitions.id\n",
        "# INNER JOIN `corp-bi-us-prod.rldb.liveramp_customer_accounts` AS lr_customer_accounts\n",
        "#   ON lrc_field_definitions.lr_customer_account_id = lr_customer_accounts.id\n",
        "# INNER JOIN `corp-bi-us-prod.rldb.customers` AS customers\n",
        "#   ON lr_customer_accounts.customer_id = customers.id\n",
        "# WHERE lr_customer_accounts.enabled = true AND lr_customer_accounts.customer_link_audience = false AND customers.status = 1\n",
        "# GROUP BY lr_customer_accounts.id, lr_customer_accounts.display_name, customers.name, customers.id, lr_customer_accounts.type\n",
        "\n",
        "dms_audiences = pd.read_csv('/Users/aschul/Documents/Code_Base/Investigations/20200417_AK_analysis/all_DS_non_DS_audiences.csv')\n",
        "dms_audiences\n",
        "dms_audiences.info()"
      ],
      "outputs": [
        {
          "output_type": "stream",
          "name": "stdout",
          "text": [
            "<class 'pandas.core.frame.DataFrame'>\n",
            "RangeIndex: 1564 entries, 0 to 1563\n",
            "Data columns (total 5 columns):\n",
            " #   Column         Non-Null Count  Dtype \n",
            "---  ------         --------------  ----- \n",
            " 0   audience_id    1564 non-null   int64 \n",
            " 1   audience_name  1564 non-null   object\n",
            " 2   customer_name  1564 non-null   object\n",
            " 3   customer_id    1564 non-null   int64 \n",
            " 4   type           1564 non-null   object\n",
            "dtypes: int64(2), object(3)\n",
            "memory usage: 61.2+ KB\n"
          ]
        }
      ],
      "execution_count": 55,
      "metadata": {
        "execution": {
          "iopub.status.busy": "2020-04-23T18:44:35.957Z",
          "iopub.execute_input": "2020-04-23T18:44:35.959Z",
          "iopub.status.idle": "2020-04-23T18:44:35.964Z",
          "shell.execute_reply": "2020-04-23T18:44:35.971Z"
        }
      }
    },
    {
      "cell_type": "code",
      "source": [
        "dms_audiences.head(5)"
      ],
      "outputs": [
        {
          "output_type": "execute_result",
          "execution_count": 62,
          "data": {
            "text/plain": [
              "   audience_id                             audience_name  \\\n",
              "0       301749                Healio - GUID - Onboarding   \n",
              "1       485541                 Elkay - DataGuru Segments   \n",
              "2       325639                AudienceBridge - Custom_ST   \n",
              "3       101389                   Stirista - Trigger Data   \n",
              "4       287929  Everyday Health - Consumer  - data store   \n",
              "\n",
              "                              customer_name  customer_id  \\\n",
              "0                                    Healio       518946   \n",
              "1                          LinkedIn – Elkay       627691   \n",
              "2                            AudienceBridge       535769   \n",
              "3                                  Stirista       510756   \n",
              "4  Everyday Health - Consumer  (Ziff Davis)       572639   \n",
              "\n",
              "                             type  \n",
              "0   OnlineLiverampCustomerAccount  \n",
              "1   OnlineLiverampCustomerAccount  \n",
              "2   OnlineLiverampCustomerAccount  \n",
              "3  OfflineLiverampCustomerAccount  \n",
              "4  OfflineLiverampCustomerAccount  "
            ],
            "text/html": [
              "<div>\n",
              "<style scoped>\n",
              "    .dataframe tbody tr th:only-of-type {\n",
              "        vertical-align: middle;\n",
              "    }\n",
              "\n",
              "    .dataframe tbody tr th {\n",
              "        vertical-align: top;\n",
              "    }\n",
              "\n",
              "    .dataframe thead th {\n",
              "        text-align: right;\n",
              "    }\n",
              "</style>\n",
              "<table border=\"1\" class=\"dataframe\">\n",
              "  <thead>\n",
              "    <tr style=\"text-align: right;\">\n",
              "      <th></th>\n",
              "      <th>audience_id</th>\n",
              "      <th>audience_name</th>\n",
              "      <th>customer_name</th>\n",
              "      <th>customer_id</th>\n",
              "      <th>type</th>\n",
              "    </tr>\n",
              "  </thead>\n",
              "  <tbody>\n",
              "    <tr>\n",
              "      <th>0</th>\n",
              "      <td>301749</td>\n",
              "      <td>Healio - GUID - Onboarding</td>\n",
              "      <td>Healio</td>\n",
              "      <td>518946</td>\n",
              "      <td>OnlineLiverampCustomerAccount</td>\n",
              "    </tr>\n",
              "    <tr>\n",
              "      <th>1</th>\n",
              "      <td>485541</td>\n",
              "      <td>Elkay - DataGuru Segments</td>\n",
              "      <td>LinkedIn – Elkay</td>\n",
              "      <td>627691</td>\n",
              "      <td>OnlineLiverampCustomerAccount</td>\n",
              "    </tr>\n",
              "    <tr>\n",
              "      <th>2</th>\n",
              "      <td>325639</td>\n",
              "      <td>AudienceBridge - Custom_ST</td>\n",
              "      <td>AudienceBridge</td>\n",
              "      <td>535769</td>\n",
              "      <td>OnlineLiverampCustomerAccount</td>\n",
              "    </tr>\n",
              "    <tr>\n",
              "      <th>3</th>\n",
              "      <td>101389</td>\n",
              "      <td>Stirista - Trigger Data</td>\n",
              "      <td>Stirista</td>\n",
              "      <td>510756</td>\n",
              "      <td>OfflineLiverampCustomerAccount</td>\n",
              "    </tr>\n",
              "    <tr>\n",
              "      <th>4</th>\n",
              "      <td>287929</td>\n",
              "      <td>Everyday Health - Consumer  - data store</td>\n",
              "      <td>Everyday Health - Consumer  (Ziff Davis)</td>\n",
              "      <td>572639</td>\n",
              "      <td>OfflineLiverampCustomerAccount</td>\n",
              "    </tr>\n",
              "  </tbody>\n",
              "</table>\n",
              "</div>"
            ]
          },
          "metadata": {}
        }
      ],
      "execution_count": 62,
      "metadata": {
        "collapsed": true,
        "outputExpanded": false,
        "jupyter": {
          "source_hidden": false,
          "outputs_hidden": false
        },
        "nteract": {
          "transient": {
            "deleting": false
          }
        },
        "execution": {
          "iopub.status.busy": "2020-04-23T18:51:27.526Z",
          "iopub.execute_input": "2020-04-23T18:51:27.529Z",
          "iopub.status.idle": "2020-04-23T18:51:27.537Z",
          "shell.execute_reply": "2020-04-23T18:51:27.540Z"
        }
      }
    },
    {
      "cell_type": "code",
      "source": [
        "### audience types\n",
        "#### offline - 15707/21364\n",
        "#### offline + data store provider - 546\n",
        "\n",
        "#### online - 5110/21364\n",
        "#### online + data store provider - 1018\n",
        "\n",
        "#### how many customers do these audiences represent?"
      ],
      "outputs": [],
      "execution_count": null,
      "metadata": {}
    },
    {
      "cell_type": "code",
      "source": [
        "ds_aud_types = dms_audiences['type']"
      ],
      "outputs": [],
      "execution_count": 60,
      "metadata": {
        "collapsed": true,
        "outputExpanded": false,
        "jupyter": {
          "source_hidden": false,
          "outputs_hidden": false
        },
        "nteract": {
          "transient": {
            "deleting": false
          }
        },
        "execution": {
          "iopub.status.busy": "2020-04-23T18:51:16.619Z",
          "iopub.execute_input": "2020-04-23T18:51:16.622Z",
          "iopub.status.idle": "2020-04-23T18:51:16.625Z",
          "shell.execute_reply": "2020-04-23T18:51:16.629Z"
        }
      }
    },
    {
      "cell_type": "code",
      "source": [
        "ds_aud_types.value_counts()"
      ],
      "outputs": [
        {
          "output_type": "execute_result",
          "execution_count": 61,
          "data": {
            "text/plain": [
              "OnlineLiverampCustomerAccount     1018\n",
              "OfflineLiverampCustomerAccount     546\n",
              "Name: type, dtype: int64"
            ]
          },
          "metadata": {}
        }
      ],
      "execution_count": 61,
      "metadata": {
        "collapsed": true,
        "outputExpanded": false,
        "jupyter": {
          "source_hidden": false,
          "outputs_hidden": false
        },
        "nteract": {
          "transient": {
            "deleting": false
          }
        },
        "execution": {
          "iopub.status.busy": "2020-04-23T18:51:17.967Z",
          "iopub.execute_input": "2020-04-23T18:51:17.970Z",
          "iopub.status.idle": "2020-04-23T18:51:17.977Z",
          "shell.execute_reply": "2020-04-23T18:51:17.980Z"
        }
      }
    },
    {
      "cell_type": "markdown",
      "source": [
        "# #2 What % of audiences are email-only audiences?\n",
        "# Define email-only audiences:\n",
        "## Conditions:\n",
        "### 1) one identifier = email | dependency - must normalize AK email labels, identifier email labels\n",
        "### 2) identifier = AK? false (e.g. CID AK, email identifier)\n",
        "\n"
      ],
      "metadata": {
        "nteract": {
          "transient": {
            "deleting": false
          }
        }
      }
    },
    {
      "cell_type": "markdown",
      "source": [],
      "metadata": {
        "nteract": {
          "transient": {
            "deleting": false
          }
        }
      }
    }
  ],
  "metadata": {
    "kernelspec": {
      "display_name": "Python 3",
      "language": "python",
      "name": "python3"
    },
    "language_info": {
      "name": "python",
      "version": "3.7.7",
      "mimetype": "text/x-python",
      "codemirror_mode": {
        "name": "ipython",
        "version": 3
      },
      "pygments_lexer": "ipython3",
      "nbconvert_exporter": "python",
      "file_extension": ".py"
    },
    "nteract": {
      "version": "0.22.4"
    }
  },
  "nbformat": 4,
  "nbformat_minor": 4
}