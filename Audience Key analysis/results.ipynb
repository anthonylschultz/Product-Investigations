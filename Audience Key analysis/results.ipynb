{
 "cells": [
  {
   "cell_type": "markdown",
   "metadata": {
    "toc": true
   },
   "source": [
    "<h1>Table of Contents<span class=\"tocSkip\"></span></h1>\n",
    "<div class=\"toc\"><ul class=\"toc-item\"><li><span><a href=\"#Results\" data-toc-modified-id=\"Results-1\"><span class=\"toc-item-num\">1&nbsp;&nbsp;</span>Results</a></span><ul class=\"toc-item\"><li><span><a href=\"#Audience-Counts-by-Type-and-Vertical\" data-toc-modified-id=\"Audience-Counts-by-Type-and-Vertical-1.1\"><span class=\"toc-item-num\">1.1&nbsp;&nbsp;</span>Audience Counts by Type and Vertical</a></span></li><li><span><a href=\"#AK-analysis:-Emails\" data-toc-modified-id=\"AK-analysis:-Emails-1.2\"><span class=\"toc-item-num\">1.2&nbsp;&nbsp;</span>AK analysis: Emails</a></span></li><li><span><a href=\"#AK-analysis:-CIDs\" data-toc-modified-id=\"AK-analysis:-CIDs-1.3\"><span class=\"toc-item-num\">1.3&nbsp;&nbsp;</span>AK analysis: CIDs</a></span></li><li><span><a href=\"#AK-analysis:-Addresses\" data-toc-modified-id=\"AK-analysis:-Addresses-1.4\"><span class=\"toc-item-num\">1.4&nbsp;&nbsp;</span>AK analysis: Addresses</a></span></li><li><span><a href=\"#AK-analysis:-Data-Store-audiences\" data-toc-modified-id=\"AK-analysis:-Data-Store-audiences-1.5\"><span class=\"toc-item-num\">1.5&nbsp;&nbsp;</span>AK analysis: Data Store audiences</a></span></li><li><span><a href=\"#AK-analysis:-Pinless-Audiences\" data-toc-modified-id=\"AK-analysis:-Pinless-Audiences-1.6\"><span class=\"toc-item-num\">1.6&nbsp;&nbsp;</span>AK analysis: Pinless Audiences</a></span></li></ul></li><li><span><a href=\"#Load-Libraries,-Modules\" data-toc-modified-id=\"Load-Libraries,-Modules-2\"><span class=\"toc-item-num\">2&nbsp;&nbsp;</span>Load Libraries, Modules</a></span></li><li><span><a href=\"#Online-audiences-vs.-Offline-audiences\" data-toc-modified-id=\"Online-audiences-vs.-Offline-audiences-3\"><span class=\"toc-item-num\">3&nbsp;&nbsp;</span>Online audiences vs. Offline audiences</a></span><ul class=\"toc-item\"><li><span><a href=\"#data-wrangling\" data-toc-modified-id=\"data-wrangling-3.1\"><span class=\"toc-item-num\">3.1&nbsp;&nbsp;</span>data wrangling</a></span></li></ul></li><li><span><a href=\"#Data-store-audiences-vs.-non-data-store-audiences\" data-toc-modified-id=\"Data-store-audiences-vs.-non-data-store-audiences-4\"><span class=\"toc-item-num\">4&nbsp;&nbsp;</span>Data store audiences vs. non-data store audiences</a></span><ul class=\"toc-item\"><li><span><a href=\"#data-wrangling\" data-toc-modified-id=\"data-wrangling-4.1\"><span class=\"toc-item-num\">4.1&nbsp;&nbsp;</span>data wrangling</a></span></li></ul></li><li><span><a href=\"#Email-only-audiences\" data-toc-modified-id=\"Email-only-audiences-5\"><span class=\"toc-item-num\">5&nbsp;&nbsp;</span>Email-only audiences</a></span><ul class=\"toc-item\"><li><span><a href=\"#Data-wrangling\" data-toc-modified-id=\"Data-wrangling-5.1\"><span class=\"toc-item-num\">5.1&nbsp;&nbsp;</span>Data wrangling</a></span></li></ul></li><li><span><a href=\"#CID-only-audiences\" data-toc-modified-id=\"CID-only-audiences-6\"><span class=\"toc-item-num\">6&nbsp;&nbsp;</span>CID-only audiences</a></span></li><li><span><a href=\"#Address-only-audiences\" data-toc-modified-id=\"Address-only-audiences-7\"><span class=\"toc-item-num\">7&nbsp;&nbsp;</span>Address-only audiences</a></span><ul class=\"toc-item\"><li><span><a href=\"#Data-Wrangling\" data-toc-modified-id=\"Data-Wrangling-7.1\"><span class=\"toc-item-num\">7.1&nbsp;&nbsp;</span>Data Wrangling</a></span></li></ul></li><li><span><a href=\"#PINless-imports-analysis\" data-toc-modified-id=\"PINless-imports-analysis-8\"><span class=\"toc-item-num\">8&nbsp;&nbsp;</span>PINless imports analysis</a></span><ul class=\"toc-item\"><li><span><a href=\"#Results\" data-toc-modified-id=\"Results-8.1\"><span class=\"toc-item-num\">8.1&nbsp;&nbsp;</span>Results</a></span></li><li><span><a href=\"#all-audiences-with-pinless-imports\" data-toc-modified-id=\"all-audiences-with-pinless-imports-8.2\"><span class=\"toc-item-num\">8.2&nbsp;&nbsp;</span>all audiences with pinless imports</a></span></li><li><span><a href=\"#&quot;true&quot;-pinless-audiences\" data-toc-modified-id=\"&quot;true&quot;-pinless-audiences-8.3\"><span class=\"toc-item-num\">8.3&nbsp;&nbsp;</span>\"true\" pinless audiences</a></span></li><li><span><a href=\"#&quot;pinless&quot;-audiences,-potentially-misconfigured\" data-toc-modified-id=\"&quot;pinless&quot;-audiences,-potentially-misconfigured-8.4\"><span class=\"toc-item-num\">8.4&nbsp;&nbsp;</span>\"pinless\" audiences, potentially misconfigured</a></span></li><li><span><a href=\"#data-pulls\" data-toc-modified-id=\"data-pulls-8.5\"><span class=\"toc-item-num\">8.5&nbsp;&nbsp;</span>data pulls</a></span></li></ul></li><li><span><a href=\"#PINless-imports-analysis-ARCHIVE\" data-toc-modified-id=\"PINless-imports-analysis-ARCHIVE-9\"><span class=\"toc-item-num\">9&nbsp;&nbsp;</span>PINless imports analysis ARCHIVE</a></span><ul class=\"toc-item\"><li><span><a href=\"#results\" data-toc-modified-id=\"results-9.1\"><span class=\"toc-item-num\">9.1&nbsp;&nbsp;</span>results</a></span></li><li><span><a href=\"#Offline-PINless-analysis\" data-toc-modified-id=\"Offline-PINless-analysis-9.2\"><span class=\"toc-item-num\">9.2&nbsp;&nbsp;</span>Offline PINless analysis</a></span></li><li><span><a href=\"#Online-PINless-analysis\" data-toc-modified-id=\"Online-PINless-analysis-9.3\"><span class=\"toc-item-num\">9.3&nbsp;&nbsp;</span>Online PINless analysis</a></span></li></ul></li><li><span><a href=\"#appendix\" data-toc-modified-id=\"appendix-10\"><span class=\"toc-item-num\">10&nbsp;&nbsp;</span>appendix</a></span></li></ul></div>"
   ]
  },
  {
   "cell_type": "code",
   "execution_count": 117,
   "metadata": {
    "code_folding": []
   },
   "outputs": [],
   "source": [
    "# Changes as of 7/9\n",
    "# 1) DS audience keys - Added section 1.5 AK analysis: Data Store audiences - parses all DS audience keys. \n",
    "#    See section 9 appendix for query.\n",
    "# 2) Dynamic results - Transformed results section into near realtime results with date/timestamps of latest data pull \n",
    "#    for each query.\n",
    "# 3) Raw emails - Added raw email definitions throughout\n",
    "# 4) Reduced visual distractions - enabled code folding, cleaned up queries\n",
    "# 5) Online PINless audiences - investigated common AKs for online PINless audiences (Section 8.3)\n"
   ]
  },
  {
   "cell_type": "markdown",
   "metadata": {},
   "source": [
    "# Results"
   ]
  },
  {
   "cell_type": "markdown",
   "metadata": {},
   "source": [
    "## Audience Counts by Type and Vertical \n",
    "Active customers, enabled audiences, non-FBR audiences"
   ]
  },
  {
   "cell_type": "code",
   "execution_count": 118,
   "metadata": {
    "code_folding": [
     0
    ]
   },
   "outputs": [
    {
     "data": {
      "text/html": [
       "<div>\n",
       "<style scoped>\n",
       "    .dataframe tbody tr th:only-of-type {\n",
       "        vertical-align: middle;\n",
       "    }\n",
       "\n",
       "    .dataframe tbody tr th {\n",
       "        vertical-align: top;\n",
       "    }\n",
       "\n",
       "    .dataframe thead th {\n",
       "        text-align: right;\n",
       "    }\n",
       "</style>\n",
       "<table border=\"1\" class=\"dataframe\">\n",
       "  <thead>\n",
       "    <tr style=\"text-align: right;\">\n",
       "      <th></th>\n",
       "      <th>Audience Type</th>\n",
       "      <th>Data Store</th>\n",
       "      <th>All Audiences</th>\n",
       "    </tr>\n",
       "  </thead>\n",
       "  <tbody>\n",
       "    <tr>\n",
       "      <th>0</th>\n",
       "      <td>Offline</td>\n",
       "      <td>566</td>\n",
       "      <td>15317</td>\n",
       "    </tr>\n",
       "    <tr>\n",
       "      <th>1</th>\n",
       "      <td>Online</td>\n",
       "      <td>1083</td>\n",
       "      <td>5080</td>\n",
       "    </tr>\n",
       "    <tr>\n",
       "      <th>2</th>\n",
       "      <td>Total</td>\n",
       "      <td>1649</td>\n",
       "      <td>20397</td>\n",
       "    </tr>\n",
       "  </tbody>\n",
       "</table>\n",
       "</div>"
      ],
      "text/plain": [
       "  Audience Type  Data Store  All Audiences\n",
       "0       Offline         566          15317\n",
       "1        Online        1083           5080\n",
       "2         Total        1649          20397"
      ]
     },
     "execution_count": 118,
     "metadata": {},
     "output_type": "execute_result"
    }
   ],
   "source": [
    "import pandas as pd\n",
    "audience_counts = {'Audience Type': ['Offline','Online', 'Total'], 'Data Store': [DMS_offline_audience_count, \n",
    "                                                                                  DMS_online_audience_count, \n",
    "                                                                                  DMS_offline_audience_count + DMS_online_audience_count],\n",
    "        'All Audiences': [offline_audience_count,\n",
    "                          online_audience_count, \n",
    "                          offline_audience_count + online_audience_count]\n",
    "        }\n",
    "\n",
    "aud_counts_table = pd.DataFrame(audience_counts, columns = ['Audience Type', 'Data Store', 'All Audiences'])\n",
    "aud_counts_table"
   ]
  },
  {
   "cell_type": "markdown",
   "metadata": {},
   "source": [
    "## AK analysis: Emails"
   ]
  },
  {
   "cell_type": "markdown",
   "metadata": {},
   "source": [
    "Active customers, enabled audiences, non-FBR audiences where AK = email. Validated audiences have one AK in SQL statement. \n",
    "\n",
    "Raw email definition: plaintext string e.g. anthonyschultz@gmail.com\n"
   ]
  },
  {
   "cell_type": "code",
   "execution_count": 119,
   "metadata": {
    "code_folding": []
   },
   "outputs": [
    {
     "data": {
      "text/html": [
       "<div>\n",
       "<style scoped>\n",
       "    .dataframe tbody tr th:only-of-type {\n",
       "        vertical-align: middle;\n",
       "    }\n",
       "\n",
       "    .dataframe tbody tr th {\n",
       "        vertical-align: top;\n",
       "    }\n",
       "\n",
       "    .dataframe thead th {\n",
       "        text-align: right;\n",
       "    }\n",
       "</style>\n",
       "<table border=\"1\" class=\"dataframe\">\n",
       "  <thead>\n",
       "    <tr style=\"text-align: right;\">\n",
       "      <th></th>\n",
       "      <th>Vertical</th>\n",
       "      <th>Raw</th>\n",
       "      <th>SHA256</th>\n",
       "      <th>MD5</th>\n",
       "      <th>SHA1</th>\n",
       "      <th>All Email Audiences</th>\n",
       "    </tr>\n",
       "  </thead>\n",
       "  <tbody>\n",
       "    <tr>\n",
       "      <th>0</th>\n",
       "      <td>non-Data Store</td>\n",
       "      <td>5174</td>\n",
       "      <td>45</td>\n",
       "      <td>94</td>\n",
       "      <td>24</td>\n",
       "      <td>5292</td>\n",
       "    </tr>\n",
       "    <tr>\n",
       "      <th>1</th>\n",
       "      <td>Data Store</td>\n",
       "      <td>82</td>\n",
       "      <td>6</td>\n",
       "      <td>15</td>\n",
       "      <td>8</td>\n",
       "      <td>111</td>\n",
       "    </tr>\n",
       "    <tr>\n",
       "      <th>2</th>\n",
       "      <td>Total</td>\n",
       "      <td>5256</td>\n",
       "      <td>51</td>\n",
       "      <td>109</td>\n",
       "      <td>32</td>\n",
       "      <td>5448</td>\n",
       "    </tr>\n",
       "  </tbody>\n",
       "</table>\n",
       "</div>"
      ],
      "text/plain": [
       "         Vertical   Raw  SHA256  MD5  SHA1  All Email Audiences\n",
       "0  non-Data Store  5174      45   94    24                 5292\n",
       "1      Data Store    82       6   15     8                  111\n",
       "2           Total  5256      51  109    32                 5448"
      ]
     },
     "execution_count": 119,
     "metadata": {},
     "output_type": "execute_result"
    }
   ],
   "source": [
    "email_aks = {'Vertical': ['non-Data Store', 'Data Store', 'Total'],\n",
    "             'Raw': [raw_email_aud_counts - raw_email_DS_aud_counts, \n",
    "                     raw_email_DS_aud_counts, \n",
    "                     raw_email_aud_counts], \n",
    "             'SHA256': [SHA256_aud_counts - SHA256_DS_aud_counts, \n",
    "                        SHA256_DS_aud_counts, \n",
    "                        SHA256_aud_counts],\n",
    "             'MD5': [MD5_aud_counts - MD5_DS_aud_counts, \n",
    "                     MD5_DS_aud_counts, \n",
    "                     MD5_aud_counts], \n",
    "             'SHA1':[SHA1_aud_counts - SHA1_DS_aud_counts, \n",
    "                     SHA1_DS_aud_counts, \n",
    "                     SHA1_aud_counts],\n",
    "             'All Email Audiences':[((raw_email_aud_counts - raw_email_DS_aud_counts) + \n",
    "                                     (MD5_aud_counts - MD5_DS_aud_counts) +\n",
    "                                    (SHA1_aud_counts - SHA1_DS_aud_counts) \n",
    "                                    ), (raw_email_DS_aud_counts + \n",
    "                                        SHA256_DS_aud_counts + \n",
    "                                        SHA1_DS_aud_counts +\n",
    "                                       MD5_DS_aud_counts)\n",
    "                                        , raw_email_aud_counts +\n",
    "                                    SHA256_aud_counts +\n",
    "                                    MD5_aud_counts +\n",
    "                                    SHA1_aud_counts]}\n",
    "\n",
    "email_aks_table = pd.DataFrame(email_aks, columns = ['Vertical','Raw', 'SHA256', 'MD5', 'SHA1', 'All Email Audiences'])\n",
    "email_aks_table"
   ]
  },
  {
   "cell_type": "markdown",
   "metadata": {},
   "source": [
    "## AK analysis: CIDs"
   ]
  },
  {
   "cell_type": "markdown",
   "metadata": {},
   "source": [
    "Active customers, enabled audiences, non-FBR audiences where AK = email. Validated audiences have one AK in SQL statement."
   ]
  },
  {
   "cell_type": "code",
   "execution_count": 120,
   "metadata": {
    "code_folding": []
   },
   "outputs": [
    {
     "data": {
      "text/html": [
       "<div>\n",
       "<style scoped>\n",
       "    .dataframe tbody tr th:only-of-type {\n",
       "        vertical-align: middle;\n",
       "    }\n",
       "\n",
       "    .dataframe tbody tr th {\n",
       "        vertical-align: top;\n",
       "    }\n",
       "\n",
       "    .dataframe thead th {\n",
       "        text-align: right;\n",
       "    }\n",
       "</style>\n",
       "<table border=\"1\" class=\"dataframe\">\n",
       "  <thead>\n",
       "    <tr style=\"text-align: right;\">\n",
       "      <th></th>\n",
       "      <th>Vertical</th>\n",
       "      <th>Offline</th>\n",
       "      <th>Online</th>\n",
       "      <th>All CID Audiences</th>\n",
       "    </tr>\n",
       "  </thead>\n",
       "  <tbody>\n",
       "    <tr>\n",
       "      <th>0</th>\n",
       "      <td>non-Data Store</td>\n",
       "      <td>946</td>\n",
       "      <td>4172</td>\n",
       "      <td>5118</td>\n",
       "    </tr>\n",
       "    <tr>\n",
       "      <th>1</th>\n",
       "      <td>Data Store</td>\n",
       "      <td>244</td>\n",
       "      <td>180</td>\n",
       "      <td>424</td>\n",
       "    </tr>\n",
       "    <tr>\n",
       "      <th>2</th>\n",
       "      <td>Total</td>\n",
       "      <td>1190</td>\n",
       "      <td>4352</td>\n",
       "      <td>5542</td>\n",
       "    </tr>\n",
       "  </tbody>\n",
       "</table>\n",
       "</div>"
      ],
      "text/plain": [
       "         Vertical  Offline  Online  All CID Audiences\n",
       "0  non-Data Store      946    4172               5118\n",
       "1      Data Store      244     180                424\n",
       "2           Total     1190    4352               5542"
      ]
     },
     "execution_count": 120,
     "metadata": {},
     "output_type": "execute_result"
    }
   ],
   "source": [
    "cid_aks = {'Vertical': ['non-Data Store', 'Data Store', 'Total'],\n",
    "           'Offline': [CID_offline-CID_DS_offline, CID_DS_offline, CID_offline], \n",
    "           'Online': [CID_online-CID_DS_online, CID_DS_online, CID_online],\n",
    "           'All CID Audiences': [(CID_offline-CID_DS_offline) + (CID_online-CID_DS_online), CID_DS_offline + CID_DS_online, CID_offline + CID_online]\n",
    "          }\n",
    "cid_aks_table = pd.DataFrame(cid_aks, columns = ['Vertical', 'Offline', 'Online', 'All CID Audiences'])\n",
    "cid_aks_table"
   ]
  },
  {
   "cell_type": "markdown",
   "metadata": {},
   "source": [
    "## AK analysis: Addresses"
   ]
  },
  {
   "cell_type": "markdown",
   "metadata": {},
   "source": [
    "Active customers, enabled audiences, non-FBR audiences where AK = address fields and between 4-7 values."
   ]
  },
  {
   "cell_type": "code",
   "execution_count": 121,
   "metadata": {
    "code_folding": []
   },
   "outputs": [
    {
     "data": {
      "text/html": [
       "<div>\n",
       "<style scoped>\n",
       "    .dataframe tbody tr th:only-of-type {\n",
       "        vertical-align: middle;\n",
       "    }\n",
       "\n",
       "    .dataframe tbody tr th {\n",
       "        vertical-align: top;\n",
       "    }\n",
       "\n",
       "    .dataframe thead th {\n",
       "        text-align: right;\n",
       "    }\n",
       "</style>\n",
       "<table border=\"1\" class=\"dataframe\">\n",
       "  <thead>\n",
       "    <tr style=\"text-align: right;\">\n",
       "      <th></th>\n",
       "      <th>Vertical</th>\n",
       "      <th>Offline</th>\n",
       "      <th>Online</th>\n",
       "      <th>All Address Audiences</th>\n",
       "    </tr>\n",
       "  </thead>\n",
       "  <tbody>\n",
       "    <tr>\n",
       "      <th>0</th>\n",
       "      <td>non-Data Store</td>\n",
       "      <td>1067</td>\n",
       "      <td>3</td>\n",
       "      <td>1067</td>\n",
       "    </tr>\n",
       "    <tr>\n",
       "      <th>1</th>\n",
       "      <td>Data Store</td>\n",
       "      <td>90</td>\n",
       "      <td>0</td>\n",
       "      <td>90</td>\n",
       "    </tr>\n",
       "    <tr>\n",
       "      <th>2</th>\n",
       "      <td>Total</td>\n",
       "      <td>1157</td>\n",
       "      <td>3</td>\n",
       "      <td>1160</td>\n",
       "    </tr>\n",
       "  </tbody>\n",
       "</table>\n",
       "</div>"
      ],
      "text/plain": [
       "         Vertical  Offline  Online  All Address Audiences\n",
       "0  non-Data Store     1067       3                   1067\n",
       "1      Data Store       90       0                     90\n",
       "2           Total     1157       3                   1160"
      ]
     },
     "execution_count": 121,
     "metadata": {},
     "output_type": "execute_result"
    }
   ],
   "source": [
    "address_aks = {'Vertical': ['non-Data Store', 'Data Store', 'Total'], \n",
    "               'Offline': [AK_address_auds_offline - address_aks_DS, \n",
    "                           address_aks_DS, \n",
    "                           AK_address_auds_offline],\n",
    "               'Online': [AK_address_auds_online, \n",
    "                          0, \n",
    "                         AK_address_auds_online], \n",
    "               'All Address Audiences': [(AK_address_auds_offline - address_aks_DS), \n",
    "                                         address_aks_DS, \n",
    "                                         AK_address_auds_offline + AK_address_auds_online]\n",
    "              }\n",
    "address_aks_table = pd.DataFrame(address_aks, columns = ['Vertical', 'Offline', 'Online', 'All Address Audiences'])\n",
    "address_aks_table\n"
   ]
  },
  {
   "cell_type": "markdown",
   "metadata": {},
   "source": [
    "## AK analysis: Data Store audiences"
   ]
  },
  {
   "cell_type": "code",
   "execution_count": 122,
   "metadata": {},
   "outputs": [
    {
     "data": {
      "text/html": [
       "<div>\n",
       "<style scoped>\n",
       "    .dataframe tbody tr th:only-of-type {\n",
       "        vertical-align: middle;\n",
       "    }\n",
       "\n",
       "    .dataframe tbody tr th {\n",
       "        vertical-align: top;\n",
       "    }\n",
       "\n",
       "    .dataframe thead th {\n",
       "        text-align: right;\n",
       "    }\n",
       "</style>\n",
       "<table border=\"1\" class=\"dataframe\">\n",
       "  <thead>\n",
       "    <tr style=\"text-align: right;\">\n",
       "      <th></th>\n",
       "      <th>AK Type</th>\n",
       "      <th>Number of Audiences</th>\n",
       "      <th>Percent of All DS Audiences</th>\n",
       "    </tr>\n",
       "  </thead>\n",
       "  <tbody>\n",
       "    <tr>\n",
       "      <th>0</th>\n",
       "      <td>cid</td>\n",
       "      <td>424</td>\n",
       "      <td>0.257126</td>\n",
       "    </tr>\n",
       "    <tr>\n",
       "      <th>1</th>\n",
       "      <td>email</td>\n",
       "      <td>64</td>\n",
       "      <td>0.038811</td>\n",
       "    </tr>\n",
       "    <tr>\n",
       "      <th>2</th>\n",
       "      <td>pel</td>\n",
       "      <td>265</td>\n",
       "      <td>0.160703</td>\n",
       "    </tr>\n",
       "    <tr>\n",
       "      <th>3</th>\n",
       "      <td>device_id</td>\n",
       "      <td>308</td>\n",
       "      <td>0.186780</td>\n",
       "    </tr>\n",
       "    <tr>\n",
       "      <th>4</th>\n",
       "      <td>idl</td>\n",
       "      <td>101</td>\n",
       "      <td>0.061249</td>\n",
       "    </tr>\n",
       "    <tr>\n",
       "      <th>5</th>\n",
       "      <td>address</td>\n",
       "      <td>90</td>\n",
       "      <td>0.054579</td>\n",
       "    </tr>\n",
       "    <tr>\n",
       "      <th>6</th>\n",
       "      <td>clink</td>\n",
       "      <td>62</td>\n",
       "      <td>0.037599</td>\n",
       "    </tr>\n",
       "    <tr>\n",
       "      <th>7</th>\n",
       "      <td>generic_id</td>\n",
       "      <td>73</td>\n",
       "      <td>0.044269</td>\n",
       "    </tr>\n",
       "    <tr>\n",
       "      <th>8</th>\n",
       "      <td>first_name</td>\n",
       "      <td>57</td>\n",
       "      <td>0.034566</td>\n",
       "    </tr>\n",
       "    <tr>\n",
       "      <th>9</th>\n",
       "      <td>agile_id</td>\n",
       "      <td>30</td>\n",
       "      <td>0.018193</td>\n",
       "    </tr>\n",
       "    <tr>\n",
       "      <th>10</th>\n",
       "      <td>rnc_reg_id</td>\n",
       "      <td>24</td>\n",
       "      <td>0.014554</td>\n",
       "    </tr>\n",
       "    <tr>\n",
       "      <th>11</th>\n",
       "      <td>last_name</td>\n",
       "      <td>16</td>\n",
       "      <td>0.009703</td>\n",
       "    </tr>\n",
       "    <tr>\n",
       "      <th>12</th>\n",
       "      <td>fb_ext_id</td>\n",
       "      <td>16</td>\n",
       "      <td>0.009703</td>\n",
       "    </tr>\n",
       "    <tr>\n",
       "      <th>13</th>\n",
       "      <td>aiq_hhid</td>\n",
       "      <td>16</td>\n",
       "      <td>0.009703</td>\n",
       "    </tr>\n",
       "  </tbody>\n",
       "</table>\n",
       "</div>"
      ],
      "text/plain": [
       "       AK Type  Number of Audiences  Percent of All DS Audiences\n",
       "0          cid                  424                     0.257126\n",
       "1        email                   64                     0.038811\n",
       "2          pel                  265                     0.160703\n",
       "3    device_id                  308                     0.186780\n",
       "4          idl                  101                     0.061249\n",
       "5      address                   90                     0.054579\n",
       "6        clink                   62                     0.037599\n",
       "7   generic_id                   73                     0.044269\n",
       "8   first_name                   57                     0.034566\n",
       "9     agile_id                   30                     0.018193\n",
       "10  rnc_reg_id                   24                     0.014554\n",
       "11   last_name                   16                     0.009703\n",
       "12   fb_ext_id                   16                     0.009703\n",
       "13    aiq_hhid                   16                     0.009703"
      ]
     },
     "execution_count": 122,
     "metadata": {},
     "output_type": "execute_result"
    }
   ],
   "source": [
    "# Data Store Audiences, AKs. Note that the AKs in the table below comprise 93% of all DS AKs. \n",
    "# The remaining 7% of AKs are miscellaneous identifiers.\n",
    "ds_other_aks_table\n"
   ]
  },
  {
   "cell_type": "markdown",
   "metadata": {},
   "source": [
    "## AK analysis: Pinless Audiences"
   ]
  },
  {
   "cell_type": "markdown",
   "metadata": {},
   "source": [
    "1) audiences with at least one PINless import: 1073\n",
    "\n",
    "2) audiences that are \"truly\" PINless: 75\n",
    "\n",
    "3) 125 audiences with only PINless imports\n",
    "\n",
    "4) 797 audiences with PINless imports but no fieldless imports, but with imports w/fields and PINs"
   ]
  },
  {
   "cell_type": "markdown",
   "metadata": {
    "nteract": {
     "transient": {
      "deleting": false
     }
    }
   },
   "source": [
    "# Load Libraries, Modules"
   ]
  },
  {
   "cell_type": "code",
   "execution_count": 4,
   "metadata": {
    "code_folding": [],
    "execution": {
     "iopub.execute_input": "2020-05-12T00:18:57.990Z",
     "iopub.status.busy": "2020-05-12T00:18:57.977Z",
     "iopub.status.idle": "2020-05-12T00:18:59.721Z",
     "shell.execute_reply": "2020-05-12T00:18:59.708Z"
    }
   },
   "outputs": [],
   "source": [
    "# import basics\n",
    "\n",
    "from google.cloud import bigquery\n",
    "import pandas as pd\n",
    "import numpy as np\n",
    "import matplotlib.pyplot as plt\n",
    "import matplotlib.patches as mpatches\n",
    "import pandas_gbq\n",
    "import tqdm\n",
    "import datetime\n",
    "pd.set_option('display.max_rows', 500)"
   ]
  },
  {
   "cell_type": "markdown",
   "metadata": {
    "nteract": {
     "transient": {
      "deleting": false
     }
    }
   },
   "source": [
    "# Online audiences vs. Offline audiences"
   ]
  },
  {
   "cell_type": "markdown",
   "metadata": {
    "nteract": {
     "transient": {
      "deleting": false
     }
    }
   },
   "source": [
    "## data wrangling"
   ]
  },
  {
   "cell_type": "markdown",
   "metadata": {
    "nteract": {
     "transient": {
      "deleting": false
     }
    }
   },
   "source": [
    "query all audiences -> enabled, non-FBR"
   ]
  },
  {
   "cell_type": "code",
   "execution_count": 5,
   "metadata": {},
   "outputs": [
    {
     "name": "stdout",
     "output_type": "stream",
     "text": [
      "Last data pull: 2020-07-16 12:50:34.591882\n"
     ]
    },
    {
     "name": "stderr",
     "output_type": "stream",
     "text": [
      "Downloading: 100%|██████████| 21153/21153 [00:04<00:00, 4289.72rows/s]\n"
     ]
    }
   ],
   "source": [
    "sql = \"\"\"\n",
    "SELECT *\n",
    "FROM `corp-bi-us-prod.rldb.liveramp_customer_accounts` \n",
    "WHERE enabled = true AND customer_link_audience = false;\n",
    "\"\"\"\n",
    "x = datetime.datetime.now()\n",
    "print(\"Last data pull:\", x)\n",
    "lcas = pandas_gbq.read_gbq(sql, project_id='liveramp-ts-bigquery')\n"
   ]
  },
  {
   "cell_type": "markdown",
   "metadata": {
    "nteract": {
     "transient": {
      "deleting": false
     }
    }
   },
   "source": [
    "query audience type summary -> enabled, non-FBR"
   ]
  },
  {
   "cell_type": "code",
   "execution_count": 6,
   "metadata": {},
   "outputs": [
    {
     "name": "stdout",
     "output_type": "stream",
     "text": [
      "Last data pull: 2020-07-16 12:50:48.205414\n"
     ]
    },
    {
     "name": "stderr",
     "output_type": "stream",
     "text": [
      "Downloading: 100%|██████████| 9/9 [00:00<00:00, 42.21rows/s]\n"
     ]
    }
   ],
   "source": [
    "sql = \"\"\"\n",
    "SELECT type, count(type) AS type_count\n",
    "FROM `corp-bi-us-prod.rldb.liveramp_customer_accounts` \n",
    "WHERE enabled = true AND customer_link_audience = false\n",
    "GROUP BY type\n",
    "ORDER BY type_count DESC\n",
    "\"\"\"\n",
    "x = datetime.datetime.now()\n",
    "print(\"Last data pull:\", x)\n",
    "aud_sum = pandas_gbq.read_gbq(sql, project_id='liveramp-ts-bigquery')\n"
   ]
  },
  {
   "cell_type": "code",
   "execution_count": 7,
   "metadata": {
    "execution": {
     "iopub.execute_input": "2020-04-30T19:05:46.711Z",
     "iopub.status.busy": "2020-04-30T19:05:46.707Z",
     "iopub.status.idle": "2020-04-30T19:05:46.720Z",
     "shell.execute_reply": "2020-04-30T19:05:46.725Z"
    },
    "jupyter": {
     "outputs_hidden": true
    }
   },
   "outputs": [
    {
     "name": "stdout",
     "output_type": "stream",
     "text": [
      "                             type  type_count\n",
      "0  OfflineLiverampCustomerAccount       15422\n",
      "1   OnlineLiverampCustomerAccount        5125\n",
      "15422\n",
      "5125\n"
     ]
    }
   ],
   "source": [
    "# aud_sum = pd.read_csv('/Users/aschul/Documents/Documents - aschul1118mac/Code_Base/Investigations/20200417_AK_analysis/all_LCAs_summary.csv')\n",
    "print(aud_sum.head(2))\n",
    "\n",
    "offline_audience_count = aud_sum[\"type_count\"][0]\n",
    "online_audience_count = aud_sum[\"type_count\"][1]\n",
    "print(offline_audience_count)\n",
    "print(online_audience_count)"
   ]
  },
  {
   "cell_type": "code",
   "execution_count": 8,
   "metadata": {},
   "outputs": [
    {
     "name": "stdout",
     "output_type": "stream",
     "text": [
      "Total Enabled Audience: 20547\n",
      "offline audience count: 15422\n",
      "online audience count: 5125\n"
     ]
    }
   ],
   "source": [
    "## results\n",
    "\n",
    "print(\"Total Enabled Audience:\", offline_audience_count + online_audience_count)\n",
    "\n",
    "# offline audiences: 15,707 \n",
    "print(\"offline audience count:\", offline_audience_count)\n",
    "\n",
    "# online audiences: 5,117\n",
    "print(\"online audience count:\", online_audience_count)"
   ]
  },
  {
   "cell_type": "markdown",
   "metadata": {},
   "source": [
    "# Data store audiences vs. non-data store audiences"
   ]
  },
  {
   "cell_type": "markdown",
   "metadata": {
    "nteract": {
     "transient": {
      "deleting": false
     }
    }
   },
   "source": [
    "## data wrangling"
   ]
  },
  {
   "cell_type": "markdown",
   "metadata": {
    "nteract": {
     "transient": {
      "deleting": false
     }
    }
   },
   "source": [
    "query all data provider customers -> customer status = enabled"
   ]
  },
  {
   "cell_type": "code",
   "execution_count": 9,
   "metadata": {},
   "outputs": [
    {
     "name": "stdout",
     "output_type": "stream",
     "text": [
      "Last data pull: 2020-07-16 12:50:49.792518\n"
     ]
    },
    {
     "name": "stderr",
     "output_type": "stream",
     "text": [
      "Downloading: 100%|██████████| 839/839 [00:00<00:00, 4286.15rows/s]\n"
     ]
    }
   ],
   "source": [
    "sql = \"\"\"\n",
    "SELECT dms_providers.customer_id\n",
    "FROM `corp-bi-us-prod.rldb.dms_providers` AS dms_providers\n",
    "  INNER JOIN `corp-bi-us-prod.rldb.customers` AS customers\n",
    "    ON dms_providers.customer_id = customers.id\n",
    "WHERE customers.status = 1\n",
    "\"\"\"\n",
    "x = datetime.datetime.now()\n",
    "print(\"Last data pull:\", x)\n",
    "dms_providers = pandas_gbq.read_gbq(sql, project_id='liveramp-ts-bigquery')\n"
   ]
  },
  {
   "cell_type": "code",
   "execution_count": 10,
   "metadata": {},
   "outputs": [
    {
     "data": {
      "text/plain": [
       "839"
      ]
     },
     "execution_count": 10,
     "metadata": {},
     "output_type": "execute_result"
    }
   ],
   "source": [
    "dms_providers[\"customer_id\"].count()"
   ]
  },
  {
   "cell_type": "markdown",
   "metadata": {
    "nteract": {
     "transient": {
      "deleting": false
     }
    }
   },
   "source": [
    "query all data store audiences -> enabled, non-FBR audiences, customer status = enabled"
   ]
  },
  {
   "cell_type": "code",
   "execution_count": 11,
   "metadata": {},
   "outputs": [
    {
     "name": "stdout",
     "output_type": "stream",
     "text": [
      "Last data pull: 2020-07-16 12:50:51.501771\n"
     ]
    },
    {
     "name": "stderr",
     "output_type": "stream",
     "text": [
      "Downloading: 100%|██████████| 1659/1659 [00:00<00:00, 5113.79rows/s]\n"
     ]
    },
    {
     "data": {
      "text/html": [
       "<div>\n",
       "<style scoped>\n",
       "    .dataframe tbody tr th:only-of-type {\n",
       "        vertical-align: middle;\n",
       "    }\n",
       "\n",
       "    .dataframe tbody tr th {\n",
       "        vertical-align: top;\n",
       "    }\n",
       "\n",
       "    .dataframe thead th {\n",
       "        text-align: right;\n",
       "    }\n",
       "</style>\n",
       "<table border=\"1\" class=\"dataframe\">\n",
       "  <thead>\n",
       "    <tr style=\"text-align: right;\">\n",
       "      <th></th>\n",
       "      <th>audience_id</th>\n",
       "      <th>audience_name</th>\n",
       "      <th>customer_name</th>\n",
       "      <th>customer_id</th>\n",
       "      <th>type</th>\n",
       "    </tr>\n",
       "  </thead>\n",
       "  <tbody>\n",
       "    <tr>\n",
       "      <th>0</th>\n",
       "      <td>98099</td>\n",
       "      <td>Epsilon - Evergreen Shelf</td>\n",
       "      <td>Epsilon</td>\n",
       "      <td>576169</td>\n",
       "      <td>OfflineLiverampCustomerAccount</td>\n",
       "    </tr>\n",
       "    <tr>\n",
       "      <th>1</th>\n",
       "      <td>156416</td>\n",
       "      <td>Audience Cloud - Facebook Distros - Old (PUBIDs)</td>\n",
       "      <td>Acxiom Internal</td>\n",
       "      <td>511196</td>\n",
       "      <td>OnlineLiverampCustomerAccount</td>\n",
       "    </tr>\n",
       "    <tr>\n",
       "      <th>2</th>\n",
       "      <td>225489</td>\n",
       "      <td>Ultimate Data</td>\n",
       "      <td>Ultimate Data</td>\n",
       "      <td>560856</td>\n",
       "      <td>OfflineLiverampCustomerAccount</td>\n",
       "    </tr>\n",
       "    <tr>\n",
       "      <th>3</th>\n",
       "      <td>116619</td>\n",
       "      <td>Factual - Data [mobile]</td>\n",
       "      <td>Factual</td>\n",
       "      <td>533129</td>\n",
       "      <td>OnlineLiverampCustomerAccount</td>\n",
       "    </tr>\n",
       "    <tr>\n",
       "      <th>4</th>\n",
       "      <td>156426</td>\n",
       "      <td>Audience Cloud - Twitter Distros</td>\n",
       "      <td>Acxiom Internal</td>\n",
       "      <td>511196</td>\n",
       "      <td>OnlineLiverampCustomerAccount</td>\n",
       "    </tr>\n",
       "    <tr>\n",
       "      <th>...</th>\n",
       "      <td>...</td>\n",
       "      <td>...</td>\n",
       "      <td>...</td>\n",
       "      <td>...</td>\n",
       "      <td>...</td>\n",
       "    </tr>\n",
       "    <tr>\n",
       "      <th>1654</th>\n",
       "      <td>377079</td>\n",
       "      <td>Swoop &gt; Health Relevance Model &gt; 35-54 &gt; some ...</td>\n",
       "      <td>Swoop</td>\n",
       "      <td>508536</td>\n",
       "      <td>OnlineLiverampCustomerAccount</td>\n",
       "    </tr>\n",
       "    <tr>\n",
       "      <th>1655</th>\n",
       "      <td>305029</td>\n",
       "      <td>Eric Catalano - LinkedIn Test Audience</td>\n",
       "      <td>Eric Catalano - Linkedin Test</td>\n",
       "      <td>561569</td>\n",
       "      <td>OnlineLiverampCustomerAccount</td>\n",
       "    </tr>\n",
       "    <tr>\n",
       "      <th>1656</th>\n",
       "      <td>390229</td>\n",
       "      <td>Altice - DDS Onboarding - First Party</td>\n",
       "      <td>Altice</td>\n",
       "      <td>557726</td>\n",
       "      <td>OnlineLiverampCustomerAccount</td>\n",
       "    </tr>\n",
       "    <tr>\n",
       "      <th>1657</th>\n",
       "      <td>385669</td>\n",
       "      <td>Adprime - HCP - Subspecialties 5</td>\n",
       "      <td>Adprime Health</td>\n",
       "      <td>549116</td>\n",
       "      <td>OfflineLiverampCustomerAccount</td>\n",
       "    </tr>\n",
       "    <tr>\n",
       "      <th>1658</th>\n",
       "      <td>274949</td>\n",
       "      <td>MA_social conservative</td>\n",
       "      <td>0ptimus</td>\n",
       "      <td>575329</td>\n",
       "      <td>OfflineLiverampCustomerAccount</td>\n",
       "    </tr>\n",
       "  </tbody>\n",
       "</table>\n",
       "<p>1659 rows × 5 columns</p>\n",
       "</div>"
      ],
      "text/plain": [
       "      audience_id                                      audience_name  \\\n",
       "0           98099                          Epsilon - Evergreen Shelf   \n",
       "1          156416   Audience Cloud - Facebook Distros - Old (PUBIDs)   \n",
       "2          225489                                      Ultimate Data   \n",
       "3          116619                            Factual - Data [mobile]   \n",
       "4          156426                   Audience Cloud - Twitter Distros   \n",
       "...           ...                                                ...   \n",
       "1654       377079  Swoop > Health Relevance Model > 35-54 > some ...   \n",
       "1655       305029             Eric Catalano - LinkedIn Test Audience   \n",
       "1656       390229              Altice - DDS Onboarding - First Party   \n",
       "1657       385669                   Adprime - HCP - Subspecialties 5   \n",
       "1658       274949                             MA_social conservative   \n",
       "\n",
       "                      customer_name  customer_id  \\\n",
       "0                           Epsilon       576169   \n",
       "1                   Acxiom Internal       511196   \n",
       "2                     Ultimate Data       560856   \n",
       "3                           Factual       533129   \n",
       "4                   Acxiom Internal       511196   \n",
       "...                             ...          ...   \n",
       "1654                          Swoop       508536   \n",
       "1655  Eric Catalano - Linkedin Test       561569   \n",
       "1656                         Altice       557726   \n",
       "1657                 Adprime Health       549116   \n",
       "1658                        0ptimus       575329   \n",
       "\n",
       "                                type  \n",
       "0     OfflineLiverampCustomerAccount  \n",
       "1      OnlineLiverampCustomerAccount  \n",
       "2     OfflineLiverampCustomerAccount  \n",
       "3      OnlineLiverampCustomerAccount  \n",
       "4      OnlineLiverampCustomerAccount  \n",
       "...                              ...  \n",
       "1654   OnlineLiverampCustomerAccount  \n",
       "1655   OnlineLiverampCustomerAccount  \n",
       "1656   OnlineLiverampCustomerAccount  \n",
       "1657  OfflineLiverampCustomerAccount  \n",
       "1658  OfflineLiverampCustomerAccount  \n",
       "\n",
       "[1659 rows x 5 columns]"
      ]
     },
     "execution_count": 11,
     "metadata": {},
     "output_type": "execute_result"
    }
   ],
   "source": [
    "sql = \"\"\"\n",
    "SELECT lr_customer_accounts.id AS audience_id, lr_customer_accounts.display_name AS audience_name, customers.name AS customer_name, customers.id AS customer_id, lr_customer_accounts.type\n",
    "FROM `corp-bi-us-prod.rldb.dms_segments` AS dms_segments\n",
    "INNER JOIN `corp-bi-us-prod.rldb.lrc_field_definitions` AS lrc_field_definitions\n",
    "  ON dms_segments.lrc_field_definition_id = lrc_field_definitions.id\n",
    "INNER JOIN `corp-bi-us-prod.rldb.liveramp_customer_accounts` AS lr_customer_accounts\n",
    "  ON lrc_field_definitions.lr_customer_account_id = lr_customer_accounts.id\n",
    "INNER JOIN `corp-bi-us-prod.rldb.customers` AS customers\n",
    "  ON lr_customer_accounts.customer_id = customers.id\n",
    "WHERE lr_customer_accounts.enabled = true AND lr_customer_accounts.customer_link_audience = false AND customers.status = 1\n",
    "GROUP BY lr_customer_accounts.type, lr_customer_accounts.id, lr_customer_accounts.display_name, customers.name, customers.id\n",
    "\"\"\"\n",
    "x = datetime.datetime.now()\n",
    "print(\"Last data pull:\", x)\n",
    "\n",
    "dms_audiences = pandas_gbq.read_gbq(sql, project_id='liveramp-ts-bigquery')\n",
    "dms_audiences"
   ]
  },
  {
   "cell_type": "code",
   "execution_count": 12,
   "metadata": {},
   "outputs": [
    {
     "name": "stdout",
     "output_type": "stream",
     "text": [
      "offline data store audience count: 570\n",
      "online data store audience count: 1089\n"
     ]
    }
   ],
   "source": [
    "DMS_audience_count = dms_audiences.groupby(['type']).count()\n",
    "DMS_offline_audience_count = DMS_audience_count[\"audience_id\"][0]\n",
    "DMS_online_audience_count = DMS_audience_count[\"audience_id\"][1]\n",
    "print(\"offline data store audience count:\", DMS_offline_audience_count)\n",
    "print(\"online data store audience count:\", DMS_online_audience_count)"
   ]
  },
  {
   "cell_type": "code",
   "execution_count": 13,
   "metadata": {},
   "outputs": [
    {
     "name": "stdout",
     "output_type": "stream",
     "text": [
      "Data Provider customers: 839\n",
      "Offline DP audiences: 570\n",
      "Online DP audiences: 1089\n",
      "All DP audience: 1659\n"
     ]
    }
   ],
   "source": [
    "## results\n",
    "print(\"Data Provider customers:\", dms_providers[\"customer_id\"].count())\n",
    "\n",
    "print(\"Offline DP audiences:\", DMS_offline_audience_count)\n",
    "print(\"Online DP audiences:\", DMS_online_audience_count)\n",
    "print(\"All DP audience:\", DMS_offline_audience_count + DMS_online_audience_count)"
   ]
  },
  {
   "cell_type": "markdown",
   "metadata": {
    "nteract": {
     "transient": {
      "deleting": false
     }
    }
   },
   "source": [
    "# Email-only audiences"
   ]
  },
  {
   "cell_type": "code",
   "execution_count": null,
   "metadata": {
    "nteract": {
     "transient": {
      "deleting": false
     }
    }
   },
   "outputs": [],
   "source": []
  },
  {
   "cell_type": "markdown",
   "metadata": {
    "nteract": {
     "transient": {
      "deleting": false
     }
    }
   },
   "source": [
    "## Data wrangling"
   ]
  },
  {
   "cell_type": "markdown",
   "metadata": {
    "nteract": {
     "transient": {
      "deleting": false
     }
    }
   },
   "source": [
    "query all audiences with AK -> enabled, non-FBR audiences, enabled customers"
   ]
  },
  {
   "cell_type": "code",
   "execution_count": 14,
   "metadata": {
    "code_folding": []
   },
   "outputs": [
    {
     "name": "stdout",
     "output_type": "stream",
     "text": [
      "Last data pull: 2020-07-16 12:50:54.133632\n"
     ]
    },
    {
     "name": "stderr",
     "output_type": "stream",
     "text": [
      "Downloading: 100%|██████████| 5662/5662 [00:00<00:00, 8765.93rows/s]\n"
     ]
    }
   ],
   "source": [
    "sql = \"\"\"\n",
    "SELECT\n",
    "  audience_key_labels.id AS ak_id,\n",
    "  liveramp_customer_accounts.id,\n",
    "  audience_key_labels.key_index,\n",
    "  audience_key_labels.label,\n",
    "  liveramp_customer_accounts.customer_id,\n",
    "  liveramp_customer_accounts.display_name,\n",
    "  COUNT(audience_key_labels.id) AS count_AKs\n",
    "FROM\n",
    "  `corp-bi-us-prod.rldb.audience_key_labels` AS audience_key_labels\n",
    "INNER JOIN\n",
    "  `corp-bi-us-prod.rldb.liveramp_customer_accounts` AS liveramp_customer_accounts\n",
    "ON\n",
    "  audience_key_labels.liveramp_customer_account_id = liveramp_customer_accounts.id\n",
    "INNER JOIN\n",
    "  `corp-bi-us-prod.rldb.customers` AS customers\n",
    "ON\n",
    "  liveramp_customer_accounts.customer_id = customers.id\n",
    "WHERE\n",
    "  customers.status = 1\n",
    "  AND liveramp_customer_accounts.enabled = TRUE\n",
    "  AND liveramp_customer_accounts.customer_link_audience = FALSE\n",
    "  AND lower(audience_key_labels.label) LIKE '%email%'\n",
    "  AND audience_key_labels.key_index = 0\n",
    "GROUP BY\n",
    "  liveramp_customer_accounts.id,\n",
    "  liveramp_customer_accounts.display_name,\n",
    "  liveramp_customer_accounts.customer_id,\n",
    "  audience_key_labels.key_index,\n",
    "  ak_id,\n",
    "  audience_key_labels.label\n",
    "HAVING count_AKs = 1\n",
    "\"\"\"\n",
    "x = datetime.datetime.now()\n",
    "print(\"Last data pull:\", x)\n",
    "\n",
    "raw_emails_all_audiences = pandas_gbq.read_gbq(sql, project_id='liveramp-ts-bigquery')\n"
   ]
  },
  {
   "cell_type": "code",
   "execution_count": 15,
   "metadata": {
    "code_folding": [
     1
    ],
    "execution": {
     "iopub.execute_input": "2020-05-01T01:26:05.622Z",
     "iopub.status.busy": "2020-05-01T01:26:05.616Z",
     "iopub.status.idle": "2020-05-01T01:26:05.629Z",
     "shell.execute_reply": "2020-05-01T01:26:05.639Z"
    },
    "jupyter": {
     "outputs_hidden": false,
     "source_hidden": false
    },
    "nteract": {
     "transient": {
      "deleting": false
     }
    },
    "outputExpanded": true
   },
   "outputs": [],
   "source": [
    "# normalize email columns (raw, MD5, SHA1, SHA256)\n",
    "raw_emails_all_audiences[\"label\"].replace({\"Email\":\"email\", \n",
    "                             \"Email1\":\"email\",\n",
    "                             \"Email Address\":\"email\",\n",
    "                             \"EmailAddress\":\"email\", \n",
    "                             \"Emails\":\"email\",\n",
    "                             \"EMAIL\":\"email\",\n",
    "                             \"Email_1\":\"email\",\n",
    "                             \"EmailAddress\":\"email\",\n",
    "                             \"email_address\":\"email\",\n",
    "                             \"EMAIL_ADDRESS\":\"email\",\n",
    "                             \"Email 1\":\"email\",\n",
    "                             \"Email(s)\":\"email\",\n",
    "                             \"email1\":\"email\",\n",
    "                             \"EMAIL_ID\":\"email\",\n",
    "                             \"email1_MD5\":\"MD5\",\n",
    "                             \"emailmd5\":\"MD5\",\n",
    "                             \"profiles.email_address\":\"email\",\n",
    "                             \"EMAIL_ADDR\":\"email\",\n",
    "                             \"SHA256EMAIL1\":\"email\",\n",
    "                             \"email_addr\":\"email\",\n",
    "                             \"MD5EMAIL\":\"MD5\",\n",
    "                             \"EmailAddress\":\"email\",\n",
    "                             \"EMAIL1\":\"email\",\n",
    "                             \"cust_email_addr\":\"email\",\n",
    "                             \"Email_Address\":\"email\",\n",
    "                             \"md5_email\":\"MD5\",\n",
    "                             \"Email_ID\":\"email\",\n",
    "                             \"EMAIL_ADDR_TXT\":\"email\",\n",
    "                             \"emailAddress\":\"email\",\n",
    "                             \"sha1_email\":\"SHA1\",\n",
    "                             \"MD5Email\":\"MD5\",\n",
    "                             \"email_1\":\"email\",\n",
    "                             \"LRI_G_SHA1EMAIL1\":\"SHA1\",\n",
    "                             \"LRI_G_SHA256EMAIL1\":\"SHA256\",\n",
    "                             \"loweremailmd5\":\"MD5\",\n",
    "                             \"email_sha256\":\"SHA256\",\n",
    "                             \"SHA256_EMAIL\":\"SHA256\",\n",
    "                             \"MD5_Email\":\"MD5\",\n",
    "                             \"LRI_DER_SHA256EMAIL1\":\"SHA256\",\n",
    "                             \"email_SHA-1\":\"SHA1\",\n",
    "                             \"sha256email\":\"SHA256\",\n",
    "                             \"email address\":\"email\",\n",
    "                             \"purch_email_addr\":\"email\",\n",
    "                             \"HashedEmail\":\"hashed_email\",\n",
    "                             \"P_EMAIL_ADDRESS\":\"email\",\n",
    "                             \"Member Email Address\":\"email\",\n",
    "                             \"Email Addresses\":\"email\",\n",
    "                             \"email_md5\":\"MD5\",\n",
    "                             \"emails\":\"email\",\n",
    "                             \"Email Hash\":\"hashed_email\",\n",
    "                             \"customer_email\":\"email\",\n",
    "                             \"EMAIL_ADDRESS_\":\"email\",\n",
    "                             \"SHA 256 Email\":\"SHA256\",\n",
    "                             \"EMAILADDRESS\":\"email\",\n",
    "                             \"LRI_DER_SHA1EMAIL1\":\"SHA1\",\n",
    "                             \"email_hash\":\"hashed_email\",\n",
    "                             \"LRI_G_MD5EMAIL1\":\"MD5\",\n",
    "                             \"EMAIL_SHA256\":\"SHA256\",\n",
    "                             \"PII_EMAIL_ADDRESS\":\"email\",\n",
    "                             \"EMail\":\"email\",\n",
    "                             \"Email address\":\"email\",\n",
    "                             \"SHA1_Email\":\"SHA1\",\n",
    "                             \"LRI_DER_MD5EMAIL1\":\"MD5\",\n",
    "                             \"EMAIL_1\":\"email\",\n",
    "                             \"sha256_email\":\"SHA256\",\n",
    "                             \"SHA256EMAIL\":\"SHA256\",\n",
    "                             \"SHA256Email\":\"email\",\n",
    "                             \"emailaddress\":\"email\",\n",
    "                             \"email_id\":\"email\",\n",
    "                             \"SHA1EMAIL\":\"SHA1\",\n",
    "                             \"hashed email\":\"hashed_email\",\n",
    "                             \"SHA256HASHEDEMAIL\":\"SHA256\",\n",
    "                             \"email2\":\"email\",\n",
    "                             \"EMAIL_ADDRESS_1\":\"email\",\n",
    "                             \"md5email\":\"MD5\",\n",
    "                             \"hashedemail\":\"hashed_email\",\n",
    "                             \"EMAIL_HASHED\":\"hashed_email\",\n",
    "                             \"Broker Email\":\"email\",\n",
    "                             \"HASH_MD5_LOWER_EMAIL\":\"MD5\",\n",
    "                             \"profileEmail\":\"email\",\n",
    "                             \"email_Address\":\"email\",\n",
    "                             \"Hashed_Email\":\"hashed_email\",\n",
    "                             \"PER_EMAIL\":\"email\",\n",
    "                             \"Hashed_Email_Address\":\"email\",\n",
    "                             \"Peloton Order Order Email\":\"email\",\n",
    "                             \"EMAIL,FN,LN,,ZIP,CT,PHONE,\":\"email\",\n",
    "                             \"Hashed_Email_ID_Hex\":\"hashed_email\",\n",
    "                             \"#email_lc_md5\":\"MD5\",\n",
    "                             \"MD5_EMAIL\":\"MD5\",\n",
    "                             \"\\EMAIL\\\"\":\"email\",\n",
    "                             \"Customer Email\":\"email\",\n",
    "                             \"CUSTOMERS_SalesOrder_BILLTOLookup::Email\":\"email\",\n",
    "                             \"profile.email\":\"email\",\n",
    "                             \"HASHED_EMAIL\":\"hashed_email\",\n",
    "                             \"sha256email1\":\"SHA256\",\n",
    "                             \"Hashed Email\":\"hashed_email\",\n",
    "                             \"CUST_EMAIL\":\"email\",\n",
    "                             \"SHA256 Email\":\"SHA256\",\n",
    "                             \"email,fn,ln,st,zip,ct,phone,\":\"email\",\n",
    "                             \"best_email\":\"email\",\n",
    "                             \"LRI_G_EMAIL1\":\"email\",\n",
    "                             \"SHA2_EMAIL\":\"SHA2\",\n",
    "                             \"Md5 Email\":\"MD5\",\n",
    "                             \"md5(email1)\":\"MD5\",\n",
    "                             \"master_email\":\"email\",\n",
    "                             \"HASHED_CUST_EMAIL\":\"hashed_email\",\n",
    "                             \"REAL_EMAIL\":\"email\",\n",
    "                             \"email_sha1\":\"SHA1\",\n",
    "                             \"MD5 EMAIL\":\"MD5\",\n",
    "                             \"Email/Email\":\"email\",\n",
    "                             \"hash_email\":\"hashed_email\",\n",
    "                             \"email md5\":\"MD5\",\n",
    "                             \"Email_address\":\"email\",\n",
    "                             \"Email1_SHA-1\":\"SHA1\",\n",
    "                             \"MD5 Hashed Email\":\"MD5\",\n",
    "                             \"EE_EMAIL_ADDRESS\":\"email\",\n",
    "                             \"Email1 Address\":\"email\",\n",
    "                             \"DMD_EMAIL\":\"email\",\n",
    "                             \"QBOVRT_master_email\":\"email\",\n",
    "                             \"lower(b.email_addr_hash_txt)\":\"hashed_email\",\n",
    "                             \"Email1_SHA256\":\"SHA256\",\n",
    "                             \"HashedEmail1\":\"hashed_email\",\n",
    "                             \"CONTACT_EMAIL_ADDR\":\"email\",\n",
    "                             \"Email \":\"email\",\n",
    "                             \"EmailAddressmd5\":\"MD5\",\n",
    "                             \"CONTACT EMAIL\":\"email\",\n",
    "                             \"MD5EMAIL1\":\"MD5\",\n",
    "                             \"MD5email\":\"MD5\",\n",
    "                             \"sha256email\\\",470121,624331,470121,UPHE - Onboarding - Salesforce Data\\\"\":\"SHA256\",\n",
    "                             \"sha256email\\\",287259,579949,28236,Swirl McGarryBowen - Onboarding\\\"\":\"SHA256\",\n",
    "                             \"AX_CUREMAIL_10\":\"email\",\n",
    "                             \"Email \":\"email\",\n",
    "                             \"SHA256_email\":\"SHA256\",\n",
    "                             \"USA_EMAIL\":\"email\",\n",
    "                             \"Right_email\":\"email\",\n",
    "                             \"MDG EMAIL\":\"MD5\",\n",
    "                             \"email3\":\"email\",\n",
    "                             \"sha256email\\\",287259,579949,28236,Swirl McGarryBowen - Onboarding\\\"\":\"SHA256\",\n",
    "                             \"sha256email\\\",470121,624331,470121,UPHE - Onboarding - Salesforce Data\\\"\":\"SHA256\",\n",
    "                             \"email_SHA_256\":\"SHA256\",\n",
    "                             \"hashed_emailId\":\"hashed_email\",\n",
    "                             \"EMAIL_ADDRESS1\":\"email\",\n",
    "                             \"email_adr1\":\"email\",\n",
    "                             \"EmailAddressHash_MD5\":\"MD5\",\n",
    "                             \"LRI_G_email_address\":\"email\",\n",
    "                             \"DANDRVINSON@EMAIL.COM\":\"email\",\n",
    "                             \"user_email\":\"email\",\n",
    "                             \"Email_hashed\":\"hashed_email\",\n",
    "                             \"P_EMAIL\":\"email\",\n",
    "                             \"Hashed email\":\"hashed_email\",\n",
    "                             \"SHA250Email\":\"SHA256\",\n",
    "                             \"sha256email\\\",287259,579949,28236,Swirl McGarryBowen - Onboarding\\\"\":\"SHA256\",\n",
    "                             \"sha256email\\\",470121,624331,470121,UPHE - Onboarding - Salesforce Data\\\"\":\"SHA256\",\n",
    "                             \"Email5\":\"email\",\n",
    "                             \"Orders Customer Email\":\"email\",\n",
    "                             \"Encrypted Email address\":\"hashed_email\",\n",
    "                             \"eMail\":\"email\",\n",
    "                             \"patron_email_addr\":\"email\",\n",
    "                             \"Client_Email\":\"email\",\n",
    "                             \"email_01\":\"email\",\n",
    "                             \"emailhash_md5\":\"MD5\",\n",
    "                             \"Person Account: Email\":\"email\",\n",
    "                             \"Email_Appended\":\"email\",\n",
    "                             \"Email_address_hash\":\"hashed_email\",\n",
    "                             \"sha256email\\\",470121,624331,470121,UPHE - Onboarding - Salesforce Data\\\"\":\"SHA256\",\n",
    "                             \"EMAIL_HASH\":\"hashed_email\",\n",
    "                             \"Email ID\":\"email\",\n",
    "                             \"email_billing\":\"email\",\n",
    "                             \"PRIMARY_EMAIL_ADDRESS\":\"email\",\n",
    "                             \"Opportunity Email\":\"email\",\n",
    "                             \"CnPh_1_01_Email\":\"email\",\n",
    "                             \"MD5_email\":\"MD5\",\n",
    "                             \"email_address_256hash\":\"SHA256\",\n",
    "                             \"EMAIL ADDR\":\"email\",\n",
    "                             \"sha256email\\\",154996,542386,15314,StubHub - Salesforce Onboarding\\\"\":\"SHA256\",\n",
    "                             \"Hash Email\":\"hashed_email\",\n",
    "                             \"prmry_email_addr\":\"email\",\n",
    "                             \"sha256email\\\",248499,508256,24412,Caesars - Salesforce RFP\\\"\":\"SHA256\",\n",
    "                             \"MEMBER_EMAIL\":\"email\",\n",
    "                             \"Sha1_Email\":\"SHA1\",\n",
    "                             \"HASH EMAIL ADDR\":\"hashed_email\",\n",
    "                             \"Sha1_Email\":\"SHA1\",\n",
    "                             \"HASH EMAIL ADDR\":\"hashed_email\",\n",
    "                             \"CUS_EMAIL_ADDRESS\":\"email\",\n",
    "                             \"channels.email.address\":\"email\",\n",
    "                             \"\\Email1\\\"\\\"\":\"email\",\n",
    "                             \"primaryEmail\":\"email\",\n",
    "                             \"sha256email\\\",313789,533849,313789,Audi - Salesforce Imports\\\"\":\"SHA256\",\n",
    "                             \"HASEHD_EMAIL\":\"hashed_email\",\n",
    "                             \"\\Email1\\\"\\\"\":\"email\",\n",
    "                             \"hash email\":\"hashed_email\",\n",
    "                             \"REGI_EMAIL_ADDR\":\"email\",\n",
    "                             \"Customers Email\":\"email\",\n",
    "                             \"email_addres\":\"email\",\n",
    "                             \"sha256email\\\",116909,533639,11536,Weight Watchers - Onboarding\\\"\":\"SHA256\",\n",
    "                             \"EMAIL-sha1\":\"SHA1\",\n",
    "                             \"Email Address 1\":\"email\",\n",
    "                             \"Contact Business Email\":\"email\",\n",
    "                             \"\\Email1\\\"\\\"\":\"email\",\n",
    "                             \"Personal_email\":\"email\",\n",
    "                             \"sha256email\\\",154996,542386,15314,StubHub - Salesforce Onboarding\\\"\":\"SHA256\",\n",
    "                             \"EMAIL_MATCH_ID_1\":\"email\",\n",
    "                             \"MD5 Email\":\"MD5\",\n",
    "                             \"associatedemailaddress\":\"email\",\n",
    "                             \"Email_Hash\":\"hashed_email\",\n",
    "                             \"Email_Hash \":\"hashed_email\",\n",
    "                             \"EMAIL ADDRESS\t\":\"email\",\n",
    "                             \"EMAILADDR\":\"email\",\n",
    "                             \"EMAILADDR \":\"email\",\n",
    "                             \"Contact: Primary Email\":\"email\",\n",
    "                             \"Email Address - Prospects\":\"email\",\n",
    "                             \"sha_email\t\":\"hashed_email\",\n",
    "                             \"sha_email\":\"hashed_email\",\n",
    "                             \"primary_contact_primary_email\":\"email\",\n",
    "                             \"EMAIL_ADDR_1\":\"email\",\n",
    "                             \"Primary_Email_Address\":\"email\",\n",
    "                             \"CUST_EMAIL_ADDR\":\"email\",\n",
    "                             \"AlternateEmail\":\"email\"\n",
    "                            }, inplace = True)                       "
   ]
  },
  {
   "cell_type": "code",
   "execution_count": 16,
   "metadata": {},
   "outputs": [],
   "source": [
    "raw_email_values = pd.DataFrame(raw_emails_all_audiences[\"label\"].value_counts())\n",
    "raw_email_values.head()\n",
    "raw_email_aud_counts = raw_email_values[\"label\"][0]\n",
    "MD5_aud_counts = raw_email_values[\"label\"][1]\n",
    "SHA256_aud_counts = raw_email_values[\"label\"][3]\n",
    "SHA1_aud_counts = raw_email_values[\"label\"][4]"
   ]
  },
  {
   "cell_type": "markdown",
   "metadata": {
    "nteract": {
     "transient": {
      "deleting": false
     }
    }
   },
   "source": [
    "query all audiences with AK like '%email%' -> enabled, non-FBR audiences, enabled customers, data store"
   ]
  },
  {
   "cell_type": "code",
   "execution_count": 17,
   "metadata": {
    "code_folding": []
   },
   "outputs": [
    {
     "name": "stdout",
     "output_type": "stream",
     "text": [
      "Last data pull: 2020-07-16 12:50:56.435718\n"
     ]
    },
    {
     "name": "stderr",
     "output_type": "stream",
     "text": [
      "Downloading: 100%|██████████| 112/112 [00:00<00:00, 512.79rows/s]\n"
     ]
    }
   ],
   "source": [
    "sql = \"\"\"\n",
    "SELECT\n",
    "  audience_key_labels.id AS ak_id,\n",
    "  liveramp_customer_accounts.id,\n",
    "  audience_key_labels.key_index,\n",
    "  audience_key_labels.label,\n",
    "  liveramp_customer_accounts.customer_id,\n",
    "  customers.name,\n",
    "  liveramp_customer_accounts.display_name,\n",
    "  COUNT(audience_key_labels.id) AS count_AKs\n",
    "FROM\n",
    "  `corp-bi-us-prod.rldb.audience_key_labels` AS audience_key_labels\n",
    "INNER JOIN\n",
    "  `corp-bi-us-prod.rldb.liveramp_customer_accounts` AS liveramp_customer_accounts\n",
    "ON\n",
    "  audience_key_labels.liveramp_customer_account_id = liveramp_customer_accounts.id\n",
    "INNER JOIN\n",
    "  `corp-bi-us-prod.rldb.customers` AS customers\n",
    "ON\n",
    "  liveramp_customer_accounts.customer_id = customers.id\n",
    "WHERE\n",
    "  liveramp_customer_accounts.id IN (\n",
    "              SELECT\n",
    "                lr_customer_accounts.id\n",
    "              FROM\n",
    "                `corp-bi-us-prod.rldb.dms_segments` AS dms_segments\n",
    "              INNER JOIN\n",
    "                `corp-bi-us-prod.rldb.lrc_field_definitions` AS lrc_field_definitions\n",
    "              ON\n",
    "                dms_segments.lrc_field_definition_id = lrc_field_definitions.id\n",
    "              INNER JOIN\n",
    "                `corp-bi-us-prod.rldb.liveramp_customer_accounts` AS lr_customer_accounts\n",
    "              ON\n",
    "                lrc_field_definitions.lr_customer_account_id = lr_customer_accounts.id\n",
    "              INNER JOIN\n",
    "                `corp-bi-us-prod.rldb.customers` AS customers\n",
    "              ON\n",
    "                lr_customer_accounts.customer_id = customers.id\n",
    "              WHERE\n",
    "                lr_customer_accounts.enabled = TRUE\n",
    "                AND lr_customer_accounts.customer_link_audience = FALSE\n",
    "                AND customers.status = 1\n",
    "              GROUP BY\n",
    "                lr_customer_accounts.id)\n",
    "  AND customers.status = 1\n",
    "  AND liveramp_customer_accounts.enabled = TRUE\n",
    "  AND liveramp_customer_accounts.customer_link_audience = FALSE\n",
    "  AND LOWER(audience_key_labels.label) LIKE '%email%'\n",
    "  AND audience_key_labels.key_index = 0\n",
    "GROUP BY\n",
    "  liveramp_customer_accounts.id,\n",
    "  liveramp_customer_accounts.display_name,\n",
    "  liveramp_customer_accounts.customer_id,\n",
    "  customers.name,\n",
    "  audience_key_labels.key_index,\n",
    "  ak_id,\n",
    "  audience_key_labels.label\n",
    "HAVING\n",
    "  count_AKs = 1\n",
    "\"\"\"\n",
    "x = datetime.datetime.now()\n",
    "print(\"Last data pull:\", x)\n",
    "\n",
    "raw_emails_DS = pandas_gbq.read_gbq(sql, project_id='liveramp-ts-bigquery')"
   ]
  },
  {
   "cell_type": "code",
   "execution_count": 18,
   "metadata": {
    "code_folding": [
     1
    ],
    "execution": {
     "iopub.execute_input": "2020-05-06T03:06:22.254Z",
     "iopub.status.busy": "2020-05-06T03:06:22.246Z",
     "iopub.status.idle": "2020-05-06T03:06:22.267Z",
     "shell.execute_reply": "2020-05-06T03:06:22.281Z"
    },
    "jupyter": {
     "outputs_hidden": false,
     "source_hidden": false
    },
    "nteract": {
     "transient": {
      "deleting": false
     }
    },
    "outputExpanded": false
   },
   "outputs": [],
   "source": [
    "# normalize email columns (raw, MD5, SHA1, SHA256)\n",
    "raw_emails_DS[\"label\"].replace({\"Email\":\"email\", \n",
    "                             \"Email1\":\"email\",\n",
    "                             \"Email Address\":\"email\",\n",
    "                             \"EmailAddress\":\"email\", \n",
    "                             \"Emails\":\"email\",\n",
    "                             \"EMAIL\":\"email\",\n",
    "                             \"Email_1\":\"email\",\n",
    "                             \"EmailAddress\":\"email\",\n",
    "                             \"email_address\":\"email\",\n",
    "                             \"EMAIL_ADDRESS\":\"email\",\n",
    "                             \"Email 1\":\"email\",\n",
    "                             \"Email(s)\":\"email\",\n",
    "                             \"email1\":\"email\",\n",
    "                             \"EMAIL_ID\":\"email\",\n",
    "                             \"email1_MD5\":\"MD5\",\n",
    "                             \"emailmd5\":\"MD5\",\n",
    "                             \"profiles.email_address\":\"email\",\n",
    "                             \"EMAIL_ADDR\":\"email\",\n",
    "                             \"SHA256EMAIL1\":\"email\",\n",
    "                             \"email_addr\":\"email\",\n",
    "                             \"MD5EMAIL\":\"MD5\",\n",
    "                             \"EmailAddress\":\"email\",\n",
    "                             \"EMAIL1\":\"email\",\n",
    "                             \"cust_email_addr\":\"email\",\n",
    "                             \"Email_Address\":\"email\",\n",
    "                             \"md5_email\":\"MD5\",\n",
    "                             \"Email_ID\":\"email\",\n",
    "                             \"EMAIL_ADDR_TXT\":\"email\",\n",
    "                             \"emailAddress\":\"email\",\n",
    "                             \"sha1_email\":\"SHA1\",\n",
    "                             \"MD5Email\":\"MD5\",\n",
    "                             \"email_1\":\"email\",\n",
    "                             \"LRI_G_SHA1EMAIL1\":\"SHA1\",\n",
    "                             \"LRI_G_SHA256EMAIL1\":\"SHA256\",\n",
    "                             \"loweremailmd5\":\"MD5\",\n",
    "                             \"email_sha256\":\"SHA256\",\n",
    "                             \"SHA256_EMAIL\":\"SHA256\",\n",
    "                             \"MD5_Email\":\"MD5\",\n",
    "                             \"LRI_DER_SHA256EMAIL1\":\"SHA256\",\n",
    "                             \"email_SHA-1\":\"SHA1\",\n",
    "                             \"sha256email\":\"SHA256\",\n",
    "                             \"email address\":\"email\",\n",
    "                             \"purch_email_addr\":\"email\",\n",
    "                             \"HashedEmail\":\"hashed_email\",\n",
    "                             \"P_EMAIL_ADDRESS\":\"email\",\n",
    "                             \"Member Email Address\":\"email\",\n",
    "                             \"Email Addresses\":\"email\",\n",
    "                             \"email_md5\":\"MD5\",\n",
    "                             \"emails\":\"email\",\n",
    "                             \"Email Hash\":\"hashed_email\",\n",
    "                             \"customer_email\":\"email\",\n",
    "                             \"EMAIL_ADDRESS_\":\"email\",\n",
    "                             \"SHA 256 Email\":\"SHA256\",\n",
    "                             \"EMAILADDRESS\":\"email\",\n",
    "                             \"LRI_DER_SHA1EMAIL1\":\"SHA1\",\n",
    "                             \"email_hash\":\"hashed_email\",\n",
    "                             \"LRI_G_MD5EMAIL1\":\"MD5\",\n",
    "                             \"EMAIL_SHA256\":\"SHA256\",\n",
    "                             \"PII_EMAIL_ADDRESS\":\"email\",\n",
    "                             \"EMail\":\"email\",\n",
    "                             \"Email address\":\"email\",\n",
    "                             \"SHA1_Email\":\"SHA1\",\n",
    "                             \"LRI_DER_MD5EMAIL1\":\"MD5\",\n",
    "                             \"EMAIL_1\":\"email\",\n",
    "                             \"sha256_email\":\"SHA256\",\n",
    "                             \"SHA256EMAIL\":\"SHA256\",\n",
    "                             \"SHA256Email\":\"email\",\n",
    "                             \"emailaddress\":\"email\",\n",
    "                             \"email_id\":\"email\",\n",
    "                             \"SHA1EMAIL\":\"SHA1\",\n",
    "                             \"hashed email\":\"hashed_email\",\n",
    "                             \"SHA256HASHEDEMAIL\":\"SHA256\",\n",
    "                             \"email2\":\"email\",\n",
    "                             \"EMAIL_ADDRESS_1\":\"email\",\n",
    "                             \"md5email\":\"MD5\",\n",
    "                             \"hashedemail\":\"hashed_email\",\n",
    "                             \"EMAIL_HASHED\":\"hashed_email\",\n",
    "                             \"Broker Email\":\"email\",\n",
    "                             \"HASH_MD5_LOWER_EMAIL\":\"MD5\",\n",
    "                             \"profileEmail\":\"email\",\n",
    "                             \"email_Address\":\"email\",\n",
    "                             \"Hashed_Email\":\"hashed_email\",\n",
    "                             \"PER_EMAIL\":\"email\",\n",
    "                             \"Hashed_Email_Address\":\"email\",\n",
    "                             \"Peloton Order Order Email\":\"email\",\n",
    "                             \"EMAIL,FN,LN,,ZIP,CT,PHONE,\":\"email\",\n",
    "                             \"Hashed_Email_ID_Hex\":\"hashed_email\",\n",
    "                             \"#email_lc_md5\":\"MD5\",\n",
    "                             \"MD5_EMAIL\":\"MD5\",\n",
    "                             \"\\EMAIL\\\"\":\"email\",\n",
    "                             \"Customer Email\":\"email\",\n",
    "                             \"CUSTOMERS_SalesOrder_BILLTOLookup::Email\":\"email\",\n",
    "                             \"profile.email\":\"email\",\n",
    "                             \"HASHED_EMAIL\":\"hashed_email\",\n",
    "                             \"sha256email1\":\"SHA256\",\n",
    "                             \"Hashed Email\":\"hashed_email\",\n",
    "                             \"CUST_EMAIL\":\"email\",\n",
    "                             \"SHA256 Email\":\"SHA256\",\n",
    "                             \"email,fn,ln,st,zip,ct,phone,\":\"email\",\n",
    "                             \"best_email\":\"email\",\n",
    "                             \"LRI_G_EMAIL1\":\"email\",\n",
    "                             \"SHA2_EMAIL\":\"SHA2\",\n",
    "                             \"Md5 Email\":\"MD5\",\n",
    "                             \"md5(email1)\":\"MD5\",\n",
    "                             \"master_email\":\"email\",\n",
    "                             \"HASHED_CUST_EMAIL\":\"hashed_email\",\n",
    "                             \"REAL_EMAIL\":\"email\",\n",
    "                             \"email_sha1\":\"SHA1\",\n",
    "                             \"MD5 EMAIL\":\"MD5\",\n",
    "                             \"Email/Email\":\"email\",\n",
    "                             \"hash_email\":\"hashed_email\",\n",
    "                             \"email md5\":\"MD5\",\n",
    "                             \"Email_address\":\"email\",\n",
    "                             \"Email1_SHA-1\":\"SHA1\",\n",
    "                             \"MD5 Hashed Email\":\"MD5\",\n",
    "                             \"EE_EMAIL_ADDRESS\":\"email\",\n",
    "                             \"Email1 Address\":\"email\",\n",
    "                             \"DMD_EMAIL\":\"email\",\n",
    "                             \"QBOVRT_master_email\":\"email\",\n",
    "                             \"lower(b.email_addr_hash_txt)\":\"hashed_email\",\n",
    "                             \"Email1_SHA256\":\"SHA256\",\n",
    "                             \"HashedEmail1\":\"hashed_email\",\n",
    "                             \"CONTACT_EMAIL_ADDR\":\"email\",\n",
    "                             \"Email \":\"email\",\n",
    "                             \"EmailAddressmd5\":\"MD5\",\n",
    "                             \"CONTACT EMAIL\":\"email\",\n",
    "                             \"MD5EMAIL1\":\"MD5\",\n",
    "                             \"MD5email\":\"MD5\",\n",
    "                             \"sha256email\\\",470121,624331,470121,UPHE - Onboarding - Salesforce Data\\\"\":\"SHA256\",\n",
    "                             \"sha256email\\\",287259,579949,28236,Swirl McGarryBowen - Onboarding\\\"\":\"SHA256\",\n",
    "                             \"AX_CUREMAIL_10\":\"email\",\n",
    "                             \"Email \":\"email\",\n",
    "                             \"SHA256_email\":\"SHA256\",\n",
    "                             \"USA_EMAIL\":\"email\",\n",
    "                             \"Right_email\":\"email\",\n",
    "                             \"MDG EMAIL\":\"MD5\",\n",
    "                             \"email3\":\"email\",\n",
    "                             \"sha256email\\\",287259,579949,28236,Swirl McGarryBowen - Onboarding\\\"\":\"SHA256\",\n",
    "                             \"sha256email\\\",470121,624331,470121,UPHE - Onboarding - Salesforce Data\\\"\":\"SHA256\",\n",
    "                             \"email_SHA_256\":\"SHA256\",\n",
    "                             \"hashed_emailId\":\"hashed_email\",\n",
    "                             \"EMAIL_ADDRESS1\":\"email\",\n",
    "                             \"email_adr1\":\"email\",\n",
    "                             \"EmailAddressHash_MD5\":\"MD5\",\n",
    "                             \"LRI_G_email_address\":\"email\",\n",
    "                             \"DANDRVINSON@EMAIL.COM\":\"email\",\n",
    "                             \"user_email\":\"email\",\n",
    "                             \"Email_hashed\":\"hashed_email\",\n",
    "                             \"P_EMAIL\":\"email\",\n",
    "                             \"Hashed email\":\"hashed_email\",\n",
    "                             \"SHA250Email\":\"SHA256\",\n",
    "                             \"sha256email\\\",287259,579949,28236,Swirl McGarryBowen - Onboarding\\\"\":\"SHA256\",\n",
    "                             \"sha256email\\\",470121,624331,470121,UPHE - Onboarding - Salesforce Data\\\"\":\"SHA256\",\n",
    "                             \"Email5\":\"email\",\n",
    "                             \"Orders Customer Email\":\"email\",\n",
    "                             \"Encrypted Email address\":\"hashed_email\",\n",
    "                             \"eMail\":\"email\",\n",
    "                             \"patron_email_addr\":\"email\",\n",
    "                             \"Client_Email\":\"email\",\n",
    "                             \"email_01\":\"email\",\n",
    "                             \"emailhash_md5\":\"MD5\",\n",
    "                             \"Person Account: Email\":\"email\",\n",
    "                             \"Email_Appended\":\"email\",\n",
    "                             \"Email_address_hash\":\"hashed_email\",\n",
    "                             \"sha256email\\\",470121,624331,470121,UPHE - Onboarding - Salesforce Data\\\"\":\"SHA256\",\n",
    "                             \"EMAIL_HASH\":\"hashed_email\",\n",
    "                             \"Email ID\":\"email\",\n",
    "                             \"email_billing\":\"email\",\n",
    "                             \"PRIMARY_EMAIL_ADDRESS\":\"email\",\n",
    "                             \"Opportunity Email\":\"email\",\n",
    "                             \"CnPh_1_01_Email\":\"email\",\n",
    "                             \"MD5_email\":\"MD5\",\n",
    "                             \"email_address_256hash\":\"SHA256\",\n",
    "                             \"EMAIL ADDR\":\"email\",\n",
    "                             \"sha256email\\\",154996,542386,15314,StubHub - Salesforce Onboarding\\\"\":\"SHA256\",\n",
    "                             \"Hash Email\":\"hashed_email\",\n",
    "                             \"prmry_email_addr\":\"email\",\n",
    "                             \"sha256email\\\",248499,508256,24412,Caesars - Salesforce RFP\\\"\":\"SHA256\",\n",
    "                             \"MEMBER_EMAIL\":\"email\",\n",
    "                             \"Sha1_Email\":\"SHA1\",\n",
    "                             \"HASH EMAIL ADDR\":\"hashed_email\",\n",
    "                             \"Sha1_Email\":\"SHA1\",\n",
    "                             \"HASH EMAIL ADDR\":\"hashed_email\",\n",
    "                             \"CUS_EMAIL_ADDRESS\":\"email\",\n",
    "                             \"channels.email.address\":\"email\",\n",
    "                             \"\\Email1\\\"\\\"\":\"email\",\n",
    "                             \"primaryEmail\":\"email\",\n",
    "                             \"sha256email\\\",313789,533849,313789,Audi - Salesforce Imports\\\"\":\"SHA256\",\n",
    "                             \"HASEHD_EMAIL\":\"hashed_email\",\n",
    "                             \"\\Email1\\\"\\\"\":\"email\",\n",
    "                             \"hash email\":\"hashed_email\",\n",
    "                             \"REGI_EMAIL_ADDR\":\"email\",\n",
    "                             \"Customers Email\":\"email\",\n",
    "                             \"email_addres\":\"email\",\n",
    "                             \"sha256email\\\",116909,533639,11536,Weight Watchers - Onboarding\\\"\":\"SHA256\",\n",
    "                             \"EMAIL-sha1\":\"SHA1\",\n",
    "                             \"Email Address 1\":\"email\",\n",
    "                             \"Contact Business Email\":\"email\",\n",
    "                             \"\\Email1\\\"\\\"\":\"email\",\n",
    "                             \"Personal_email\":\"email\",\n",
    "                             \"sha256email\\\",154996,542386,15314,StubHub - Salesforce Onboarding\\\"\":\"SHA256\",\n",
    "                             \"EMAIL_MATCH_ID_1\":\"email\",\n",
    "                             \"MD5 Email\":\"MD5\",\n",
    "                             \"associatedemailaddress\":\"email\",\n",
    "                             \"Email_Hash\":\"hashed_email\",\n",
    "                             \"Email_Hash \":\"hashed_email\",\n",
    "                             \"EMAIL ADDRESS\t\":\"email\",\n",
    "                             \"EMAILADDR\":\"email\",\n",
    "                             \"EMAILADDR \":\"email\",\n",
    "                             \"Contact: Primary Email\":\"email\",\n",
    "                             \"Email Address - Prospects\":\"email\",\n",
    "                             \"sha_email\t\":\"hashed_email\",\n",
    "                             \"sha_email\":\"hashed_email\",\n",
    "                             \"primary_contact_primary_email\":\"email\",\n",
    "                             \"EMAIL_ADDR_1\":\"email\",\n",
    "                             \"Primary_Email_Address\":\"email\",\n",
    "                             \"CUST_EMAIL_ADDR\":\"email\",\n",
    "                             \"AlternateEmail\":\"email\",\n",
    "                             \"PERSONEMAIL\":\"email\",\n",
    "                             \"email_address_01\":\"email\"\n",
    "                            }, inplace = True) "
   ]
  },
  {
   "cell_type": "code",
   "execution_count": 19,
   "metadata": {},
   "outputs": [
    {
     "name": "stdout",
     "output_type": "stream",
     "text": [
      "raw email audiences: 82\n",
      "MD5 email: 15\n",
      "SHA256: 6\n",
      "SHA1: 8\n"
     ]
    }
   ],
   "source": [
    "raw_emails_DS_values = pd.DataFrame(raw_emails_DS[\"label\"].value_counts())\n",
    "raw_emails_DS_values\n",
    "\n",
    "raw_email_DS_aud_counts = raw_emails_DS_values[\"label\"][0]\n",
    "MD5_DS_aud_counts = raw_emails_DS_values[\"label\"][1]\n",
    "SHA256_DS_aud_counts = raw_emails_DS_values[\"label\"][3]\n",
    "SHA1_DS_aud_counts = raw_emails_DS_values[\"label\"][2]\n",
    "print(\"raw email audiences:\", raw_email_DS_aud_counts)\n",
    "print(\"MD5 email:\", MD5_DS_aud_counts)\n",
    "print(\"SHA256:\", SHA256_DS_aud_counts)\n",
    "print(\"SHA1:\", SHA1_DS_aud_counts)"
   ]
  },
  {
   "cell_type": "code",
   "execution_count": 20,
   "metadata": {},
   "outputs": [
    {
     "name": "stdout",
     "output_type": "stream",
     "text": [
      "All audiences, count w/email as AK\n",
      "Raw email: 5337\n",
      "Hashed email: 192\n",
      "Hashed email breakdown \n",
      " MD5 email: 109\n",
      "SHA256 email: 51\n",
      "SHA1 email: 32 \n",
      "\n",
      "Non-DS audiences, count w/email as AK\n",
      "Raw email: 5255\n",
      "MD5 email: 94\n",
      "SHA256: 45\n",
      "SHA1: 24 \n",
      "\n",
      "DS Audience counts w/emails as AK\n",
      "raw email audiences: 82\n",
      "MD5 email: 15\n",
      "SHA256: 6\n",
      "SHA1: 8\n"
     ]
    }
   ],
   "source": [
    "print(\"All audiences, count w/email as AK\")\n",
    "print(\"Raw email:\", raw_email_aud_counts)\n",
    "print(\"Hashed email:\", MD5_aud_counts + SHA256_aud_counts + SHA1_aud_counts)\n",
    "print(\"Hashed email breakdown \\n MD5 email:\", MD5_aud_counts)\n",
    "print(\"SHA256 email:\", SHA256_aud_counts)\n",
    "print(\"SHA1 email:\", SHA1_aud_counts, \"\\n\")\n",
    "\n",
    "print(\"Non-DS audiences, count w/email as AK\")\n",
    "print(\"Raw email:\", raw_email_aud_counts - raw_email_DS_aud_counts)\n",
    "print(\"MD5 email:\", MD5_aud_counts - MD5_DS_aud_counts)\n",
    "print(\"SHA256:\", SHA256_aud_counts - SHA256_DS_aud_counts)\n",
    "print(\"SHA1:\", SHA1_aud_counts - SHA1_DS_aud_counts, \"\\n\")\n",
    "\n",
    "print(\"DS Audience counts w/emails as AK\")\n",
    "print(\"raw email audiences:\", raw_email_DS_aud_counts)\n",
    "print(\"MD5 email:\", MD5_DS_aud_counts)\n",
    "print(\"SHA256:\", SHA256_DS_aud_counts)\n",
    "print(\"SHA1:\", SHA1_DS_aud_counts)"
   ]
  },
  {
   "cell_type": "markdown",
   "metadata": {
    "nteract": {
     "transient": {
      "deleting": false
     }
    }
   },
   "source": [
    "# CID-only audiences "
   ]
  },
  {
   "cell_type": "markdown",
   "metadata": {
    "nteract": {
     "transient": {
      "deleting": false
     }
    }
   },
   "source": [
    "query all audiences with AK like '%id%' -> enabled, non-FBR audiences, enabled customers, not like: aaid, IDFA, cookie, device id, email, pel, identity_link, idl, liveramp, LR ID 1, LRID, MAID, mobile, order_id, PELID\n",
    "\n",
    "CID definition methodology: after combing through AK labels strings that match AK like '%id%', IDs that do not resemble CIDs were removed. This analysis thus treats a CID as a synthetic identifier distinguished from IDLs/PELs, cookies, and device IDs."
   ]
  },
  {
   "cell_type": "code",
   "execution_count": 21,
   "metadata": {},
   "outputs": [
    {
     "name": "stdout",
     "output_type": "stream",
     "text": [
      "Last data pull: 2020-07-16 12:50:58.895545\n"
     ]
    },
    {
     "name": "stderr",
     "output_type": "stream",
     "text": [
      "Downloading: 100%|██████████| 5840/5840 [00:00<00:00, 12187.43rows/s]\n"
     ]
    }
   ],
   "source": [
    "sql = \"\"\"\n",
    "SELECT\n",
    "  liveramp_customer_accounts.id AS audience_id,\n",
    "  customers.id AS cust_id, \n",
    "  audience_key_labels.key_index,\n",
    "  lower(audience_key_labels.label) AS aks,\n",
    "  COUNT(audience_key_labels.id) AS count_aks\n",
    "FROM\n",
    "  `corp-bi-us-prod.rldb.audience_key_labels` AS audience_key_labels\n",
    "INNER JOIN\n",
    "  `corp-bi-us-prod.rldb.liveramp_customer_accounts` AS liveramp_customer_accounts\n",
    "ON\n",
    "  audience_key_labels.liveramp_customer_account_id = liveramp_customer_accounts.id\n",
    "INNER JOIN\n",
    "  `corp-bi-us-prod.rldb.customers` AS customers\n",
    "ON\n",
    "  liveramp_customer_accounts.customer_id = customers.id\n",
    "WHERE\n",
    "  audience_key_labels.key_index = 0\n",
    "  AND lower(audience_key_labels.label) LIKE '%id%'\n",
    "  AND lower(audience_key_labels.label) NOT LIKE '%aaid%'\n",
    "  AND lower(audience_key_labels.label) NOT LIKE '%idfa%'\n",
    "  AND lower(audience_key_labels.label) NOT LIKE '%cookie%'\n",
    "  AND lower(audience_key_labels.label) NOT LIKE '%device id%'\n",
    "  AND lower(audience_key_labels.label) NOT LIKE '%device_id%'\n",
    "  AND lower(audience_key_labels.label) NOT LIKE '%device%'\n",
    "  AND lower(audience_key_labels.label) NOT LIKE '%email%'\n",
    "  AND lower(audience_key_labels.label) NOT LIKE '%pel%'\n",
    "  AND lower(audience_key_labels.label) NOT LIKE '%identity_link%'\n",
    "  AND lower(audience_key_labels.label) NOT LIKE '%idl%'\n",
    "  AND lower(audience_key_labels.label) NOT LIKE '%liveramp%'\n",
    "  AND lower(audience_key_labels.label) NOT LIKE '%lr id 1%'\n",
    "  AND lower(audience_key_labels.label) NOT LIKE '%lrid%'\n",
    "  AND lower(audience_key_labels.label) NOT LIKE '%maid%'\n",
    "  AND lower(audience_key_labels.label) NOT LIKE '%mobile%'\n",
    "  AND lower(audience_key_labels.label) NOT LIKE '%order_id%'\n",
    "  AND lower(audience_key_labels.label) NOT LIKE '%pelid%'\n",
    "  AND lower(audience_key_labels.label) NOT LIKE '%fb_ext_id%'\n",
    "  AND lower(audience_key_labels.label) NOT LIKE '%identitylink%'\n",
    "  AND lower(audience_key_labels.label) NOT LIKE '%muid%'\n",
    "  AND lower(audience_key_labels.label) NOT LIKE '%abilitec%'\n",
    "  AND lower(audience_key_labels.label) NOT LIKE '%acxiom_id%'\n",
    "  AND lower(audience_key_labels.label) NOT LIKE '%extern_id%'\n",
    "  AND lower(audience_key_labels.label) NOT LIKE '%cnsmr_link_id%'\n",
    "  AND lower(audience_key_labels.label) NOT LIKE '%ttd_android%'\n",
    "  AND customers.status = 1\n",
    "  AND liveramp_customer_accounts.enabled = TRUE\n",
    "  AND liveramp_customer_accounts.customer_link_audience = FALSE\n",
    "  AND audience_key_labels.key_index = 0\n",
    "GROUP BY\n",
    "  1, 2, 3, 4\n",
    "HAVING\n",
    "  COUNT(audience_key_labels.id) = 1\n",
    "\"\"\"\n",
    "x = datetime.datetime.now()\n",
    "print(\"Last data pull:\", x)\n",
    "\n",
    "CIDs_all_audiences = pandas_gbq.read_gbq(sql, project_id='liveramp-ts-bigquery')"
   ]
  },
  {
   "cell_type": "code",
   "execution_count": 22,
   "metadata": {},
   "outputs": [
    {
     "name": "stdout",
     "output_type": "stream",
     "text": [
      "Last data pull: 2020-07-16 12:51:00.642841\n"
     ]
    },
    {
     "name": "stderr",
     "output_type": "stream",
     "text": [
      "Downloading: 100%|██████████| 9/9 [00:00<00:00, 49.62rows/s]\n"
     ]
    }
   ],
   "source": [
    "sql = \"\"\"\n",
    "WITH\n",
    "  DATA AS (\n",
    "  SELECT\n",
    "    liveramp_customer_accounts.id AS audience_id,\n",
    "    customers.id AS cust_id,\n",
    "    audience_key_labels.key_index,\n",
    "    LOWER(audience_key_labels.label) AS aks,\n",
    "    COUNT(audience_key_labels.id) AS count_aks\n",
    "  FROM\n",
    "    `corp-bi-us-prod.rldb.audience_key_labels` AS audience_key_labels\n",
    "  INNER JOIN\n",
    "    `corp-bi-us-prod.rldb.liveramp_customer_accounts` AS liveramp_customer_accounts\n",
    "  ON\n",
    "    audience_key_labels.liveramp_customer_account_id = liveramp_customer_accounts.id\n",
    "  INNER JOIN\n",
    "    `corp-bi-us-prod.rldb.customers` AS customers\n",
    "  ON\n",
    "    liveramp_customer_accounts.customer_id = customers.id\n",
    "  WHERE\n",
    "    audience_key_labels.key_index = 0\n",
    "    AND LOWER(audience_key_labels.label) LIKE '%id%'\n",
    "    AND LOWER(audience_key_labels.label) NOT LIKE '%aaid%'\n",
    "    AND LOWER(audience_key_labels.label) NOT LIKE '%idfa%'\n",
    "    AND LOWER(audience_key_labels.label) NOT LIKE '%cookie%'\n",
    "    AND LOWER(audience_key_labels.label) NOT LIKE '%device id%'\n",
    "    AND LOWER(audience_key_labels.label) NOT LIKE '%device_id%'\n",
    "    AND LOWER(audience_key_labels.label) NOT LIKE '%device%'\n",
    "    AND LOWER(audience_key_labels.label) NOT LIKE '%email%'\n",
    "    AND LOWER(audience_key_labels.label) NOT LIKE '%pel%'\n",
    "    AND LOWER(audience_key_labels.label) NOT LIKE '%identity_link%'\n",
    "    AND LOWER(audience_key_labels.label) NOT LIKE '%idl%'\n",
    "    AND LOWER(audience_key_labels.label) NOT LIKE '%liveramp%'\n",
    "    AND LOWER(audience_key_labels.label) NOT LIKE '%lr id 1%'\n",
    "    AND LOWER(audience_key_labels.label) NOT LIKE '%lrid%'\n",
    "    AND LOWER(audience_key_labels.label) NOT LIKE '%maid%'\n",
    "    AND LOWER(audience_key_labels.label) NOT LIKE '%mobile%'\n",
    "    AND LOWER(audience_key_labels.label) NOT LIKE '%order_id%'\n",
    "    AND LOWER(audience_key_labels.label) NOT LIKE '%pelid%'\n",
    "    AND LOWER(audience_key_labels.label) NOT LIKE '%fb_ext_id%'\n",
    "    AND LOWER(audience_key_labels.label) NOT LIKE '%identitylink%'\n",
    "    AND LOWER(audience_key_labels.label) NOT LIKE '%muid%'\n",
    "    AND LOWER(audience_key_labels.label) NOT LIKE '%abilitec%'\n",
    "    AND LOWER(audience_key_labels.label) NOT LIKE '%acxiom_id%'\n",
    "    AND LOWER(audience_key_labels.label) NOT LIKE '%extern_id%'\n",
    "    AND LOWER(audience_key_labels.label) NOT LIKE '%cnsmr_link_id%'\n",
    "    AND LOWER(audience_key_labels.label) NOT LIKE '%ttd_android%'\n",
    "    AND customers.status = 1\n",
    "    AND liveramp_customer_accounts.enabled = TRUE\n",
    "    AND liveramp_customer_accounts.customer_link_audience = FALSE\n",
    "    AND audience_key_labels.key_index = 0\n",
    "  GROUP BY\n",
    "    1,\n",
    "    2,\n",
    "    3,\n",
    "    4\n",
    "  HAVING\n",
    "    COUNT(audience_key_labels.id) = 1)\n",
    "SELECT\n",
    "  liveramp_customer_accounts.type, \n",
    "  COUNT(liveramp_customer_accounts.type) AS type_count\n",
    "FROM\n",
    "  DATA\n",
    "INNER JOIN\n",
    "  `corp-bi-us-prod.rldb.liveramp_customer_accounts` AS liveramp_customer_accounts\n",
    "ON\n",
    "  audience_id = liveramp_customer_accounts.id\n",
    "GROUP BY liveramp_customer_accounts.type\n",
    "\"\"\"\n",
    "x = datetime.datetime.now()\n",
    "print(\"Last data pull:\", x)\n",
    "\n",
    "CIDs_aud_types = pandas_gbq.read_gbq(sql, project_id='liveramp-ts-bigquery')\n",
    "CID_offline = CIDs_aud_types[\"type_count\"][0]\n",
    "CID_online = CIDs_aud_types[\"type_count\"][1]"
   ]
  },
  {
   "cell_type": "code",
   "execution_count": 23,
   "metadata": {
    "execution": {
     "iopub.execute_input": "2020-05-07T01:27:47.353Z",
     "iopub.status.busy": "2020-05-07T01:27:47.344Z",
     "iopub.status.idle": "2020-05-07T01:27:47.367Z",
     "shell.execute_reply": "2020-05-07T01:27:47.377Z"
    },
    "jupyter": {
     "outputs_hidden": false,
     "source_hidden": false
    },
    "nteract": {
     "transient": {
      "deleting": false
     }
    },
    "outputExpanded": false
   },
   "outputs": [],
   "source": [
    "CID_values = pd.DataFrame(CIDs_all_audiences[\"aks\"].value_counts())"
   ]
  },
  {
   "cell_type": "code",
   "execution_count": 24,
   "metadata": {
    "execution": {
     "iopub.execute_input": "2020-05-07T01:28:15.703Z",
     "iopub.status.busy": "2020-05-07T01:28:15.692Z",
     "iopub.status.idle": "2020-05-07T01:28:15.723Z",
     "shell.execute_reply": "2020-05-07T01:28:15.731Z"
    },
    "jupyter": {
     "outputs_hidden": false,
     "source_hidden": false
    },
    "nteract": {
     "transient": {
      "deleting": false
     }
    },
    "outputExpanded": false
   },
   "outputs": [
    {
     "data": {
      "text/plain": [
       "customer id                                                               607\n",
       "client customer id                                                        559\n",
       "customerid                                                                400\n",
       "id                                                                        357\n",
       "customer_id                                                               308\n",
       "                                                                         ... \n",
       "id number                                                                   1\n",
       "xi1005wnkd1sli0qnmbhcg0u7ly3l4iphueml9eassc58bglagz2rluf7liid7gpjv5tvq      1\n",
       "mmids                                                                       1\n",
       "advertising_identifier                                                      1\n",
       "quote_id                                                                    1\n",
       "Name: aks, Length: 675, dtype: int64"
      ]
     },
     "execution_count": 24,
     "metadata": {},
     "output_type": "execute_result"
    }
   ],
   "source": [
    "CID_values[\"aks\"]"
   ]
  },
  {
   "cell_type": "markdown",
   "metadata": {
    "nteract": {
     "transient": {
      "deleting": false
     }
    }
   },
   "source": [
    "query all audiences with AK like '%ID%' -> enabled, non-FBR audiences, enabled customers, data store"
   ]
  },
  {
   "cell_type": "code",
   "execution_count": 25,
   "metadata": {},
   "outputs": [
    {
     "name": "stdout",
     "output_type": "stream",
     "text": [
      "Last data pull: 2020-07-16 12:51:02.458858\n"
     ]
    },
    {
     "name": "stderr",
     "output_type": "stream",
     "text": [
      "Downloading: 100%|██████████| 244/244 [00:00<00:00, 647.78rows/s]\n"
     ]
    }
   ],
   "source": [
    "sql = \"\"\"\n",
    "SELECT\n",
    "  liveramp_customer_accounts.id AS audience_id,\n",
    "  customers.id AS cust_id, \n",
    "  audience_key_labels.key_index AS key_index,\n",
    "  lower(audience_key_labels.label) AS label,\n",
    "  COUNT(audience_key_labels.id) AS count_AK\n",
    "FROM\n",
    "  `corp-bi-us-prod.rldb.audience_key_labels` AS audience_key_labels\n",
    "INNER JOIN\n",
    "  `corp-bi-us-prod.rldb.liveramp_customer_accounts` AS liveramp_customer_accounts\n",
    "ON\n",
    "  audience_key_labels.liveramp_customer_account_id = liveramp_customer_accounts.id\n",
    "INNER JOIN\n",
    "  `corp-bi-us-prod.rldb.customers` AS customers\n",
    "ON\n",
    "  liveramp_customer_accounts.customer_id = customers.id\n",
    "WHERE\n",
    "liveramp_customer_accounts.id IN (\n",
    "              SELECT\n",
    "                lr_customer_accounts.id\n",
    "              FROM\n",
    "                `corp-bi-us-prod.rldb.dms_segments` AS dms_segments\n",
    "              INNER JOIN\n",
    "                `corp-bi-us-prod.rldb.lrc_field_definitions` AS lrc_field_definitions\n",
    "              ON\n",
    "                dms_segments.lrc_field_definition_id = lrc_field_definitions.id\n",
    "              INNER JOIN\n",
    "                `corp-bi-us-prod.rldb.liveramp_customer_accounts` AS lr_customer_accounts\n",
    "              ON\n",
    "                lrc_field_definitions.lr_customer_account_id = lr_customer_accounts.id\n",
    "              INNER JOIN\n",
    "                `corp-bi-us-prod.rldb.customers` AS customers\n",
    "              ON\n",
    "                lr_customer_accounts.customer_id = customers.id\n",
    "              WHERE\n",
    "                lr_customer_accounts.enabled = TRUE\n",
    "                AND lr_customer_accounts.customer_link_audience = FALSE\n",
    "                AND customers.status = 1\n",
    "              GROUP BY\n",
    "                lr_customer_accounts.id) \n",
    "  AND \n",
    "  audience_key_labels.key_index = 0\n",
    "  AND lower(audience_key_labels.label) LIKE '%id%'\n",
    "  AND lower(audience_key_labels.label) NOT LIKE '%aaid%'\n",
    "  AND lower(audience_key_labels.label) NOT LIKE '%idfa%'\n",
    "  AND lower(audience_key_labels.label) NOT LIKE '%cookie%'\n",
    "  AND lower(audience_key_labels.label) NOT LIKE '%device id%'\n",
    "  AND lower(audience_key_labels.label) NOT LIKE '%device_id%'\n",
    "  AND lower(audience_key_labels.label) NOT LIKE '%device%'\n",
    "  AND lower(audience_key_labels.label) NOT LIKE '%email%'\n",
    "  AND lower(audience_key_labels.label) NOT LIKE '%pel%'\n",
    "  AND lower(audience_key_labels.label) NOT LIKE '%identity_link%'\n",
    "  AND lower(audience_key_labels.label) NOT LIKE '%idl%'\n",
    "  AND lower(audience_key_labels.label) NOT LIKE '%liveramp%'\n",
    "  AND lower(audience_key_labels.label) NOT LIKE '%lr id 1%'\n",
    "  AND lower(audience_key_labels.label) NOT LIKE '%lrid%'\n",
    "  AND lower(audience_key_labels.label) NOT LIKE '%maid%'\n",
    "  AND lower(audience_key_labels.label) NOT LIKE '%mobile%'\n",
    "  AND lower(audience_key_labels.label) NOT LIKE '%order_id%'\n",
    "  AND lower(audience_key_labels.label) NOT LIKE '%pelid%'\n",
    "  AND lower(audience_key_labels.label) NOT LIKE '%fb_ext_id%'\n",
    "  AND lower(audience_key_labels.label) NOT LIKE '%identitylink%'\n",
    "  AND lower(audience_key_labels.label) NOT LIKE '%muid%'\n",
    "  AND lower(audience_key_labels.label) NOT LIKE '%abilitec%'\n",
    "  AND lower(audience_key_labels.label) NOT LIKE '%acxiom_id%'\n",
    "  AND lower(audience_key_labels.label) NOT LIKE '%extern_id%'\n",
    "  AND lower(audience_key_labels.label) NOT LIKE '%cnsmr_link_id%'\n",
    "  AND lower(audience_key_labels.label) NOT LIKE '%ttd_android%'\n",
    "  AND customers.status = 1\n",
    "  AND liveramp_customer_accounts.enabled = TRUE\n",
    "  AND liveramp_customer_accounts.customer_link_audience = FALSE\n",
    "  AND audience_key_labels.key_index = 0\n",
    "  AND liveramp_customer_accounts.type = \"OfflineLiverampCustomerAccount\"\n",
    "GROUP BY\n",
    "  1, 2, 3, 4\n",
    "HAVING\n",
    "  COUNT(audience_key_labels.id) = 1\n",
    "\"\"\"\n",
    "x = datetime.datetime.now()\n",
    "print(\"Last data pull:\", x)\n",
    "\n",
    "CIDs_DS_audiences = pandas_gbq.read_gbq(sql, project_id='liveramp-ts-bigquery')\n"
   ]
  },
  {
   "cell_type": "code",
   "execution_count": 26,
   "metadata": {
    "execution": {
     "iopub.execute_input": "2020-05-07T02:17:40.000Z",
     "iopub.status.busy": "2020-05-07T02:17:39.989Z",
     "iopub.status.idle": "2020-05-07T02:17:40.020Z",
     "shell.execute_reply": "2020-05-07T02:17:40.042Z"
    },
    "jupyter": {
     "outputs_hidden": false,
     "source_hidden": false
    },
    "nteract": {
     "transient": {
      "deleting": false
     }
    },
    "outputExpanded": false
   },
   "outputs": [
    {
     "data": {
      "text/html": [
       "<div>\n",
       "<style scoped>\n",
       "    .dataframe tbody tr th:only-of-type {\n",
       "        vertical-align: middle;\n",
       "    }\n",
       "\n",
       "    .dataframe tbody tr th {\n",
       "        vertical-align: top;\n",
       "    }\n",
       "\n",
       "    .dataframe thead th {\n",
       "        text-align: right;\n",
       "    }\n",
       "</style>\n",
       "<table border=\"1\" class=\"dataframe\">\n",
       "  <thead>\n",
       "    <tr style=\"text-align: right;\">\n",
       "      <th></th>\n",
       "      <th>audience_id</th>\n",
       "      <th>cust_id</th>\n",
       "      <th>key_index</th>\n",
       "      <th>label</th>\n",
       "      <th>count_AK</th>\n",
       "    </tr>\n",
       "  </thead>\n",
       "  <tbody>\n",
       "    <tr>\n",
       "      <th>0</th>\n",
       "      <td>217376</td>\n",
       "      <td>500619</td>\n",
       "      <td>0</td>\n",
       "      <td>aiq_hhid</td>\n",
       "      <td>1</td>\n",
       "    </tr>\n",
       "    <tr>\n",
       "      <th>1</th>\n",
       "      <td>215906</td>\n",
       "      <td>510756</td>\n",
       "      <td>0</td>\n",
       "      <td>stiristaid</td>\n",
       "      <td>1</td>\n",
       "    </tr>\n",
       "    <tr>\n",
       "      <th>2</th>\n",
       "      <td>215676</td>\n",
       "      <td>557566</td>\n",
       "      <td>0</td>\n",
       "      <td>client customer id</td>\n",
       "      <td>1</td>\n",
       "    </tr>\n",
       "    <tr>\n",
       "      <th>3</th>\n",
       "      <td>107589</td>\n",
       "      <td>297891</td>\n",
       "      <td>0</td>\n",
       "      <td>ncs_id</td>\n",
       "      <td>1</td>\n",
       "    </tr>\n",
       "    <tr>\n",
       "      <th>4</th>\n",
       "      <td>107579</td>\n",
       "      <td>297891</td>\n",
       "      <td>0</td>\n",
       "      <td>ncs_id</td>\n",
       "      <td>1</td>\n",
       "    </tr>\n",
       "  </tbody>\n",
       "</table>\n",
       "</div>"
      ],
      "text/plain": [
       "   audience_id  cust_id  key_index               label  count_AK\n",
       "0       217376   500619          0            aiq_hhid         1\n",
       "1       215906   510756          0          stiristaid         1\n",
       "2       215676   557566          0  client customer id         1\n",
       "3       107589   297891          0              ncs_id         1\n",
       "4       107579   297891          0              ncs_id         1"
      ]
     },
     "execution_count": 26,
     "metadata": {},
     "output_type": "execute_result"
    }
   ],
   "source": [
    "CIDs_DS_audiences.head(5)"
   ]
  },
  {
   "cell_type": "code",
   "execution_count": 27,
   "metadata": {
    "execution": {
     "iopub.execute_input": "2020-05-07T02:18:18.804Z",
     "iopub.status.busy": "2020-05-07T02:18:18.794Z",
     "iopub.status.idle": "2020-05-07T02:18:18.819Z",
     "shell.execute_reply": "2020-05-07T02:18:18.828Z"
    },
    "jupyter": {
     "outputs_hidden": false,
     "source_hidden": false
    },
    "nteract": {
     "transient": {
      "deleting": false
     }
    },
    "outputExpanded": false
   },
   "outputs": [],
   "source": [
    "CID_values_DS_audiences = pd.DataFrame(CIDs_DS_audiences[\"label\"].value_counts())"
   ]
  },
  {
   "cell_type": "code",
   "execution_count": 28,
   "metadata": {
    "execution": {
     "iopub.execute_input": "2020-05-07T02:23:31.654Z",
     "iopub.status.busy": "2020-05-07T02:23:31.642Z",
     "iopub.status.idle": "2020-05-07T02:23:31.679Z",
     "shell.execute_reply": "2020-05-07T02:23:31.689Z"
    },
    "jupyter": {
     "outputs_hidden": false,
     "source_hidden": false
    },
    "nteract": {
     "transient": {
      "deleting": false
     }
    },
    "outputExpanded": false
   },
   "outputs": [
    {
     "data": {
      "text/html": [
       "<div>\n",
       "<style scoped>\n",
       "    .dataframe tbody tr th:only-of-type {\n",
       "        vertical-align: middle;\n",
       "    }\n",
       "\n",
       "    .dataframe tbody tr th {\n",
       "        vertical-align: top;\n",
       "    }\n",
       "\n",
       "    .dataframe thead th {\n",
       "        text-align: right;\n",
       "    }\n",
       "</style>\n",
       "<table border=\"1\" class=\"dataframe\">\n",
       "  <thead>\n",
       "    <tr style=\"text-align: right;\">\n",
       "      <th></th>\n",
       "      <th>label</th>\n",
       "    </tr>\n",
       "  </thead>\n",
       "  <tbody>\n",
       "    <tr>\n",
       "      <th>rnc_reg_id</th>\n",
       "      <td>24</td>\n",
       "    </tr>\n",
       "    <tr>\n",
       "      <th>id</th>\n",
       "      <td>18</td>\n",
       "    </tr>\n",
       "    <tr>\n",
       "      <th>aiq_hhid</th>\n",
       "      <td>16</td>\n",
       "    </tr>\n",
       "    <tr>\n",
       "      <th>stiristaid</th>\n",
       "      <td>11</td>\n",
       "    </tr>\n",
       "    <tr>\n",
       "      <th>chid_key</th>\n",
       "      <td>9</td>\n",
       "    </tr>\n",
       "    <tr>\n",
       "      <th>client customer id</th>\n",
       "      <td>9</td>\n",
       "    </tr>\n",
       "    <tr>\n",
       "      <th>lalvoterid</th>\n",
       "      <td>9</td>\n",
       "    </tr>\n",
       "    <tr>\n",
       "      <th>dedupe_id</th>\n",
       "      <td>9</td>\n",
       "    </tr>\n",
       "    <tr>\n",
       "      <th>ccid</th>\n",
       "      <td>8</td>\n",
       "    </tr>\n",
       "    <tr>\n",
       "      <th>custid</th>\n",
       "      <td>8</td>\n",
       "    </tr>\n",
       "  </tbody>\n",
       "</table>\n",
       "</div>"
      ],
      "text/plain": [
       "                    label\n",
       "rnc_reg_id             24\n",
       "id                     18\n",
       "aiq_hhid               16\n",
       "stiristaid             11\n",
       "chid_key                9\n",
       "client customer id      9\n",
       "lalvoterid              9\n",
       "dedupe_id               9\n",
       "ccid                    8\n",
       "custid                  8"
      ]
     },
     "execution_count": 28,
     "metadata": {},
     "output_type": "execute_result"
    }
   ],
   "source": [
    "CID_values_DS_audiences.head(10)"
   ]
  },
  {
   "cell_type": "code",
   "execution_count": 29,
   "metadata": {},
   "outputs": [
    {
     "name": "stdout",
     "output_type": "stream",
     "text": [
      "Last data pull: 2020-07-16 12:51:05.507331\n"
     ]
    },
    {
     "name": "stderr",
     "output_type": "stream",
     "text": [
      "Downloading: 100%|██████████| 2/2 [00:00<00:00, 11.36rows/s]\n"
     ]
    }
   ],
   "source": [
    "sql = \"\"\"\n",
    "WITH DATA AS (\n",
    "SELECT\n",
    "  liveramp_customer_accounts.id AS audience_id,\n",
    "  customers.id AS cust_id, \n",
    "  audience_key_labels.key_index AS key_index,\n",
    "  lower(audience_key_labels.label) AS label,\n",
    "  COUNT(audience_key_labels.id) AS count_AK\n",
    "FROM\n",
    "  `corp-bi-us-prod.rldb.audience_key_labels` AS audience_key_labels\n",
    "INNER JOIN\n",
    "  `corp-bi-us-prod.rldb.liveramp_customer_accounts` AS liveramp_customer_accounts\n",
    "ON\n",
    "  audience_key_labels.liveramp_customer_account_id = liveramp_customer_accounts.id\n",
    "INNER JOIN\n",
    "  `corp-bi-us-prod.rldb.customers` AS customers\n",
    "ON\n",
    "  liveramp_customer_accounts.customer_id = customers.id\n",
    "WHERE\n",
    "liveramp_customer_accounts.id IN (\n",
    "              SELECT\n",
    "                lr_customer_accounts.id\n",
    "              FROM\n",
    "                `corp-bi-us-prod.rldb.dms_segments` AS dms_segments\n",
    "              INNER JOIN\n",
    "                `corp-bi-us-prod.rldb.lrc_field_definitions` AS lrc_field_definitions\n",
    "              ON\n",
    "                dms_segments.lrc_field_definition_id = lrc_field_definitions.id\n",
    "              INNER JOIN\n",
    "                `corp-bi-us-prod.rldb.liveramp_customer_accounts` AS lr_customer_accounts\n",
    "              ON\n",
    "                lrc_field_definitions.lr_customer_account_id = lr_customer_accounts.id\n",
    "              INNER JOIN\n",
    "                `corp-bi-us-prod.rldb.customers` AS customers\n",
    "              ON\n",
    "                lr_customer_accounts.customer_id = customers.id\n",
    "              WHERE\n",
    "                lr_customer_accounts.enabled = TRUE\n",
    "                AND lr_customer_accounts.customer_link_audience = FALSE\n",
    "                AND customers.status = 1\n",
    "              GROUP BY\n",
    "                lr_customer_accounts.id) \n",
    "  AND \n",
    "  audience_key_labels.key_index = 0\n",
    "  AND lower(audience_key_labels.label) LIKE '%id%'\n",
    "  AND lower(audience_key_labels.label) NOT LIKE '%aaid%'\n",
    "  AND lower(audience_key_labels.label) NOT LIKE '%idfa%'\n",
    "  AND lower(audience_key_labels.label) NOT LIKE '%cookie%'\n",
    "  AND lower(audience_key_labels.label) NOT LIKE '%device id%'\n",
    "  AND lower(audience_key_labels.label) NOT LIKE '%device_id%'\n",
    "  AND lower(audience_key_labels.label) NOT LIKE '%device%'\n",
    "  AND lower(audience_key_labels.label) NOT LIKE '%email%'\n",
    "  AND lower(audience_key_labels.label) NOT LIKE '%pel%'\n",
    "  AND lower(audience_key_labels.label) NOT LIKE '%identity_link%'\n",
    "  AND lower(audience_key_labels.label) NOT LIKE '%idl%'\n",
    "  AND lower(audience_key_labels.label) NOT LIKE '%liveramp%'\n",
    "  AND lower(audience_key_labels.label) NOT LIKE '%lr id 1%'\n",
    "  AND lower(audience_key_labels.label) NOT LIKE '%lrid%'\n",
    "  AND lower(audience_key_labels.label) NOT LIKE '%maid%'\n",
    "  AND lower(audience_key_labels.label) NOT LIKE '%mobile%'\n",
    "  AND lower(audience_key_labels.label) NOT LIKE '%order_id%'\n",
    "  AND lower(audience_key_labels.label) NOT LIKE '%pelid%'\n",
    "  AND lower(audience_key_labels.label) NOT LIKE '%fb_ext_id%'\n",
    "  AND lower(audience_key_labels.label) NOT LIKE '%identitylink%'\n",
    "  AND lower(audience_key_labels.label) NOT LIKE '%muid%'\n",
    "  AND lower(audience_key_labels.label) NOT LIKE '%abilitec%'\n",
    "  AND lower(audience_key_labels.label) NOT LIKE '%acxiom_id%'\n",
    "  AND lower(audience_key_labels.label) NOT LIKE '%extern_id%'\n",
    "  AND lower(audience_key_labels.label) NOT LIKE '%cnsmr_link_id%'\n",
    "  AND lower(audience_key_labels.label) NOT LIKE '%ttd_android%'\n",
    "  AND customers.status = 1\n",
    "  AND liveramp_customer_accounts.enabled = TRUE\n",
    "  AND liveramp_customer_accounts.customer_link_audience = FALSE\n",
    "  AND audience_key_labels.key_index = 0\n",
    "GROUP BY\n",
    "  1, 2, 3, 4\n",
    "HAVING\n",
    "  COUNT(audience_key_labels.id) = 1)\n",
    "  SELECT\n",
    "  liveramp_customer_accounts.type,\n",
    "  COUNT(liveramp_customer_accounts.type) AS type_count\n",
    "FROM\n",
    "  DATA\n",
    "INNER JOIN\n",
    "  `corp-bi-us-prod.rldb.liveramp_customer_accounts` AS liveramp_customer_accounts\n",
    "ON\n",
    "  audience_id = liveramp_customer_accounts.id\n",
    "GROUP BY\n",
    "  liveramp_customer_accounts.type\n",
    "\"\"\"\n",
    "x = datetime.datetime.now()\n",
    "print(\"Last data pull:\", x)\n",
    "\n",
    "CIDs_DS_aud_types = pandas_gbq.read_gbq(sql, project_id='liveramp-ts-bigquery')\n",
    "CIDs_DS_aud_types\n",
    "CID_DS_offline = CIDs_DS_aud_types[\"type_count\"][1]\n",
    "CID_DS_online = CIDs_DS_aud_types[\"type_count\"][0]"
   ]
  },
  {
   "cell_type": "code",
   "execution_count": 30,
   "metadata": {},
   "outputs": [
    {
     "name": "stdout",
     "output_type": "stream",
     "text": [
      "Audiences with AK as CID: 5840\n",
      "CID offline audiences: 4376\n",
      "CID online audiences: 1205\n",
      "CID offline DS audiences: 244\n",
      "CID online DS audiences: 180\n"
     ]
    }
   ],
   "source": [
    "## Results\n",
    "print(\"Audiences with AK as CID:\", CIDs_all_audiences[\"audience_id\"].count())\n",
    "print(\"CID offline audiences:\", CID_offline)\n",
    "print(\"CID online audiences:\", CID_online)\n",
    "\n",
    "\n",
    "print(\"CID offline DS audiences:\", CID_DS_offline)\n",
    "print(\"CID online DS audiences:\", CID_DS_online)"
   ]
  },
  {
   "cell_type": "markdown",
   "metadata": {},
   "source": [
    "# Address-only audiences"
   ]
  },
  {
   "cell_type": "markdown",
   "metadata": {
    "nteract": {
     "transient": {
      "deleting": false
     }
    }
   },
   "source": [
    "## Data Wrangling"
   ]
  },
  {
   "cell_type": "markdown",
   "metadata": {},
   "source": [
    "query all audiences for # of aks between 4 and 7 inclusive, enabled customers, enabled audiences, non-FBR"
   ]
  },
  {
   "cell_type": "code",
   "execution_count": 31,
   "metadata": {},
   "outputs": [
    {
     "name": "stdout",
     "output_type": "stream",
     "text": [
      "Last data pull: 2020-07-16 12:51:08.236786\n"
     ]
    },
    {
     "name": "stderr",
     "output_type": "stream",
     "text": [
      "Downloading: 100%|██████████| 1179/1179 [00:00<00:00, 4090.44rows/s]\n"
     ]
    },
    {
     "data": {
      "text/html": [
       "<div>\n",
       "<style scoped>\n",
       "    .dataframe tbody tr th:only-of-type {\n",
       "        vertical-align: middle;\n",
       "    }\n",
       "\n",
       "    .dataframe tbody tr th {\n",
       "        vertical-align: top;\n",
       "    }\n",
       "\n",
       "    .dataframe thead th {\n",
       "        text-align: right;\n",
       "    }\n",
       "</style>\n",
       "<table border=\"1\" class=\"dataframe\">\n",
       "  <thead>\n",
       "    <tr style=\"text-align: right;\">\n",
       "      <th></th>\n",
       "      <th>liveramp_customer_account_id</th>\n",
       "      <th>customer_id</th>\n",
       "      <th>customer_name</th>\n",
       "      <th>ak_count</th>\n",
       "      <th>aks</th>\n",
       "    </tr>\n",
       "    <tr>\n",
       "      <th>type</th>\n",
       "      <th></th>\n",
       "      <th></th>\n",
       "      <th></th>\n",
       "      <th></th>\n",
       "      <th></th>\n",
       "    </tr>\n",
       "  </thead>\n",
       "  <tbody>\n",
       "    <tr>\n",
       "      <th>OfflineLiverampCustomerAccount</th>\n",
       "      <td>1167</td>\n",
       "      <td>1167</td>\n",
       "      <td>1167</td>\n",
       "      <td>1167</td>\n",
       "      <td>1167</td>\n",
       "    </tr>\n",
       "    <tr>\n",
       "      <th>MatchLiverampCustomerAccount</th>\n",
       "      <td>8</td>\n",
       "      <td>8</td>\n",
       "      <td>8</td>\n",
       "      <td>8</td>\n",
       "      <td>8</td>\n",
       "    </tr>\n",
       "    <tr>\n",
       "      <th>OnlineLiverampCustomerAccount</th>\n",
       "      <td>3</td>\n",
       "      <td>3</td>\n",
       "      <td>3</td>\n",
       "      <td>3</td>\n",
       "      <td>3</td>\n",
       "    </tr>\n",
       "    <tr>\n",
       "      <th>MuidHeidMappingLiverampCustomerAccount</th>\n",
       "      <td>1</td>\n",
       "      <td>1</td>\n",
       "      <td>1</td>\n",
       "      <td>1</td>\n",
       "      <td>1</td>\n",
       "    </tr>\n",
       "  </tbody>\n",
       "</table>\n",
       "</div>"
      ],
      "text/plain": [
       "                                        liveramp_customer_account_id  \\\n",
       "type                                                                   \n",
       "OfflineLiverampCustomerAccount                                  1167   \n",
       "MatchLiverampCustomerAccount                                       8   \n",
       "OnlineLiverampCustomerAccount                                      3   \n",
       "MuidHeidMappingLiverampCustomerAccount                             1   \n",
       "\n",
       "                                        customer_id  customer_name  ak_count  \\\n",
       "type                                                                           \n",
       "OfflineLiverampCustomerAccount                 1167           1167      1167   \n",
       "MatchLiverampCustomerAccount                      8              8         8   \n",
       "OnlineLiverampCustomerAccount                     3              3         3   \n",
       "MuidHeidMappingLiverampCustomerAccount            1              1         1   \n",
       "\n",
       "                                         aks  \n",
       "type                                          \n",
       "OfflineLiverampCustomerAccount          1167  \n",
       "MatchLiverampCustomerAccount               8  \n",
       "OnlineLiverampCustomerAccount              3  \n",
       "MuidHeidMappingLiverampCustomerAccount     1  "
      ]
     },
     "execution_count": 31,
     "metadata": {},
     "output_type": "execute_result"
    }
   ],
   "source": [
    "sql = \"\"\"\n",
    "\n",
    "SELECT\n",
    "  audience_key_labels.liveramp_customer_account_id,\n",
    "  customers.id AS customer_id,\n",
    "  customers.name AS customer_name,\n",
    "  COUNT(audience_key_labels.id) AS ak_count,\n",
    "  STRING_AGG(LOWER(audience_key_labels.label)) AS aks,\n",
    "  liveramp_customer_accounts.type\n",
    "FROM\n",
    "  `corp-bi-us-prod.rldb.audience_key_labels` AS audience_key_labels\n",
    "INNER JOIN\n",
    "  `corp-bi-us-prod.rldb.liveramp_customer_accounts` AS liveramp_customer_accounts\n",
    "ON\n",
    "  audience_key_labels.liveramp_customer_account_id = liveramp_customer_accounts.id\n",
    "INNER JOIN\n",
    "  `corp-bi-us-prod.rldb.customers` AS customers\n",
    "ON\n",
    "  liveramp_customer_accounts.customer_id = customers.id\n",
    "WHERE\n",
    "  customers.status = 1\n",
    "  AND liveramp_customer_accounts.enabled = TRUE\n",
    "  AND liveramp_customer_accounts.customer_link_audience = FALSE\n",
    "\n",
    "GROUP BY\n",
    "  1,\n",
    "  2,\n",
    "  3,\n",
    "  6\n",
    "HAVING\n",
    "  ak_count > 3\n",
    "  AND ak_count < 8\n",
    "  AND aks NOT LIKE \"%transaction%\"\n",
    "  AND aks NOT LIKE \"%amount%\"\n",
    "  AND aks NOT LIKE \"%aaid%\"\n",
    "  AND aks NOT LIKE \"%email%\"\n",
    "  AND aks NOT LIKE \"%ordinal%\"\n",
    "ORDER BY\n",
    "  ak_count DESC\n",
    "\"\"\"\n",
    "x = datetime.datetime.now()\n",
    "print(\"Last data pull:\", x)\n",
    "\n",
    "address_aks = pandas_gbq.read_gbq(sql, project_id='liveramp-ts-bigquery')\n",
    "address_aks_aud_types = address_aks.groupby(\"type\").count().sort_values(by=['liveramp_customer_account_id'], ascending = False)\n",
    "address_aks_aud_types"
   ]
  },
  {
   "cell_type": "code",
   "execution_count": 32,
   "metadata": {},
   "outputs": [
    {
     "name": "stdout",
     "output_type": "stream",
     "text": [
      "Audiences with address AK: 1167\n",
      "Audiences with address AK: 3\n"
     ]
    }
   ],
   "source": [
    "AK_address_auds_offline = address_aks_aud_types[\"liveramp_customer_account_id\"][0]\n",
    "AK_address_auds_online = address_aks_aud_types[\"liveramp_customer_account_id\"][2]\n",
    "\n",
    "print(\"Audiences with address AK:\", AK_address_auds_offline)\n",
    "print(\"Audiences with address AK:\", AK_address_auds_online)"
   ]
  },
  {
   "cell_type": "markdown",
   "metadata": {},
   "source": [
    "query all audiences for # of aks between 4 and 7 inclusive, enabled customers, enabled audiences, non-FBR, DS"
   ]
  },
  {
   "cell_type": "code",
   "execution_count": 33,
   "metadata": {},
   "outputs": [
    {
     "name": "stdout",
     "output_type": "stream",
     "text": [
      "Last data pull: 2020-07-16 12:51:10.195453\n"
     ]
    },
    {
     "name": "stderr",
     "output_type": "stream",
     "text": [
      "Downloading: 100%|██████████| 91/91 [00:00<00:00, 466.76rows/s]\n"
     ]
    }
   ],
   "source": [
    "sql = \"\"\"\n",
    "SELECT\n",
    "  audience_key_labels.liveramp_customer_account_id,\n",
    "  customers.id AS customer_id,\n",
    "  customers.name AS customer_name,\n",
    "  COUNT(audience_key_labels.id) AS ak_count,\n",
    "  STRING_AGG(LOWER(audience_key_labels.label)) AS aks,\n",
    "  liveramp_customer_accounts.type\n",
    "FROM\n",
    "  `corp-bi-us-prod.rldb.audience_key_labels` AS audience_key_labels\n",
    "INNER JOIN\n",
    "  `corp-bi-us-prod.rldb.liveramp_customer_accounts` AS liveramp_customer_accounts\n",
    "ON\n",
    "  audience_key_labels.liveramp_customer_account_id = liveramp_customer_accounts.id\n",
    "INNER JOIN\n",
    "  `corp-bi-us-prod.rldb.customers` AS customers\n",
    "ON\n",
    "  liveramp_customer_accounts.customer_id = customers.id\n",
    "WHERE\n",
    "liveramp_customer_accounts.id IN (\n",
    "              SELECT\n",
    "                lr_customer_accounts.id\n",
    "              FROM\n",
    "                `corp-bi-us-prod.rldb.dms_segments` AS dms_segments\n",
    "              INNER JOIN\n",
    "                `corp-bi-us-prod.rldb.lrc_field_definitions` AS lrc_field_definitions\n",
    "              ON\n",
    "                dms_segments.lrc_field_definition_id = lrc_field_definitions.id\n",
    "              INNER JOIN\n",
    "                `corp-bi-us-prod.rldb.liveramp_customer_accounts` AS lr_customer_accounts\n",
    "              ON\n",
    "                lrc_field_definitions.lr_customer_account_id = lr_customer_accounts.id\n",
    "              INNER JOIN\n",
    "                `corp-bi-us-prod.rldb.customers` AS customers\n",
    "              ON\n",
    "                lr_customer_accounts.customer_id = customers.id\n",
    "              WHERE\n",
    "                lr_customer_accounts.enabled = TRUE\n",
    "                AND lr_customer_accounts.customer_link_audience = FALSE\n",
    "                AND customers.status = 1\n",
    "              GROUP BY\n",
    "                lr_customer_accounts.id) AND\n",
    "  customers.status = 1\n",
    "  AND liveramp_customer_accounts.enabled = TRUE\n",
    "  AND liveramp_customer_accounts.customer_link_audience = FALSE\n",
    "GROUP BY\n",
    "  1,\n",
    "  2,\n",
    "  3,\n",
    "  6\n",
    "HAVING\n",
    "  ak_count > 3\n",
    "  AND ak_count < 8\n",
    "  AND aks NOT LIKE \"%transaction%\"\n",
    "  AND aks NOT LIKE \"%amount%\"\n",
    "  AND aks NOT LIKE \"%aaid%\"\n",
    "  AND aks NOT LIKE \"%email%\"\n",
    "  AND aks NOT LIKE \"%ordinal%\"\n",
    "ORDER BY\n",
    "  ak_count DESC\n",
    "\"\"\"\n",
    "x = datetime.datetime.now()\n",
    "print(\"Last data pull:\", x)\n",
    "\n",
    "address_aks_DS = pandas_gbq.read_gbq(sql, project_id='liveramp-ts-bigquery')\n",
    "address_aks_DS_aud_types = address_aks_DS.groupby(\"type\").count().sort_values(by=['liveramp_customer_account_id'], ascending = False)\n",
    "address_aks_DS_aud_types\n",
    "address_aks_DS = address_aks_DS_aud_types[\"liveramp_customer_account_id\"][0]"
   ]
  },
  {
   "cell_type": "code",
   "execution_count": 34,
   "metadata": {},
   "outputs": [],
   "source": [
    "address_aks_aud_types_DS = address_aks_DS_aud_types"
   ]
  },
  {
   "cell_type": "code",
   "execution_count": 35,
   "metadata": {},
   "outputs": [
    {
     "name": "stdout",
     "output_type": "stream",
     "text": [
      "All audiences with address AK: 1170\n",
      "Offline audiences with address AK: 1167\n",
      "Online audiences with address AK: 3 \n",
      "\n",
      "Offline Data Store audiences with address AK: 91\n"
     ]
    }
   ],
   "source": [
    "## Results\n",
    "print(\"All audiences with address AK:\", AK_address_auds_offline + AK_address_auds_online)\n",
    "print(\"Offline audiences with address AK:\", AK_address_auds_offline)\n",
    "print(\"Online audiences with address AK:\", AK_address_auds_online, \"\\n\")\n",
    "\n",
    "print(\"Offline Data Store audiences with address AK:\", address_aks_DS)"
   ]
  },
  {
   "cell_type": "markdown",
   "metadata": {},
   "source": [
    "# PINless imports analysis"
   ]
  },
  {
   "cell_type": "code",
   "execution_count": 36,
   "metadata": {},
   "outputs": [
    {
     "name": "stdout",
     "output_type": "stream",
     "text": [
      "Last data pull: 2020-07-16 12:51:12.829102\n"
     ]
    },
    {
     "name": "stderr",
     "output_type": "stream",
     "text": [
      "Downloading: 100%|██████████| 1084/1084 [00:00<00:00, 3127.94rows/s]\n"
     ]
    }
   ],
   "source": [
    "sql = \"\"\"\n",
    "WITH\n",
    "  pinless_audiences AS (\n",
    "  SELECT\n",
    "    liveramp_customer_accounts.display_name AS audience_name,\n",
    "    liveramp_customer_accounts.id AS audience_id,\n",
    "    SUM(CASE\n",
    "        WHEN lir_pin_types.id IS NULL THEN 1\n",
    "      ELSE\n",
    "      0\n",
    "    END\n",
    "      ) AS PINLESS_imports\n",
    "  FROM\n",
    "    `corp-bi-us-prod.rldb.liveramp_customer_accounts` AS liveramp_customer_accounts\n",
    "  INNER JOIN\n",
    "    `corp-bi-us-prod.rldb.customers` AS customers\n",
    "  ON\n",
    "    liveramp_customer_accounts.customer_id = customers.id\n",
    "  INNER JOIN\n",
    "    `corp-bi-us-prod.rldb.liveramp_import_requests` AS liveramp_import_requests\n",
    "  ON\n",
    "    liveramp_customer_accounts.id = liveramp_import_requests.liveramp_customer_account_id\n",
    "  LEFT JOIN\n",
    "    `corp-bi-us-prod.rldb.lir_pin_types` AS lir_pin_types\n",
    "  ON\n",
    "    liveramp_import_requests.id = lir_pin_types.liveramp_import_request_id\n",
    "  WHERE\n",
    "    liveramp_customer_accounts.type = \"OfflineLiverampCustomerAccount\"\n",
    "    AND liveramp_customer_accounts.customer_link_audience = FALSE\n",
    "    AND liveramp_import_requests.status <> 11\n",
    "  GROUP BY\n",
    "    1,\n",
    "    2),\n",
    "  audience_aks AS (\n",
    "  SELECT\n",
    "    audience_key_labels.liveramp_customer_account_id AS audience_aks_audience_id,\n",
    "    customers.id AS customer_id,\n",
    "    customers.name AS customer_name,\n",
    "    COUNT(DISTINCT audience_key_labels.id) AS ak_count,\n",
    "    STRING_AGG(LOWER(audience_key_labels.label)) AS aks,\n",
    "    liveramp_customer_accounts.type\n",
    "  FROM\n",
    "    `corp-bi-us-prod.rldb.audience_key_labels` AS audience_key_labels\n",
    "  INNER JOIN\n",
    "    `corp-bi-us-prod.rldb.liveramp_customer_accounts` AS liveramp_customer_accounts\n",
    "  ON\n",
    "    audience_key_labels.liveramp_customer_account_id = liveramp_customer_accounts.id\n",
    "  INNER JOIN\n",
    "    `corp-bi-us-prod.rldb.customers` AS customers\n",
    "  ON\n",
    "    liveramp_customer_accounts.customer_id = customers.id\n",
    "  WHERE\n",
    "    customers.status = 1\n",
    "    AND liveramp_customer_accounts.enabled = TRUE\n",
    "    AND liveramp_customer_accounts.customer_link_audience = FALSE\n",
    "  GROUP BY\n",
    "    1,\n",
    "    2,\n",
    "    3,\n",
    "    6\n",
    "  ORDER BY\n",
    "    ak_count DESC )\n",
    "SELECT\n",
    "  pinless_audiences.audience_id,\n",
    "  audience_name,\n",
    "  customer_name,\n",
    "  customer_id,\n",
    "  fieldless_audiences.fieldless_imports,\n",
    "  PINLESS_imports,\n",
    "  fields_and_pins.imports_with_fields_and_pins,\n",
    "  ak_count,\n",
    "  aks\n",
    "FROM\n",
    "  pinless_audiences\n",
    "INNER JOIN\n",
    "  audience_aks\n",
    "ON\n",
    "  audience_id = audience_aks_audience_id\n",
    "LEFT JOIN\n",
    "  `liveramp-ts-bigquery.aschultz.fieldless_audiences` AS fieldless_audiences\n",
    "ON\n",
    "  pinless_audiences.audience_id = fieldless_audiences.audience_id\n",
    "LEFT JOIN\n",
    "  `liveramp-ts-bigquery.aschultz.fields_and_PINs` AS fields_and_PINs\n",
    "ON\n",
    "  audience_aks_audience_id = fields_and_PINs.audience_id\n",
    "WHERE PINLESS_imports > 0\n",
    "ORDER BY\n",
    "  fieldless_imports DESC\n",
    "\"\"\"\n",
    "x = datetime.datetime.now()\n",
    "print(\"Last data pull:\", x)\n",
    "\n",
    "pinless_auds_all = pandas_gbq.read_gbq(sql, project_id='liveramp-ts-bigquery')"
   ]
  },
  {
   "cell_type": "markdown",
   "metadata": {},
   "source": [
    "## Results"
   ]
  },
  {
   "cell_type": "markdown",
   "metadata": {},
   "source": [
    "1) audiences with at last one PINless imports: 1073\n",
    "\n",
    "2) audiences that are \"truly\" PINless: 75\n",
    "\n",
    "3) 125 audiences with only PINless imports\n",
    "\n",
    "4) 797 audiences with PINless imports but no fieldless imports, and "
   ]
  },
  {
   "cell_type": "markdown",
   "metadata": {},
   "source": [
    "## all audiences with pinless imports"
   ]
  },
  {
   "cell_type": "code",
   "execution_count": 37,
   "metadata": {},
   "outputs": [
    {
     "data": {
      "text/html": [
       "<div>\n",
       "<style scoped>\n",
       "    .dataframe tbody tr th:only-of-type {\n",
       "        vertical-align: middle;\n",
       "    }\n",
       "\n",
       "    .dataframe tbody tr th {\n",
       "        vertical-align: top;\n",
       "    }\n",
       "\n",
       "    .dataframe thead th {\n",
       "        text-align: right;\n",
       "    }\n",
       "</style>\n",
       "<table border=\"1\" class=\"dataframe\">\n",
       "  <thead>\n",
       "    <tr style=\"text-align: right;\">\n",
       "      <th></th>\n",
       "      <th>audience_id</th>\n",
       "      <th>audience_name</th>\n",
       "      <th>customer_name</th>\n",
       "      <th>customer_id</th>\n",
       "      <th>fieldless_imports</th>\n",
       "      <th>PINLESS_imports</th>\n",
       "      <th>imports_with_fields_and_pins</th>\n",
       "      <th>ak_count</th>\n",
       "      <th>aks</th>\n",
       "    </tr>\n",
       "  </thead>\n",
       "  <tbody>\n",
       "    <tr>\n",
       "      <th>0</th>\n",
       "      <td>157656</td>\n",
       "      <td>ownerIQ - Cabelas</td>\n",
       "      <td>ownerIQ</td>\n",
       "      <td>140601</td>\n",
       "      <td>379.0</td>\n",
       "      <td>7780</td>\n",
       "      <td>730.0</td>\n",
       "      <td>1</td>\n",
       "      <td>custid</td>\n",
       "    </tr>\n",
       "    <tr>\n",
       "      <th>1</th>\n",
       "      <td>421111</td>\n",
       "      <td>Ancestry Onboarding 2</td>\n",
       "      <td>Ancestry - AUS</td>\n",
       "      <td>596009</td>\n",
       "      <td>379.0</td>\n",
       "      <td>12</td>\n",
       "      <td>7153.0</td>\n",
       "      <td>1</td>\n",
       "      <td>email</td>\n",
       "    </tr>\n",
       "    <tr>\n",
       "      <th>2</th>\n",
       "      <td>374129</td>\n",
       "      <td>CarSales - APAC - Onboarding - Email as Key</td>\n",
       "      <td>CarSales - APAC</td>\n",
       "      <td>565049</td>\n",
       "      <td>176.0</td>\n",
       "      <td>1</td>\n",
       "      <td>11.0</td>\n",
       "      <td>1</td>\n",
       "      <td>sha256email1</td>\n",
       "    </tr>\n",
       "    <tr>\n",
       "      <th>3</th>\n",
       "      <td>390369</td>\n",
       "      <td>Quotient - SID - Offline Data - NEW 08.2019</td>\n",
       "      <td>Quotient</td>\n",
       "      <td>216241</td>\n",
       "      <td>122.0</td>\n",
       "      <td>5375</td>\n",
       "      <td>37.0</td>\n",
       "      <td>1</td>\n",
       "      <td>sid</td>\n",
       "    </tr>\n",
       "    <tr>\n",
       "      <th>4</th>\n",
       "      <td>195296</td>\n",
       "      <td>Macy's Amnet - Customer</td>\n",
       "      <td>Macy's Amnet</td>\n",
       "      <td>512136</td>\n",
       "      <td>111.0</td>\n",
       "      <td>248</td>\n",
       "      <td>NaN</td>\n",
       "      <td>1</td>\n",
       "      <td>indiv_id</td>\n",
       "    </tr>\n",
       "    <tr>\n",
       "      <th>...</th>\n",
       "      <td>...</td>\n",
       "      <td>...</td>\n",
       "      <td>...</td>\n",
       "      <td>...</td>\n",
       "      <td>...</td>\n",
       "      <td>...</td>\n",
       "      <td>...</td>\n",
       "      <td>...</td>\n",
       "      <td>...</td>\n",
       "    </tr>\n",
       "    <tr>\n",
       "      <th>1079</th>\n",
       "      <td>451111</td>\n",
       "      <td>DDM Test 5</td>\n",
       "      <td>Megan Perley - testing</td>\n",
       "      <td>588349</td>\n",
       "      <td>NaN</td>\n",
       "      <td>1</td>\n",
       "      <td>NaN</td>\n",
       "      <td>1</td>\n",
       "      <td>email</td>\n",
       "    </tr>\n",
       "    <tr>\n",
       "      <th>1080</th>\n",
       "      <td>405001</td>\n",
       "      <td>USFD Direct-Precision Individual</td>\n",
       "      <td>USFD Customer</td>\n",
       "      <td>608561</td>\n",
       "      <td>NaN</td>\n",
       "      <td>2</td>\n",
       "      <td>1.0</td>\n",
       "      <td>1</td>\n",
       "      <td>client_customer_id</td>\n",
       "    </tr>\n",
       "    <tr>\n",
       "      <th>1081</th>\n",
       "      <td>471561</td>\n",
       "      <td>Hallmark - Onboarding - Crown Media - unentitled</td>\n",
       "      <td>Hallmark</td>\n",
       "      <td>515066</td>\n",
       "      <td>NaN</td>\n",
       "      <td>1</td>\n",
       "      <td>4.0</td>\n",
       "      <td>1</td>\n",
       "      <td>email1</td>\n",
       "    </tr>\n",
       "    <tr>\n",
       "      <th>1082</th>\n",
       "      <td>300259</td>\n",
       "      <td>Emily Geremia Test - Walmart PID Mapping Test</td>\n",
       "      <td>Emily Geremia Test</td>\n",
       "      <td>543016</td>\n",
       "      <td>NaN</td>\n",
       "      <td>1</td>\n",
       "      <td>2.0</td>\n",
       "      <td>1</td>\n",
       "      <td>pid</td>\n",
       "    </tr>\n",
       "    <tr>\n",
       "      <th>1083</th>\n",
       "      <td>507691</td>\n",
       "      <td>MeritDirect - PowerB2B</td>\n",
       "      <td>MeritDirect</td>\n",
       "      <td>434788</td>\n",
       "      <td>NaN</td>\n",
       "      <td>1</td>\n",
       "      <td>1.0</td>\n",
       "      <td>1</td>\n",
       "      <td>recordid</td>\n",
       "    </tr>\n",
       "  </tbody>\n",
       "</table>\n",
       "<p>1084 rows × 9 columns</p>\n",
       "</div>"
      ],
      "text/plain": [
       "      audience_id                                     audience_name  \\\n",
       "0          157656                                 ownerIQ - Cabelas   \n",
       "1          421111                             Ancestry Onboarding 2   \n",
       "2          374129       CarSales - APAC - Onboarding - Email as Key   \n",
       "3          390369       Quotient - SID - Offline Data - NEW 08.2019   \n",
       "4          195296                           Macy's Amnet - Customer   \n",
       "...           ...                                               ...   \n",
       "1079       451111                                        DDM Test 5   \n",
       "1080       405001                  USFD Direct-Precision Individual   \n",
       "1081       471561  Hallmark - Onboarding - Crown Media - unentitled   \n",
       "1082       300259     Emily Geremia Test - Walmart PID Mapping Test   \n",
       "1083       507691                            MeritDirect - PowerB2B   \n",
       "\n",
       "               customer_name  customer_id  fieldless_imports  PINLESS_imports  \\\n",
       "0                    ownerIQ       140601              379.0             7780   \n",
       "1             Ancestry - AUS       596009              379.0               12   \n",
       "2            CarSales - APAC       565049              176.0                1   \n",
       "3                   Quotient       216241              122.0             5375   \n",
       "4               Macy's Amnet       512136              111.0              248   \n",
       "...                      ...          ...                ...              ...   \n",
       "1079  Megan Perley - testing       588349                NaN                1   \n",
       "1080           USFD Customer       608561                NaN                2   \n",
       "1081                Hallmark       515066                NaN                1   \n",
       "1082      Emily Geremia Test       543016                NaN                1   \n",
       "1083             MeritDirect       434788                NaN                1   \n",
       "\n",
       "      imports_with_fields_and_pins  ak_count                 aks  \n",
       "0                            730.0         1              custid  \n",
       "1                           7153.0         1               email  \n",
       "2                             11.0         1        sha256email1  \n",
       "3                             37.0         1                 sid  \n",
       "4                              NaN         1            indiv_id  \n",
       "...                            ...       ...                 ...  \n",
       "1079                           NaN         1               email  \n",
       "1080                           1.0         1  client_customer_id  \n",
       "1081                           4.0         1              email1  \n",
       "1082                           2.0         1                 pid  \n",
       "1083                           1.0         1            recordid  \n",
       "\n",
       "[1084 rows x 9 columns]"
      ]
     },
     "execution_count": 37,
     "metadata": {},
     "output_type": "execute_result"
    }
   ],
   "source": [
    "# these audiences have at least one pinless import\n",
    "pinless_auds_all.head(5)\n",
    "pinless_auds_all\n",
    "\n",
    "# Observation #1\n",
    "## There are 1073 offline audiences with at least one PINless import. Out of these 1073, 156 have at least one\n",
    "## fieldless import. The remaining 81 audiences also have imports with fields and PINs"
   ]
  },
  {
   "cell_type": "markdown",
   "metadata": {},
   "source": [
    "## \"true\" pinless audiences"
   ]
  },
  {
   "cell_type": "code",
   "execution_count": 193,
   "metadata": {},
   "outputs": [
    {
     "name": "stdout",
     "output_type": "stream",
     "text": [
      "<class 'pandas.core.frame.DataFrame'>\n",
      "Int64Index: 193 entries, 4 to 1079\n",
      "Data columns (total 9 columns):\n",
      " #   Column                        Non-Null Count  Dtype  \n",
      "---  ------                        --------------  -----  \n",
      " 0   audience_id                   193 non-null    int64  \n",
      " 1   audience_name                 193 non-null    object \n",
      " 2   customer_name                 193 non-null    object \n",
      " 3   customer_id                   193 non-null    int64  \n",
      " 4   fieldless_imports             74 non-null     float64\n",
      " 5   PINLESS_imports               193 non-null    int64  \n",
      " 6   imports_with_fields_and_pins  0 non-null      float64\n",
      " 7   ak_count                      193 non-null    int64  \n",
      " 8   aks                           193 non-null    object \n",
      "dtypes: float64(2), int64(4), object(3)\n",
      "memory usage: 15.1+ KB\n"
     ]
    }
   ],
   "source": [
    "# \"true\" pinless import audiences -> audiences with no imports with fields and pins. \n",
    "pinless_auds_all[pinless_auds_all['imports_with_fields_and_pins'].isnull()].describe()\n",
    "\n",
    "# observation #1\n",
    "## 75 \"true\" pinless audiences - audience that have fieldless imports, PINless imports, \n",
    "## and no imports with fields AND PINs\n",
    "\n",
    "# observation #2\n",
    "## There are 125 audiences in this table that do not have any imports w/fields and ONLY have PINless imports\n",
    "## Why would an audience only have PINless imports?\n",
    "\n",
    "# drop null values in imports_with_fields_and_pins field\n",
    "true_pinless = pinless_auds_all[pinless_auds_all['imports_with_fields_and_pins'].isnull()] \n",
    "true_pinless.info()\n",
    "# true_pinless\n",
    "# test = true_pinless.groupby(\"customer_name\", sort = False)[\"fieldless_imports\"].count()\n",
    "# df = pd.DataFrame(test)\n",
    "# df.sort_values(by = \"fieldless_imports\", ascending = False)\n",
    "\n",
    "# Experian - 30\n",
    "# Target - 6\n",
    "# 84.51 - 3\n",
    "# D&B - 3\n",
    "# Bloomingdale's - 2\n",
    "# Kantar - 2\n",
    "# Walmart - 2\n",
    "# Omnicom (Annalect) - 2\n",
    "# IRI - 2\n",
    "# Datalogix (Oracle) - 2\n",
    "# Macy's - 2\n",
    "\n",
    "# true_pinless.sort_values(['audience_name'], ascending = False).groupby('customer_name').count().head(75)\n",
    "# In[34]: df.sort_values(['job','count'],ascending=False).groupby('job').head(3)\n",
    "\n"
   ]
  },
  {
   "cell_type": "markdown",
   "metadata": {},
   "source": [
    "## \"pinless\" audiences, potentially misconfigured"
   ]
  },
  {
   "cell_type": "code",
   "execution_count": 188,
   "metadata": {},
   "outputs": [
    {
     "data": {
      "text/html": [
       "<div>\n",
       "<style scoped>\n",
       "    .dataframe tbody tr th:only-of-type {\n",
       "        vertical-align: middle;\n",
       "    }\n",
       "\n",
       "    .dataframe tbody tr th {\n",
       "        vertical-align: top;\n",
       "    }\n",
       "\n",
       "    .dataframe thead th {\n",
       "        text-align: right;\n",
       "    }\n",
       "</style>\n",
       "<table border=\"1\" class=\"dataframe\">\n",
       "  <thead>\n",
       "    <tr style=\"text-align: right;\">\n",
       "      <th></th>\n",
       "      <th>audience_id</th>\n",
       "      <th>customer_id</th>\n",
       "      <th>fieldless_imports</th>\n",
       "      <th>PINLESS_imports</th>\n",
       "      <th>imports_with_fields_and_pins</th>\n",
       "      <th>ak_count</th>\n",
       "    </tr>\n",
       "  </thead>\n",
       "  <tbody>\n",
       "    <tr>\n",
       "      <th>count</th>\n",
       "      <td>891.000000</td>\n",
       "      <td>891.000000</td>\n",
       "      <td>115.000000</td>\n",
       "      <td>891.000000</td>\n",
       "      <td>891.000000</td>\n",
       "      <td>891.000000</td>\n",
       "    </tr>\n",
       "    <tr>\n",
       "      <th>mean</th>\n",
       "      <td>314282.611672</td>\n",
       "      <td>512149.025814</td>\n",
       "      <td>14.886957</td>\n",
       "      <td>156.071829</td>\n",
       "      <td>365.962963</td>\n",
       "      <td>1.838384</td>\n",
       "    </tr>\n",
       "    <tr>\n",
       "      <th>std</th>\n",
       "      <td>144640.809561</td>\n",
       "      <td>135845.629084</td>\n",
       "      <td>54.034064</td>\n",
       "      <td>870.602313</td>\n",
       "      <td>3056.012963</td>\n",
       "      <td>3.394432</td>\n",
       "    </tr>\n",
       "    <tr>\n",
       "      <th>min</th>\n",
       "      <td>121.000000</td>\n",
       "      <td>741.000000</td>\n",
       "      <td>1.000000</td>\n",
       "      <td>1.000000</td>\n",
       "      <td>1.000000</td>\n",
       "      <td>1.000000</td>\n",
       "    </tr>\n",
       "    <tr>\n",
       "      <th>25%</th>\n",
       "      <td>201466.000000</td>\n",
       "      <td>511406.000000</td>\n",
       "      <td>1.000000</td>\n",
       "      <td>1.000000</td>\n",
       "      <td>3.000000</td>\n",
       "      <td>1.000000</td>\n",
       "    </tr>\n",
       "    <tr>\n",
       "      <th>50%</th>\n",
       "      <td>355929.000000</td>\n",
       "      <td>544466.000000</td>\n",
       "      <td>2.000000</td>\n",
       "      <td>2.000000</td>\n",
       "      <td>19.000000</td>\n",
       "      <td>1.000000</td>\n",
       "    </tr>\n",
       "    <tr>\n",
       "      <th>75%</th>\n",
       "      <td>434356.000000</td>\n",
       "      <td>592289.000000</td>\n",
       "      <td>5.000000</td>\n",
       "      <td>6.000000</td>\n",
       "      <td>151.000000</td>\n",
       "      <td>1.000000</td>\n",
       "    </tr>\n",
       "    <tr>\n",
       "      <th>max</th>\n",
       "      <td>513261.000000</td>\n",
       "      <td>631651.000000</td>\n",
       "      <td>379.000000</td>\n",
       "      <td>11294.000000</td>\n",
       "      <td>85232.000000</td>\n",
       "      <td>60.000000</td>\n",
       "    </tr>\n",
       "  </tbody>\n",
       "</table>\n",
       "</div>"
      ],
      "text/plain": [
       "         audience_id    customer_id  fieldless_imports  PINLESS_imports  \\\n",
       "count     891.000000     891.000000         115.000000       891.000000   \n",
       "mean   314282.611672  512149.025814          14.886957       156.071829   \n",
       "std    144640.809561  135845.629084          54.034064       870.602313   \n",
       "min       121.000000     741.000000           1.000000         1.000000   \n",
       "25%    201466.000000  511406.000000           1.000000         1.000000   \n",
       "50%    355929.000000  544466.000000           2.000000         2.000000   \n",
       "75%    434356.000000  592289.000000           5.000000         6.000000   \n",
       "max    513261.000000  631651.000000         379.000000     11294.000000   \n",
       "\n",
       "       imports_with_fields_and_pins    ak_count  \n",
       "count                    891.000000  891.000000  \n",
       "mean                     365.962963    1.838384  \n",
       "std                     3056.012963    3.394432  \n",
       "min                        1.000000    1.000000  \n",
       "25%                        3.000000    1.000000  \n",
       "50%                       19.000000    1.000000  \n",
       "75%                      151.000000    1.000000  \n",
       "max                    85232.000000   60.000000  "
      ]
     },
     "execution_count": 188,
     "metadata": {},
     "output_type": "execute_result"
    }
   ],
   "source": [
    "pinless_auds_all[pinless_auds_all['imports_with_fields_and_pins'].notna()].describe()\n",
    "\n",
    "# Observation #1\n",
    "## Out of 878 \"pinless\" audiences, defined as having imports with fields and pins, only 81 have fieldless imports\n",
    "## Hypothesis 1 - Audiences with PINless imports are often misconfigured, as there are many \n",
    "## audiences with PINless imports but no fieldless import mapping. These audiences aren't therefore 'pinless'\n",
    "\n",
    "## Why would one import a file without PINs unless there was a fieldless PIN mapping? Unless there's a use \n",
    "## case for an audience to have PINless imports and imports with fields AND PINs?\n",
    "\n"
   ]
  },
  {
   "cell_type": "code",
   "execution_count": 40,
   "metadata": {},
   "outputs": [
    {
     "data": {
      "text/html": [
       "<div>\n",
       "<style scoped>\n",
       "    .dataframe tbody tr th:only-of-type {\n",
       "        vertical-align: middle;\n",
       "    }\n",
       "\n",
       "    .dataframe tbody tr th {\n",
       "        vertical-align: top;\n",
       "    }\n",
       "\n",
       "    .dataframe thead th {\n",
       "        text-align: right;\n",
       "    }\n",
       "</style>\n",
       "<table border=\"1\" class=\"dataframe\">\n",
       "  <thead>\n",
       "    <tr style=\"text-align: right;\">\n",
       "      <th></th>\n",
       "      <th>audience_id</th>\n",
       "      <th>audience_name</th>\n",
       "      <th>customer_name</th>\n",
       "      <th>customer_id</th>\n",
       "      <th>fieldless_imports</th>\n",
       "      <th>PINLESS_imports</th>\n",
       "      <th>imports_with_fields_and_pins</th>\n",
       "      <th>ak_count</th>\n",
       "      <th>aks</th>\n",
       "    </tr>\n",
       "  </thead>\n",
       "  <tbody>\n",
       "    <tr>\n",
       "      <th>0</th>\n",
       "      <td>157656</td>\n",
       "      <td>ownerIQ - Cabelas</td>\n",
       "      <td>ownerIQ</td>\n",
       "      <td>140601</td>\n",
       "      <td>379.0</td>\n",
       "      <td>7780</td>\n",
       "      <td>730.0</td>\n",
       "      <td>1</td>\n",
       "      <td>custid</td>\n",
       "    </tr>\n",
       "    <tr>\n",
       "      <th>1</th>\n",
       "      <td>421111</td>\n",
       "      <td>Ancestry Onboarding 2</td>\n",
       "      <td>Ancestry - AUS</td>\n",
       "      <td>596009</td>\n",
       "      <td>379.0</td>\n",
       "      <td>12</td>\n",
       "      <td>7153.0</td>\n",
       "      <td>1</td>\n",
       "      <td>email</td>\n",
       "    </tr>\n",
       "    <tr>\n",
       "      <th>2</th>\n",
       "      <td>374129</td>\n",
       "      <td>CarSales - APAC - Onboarding - Email as Key</td>\n",
       "      <td>CarSales - APAC</td>\n",
       "      <td>565049</td>\n",
       "      <td>176.0</td>\n",
       "      <td>1</td>\n",
       "      <td>11.0</td>\n",
       "      <td>1</td>\n",
       "      <td>sha256email1</td>\n",
       "    </tr>\n",
       "    <tr>\n",
       "      <th>3</th>\n",
       "      <td>390369</td>\n",
       "      <td>Quotient - SID - Offline Data - NEW 08.2019</td>\n",
       "      <td>Quotient</td>\n",
       "      <td>216241</td>\n",
       "      <td>122.0</td>\n",
       "      <td>5375</td>\n",
       "      <td>37.0</td>\n",
       "      <td>1</td>\n",
       "      <td>sid</td>\n",
       "    </tr>\n",
       "    <tr>\n",
       "      <th>5</th>\n",
       "      <td>262049</td>\n",
       "      <td>Gap Inc. - Opt Outs</td>\n",
       "      <td>Gap Inc.</td>\n",
       "      <td>424068</td>\n",
       "      <td>99.0</td>\n",
       "      <td>11</td>\n",
       "      <td>35.0</td>\n",
       "      <td>1</td>\n",
       "      <td>cust_key</td>\n",
       "    </tr>\n",
       "    <tr>\n",
       "      <th>...</th>\n",
       "      <td>...</td>\n",
       "      <td>...</td>\n",
       "      <td>...</td>\n",
       "      <td>...</td>\n",
       "      <td>...</td>\n",
       "      <td>...</td>\n",
       "      <td>...</td>\n",
       "      <td>...</td>\n",
       "      <td>...</td>\n",
       "    </tr>\n",
       "    <tr>\n",
       "      <th>1078</th>\n",
       "      <td>320109</td>\n",
       "      <td>180byTWO - Simple Onboard</td>\n",
       "      <td>180byTWO</td>\n",
       "      <td>531379</td>\n",
       "      <td>NaN</td>\n",
       "      <td>2</td>\n",
       "      <td>15.0</td>\n",
       "      <td>1</td>\n",
       "      <td>email1</td>\n",
       "    </tr>\n",
       "    <tr>\n",
       "      <th>1080</th>\n",
       "      <td>405001</td>\n",
       "      <td>USFD Direct-Precision Individual</td>\n",
       "      <td>USFD Customer</td>\n",
       "      <td>608561</td>\n",
       "      <td>NaN</td>\n",
       "      <td>2</td>\n",
       "      <td>1.0</td>\n",
       "      <td>1</td>\n",
       "      <td>client_customer_id</td>\n",
       "    </tr>\n",
       "    <tr>\n",
       "      <th>1081</th>\n",
       "      <td>471561</td>\n",
       "      <td>Hallmark - Onboarding - Crown Media - unentitled</td>\n",
       "      <td>Hallmark</td>\n",
       "      <td>515066</td>\n",
       "      <td>NaN</td>\n",
       "      <td>1</td>\n",
       "      <td>4.0</td>\n",
       "      <td>1</td>\n",
       "      <td>email1</td>\n",
       "    </tr>\n",
       "    <tr>\n",
       "      <th>1082</th>\n",
       "      <td>300259</td>\n",
       "      <td>Emily Geremia Test - Walmart PID Mapping Test</td>\n",
       "      <td>Emily Geremia Test</td>\n",
       "      <td>543016</td>\n",
       "      <td>NaN</td>\n",
       "      <td>1</td>\n",
       "      <td>2.0</td>\n",
       "      <td>1</td>\n",
       "      <td>pid</td>\n",
       "    </tr>\n",
       "    <tr>\n",
       "      <th>1083</th>\n",
       "      <td>507691</td>\n",
       "      <td>MeritDirect - PowerB2B</td>\n",
       "      <td>MeritDirect</td>\n",
       "      <td>434788</td>\n",
       "      <td>NaN</td>\n",
       "      <td>1</td>\n",
       "      <td>1.0</td>\n",
       "      <td>1</td>\n",
       "      <td>recordid</td>\n",
       "    </tr>\n",
       "  </tbody>\n",
       "</table>\n",
       "<p>891 rows × 9 columns</p>\n",
       "</div>"
      ],
      "text/plain": [
       "      audience_id                                     audience_name  \\\n",
       "0          157656                                 ownerIQ - Cabelas   \n",
       "1          421111                             Ancestry Onboarding 2   \n",
       "2          374129       CarSales - APAC - Onboarding - Email as Key   \n",
       "3          390369       Quotient - SID - Offline Data - NEW 08.2019   \n",
       "5          262049                               Gap Inc. - Opt Outs   \n",
       "...           ...                                               ...   \n",
       "1078       320109                         180byTWO - Simple Onboard   \n",
       "1080       405001                  USFD Direct-Precision Individual   \n",
       "1081       471561  Hallmark - Onboarding - Crown Media - unentitled   \n",
       "1082       300259     Emily Geremia Test - Walmart PID Mapping Test   \n",
       "1083       507691                            MeritDirect - PowerB2B   \n",
       "\n",
       "           customer_name  customer_id  fieldless_imports  PINLESS_imports  \\\n",
       "0                ownerIQ       140601              379.0             7780   \n",
       "1         Ancestry - AUS       596009              379.0               12   \n",
       "2        CarSales - APAC       565049              176.0                1   \n",
       "3               Quotient       216241              122.0             5375   \n",
       "5               Gap Inc.       424068               99.0               11   \n",
       "...                  ...          ...                ...              ...   \n",
       "1078            180byTWO       531379                NaN                2   \n",
       "1080       USFD Customer       608561                NaN                2   \n",
       "1081            Hallmark       515066                NaN                1   \n",
       "1082  Emily Geremia Test       543016                NaN                1   \n",
       "1083         MeritDirect       434788                NaN                1   \n",
       "\n",
       "      imports_with_fields_and_pins  ak_count                 aks  \n",
       "0                            730.0         1              custid  \n",
       "1                           7153.0         1               email  \n",
       "2                             11.0         1        sha256email1  \n",
       "3                             37.0         1                 sid  \n",
       "5                             35.0         1            cust_key  \n",
       "...                            ...       ...                 ...  \n",
       "1078                          15.0         1              email1  \n",
       "1080                           1.0         1  client_customer_id  \n",
       "1081                           4.0         1              email1  \n",
       "1082                           2.0         1                 pid  \n",
       "1083                           1.0         1            recordid  \n",
       "\n",
       "[891 rows x 9 columns]"
      ]
     },
     "execution_count": 40,
     "metadata": {},
     "output_type": "execute_result"
    }
   ],
   "source": [
    "pinless_auds_all[pinless_auds_all['imports_with_fields_and_pins'].notna()]"
   ]
  },
  {
   "cell_type": "markdown",
   "metadata": {},
   "source": [
    "## data pulls"
   ]
  },
  {
   "cell_type": "code",
   "execution_count": 41,
   "metadata": {},
   "outputs": [
    {
     "ename": "IndentationError",
     "evalue": "unexpected indent (<ipython-input-41-4dc1d6c8cf6d>, line 3)",
     "output_type": "error",
     "traceback": [
      "\u001b[0;36m  File \u001b[0;32m\"<ipython-input-41-4dc1d6c8cf6d>\"\u001b[0;36m, line \u001b[0;32m3\u001b[0m\n\u001b[0;31m    pinless_audiences AS (\u001b[0m\n\u001b[0m    ^\u001b[0m\n\u001b[0;31mIndentationError\u001b[0m\u001b[0;31m:\u001b[0m unexpected indent\n"
     ]
    }
   ],
   "source": [
    "# pinless imports\n",
    "WITH\n",
    "  pinless_audiences AS (\n",
    "  SELECT\n",
    "    liveramp_customer_accounts.display_name AS audience_name,\n",
    "    liveramp_customer_accounts.id AS audience_id,\n",
    "    SUM(CASE\n",
    "        WHEN lir_pin_types.id IS NULL THEN 1\n",
    "      ELSE\n",
    "      0\n",
    "    END\n",
    "      ) AS PINLESS_imports\n",
    "  FROM\n",
    "    `corp-bi-us-prod.rldb.liveramp_customer_accounts` AS liveramp_customer_accounts\n",
    "  INNER JOIN\n",
    "    `corp-bi-us-prod.rldb.customers` AS customers\n",
    "  ON\n",
    "    liveramp_customer_accounts.customer_id = customers.id\n",
    "  INNER JOIN\n",
    "    `corp-bi-us-prod.rldb.liveramp_import_requests` AS liveramp_import_requests\n",
    "  ON\n",
    "    liveramp_customer_accounts.id = liveramp_import_requests.liveramp_customer_account_id\n",
    "  LEFT JOIN\n",
    "    `corp-bi-us-prod.rldb.lir_pin_types` AS lir_pin_types\n",
    "  ON\n",
    "    liveramp_import_requests.id = lir_pin_types.liveramp_import_request_id\n",
    "  WHERE\n",
    "    liveramp_customer_accounts.type = \"OfflineLiverampCustomerAccount\"\n",
    "    AND liveramp_customer_accounts.customer_link_audience = FALSE\n",
    "    AND liveramp_import_requests.status <> 11\n",
    "  GROUP BY\n",
    "    1,\n",
    "    2),\n",
    "  audience_aks AS (\n",
    "  SELECT\n",
    "    audience_key_labels.liveramp_customer_account_id AS audience_aks_audience_id,\n",
    "    customers.id AS customer_id,\n",
    "    customers.name AS customer_name,\n",
    "    COUNT(DISTINCT audience_key_labels.id) AS ak_count,\n",
    "    STRING_AGG(LOWER(audience_key_labels.label)) AS aks,\n",
    "    liveramp_customer_accounts.type\n",
    "  FROM\n",
    "    `corp-bi-us-prod.rldb.audience_key_labels` AS audience_key_labels\n",
    "  INNER JOIN\n",
    "    `corp-bi-us-prod.rldb.liveramp_customer_accounts` AS liveramp_customer_accounts\n",
    "  ON\n",
    "    audience_key_labels.liveramp_customer_account_id = liveramp_customer_accounts.id\n",
    "  INNER JOIN\n",
    "    `corp-bi-us-prod.rldb.customers` AS customers\n",
    "  ON\n",
    "    liveramp_customer_accounts.customer_id = customers.id\n",
    "  WHERE\n",
    "    customers.status = 1\n",
    "    AND liveramp_customer_accounts.enabled = TRUE\n",
    "    AND liveramp_customer_accounts.customer_link_audience = FALSE\n",
    "  GROUP BY\n",
    "    1,\n",
    "    2,\n",
    "    3,\n",
    "    6\n",
    "  ORDER BY\n",
    "    ak_count DESC )\n",
    "SELECT\n",
    "  pinless_audiences.audience_id,\n",
    "  audience_name,\n",
    "  customer_name,\n",
    "  customer_id,\n",
    "  fieldless_audiences.fieldless_imports,\n",
    "  PINLESS_imports,\n",
    "  fields_and_pins.imports_with_fields_and_pins,\n",
    "  ak_count,\n",
    "  aks\n",
    "FROM\n",
    "  pinless_audiences\n",
    "INNER JOIN\n",
    "  audience_aks\n",
    "ON\n",
    "  audience_id = audience_aks_audience_id\n",
    "LEFT JOIN\n",
    "  `liveramp-ts-bigquery.aschultz.fieldless_audiences` AS fieldless_audiences\n",
    "ON\n",
    "  pinless_audiences.audience_id = fieldless_audiences.audience_id\n",
    "LEFT JOIN\n",
    "  `liveramp-ts-bigquery.aschultz.fields_and_PINs` AS fields_and_PINs\n",
    "ON\n",
    "  audience_aks_audience_id = fields_and_PINs.audience_id\n",
    "WHERE PINLESS_imports > 0\n",
    "ORDER BY fieldless_imports DESC"
   ]
  },
  {
   "cell_type": "code",
   "execution_count": null,
   "metadata": {
    "code_folding": []
   },
   "outputs": [],
   "source": [
    "# -- fieldless imports\n",
    "SELECT\n",
    "  liveramp_import_requests.id,\n",
    "  liveramp_import_requests.import_name,\n",
    "  liveramp_import_requests.created_at,\n",
    "  liveramp_import_requests.liveramp_customer_account_id,\n",
    "  lir_pin_types.id AS lir_pin_types,\n",
    "  lir_fields.id AS lir_fields_id,\n",
    "  liveramp_customer_accounts.type\n",
    "FROM\n",
    "  `corp-bi-us-prod.rldb.liveramp_import_requests` AS liveramp_import_requests\n",
    "LEFT JOIN\n",
    "  `corp-bi-us-prod.rldb.lir_fields` AS lir_fields\n",
    "ON\n",
    "  liveramp_import_requests.id = lir_fields.liveramp_import_request_id\n",
    "INNER JOIN\n",
    "  `corp-bi-us-prod.rldb.lir_pin_types` AS lir_pin_types\n",
    "ON\n",
    "  liveramp_import_requests.id = lir_pin_types.liveramp_import_request_id\n",
    "INNER JOIN\n",
    "  `corp-bi-us-prod.rldb.liveramp_customer_accounts` AS liveramp_customer_accounts\n",
    "ON\n",
    "  liveramp_import_requests.liveramp_customer_account_id = liveramp_customer_accounts.id\n",
    "WHERE\n",
    "  lir_fields.liveramp_import_request_id IS NULL\n",
    "  AND liveramp_import_requests.status = 10\n",
    "  AND liveramp_customer_accounts.customer_link_audience = FALSE\n",
    "  AND (liveramp_customer_accounts.type = \"OfflineLiverampCustomerAccount\" OR liveramp_customer_accounts.type = \"OnlineLiverampCustomerAccount\")\n",
    "  AND liveramp_customer_account_id = 157656\n",
    "ORDER BY\n",
    "  liveramp_import_requests.type DESC, created_at DESC"
   ]
  },
  {
   "cell_type": "code",
   "execution_count": null,
   "metadata": {},
   "outputs": [],
   "source": [
    "# -- fieldless audiences\n",
    "SELECT\n",
    "  liveramp_customer_accounts.id AS audience_id,\n",
    "  liveramp_customer_accounts.display_name,\n",
    "  COUNT(liveramp_import_requests.id) AS fieldless_imports,\n",
    "FROM\n",
    "  `corp-bi-us-prod.rldb.liveramp_import_requests` AS liveramp_import_requests\n",
    "LEFT JOIN\n",
    "  `corp-bi-us-prod.rldb.lir_fields` AS lir_fields\n",
    "ON\n",
    "  liveramp_import_requests.id = lir_fields.liveramp_import_request_id\n",
    "INNER JOIN\n",
    "  `corp-bi-us-prod.rldb.lir_pin_types` AS lir_pin_types\n",
    "ON\n",
    "  liveramp_import_requests.id = lir_pin_types.liveramp_import_request_id\n",
    "INNER JOIN\n",
    "  `corp-bi-us-prod.rldb.liveramp_customer_accounts` AS liveramp_customer_accounts\n",
    "ON\n",
    "  liveramp_import_requests.liveramp_customer_account_id = liveramp_customer_accounts.id\n",
    "WHERE\n",
    "  lir_fields.liveramp_import_request_id IS NULL\n",
    "  AND liveramp_import_requests.status = 10\n",
    "  AND liveramp_customer_accounts.customer_link_audience = FALSE\n",
    "  AND (liveramp_customer_accounts.type = \"OfflineLiverampCustomerAccount\" OR liveramp_customer_accounts.type = \"OnlineLiverampCustomerAccount\")\n",
    "GROUP BY liveramp_customer_accounts.id, liveramp_customer_accounts.display_name\n",
    "ORDER BY fieldless_imports DESC"
   ]
  },
  {
   "cell_type": "code",
   "execution_count": null,
   "metadata": {},
   "outputs": [],
   "source": [
    "# -- imports with fields and pins\n",
    "SELECT\n",
    "  liveramp_customer_accounts.id AS audience_id,\n",
    "  liveramp_customer_accounts.display_name,\n",
    "  COUNT(DISTINCT liveramp_import_requests.id) AS imports_with_fields_and_pins,\n",
    "FROM\n",
    "  `corp-bi-us-prod.rldb.liveramp_import_requests` AS liveramp_import_requests\n",
    "INNER JOIN\n",
    "  `corp-bi-us-prod.rldb.lir_fields` AS lir_fields\n",
    "ON\n",
    "  liveramp_import_requests.id = lir_fields.liveramp_import_request_id\n",
    "INNER JOIN\n",
    "  `corp-bi-us-prod.rldb.lir_pin_types` AS lir_pin_types\n",
    "ON\n",
    "  liveramp_import_requests.id = lir_pin_types.liveramp_import_request_id\n",
    "INNER JOIN\n",
    "  `corp-bi-us-prod.rldb.liveramp_customer_accounts` AS liveramp_customer_accounts\n",
    "ON\n",
    "  liveramp_import_requests.liveramp_customer_account_id = liveramp_customer_accounts.id\n",
    "WHERE\n",
    "  liveramp_import_requests.status = 10\n",
    "  AND liveramp_customer_accounts.customer_link_audience = FALSE\n",
    "  AND (liveramp_customer_accounts.type = \"OfflineLiverampCustomerAccount\"\n",
    "    OR liveramp_customer_accounts.type = \"OnlineLiverampCustomerAccount\")\n",
    "GROUP BY\n",
    "  liveramp_customer_accounts.id,\n",
    "  liveramp_customer_accounts.display_name\n",
    "ORDER BY\n",
    "  imports_with_fields_and_pins DESC"
   ]
  },
  {
   "cell_type": "markdown",
   "metadata": {},
   "source": [
    "# PINless imports analysis ARCHIVE"
   ]
  },
  {
   "cell_type": "code",
   "execution_count": null,
   "metadata": {},
   "outputs": [],
   "source": [
    "# Audiences with greater than 31 imports (50th percentile) and greater than 19% pinless imports (50th percentile). See section for methodology.\n",
    "\n",
    "# 131 audiences fit this criteria\n",
    "\n",
    "pinless_aks = {'Vertical': ['non-Data Store', 'Data Store', 'Total'], \n",
    "               'Email': [7, 0, 7], \n",
    "               'CID': [83, 36, 119], \n",
    "               'Address': [2, 0, 2]\n",
    "                    }\n",
    "pinless_aks_table = pd.DataFrame(pinless_aks, columns = ['Vertical', 'Email', 'CID', 'Address'])\n",
    "pinless_aks_table"
   ]
  },
  {
   "cell_type": "markdown",
   "metadata": {},
   "source": [
    "## results\n",
    "\n",
    "non DS audiences \n",
    "\n",
    "email - 7\n",
    "\n",
    "CID - 83\n",
    "\n",
    "address - 2\n",
    "\n",
    "DS audiences - 103\n",
    "\n",
    "address - 6\n",
    "\n",
    "raw email - 8\n",
    "\n",
    "MD5 - 4\n",
    "\n",
    "SHA256 - 1\n",
    "\n",
    "CID - 76"
   ]
  },
  {
   "cell_type": "markdown",
   "metadata": {},
   "source": [
    "## Offline PINless analysis"
   ]
  },
  {
   "cell_type": "code",
   "execution_count": null,
   "metadata": {
    "code_folding": [],
    "scrolled": true
   },
   "outputs": [],
   "source": [
    "sql = \"\"\"\n",
    "WITH\n",
    "  pinless_audiences AS \n",
    "\n",
    "  (\n",
    "  SELECT\n",
    "    liveramp_customer_accounts.display_name AS audience_name,\n",
    "    liveramp_customer_accounts.id AS audience_id,\n",
    "    COUNT(liveramp_import_requests.id) AS total_imports,\n",
    "    COUNT(lir_pin_types.id) AS PIN_imports,\n",
    "    SUM(CASE\n",
    "        WHEN lir_pin_types.id IS NULL THEN 1\n",
    "      ELSE\n",
    "      0\n",
    "    END\n",
    "      ) AS PINLESS_imports,\n",
    "    SAFE_DIVIDE(SUM(CASE\n",
    "          WHEN lir_pin_types.id IS NULL THEN 1\n",
    "        ELSE\n",
    "        0\n",
    "      END\n",
    "        ),\n",
    "      COUNT(liveramp_import_requests.id)) AS percent_pinless\n",
    "  FROM\n",
    "    `corp-bi-us-prod.rldb.liveramp_customer_accounts` AS liveramp_customer_accounts\n",
    "  INNER JOIN\n",
    "    `corp-bi-us-prod.rldb.customers` AS customers\n",
    "  ON\n",
    "    liveramp_customer_accounts.customer_id = customers.id\n",
    "  INNER JOIN\n",
    "    `corp-bi-us-prod.rldb.liveramp_import_requests` AS liveramp_import_requests\n",
    "  ON\n",
    "    liveramp_customer_accounts.id = liveramp_import_requests.liveramp_customer_account_id\n",
    "  LEFT JOIN\n",
    "    `corp-bi-us-prod.rldb.lir_pin_types` AS lir_pin_types\n",
    "  ON\n",
    "    liveramp_import_requests.id = lir_pin_types.liveramp_import_request_id\n",
    "  WHERE\n",
    "    liveramp_customer_accounts.type = \"OfflineLiverampCustomerAccount\"\n",
    "    AND liveramp_customer_accounts.customer_link_audience = FALSE\n",
    "    AND liveramp_import_requests.status <> 11\n",
    "  GROUP BY\n",
    "    1,\n",
    "    2\n",
    "  HAVING\n",
    "    percent_pinless > 0 \n",
    "    )\n",
    "\n",
    "  ,\n",
    "  audience_aks AS \n",
    "  (\n",
    "  SELECT\n",
    "    audience_key_labels.liveramp_customer_account_id AS table_2_audience_id,\n",
    "    customers.id AS customer_id,\n",
    "    customers.name AS customer_name,\n",
    "    COUNT(audience_key_labels.id) AS ak_count,\n",
    "    STRING_AGG(LOWER(audience_key_labels.label)) AS aks,\n",
    "    liveramp_customer_accounts.type\n",
    "  FROM\n",
    "    `corp-bi-us-prod.rldb.audience_key_labels` AS audience_key_labels\n",
    "  INNER JOIN\n",
    "    `corp-bi-us-prod.rldb.liveramp_customer_accounts` AS liveramp_customer_accounts\n",
    "  ON\n",
    "    audience_key_labels.liveramp_customer_account_id = liveramp_customer_accounts.id\n",
    "  INNER JOIN\n",
    "    `corp-bi-us-prod.rldb.customers` AS customers\n",
    "  ON\n",
    "    liveramp_customer_accounts.customer_id = customers.id\n",
    "  WHERE\n",
    "    customers.status = 1\n",
    "    AND liveramp_customer_accounts.enabled = TRUE\n",
    "    AND liveramp_customer_accounts.customer_link_audience = FALSE\n",
    "  GROUP BY\n",
    "    1,\n",
    "    2,\n",
    "    3,\n",
    "    6\n",
    "  ORDER BY\n",
    "    ak_count DESC\n",
    "    )\n",
    "\n",
    "SELECT\n",
    "  audience_id, audience_name, customer_name, customer_id, total_imports, PIN_imports, PINLESS_imports, percent_pinless, ak_count, aks\n",
    "FROM\n",
    "  pinless_audiences\n",
    "INNER JOIN\n",
    "  audience_aks\n",
    "ON\n",
    "  audience_id = table_2_audience_id\n",
    "\"\"\"\n",
    "x = datetime.datetime.now()\n",
    "print(\"Last data pull:\", x)\n",
    "\n",
    "pinless_auds = pandas_gbq.read_gbq(sql, project_id='liveramp-ts-bigquery')\n",
    "pinless_auds"
   ]
  },
  {
   "cell_type": "code",
   "execution_count": null,
   "metadata": {},
   "outputs": [],
   "source": [
    "total_auds = pinless_auds.loc[pinless_auds['percent_pinless']>0.198]\n",
    "total_auds = total_auds.loc[total_auds['total_imports']>31]"
   ]
  },
  {
   "cell_type": "code",
   "execution_count": null,
   "metadata": {},
   "outputs": [],
   "source": [
    "# filter for audiences w/one audience key\n",
    "pinless_auds_1_ak = pinless_auds.loc[pinless_auds['ak_count'] == 1]\n",
    "# filter for audiences with %pinless imports in 50th percentile\n",
    "pinless_auds_1_ak_50 = pinless_auds_1_ak.loc[pinless_auds_1_ak['percent_pinless']>0.198]\n",
    "# 50th percentile number of imports, 50th percentile percent pinless\n",
    "pinless_auds_1_ak_50_50 = pinless_auds_1_ak_50.loc[pinless_auds_1_ak_50['total_imports']>31]"
   ]
  },
  {
   "cell_type": "code",
   "execution_count": null,
   "metadata": {},
   "outputs": [],
   "source": [
    "pinless_auds_1_ak_50_50 \n",
    "pinless_auds_1_ak_50_50_values = pd.DataFrame(pinless_auds_1_ak_50_50[\"aks\"].value_counts())"
   ]
  },
  {
   "cell_type": "code",
   "execution_count": null,
   "metadata": {},
   "outputs": [],
   "source": [
    "# audiences w/4-8 aks (addresses)\n",
    "# filter for audiences w/4-8 audience keys\n",
    "pinless_auds_4_ak = pinless_auds[(pinless_auds['ak_count'] >= 4) & (pinless_auds['ak_count'] <= 8)]\n",
    "# filter for audiences with %pinless imports in 50th percentile\n",
    "pinless_auds_4_ak_50 = pinless_auds_4_ak.loc[pinless_auds_4_ak['percent_pinless']>0.198]\n",
    "# 50th percentile number of imports, 50th percentile percent pinless\n",
    "pinless_auds_4_ak_50_50 = pinless_auds_4_ak_50.loc[pinless_auds_4_ak_50['total_imports']>31]"
   ]
  },
  {
   "cell_type": "markdown",
   "metadata": {},
   "source": [
    "Data Store audiences, query PINless audiences"
   ]
  },
  {
   "cell_type": "code",
   "execution_count": null,
   "metadata": {
    "code_folding": [
     1,
     81,
     83,
     85,
     87,
     89
    ]
   },
   "outputs": [],
   "source": [
    "sql = \"\"\"\n",
    "WITH\n",
    "  pinless_audiences AS \n",
    "\n",
    "  (\n",
    "  SELECT\n",
    "    liveramp_customer_accounts.display_name AS audience_name,\n",
    "    liveramp_customer_accounts.id AS audience_id,\n",
    "    COUNT(liveramp_import_requests.id) AS total_imports,\n",
    "    COUNT(lir_pin_types.id) AS PIN_imports,\n",
    "    SUM(CASE\n",
    "        WHEN lir_pin_types.id IS NULL THEN 1\n",
    "      ELSE\n",
    "      0\n",
    "    END\n",
    "      ) AS PINLESS_imports,\n",
    "    SAFE_DIVIDE(SUM(CASE\n",
    "          WHEN lir_pin_types.id IS NULL THEN 1\n",
    "        ELSE\n",
    "        0\n",
    "      END\n",
    "        ),\n",
    "      COUNT(liveramp_import_requests.id)) AS percent_pinless\n",
    "  FROM\n",
    "    `corp-bi-us-prod.rldb.liveramp_customer_accounts` AS liveramp_customer_accounts\n",
    "  INNER JOIN\n",
    "    `corp-bi-us-prod.rldb.customers` AS customers\n",
    "  ON\n",
    "    liveramp_customer_accounts.customer_id = customers.id\n",
    "  INNER JOIN\n",
    "    `corp-bi-us-prod.rldb.liveramp_import_requests` AS liveramp_import_requests\n",
    "  ON\n",
    "    liveramp_customer_accounts.id = liveramp_import_requests.liveramp_customer_account_id\n",
    "  LEFT JOIN\n",
    "    `corp-bi-us-prod.rldb.lir_pin_types` AS lir_pin_types\n",
    "  ON\n",
    "    liveramp_import_requests.id = lir_pin_types.liveramp_import_request_id\n",
    "  WHERE\n",
    "    liveramp_customer_accounts.type = \"OfflineLiverampCustomerAccount\"\n",
    "    AND liveramp_customer_accounts.customer_link_audience = FALSE\n",
    "    AND liveramp_import_requests.status <> 11\n",
    "  GROUP BY\n",
    "    1,\n",
    "    2\n",
    "  HAVING\n",
    "    percent_pinless > 0 \n",
    "    )\n",
    "\n",
    "  ,\n",
    "  audience_aks AS \n",
    "  (\n",
    "  SELECT\n",
    "    audience_key_labels.liveramp_customer_account_id AS table_2_audience_id,\n",
    "    customers.id AS customer_id,\n",
    "    customers.name AS customer_name,\n",
    "    COUNT(audience_key_labels.id) AS ak_count,\n",
    "    STRING_AGG(LOWER(audience_key_labels.label)) AS aks,\n",
    "    liveramp_customer_accounts.type\n",
    "  FROM\n",
    "    `corp-bi-us-prod.rldb.audience_key_labels` AS audience_key_labels\n",
    "  INNER JOIN\n",
    "    `corp-bi-us-prod.rldb.liveramp_customer_accounts` AS liveramp_customer_accounts\n",
    "  ON\n",
    "    audience_key_labels.liveramp_customer_account_id = liveramp_customer_accounts.id\n",
    "  INNER JOIN\n",
    "    `corp-bi-us-prod.rldb.customers` AS customers\n",
    "  ON\n",
    "    liveramp_customer_accounts.customer_id = customers.id\n",
    "  WHERE\n",
    "    customers.status = 1\n",
    "    AND liveramp_customer_accounts.enabled = TRUE\n",
    "    AND liveramp_customer_accounts.customer_link_audience = FALSE\n",
    "  GROUP BY\n",
    "    1,\n",
    "    2,\n",
    "    3,\n",
    "    6\n",
    "  ORDER BY\n",
    "    ak_count DESC\n",
    "    )\n",
    "\n",
    "SELECT\n",
    "  audience_id, audience_name, customer_name, customer_id, total_imports, PIN_imports, PINLESS_imports, percent_pinless, ak_count, aks\n",
    "FROM\n",
    "  pinless_audiences\n",
    "INNER JOIN\n",
    "  audience_aks\n",
    "ON\n",
    "  audience_id = table_2_audience_id\n",
    "WHERE audience_id IN (\n",
    "              SELECT\n",
    "                lr_customer_accounts.id\n",
    "              FROM\n",
    "                `corp-bi-us-prod.rldb.dms_segments` AS dms_segments\n",
    "              INNER JOIN\n",
    "                `corp-bi-us-prod.rldb.lrc_field_definitions` AS lrc_field_definitions\n",
    "              ON\n",
    "                dms_segments.lrc_field_definition_id = lrc_field_definitions.id\n",
    "              INNER JOIN\n",
    "                `corp-bi-us-prod.rldb.liveramp_customer_accounts` AS lr_customer_accounts\n",
    "              ON\n",
    "                lrc_field_definitions.lr_customer_account_id = lr_customer_accounts.id\n",
    "              INNER JOIN\n",
    "                `corp-bi-us-prod.rldb.customers` AS customers\n",
    "              ON\n",
    "                lr_customer_accounts.customer_id = customers.id\n",
    "              WHERE\n",
    "                lr_customer_accounts.enabled = TRUE\n",
    "                AND lr_customer_accounts.customer_link_audience = FALSE\n",
    "                AND customers.status = 1\n",
    "              GROUP BY\n",
    "                lr_customer_accounts.id) \n",
    "\"\"\"\n",
    "x = datetime.datetime.now()\n",
    "print(\"Last data pull:\", x)\n",
    "\n",
    "pinless_auds_ds = pandas_gbq.read_gbq(sql, project_id='liveramp-ts-bigquery')"
   ]
  },
  {
   "cell_type": "code",
   "execution_count": null,
   "metadata": {},
   "outputs": [],
   "source": [
    "# filter for audiences w/one audience key \n",
    "pinless_auds_ds_1 = pinless_auds_ds.loc[pinless_auds_ds['ak_count'] == 1] \n",
    "# filter for percent pinless > 0.198\n",
    "pinless_auds_ds_50 = pinless_auds_ds_1.loc[pinless_auds_ds_1['percent_pinless']>0.198]\n",
    "# filter for total imports > 32\n",
    "pinless_auds_ds_50_50 = pinless_auds_ds_50.loc[pinless_auds_ds_50['total_imports']>32]"
   ]
  },
  {
   "cell_type": "code",
   "execution_count": null,
   "metadata": {},
   "outputs": [],
   "source": [
    "# filter for audiences w/4-8 audience keys\n",
    "pinless_auds_ds_4 = pinless_auds_ds[(pinless_auds_ds['ak_count'] >= 4) & (pinless_auds_ds['ak_count'] <= 8)]\n",
    "# filter for percent pinless > 0.198\n",
    "# NO RESULTS"
   ]
  },
  {
   "cell_type": "markdown",
   "metadata": {},
   "source": [
    "## Online PINless analysis"
   ]
  },
  {
   "cell_type": "code",
   "execution_count": null,
   "metadata": {},
   "outputs": [],
   "source": [
    "sql = \"\"\"\n",
    "WITH\n",
    "  pinless_audiences AS (\n",
    "  SELECT\n",
    "    liveramp_customer_accounts.display_name AS audience_name,\n",
    "    liveramp_customer_accounts.id AS audience_id,\n",
    "    COUNT(liveramp_import_requests.id) AS total_imports,\n",
    "    COUNT(lir_pin_types.id) AS PIN_imports,\n",
    "    SUM(CASE\n",
    "        WHEN lir_pin_types.id IS NULL THEN 1\n",
    "      ELSE\n",
    "      0\n",
    "    END\n",
    "      ) AS PINLESS_imports,\n",
    "    SAFE_DIVIDE(SUM(CASE\n",
    "          WHEN lir_pin_types.id IS NULL THEN 1\n",
    "        ELSE\n",
    "        0\n",
    "      END\n",
    "        ),\n",
    "      COUNT(liveramp_import_requests.id)) AS percent_pinless\n",
    "  FROM\n",
    "    `corp-bi-us-prod.rldb.liveramp_customer_accounts` AS liveramp_customer_accounts\n",
    "  INNER JOIN\n",
    "    `corp-bi-us-prod.rldb.customers` AS customers\n",
    "  ON\n",
    "    liveramp_customer_accounts.customer_id = customers.id\n",
    "  INNER JOIN\n",
    "    `corp-bi-us-prod.rldb.liveramp_import_requests` AS liveramp_import_requests\n",
    "  ON\n",
    "    liveramp_customer_accounts.id = liveramp_import_requests.liveramp_customer_account_id\n",
    "  LEFT JOIN\n",
    "    `corp-bi-us-prod.rldb.lir_pin_types` AS lir_pin_types\n",
    "  ON\n",
    "    liveramp_import_requests.id = lir_pin_types.liveramp_import_request_id\n",
    "  WHERE\n",
    "    liveramp_customer_accounts.type = \"OnlineLiverampCustomerAccount\"\n",
    "    AND liveramp_customer_accounts.customer_link_audience = FALSE\n",
    "    AND liveramp_import_requests.status <> 11\n",
    "  GROUP BY\n",
    "    1,\n",
    "    2\n",
    "  HAVING\n",
    "    percent_pinless > 0 ),\n",
    "  audience_aks AS (\n",
    "  SELECT\n",
    "    audience_key_labels.liveramp_customer_account_id AS table_2_audience_id,\n",
    "    customers.id AS customer_id,\n",
    "    customers.name AS customer_name,\n",
    "    COUNT(audience_key_labels.id) AS ak_count,\n",
    "    STRING_AGG(LOWER(audience_key_labels.label)) AS aks,\n",
    "    liveramp_customer_accounts.type\n",
    "  FROM\n",
    "    `corp-bi-us-prod.rldb.audience_key_labels` AS audience_key_labels\n",
    "  INNER JOIN\n",
    "    `corp-bi-us-prod.rldb.liveramp_customer_accounts` AS liveramp_customer_accounts\n",
    "  ON\n",
    "    audience_key_labels.liveramp_customer_account_id = liveramp_customer_accounts.id\n",
    "  INNER JOIN\n",
    "    `corp-bi-us-prod.rldb.customers` AS customers\n",
    "  ON\n",
    "    liveramp_customer_accounts.customer_id = customers.id\n",
    "  WHERE\n",
    "    customers.status = 1\n",
    "    AND liveramp_customer_accounts.enabled = TRUE\n",
    "    AND liveramp_customer_accounts.customer_link_audience = FALSE\n",
    "  GROUP BY\n",
    "    1,\n",
    "    2,\n",
    "    3,\n",
    "    6\n",
    "  ORDER BY\n",
    "    ak_count DESC )\n",
    "SELECT\n",
    "  audience_id,\n",
    "  audience_name,\n",
    "  customer_name,\n",
    "  customer_id,\n",
    "  total_imports,\n",
    "  PIN_imports,\n",
    "  PINLESS_imports,\n",
    "  percent_pinless,\n",
    "  ak_count,\n",
    "  aks\n",
    "FROM\n",
    "  pinless_audiences\n",
    "INNER JOIN\n",
    "  audience_aks\n",
    "ON\n",
    "  audience_id = table_2_audience_id\n",
    "\"\"\"\n",
    "\n",
    "x = datetime.datetime.now()\n",
    "print(\"Last data pull:\", x)\n",
    "\n",
    "online_pinless_auds = pandas_gbq.read_gbq(sql, project_id='liveramp-ts-bigquery')"
   ]
  },
  {
   "cell_type": "code",
   "execution_count": null,
   "metadata": {},
   "outputs": [],
   "source": [
    "online_pinless_auds.describe()"
   ]
  },
  {
   "cell_type": "code",
   "execution_count": null,
   "metadata": {},
   "outputs": [],
   "source": [
    "# Pinless online audiences grouped by AK type\n",
    "data = online_pinless_auds[['aks', 'audience_id']]\n",
    "data = online_pinless_auds.groupby(['aks']).count().sort_values(by='audience_id', ascending = False)\n",
    "data[['audience_id']]"
   ]
  },
  {
   "cell_type": "markdown",
   "metadata": {},
   "source": [
    "# appendix"
   ]
  },
  {
   "cell_type": "code",
   "execution_count": null,
   "metadata": {},
   "outputs": [],
   "source": [
    "pinless_auds.describe()"
   ]
  },
  {
   "cell_type": "code",
   "execution_count": null,
   "metadata": {},
   "outputs": [],
   "source": [
    "percent_pinless = pinless_auds['percent_pinless']"
   ]
  },
  {
   "cell_type": "code",
   "execution_count": null,
   "metadata": {},
   "outputs": [],
   "source": [
    "percent_pinless.plot.hist()"
   ]
  },
  {
   "cell_type": "code",
   "execution_count": null,
   "metadata": {},
   "outputs": [],
   "source": [
    "# Data Store audiences, 'other' AKs, in response to Alison's question about other AKs for data provider audiences\n",
    "sql = \"\"\"\n",
    "SELECT\n",
    "  audience_key_labels.id AS ak_id,\n",
    "  liveramp_customer_accounts.id,\n",
    "  audience_key_labels.key_index,\n",
    "  audience_key_labels.label,\n",
    "  liveramp_customer_accounts.customer_id,\n",
    "  customers.name,\n",
    "  liveramp_customer_accounts.display_name,\n",
    "  STRING_AGG(LOWER(audience_key_labels.label)) AS aks,\n",
    "  COUNT(audience_key_labels.id) AS count_AKs\n",
    "FROM\n",
    "  `corp-bi-us-prod.rldb.audience_key_labels` AS audience_key_labels\n",
    "INNER JOIN\n",
    "  `corp-bi-us-prod.rldb.liveramp_customer_accounts` AS liveramp_customer_accounts\n",
    "ON\n",
    "  audience_key_labels.liveramp_customer_account_id = liveramp_customer_accounts.id\n",
    "INNER JOIN\n",
    "  `corp-bi-us-prod.rldb.customers` AS customers\n",
    "ON\n",
    "  liveramp_customer_accounts.customer_id = customers.id\n",
    "WHERE\n",
    "  liveramp_customer_accounts.id IN (\n",
    "              SELECT\n",
    "                lr_customer_accounts.id\n",
    "              FROM\n",
    "                `corp-bi-us-prod.rldb.dms_segments` AS dms_segments\n",
    "              INNER JOIN\n",
    "                `corp-bi-us-prod.rldb.lrc_field_definitions` AS lrc_field_definitions\n",
    "              ON\n",
    "                dms_segments.lrc_field_definition_id = lrc_field_definitions.id\n",
    "              INNER JOIN\n",
    "                `corp-bi-us-prod.rldb.liveramp_customer_accounts` AS lr_customer_accounts\n",
    "              ON\n",
    "                lrc_field_definitions.lr_customer_account_id = lr_customer_accounts.id\n",
    "              INNER JOIN\n",
    "                `corp-bi-us-prod.rldb.customers` AS customers\n",
    "              ON\n",
    "                lr_customer_accounts.customer_id = customers.id\n",
    "              WHERE\n",
    "                lr_customer_accounts.enabled = TRUE\n",
    "                AND lr_customer_accounts.customer_link_audience = FALSE\n",
    "                AND customers.status = 1\n",
    "              GROUP BY\n",
    "                lr_customer_accounts.id)\n",
    "  AND customers.status = 1\n",
    "  AND liveramp_customer_accounts.enabled = TRUE\n",
    "  AND liveramp_customer_accounts.customer_link_audience = FALSE\n",
    "  AND audience_key_labels.key_index = 0\n",
    "GROUP BY\n",
    "  liveramp_customer_accounts.id,\n",
    "  liveramp_customer_accounts.display_name,\n",
    "  liveramp_customer_accounts.customer_id,\n",
    "  customers.name,\n",
    "  audience_key_labels.key_index,\n",
    "  ak_id,\n",
    "  audience_key_labels.label\n",
    "HAVING count_AKs = 1\n",
    "\"\"\"\n",
    "x = datetime.datetime.now()\n",
    "print(\"Last data pull:\", x)\n",
    "\n",
    "DS_aks = pandas_gbq.read_gbq(sql, project_id='liveramp-ts-bigquery')\n"
   ]
  },
  {
   "cell_type": "code",
   "execution_count": null,
   "metadata": {},
   "outputs": [],
   "source": [
    "ds_aks = pd.DataFrame(DS_aks[\"aks\"].value_counts())\n",
    "ds_aks"
   ]
  },
  {
   "cell_type": "code",
   "execution_count": null,
   "metadata": {},
   "outputs": [],
   "source": [
    "pel = ds_aks.loc[\"pel\"]\n",
    "pel = pel[\"aks\"]\n",
    "\n",
    "device_id = (ds_aks.loc[\"device id\"] + ds_aks.loc[\"device_id\"])\n",
    "device_id = device_id[\"aks\"]\n",
    "\n",
    "idl = ds_aks.loc[\"idl\"]\n",
    "idl = idl[\"aks\"]\n",
    "\n",
    "clink = ds_aks.loc[\"clink_16\"]\n",
    "clink = clink[\"aks\"]\n",
    "\n",
    "generic_id = ds_aks.loc[\"id\"]\n",
    "generic_id = generic_id[\"aks\"]\n",
    "\n",
    "first_name = ds_aks.loc[\"firstname\"] + ds_aks.loc[\"first_name\"]\n",
    "first_name = first_name[\"aks\"]\n",
    "\n",
    "agile_id = ds_aks.loc[\"agile_id\"]\n",
    "agile_id = agile_id[\"aks\"]\n",
    "\n",
    "rnc_reg_id = ds_aks.loc[\"rnc_reg_id\"]\n",
    "rnc_reg_id = rnc_reg_id[\"aks\"]\n",
    "\n",
    "last_name = ds_aks.loc[\"lastname\"]\n",
    "last_name = last_name[\"aks\"]\n",
    "\n",
    "fb_ext_id = ds_aks.loc[\"fb_ext_id\"]\n",
    "fb_ext_id = fb_ext_id[\"aks\"]\n",
    "\n",
    "aiq_hhid = ds_aks.loc[\"aiq_hhid\"]\n",
    "aiq_hhid = aiq_hhid[\"aks\"]\n",
    "\n",
    "ds_other_aks = {'AK Type': [\"cid\",\n",
    "                            \"email\",\n",
    "                            \"pel\", \n",
    "                            \"device_id\", \n",
    "                            \"idl\",\n",
    "                            \"address\",\n",
    "                            \"clink\", \n",
    "                            \"generic_id\", \n",
    "                            \"first_name\", \n",
    "                            \"agile_id\", \n",
    "                            \"rnc_reg_id\",\n",
    "                            \"last_name\",\n",
    "                            \"fb_ext_id\",\n",
    "                            \"aiq_hhid\"],\n",
    "               'Number of Audiences': [(CID_DS_offline + CID_DS_online),\n",
    "                                       (raw_email_DS_aud_counts + \n",
    "                                        SHA256_DS_aud_counts + \n",
    "                                        SHA1_DS_aud_counts +\n",
    "                                       MD5_DS_aud_counts),\n",
    "                                       pel, \n",
    "                                       device_id, \n",
    "                                       idl,\n",
    "                                       address_aks_DS,\n",
    "                                       clink, \n",
    "                                       generic_id, \n",
    "                                       first_name, \n",
    "                                       agile_id, \n",
    "                                       rnc_reg_id,\n",
    "                                       last_name,\n",
    "                                       fb_ext_id,\n",
    "                                       aiq_hhid],\n",
    "                'Percent of All DS Audiences':\n",
    "                [((CID_DS_offline + CID_DS_online)/(DMS_offline_audience_count + DMS_online_audience_count)),\n",
    "                    ((raw_email_DS_aud_counts + \n",
    "                                        SHA256_DS_aud_counts + \n",
    "                                        SHA1_DS_aud_counts +\n",
    "                                       MD5_DS_aud_counts)/(DMS_offline_audience_count + DMS_online_audience_count)),\n",
    "                pel/(DMS_offline_audience_count + DMS_online_audience_count),\n",
    "                device_id/(DMS_offline_audience_count + DMS_online_audience_count),\n",
    "                idl/(DMS_offline_audience_count + DMS_online_audience_count),\n",
    "                 address_aks_DS/(DMS_offline_audience_count + DMS_online_audience_count),\n",
    "                clink/(DMS_offline_audience_count + DMS_online_audience_count),\n",
    "                generic_id/(DMS_offline_audience_count + DMS_online_audience_count),\n",
    "                first_name/(DMS_offline_audience_count + DMS_online_audience_count),\n",
    "                agile_id/(DMS_offline_audience_count + DMS_online_audience_count),\n",
    "                rnc_reg_id/(DMS_offline_audience_count + DMS_online_audience_count),\n",
    "                last_name/(DMS_offline_audience_count + DMS_online_audience_count),\n",
    "                fb_ext_id/(DMS_offline_audience_count + DMS_online_audience_count),\n",
    "                aiq_hhid/(DMS_offline_audience_count + DMS_online_audience_count)]\n",
    "               }\n",
    "ds_other_aks_table = pd.DataFrame(ds_other_aks, columns = ['AK Type', \n",
    "                                                           'Number of Audiences', \n",
    "                                                           'Percent of All DS Audiences'])\n",
    "ds_other_aks_table\n"
   ]
  },
  {
   "cell_type": "code",
   "execution_count": null,
   "metadata": {},
   "outputs": [],
   "source": []
  }
 ],
 "metadata": {
  "kernelspec": {
   "display_name": "Python (AKanalysis)",
   "language": "python",
   "name": "akanalysis"
  },
  "language_info": {
   "codemirror_mode": {
    "name": "ipython",
    "version": 3
   },
   "file_extension": ".py",
   "mimetype": "text/x-python",
   "name": "python",
   "nbconvert_exporter": "python",
   "pygments_lexer": "ipython3",
   "version": "3.8.3"
  },
  "nteract": {
   "version": "0.23.1"
  },
  "toc": {
   "base_numbering": 1,
   "nav_menu": {},
   "number_sections": true,
   "sideBar": true,
   "skip_h1_title": false,
   "title_cell": "Table of Contents",
   "title_sidebar": "Contents",
   "toc_cell": true,
   "toc_position": {
    "height": "calc(100% - 180px)",
    "left": "10px",
    "top": "150px",
    "width": "361.875px"
   },
   "toc_section_display": true,
   "toc_window_display": true
  },
  "widgets": {
   "application/vnd.jupyter.widget-state+json": {
    "state": {},
    "version_major": 2,
    "version_minor": 0
   }
  }
 },
 "nbformat": 4,
 "nbformat_minor": 4
}
