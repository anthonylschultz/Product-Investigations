{
 "cells": [
  {
   "cell_type": "markdown",
   "metadata": {
    "toc": true
   },
   "source": [
    "<h1>Table of Contents<span class=\"tocSkip\"></span></h1>\n",
    "<div class=\"toc\"><ul class=\"toc-item\"><li><span><a href=\"#Results\" data-toc-modified-id=\"Results-1\"><span class=\"toc-item-num\">1&nbsp;&nbsp;</span>Results</a></span><ul class=\"toc-item\"><li><span><a href=\"#Audience-Counts-by-Type-and-Vertical\" data-toc-modified-id=\"Audience-Counts-by-Type-and-Vertical-1.1\"><span class=\"toc-item-num\">1.1&nbsp;&nbsp;</span>Audience Counts by Type and Vertical</a></span></li><li><span><a href=\"#AK-analysis:-Emails\" data-toc-modified-id=\"AK-analysis:-Emails-1.2\"><span class=\"toc-item-num\">1.2&nbsp;&nbsp;</span>AK analysis: Emails</a></span></li><li><span><a href=\"#AK-analysis:-CIDs\" data-toc-modified-id=\"AK-analysis:-CIDs-1.3\"><span class=\"toc-item-num\">1.3&nbsp;&nbsp;</span>AK analysis: CIDs</a></span></li><li><span><a href=\"#AK-analysis:-Addresses\" data-toc-modified-id=\"AK-analysis:-Addresses-1.4\"><span class=\"toc-item-num\">1.4&nbsp;&nbsp;</span>AK analysis: Addresses</a></span></li><li><span><a href=\"#AK-analysis:-Pinless-Audiences\" data-toc-modified-id=\"AK-analysis:-Pinless-Audiences-1.5\"><span class=\"toc-item-num\">1.5&nbsp;&nbsp;</span>AK analysis: Pinless Audiences</a></span></li></ul></li><li><span><a href=\"#Load-Libraries,-Modules\" data-toc-modified-id=\"Load-Libraries,-Modules-2\"><span class=\"toc-item-num\">2&nbsp;&nbsp;</span>Load Libraries, Modules</a></span></li><li><span><a href=\"#Online-audiences-vs.-Offline-audiences\" data-toc-modified-id=\"Online-audiences-vs.-Offline-audiences-3\"><span class=\"toc-item-num\">3&nbsp;&nbsp;</span>Online audiences vs. Offline audiences</a></span><ul class=\"toc-item\"><li><span><a href=\"#results\" data-toc-modified-id=\"results-3.1\"><span class=\"toc-item-num\">3.1&nbsp;&nbsp;</span>results</a></span></li><li><span><a href=\"#data-wrangling\" data-toc-modified-id=\"data-wrangling-3.2\"><span class=\"toc-item-num\">3.2&nbsp;&nbsp;</span>data wrangling</a></span></li></ul></li><li><span><a href=\"#Data-store-audiences-vs.-non-data-store-audiences\" data-toc-modified-id=\"Data-store-audiences-vs.-non-data-store-audiences-4\"><span class=\"toc-item-num\">4&nbsp;&nbsp;</span>Data store audiences vs. non-data store audiences</a></span><ul class=\"toc-item\"><li><span><a href=\"#results\" data-toc-modified-id=\"results-4.1\"><span class=\"toc-item-num\">4.1&nbsp;&nbsp;</span>results</a></span></li><li><span><a href=\"#data-wrangling\" data-toc-modified-id=\"data-wrangling-4.2\"><span class=\"toc-item-num\">4.2&nbsp;&nbsp;</span>data wrangling</a></span></li></ul></li><li><span><a href=\"#Email-only-audiences\" data-toc-modified-id=\"Email-only-audiences-5\"><span class=\"toc-item-num\">5&nbsp;&nbsp;</span>Email-only audiences</a></span><ul class=\"toc-item\"><li><span><a href=\"#Results\" data-toc-modified-id=\"Results-5.1\"><span class=\"toc-item-num\">5.1&nbsp;&nbsp;</span>Results</a></span><ul class=\"toc-item\"><li><span><a href=\"#all-audiences\" data-toc-modified-id=\"all-audiences-5.1.1\"><span class=\"toc-item-num\">5.1.1&nbsp;&nbsp;</span>all audiences</a></span></li><li><span><a href=\"#non-DS-audiences\" data-toc-modified-id=\"non-DS-audiences-5.1.2\"><span class=\"toc-item-num\">5.1.2&nbsp;&nbsp;</span>non-DS audiences</a></span></li><li><span><a href=\"#DS-audiences\" data-toc-modified-id=\"DS-audiences-5.1.3\"><span class=\"toc-item-num\">5.1.3&nbsp;&nbsp;</span>DS audiences</a></span></li></ul></li><li><span><a href=\"#Data-wrangling\" data-toc-modified-id=\"Data-wrangling-5.2\"><span class=\"toc-item-num\">5.2&nbsp;&nbsp;</span>Data wrangling</a></span></li></ul></li><li><span><a href=\"#CID-only-audiences\" data-toc-modified-id=\"CID-only-audiences-6\"><span class=\"toc-item-num\">6&nbsp;&nbsp;</span>CID-only audiences</a></span><ul class=\"toc-item\"><li><span><a href=\"#Results\" data-toc-modified-id=\"Results-6.1\"><span class=\"toc-item-num\">6.1&nbsp;&nbsp;</span>Results</a></span><ul class=\"toc-item\"><li><span><a href=\"#all-audiences\" data-toc-modified-id=\"all-audiences-6.1.1\"><span class=\"toc-item-num\">6.1.1&nbsp;&nbsp;</span>all audiences</a></span></li><li><span><a href=\"#non-DS-audiences\" data-toc-modified-id=\"non-DS-audiences-6.1.2\"><span class=\"toc-item-num\">6.1.2&nbsp;&nbsp;</span>non-DS audiences</a></span></li><li><span><a href=\"#DS-audiences\" data-toc-modified-id=\"DS-audiences-6.1.3\"><span class=\"toc-item-num\">6.1.3&nbsp;&nbsp;</span>DS audiences</a></span></li></ul></li></ul></li><li><span><a href=\"#Address-only-audiences\" data-toc-modified-id=\"Address-only-audiences-7\"><span class=\"toc-item-num\">7&nbsp;&nbsp;</span>Address-only audiences</a></span><ul class=\"toc-item\"><li><span><a href=\"#Results\" data-toc-modified-id=\"Results-7.1\"><span class=\"toc-item-num\">7.1&nbsp;&nbsp;</span>Results</a></span><ul class=\"toc-item\"><li><span><a href=\"#all-audiences\" data-toc-modified-id=\"all-audiences-7.1.1\"><span class=\"toc-item-num\">7.1.1&nbsp;&nbsp;</span>all audiences</a></span></li><li><span><a href=\"#data-store\" data-toc-modified-id=\"data-store-7.1.2\"><span class=\"toc-item-num\">7.1.2&nbsp;&nbsp;</span>data store</a></span></li></ul></li><li><span><a href=\"#Data-Wrangling\" data-toc-modified-id=\"Data-Wrangling-7.2\"><span class=\"toc-item-num\">7.2&nbsp;&nbsp;</span>Data Wrangling</a></span></li></ul></li><li><span><a href=\"#PINless-imports-analysis\" data-toc-modified-id=\"PINless-imports-analysis-8\"><span class=\"toc-item-num\">8&nbsp;&nbsp;</span>PINless imports analysis</a></span><ul class=\"toc-item\"><li><span><a href=\"#results\" data-toc-modified-id=\"results-8.1\"><span class=\"toc-item-num\">8.1&nbsp;&nbsp;</span>results</a></span></li><li><span><a href=\"#appendix\" data-toc-modified-id=\"appendix-8.2\"><span class=\"toc-item-num\">8.2&nbsp;&nbsp;</span>appendix</a></span></li></ul></li></ul></div>"
   ]
  },
  {
   "cell_type": "markdown",
   "metadata": {},
   "source": [
    "# Results"
   ]
  },
  {
   "cell_type": "markdown",
   "metadata": {},
   "source": [
    "## Audience Counts by Type and Vertical \n",
    "Active customers, enabled audiences, non-FBR audiences"
   ]
  },
  {
   "cell_type": "code",
   "execution_count": 61,
   "metadata": {
    "code_folding": [
     0
    ]
   },
   "outputs": [
    {
     "data": {
      "text/html": [
       "<div>\n",
       "<style scoped>\n",
       "    .dataframe tbody tr th:only-of-type {\n",
       "        vertical-align: middle;\n",
       "    }\n",
       "\n",
       "    .dataframe tbody tr th {\n",
       "        vertical-align: top;\n",
       "    }\n",
       "\n",
       "    .dataframe thead th {\n",
       "        text-align: right;\n",
       "    }\n",
       "</style>\n",
       "<table border=\"1\" class=\"dataframe\">\n",
       "  <thead>\n",
       "    <tr style=\"text-align: right;\">\n",
       "      <th></th>\n",
       "      <th>Audience Type</th>\n",
       "      <th>Data Store</th>\n",
       "      <th>All Audiences</th>\n",
       "    </tr>\n",
       "  </thead>\n",
       "  <tbody>\n",
       "    <tr>\n",
       "      <th>0</th>\n",
       "      <td>Offline</td>\n",
       "      <td>546</td>\n",
       "      <td>15103</td>\n",
       "    </tr>\n",
       "    <tr>\n",
       "      <th>1</th>\n",
       "      <td>Online</td>\n",
       "      <td>1018</td>\n",
       "      <td>4976</td>\n",
       "    </tr>\n",
       "    <tr>\n",
       "      <th>2</th>\n",
       "      <td>Total</td>\n",
       "      <td>1567</td>\n",
       "      <td>20079</td>\n",
       "    </tr>\n",
       "  </tbody>\n",
       "</table>\n",
       "</div>"
      ],
      "text/plain": [
       "  Audience Type  Data Store  All Audiences\n",
       "0       Offline         546          15103\n",
       "1        Online        1018           4976\n",
       "2         Total        1567          20079"
      ]
     },
     "execution_count": 61,
     "metadata": {},
     "output_type": "execute_result"
    }
   ],
   "source": [
    "audience_counts = {'Audience Type': ['Offline','Online', 'Total'], 'Data Store': [546, 1018, 1567],\n",
    "        'All Audiences': [15103,4976, 20079]\n",
    "        }\n",
    "\n",
    "aud_counts_table = pd.DataFrame(audience_counts, columns = ['Audience Type', 'Data Store', 'All Audiences'])\n",
    "aud_counts_table"
   ]
  },
  {
   "cell_type": "markdown",
   "metadata": {},
   "source": [
    "## AK analysis: Emails"
   ]
  },
  {
   "cell_type": "markdown",
   "metadata": {},
   "source": [
    "Active customers, enabled audiences, non-FBR audiences where AK = email. Validated audiences have one AK in SQL statement. "
   ]
  },
  {
   "cell_type": "code",
   "execution_count": 95,
   "metadata": {
    "code_folding": []
   },
   "outputs": [
    {
     "data": {
      "text/html": [
       "<div>\n",
       "<style scoped>\n",
       "    .dataframe tbody tr th:only-of-type {\n",
       "        vertical-align: middle;\n",
       "    }\n",
       "\n",
       "    .dataframe tbody tr th {\n",
       "        vertical-align: top;\n",
       "    }\n",
       "\n",
       "    .dataframe thead th {\n",
       "        text-align: right;\n",
       "    }\n",
       "</style>\n",
       "<table border=\"1\" class=\"dataframe\">\n",
       "  <thead>\n",
       "    <tr style=\"text-align: right;\">\n",
       "      <th></th>\n",
       "      <th>Vertical</th>\n",
       "      <th>Raw</th>\n",
       "      <th>SHA256</th>\n",
       "      <th>MD5</th>\n",
       "      <th>SHA1</th>\n",
       "      <th>All Email Audiences</th>\n",
       "    </tr>\n",
       "  </thead>\n",
       "  <tbody>\n",
       "    <tr>\n",
       "      <th>0</th>\n",
       "      <td>non-Data Store</td>\n",
       "      <td>5034</td>\n",
       "      <td>48</td>\n",
       "      <td>98</td>\n",
       "      <td>26</td>\n",
       "      <td>5206</td>\n",
       "    </tr>\n",
       "    <tr>\n",
       "      <th>1</th>\n",
       "      <td>Data Store</td>\n",
       "      <td>79</td>\n",
       "      <td>6</td>\n",
       "      <td>15</td>\n",
       "      <td>8</td>\n",
       "      <td>108</td>\n",
       "    </tr>\n",
       "    <tr>\n",
       "      <th>2</th>\n",
       "      <td>Total</td>\n",
       "      <td>5113</td>\n",
       "      <td>54</td>\n",
       "      <td>113</td>\n",
       "      <td>34</td>\n",
       "      <td>5314</td>\n",
       "    </tr>\n",
       "  </tbody>\n",
       "</table>\n",
       "</div>"
      ],
      "text/plain": [
       "         Vertical   Raw  SHA256  MD5  SHA1  All Email Audiences\n",
       "0  non-Data Store  5034      48   98    26                 5206\n",
       "1      Data Store    79       6   15     8                  108\n",
       "2           Total  5113      54  113    34                 5314"
      ]
     },
     "execution_count": 95,
     "metadata": {},
     "output_type": "execute_result"
    }
   ],
   "source": [
    "email_aks = {'Vertical': ['non-Data Store', 'Data Store', 'Total'],\n",
    "             'Raw': [5034, 79, 5113], \n",
    "             'SHA256': [48, 6, 54],\n",
    "             'MD5': [98,15, 113], \n",
    "             'SHA1':[26, 8, 34],\n",
    "             'All Email Audiences':[5206, 108, 5314]\n",
    "        }\n",
    "\n",
    "email_aks_table = pd.DataFrame(email_aks, columns = ['Vertical','Raw', 'SHA256', 'MD5', 'SHA1', 'All Email Audiences'])\n",
    "email_aks_table.head()"
   ]
  },
  {
   "cell_type": "markdown",
   "metadata": {},
   "source": [
    "## AK analysis: CIDs"
   ]
  },
  {
   "cell_type": "markdown",
   "metadata": {},
   "source": [
    "Active customers, enabled audiences, non-FBR audiences where AK = email. Validated audiences have one AK in SQL statement."
   ]
  },
  {
   "cell_type": "code",
   "execution_count": 96,
   "metadata": {
    "code_folding": []
   },
   "outputs": [
    {
     "data": {
      "text/html": [
       "<div>\n",
       "<style scoped>\n",
       "    .dataframe tbody tr th:only-of-type {\n",
       "        vertical-align: middle;\n",
       "    }\n",
       "\n",
       "    .dataframe tbody tr th {\n",
       "        vertical-align: top;\n",
       "    }\n",
       "\n",
       "    .dataframe thead th {\n",
       "        text-align: right;\n",
       "    }\n",
       "</style>\n",
       "<table border=\"1\" class=\"dataframe\">\n",
       "  <thead>\n",
       "    <tr style=\"text-align: right;\">\n",
       "      <th></th>\n",
       "      <th>Vertical</th>\n",
       "      <th>Offline</th>\n",
       "      <th>Online</th>\n",
       "      <th>All CID Audiences</th>\n",
       "    </tr>\n",
       "  </thead>\n",
       "  <tbody>\n",
       "    <tr>\n",
       "      <th>0</th>\n",
       "      <td>non-Data Store</td>\n",
       "      <td>4050</td>\n",
       "      <td>986</td>\n",
       "      <td>5036</td>\n",
       "    </tr>\n",
       "    <tr>\n",
       "      <th>1</th>\n",
       "      <td>Data Store</td>\n",
       "      <td>242</td>\n",
       "      <td>176</td>\n",
       "      <td>418</td>\n",
       "    </tr>\n",
       "    <tr>\n",
       "      <th>2</th>\n",
       "      <td>Total</td>\n",
       "      <td>4292</td>\n",
       "      <td>1162</td>\n",
       "      <td>5454</td>\n",
       "    </tr>\n",
       "  </tbody>\n",
       "</table>\n",
       "</div>"
      ],
      "text/plain": [
       "         Vertical  Offline  Online  All CID Audiences\n",
       "0  non-Data Store     4050     986               5036\n",
       "1      Data Store      242     176                418\n",
       "2           Total     4292    1162               5454"
      ]
     },
     "execution_count": 96,
     "metadata": {},
     "output_type": "execute_result"
    }
   ],
   "source": [
    "cid_aks = {'Vertical': ['non-Data Store', 'Data Store', 'Total'],\n",
    "           'Offline': [4050, 242, 4292], \n",
    "           'Online': [986, 176, 1162],\n",
    "           'All CID Audiences': [5036, 418, 5454]\n",
    "          }\n",
    "cid_aks_table = pd.DataFrame(cid_aks, columns = ['Vertical', 'Offline', 'Online', 'All CID Audiences'])\n",
    "cid_aks_table"
   ]
  },
  {
   "cell_type": "markdown",
   "metadata": {},
   "source": [
    "## AK analysis: Addresses"
   ]
  },
  {
   "cell_type": "markdown",
   "metadata": {},
   "source": [
    "Active customers, enabled audiences, non-FBR audiences where AK = address fields and between 4-7 values."
   ]
  },
  {
   "cell_type": "code",
   "execution_count": 97,
   "metadata": {
    "code_folding": []
   },
   "outputs": [
    {
     "data": {
      "text/html": [
       "<div>\n",
       "<style scoped>\n",
       "    .dataframe tbody tr th:only-of-type {\n",
       "        vertical-align: middle;\n",
       "    }\n",
       "\n",
       "    .dataframe tbody tr th {\n",
       "        vertical-align: top;\n",
       "    }\n",
       "\n",
       "    .dataframe thead th {\n",
       "        text-align: right;\n",
       "    }\n",
       "</style>\n",
       "<table border=\"1\" class=\"dataframe\">\n",
       "  <thead>\n",
       "    <tr style=\"text-align: right;\">\n",
       "      <th></th>\n",
       "      <th>Vertical</th>\n",
       "      <th>Offline</th>\n",
       "      <th>Online</th>\n",
       "      <th>All Address Audiences</th>\n",
       "    </tr>\n",
       "  </thead>\n",
       "  <tbody>\n",
       "    <tr>\n",
       "      <th>0</th>\n",
       "      <td>non-Data Store</td>\n",
       "      <td>1043</td>\n",
       "      <td>12</td>\n",
       "      <td>1055</td>\n",
       "    </tr>\n",
       "    <tr>\n",
       "      <th>1</th>\n",
       "      <td>Data Store</td>\n",
       "      <td>90</td>\n",
       "      <td>0</td>\n",
       "      <td>90</td>\n",
       "    </tr>\n",
       "    <tr>\n",
       "      <th>2</th>\n",
       "      <td>Total</td>\n",
       "      <td>1133</td>\n",
       "      <td>12</td>\n",
       "      <td>1145</td>\n",
       "    </tr>\n",
       "  </tbody>\n",
       "</table>\n",
       "</div>"
      ],
      "text/plain": [
       "         Vertical  Offline  Online  All Address Audiences\n",
       "0  non-Data Store     1043      12                   1055\n",
       "1      Data Store       90       0                     90\n",
       "2           Total     1133      12                   1145"
      ]
     },
     "execution_count": 97,
     "metadata": {},
     "output_type": "execute_result"
    }
   ],
   "source": [
    "address_aks = {'Vertical': ['non-Data Store', 'Data Store', 'Total'], \n",
    "               'Offline': [1043, 90, 1133],\n",
    "               'Online': [12, 0, 12], \n",
    "               'All Address Audiences': [1055, 90, 1145]\n",
    "              }\n",
    "address_aks_table = pd.DataFrame(address_aks, columns = ['Vertical', 'Offline', 'Online', 'All Address Audiences'])\n",
    "address_aks_table"
   ]
  },
  {
   "cell_type": "markdown",
   "metadata": {},
   "source": [
    "## AK analysis: Pinless Audiences"
   ]
  },
  {
   "cell_type": "markdown",
   "metadata": {},
   "source": [
    "Audiences with greater than 31 imports (50th percentile) and greater than 19% pinless imports (50th percentile). See section for methodology.\n",
    "\n",
    "131 audiences fit this criteria"
   ]
  },
  {
   "cell_type": "code",
   "execution_count": 81,
   "metadata": {},
   "outputs": [
    {
     "data": {
      "text/html": [
       "<div>\n",
       "<style scoped>\n",
       "    .dataframe tbody tr th:only-of-type {\n",
       "        vertical-align: middle;\n",
       "    }\n",
       "\n",
       "    .dataframe tbody tr th {\n",
       "        vertical-align: top;\n",
       "    }\n",
       "\n",
       "    .dataframe thead th {\n",
       "        text-align: right;\n",
       "    }\n",
       "</style>\n",
       "<table border=\"1\" class=\"dataframe\">\n",
       "  <thead>\n",
       "    <tr style=\"text-align: right;\">\n",
       "      <th></th>\n",
       "      <th>Vertical</th>\n",
       "      <th>Email</th>\n",
       "      <th>CID</th>\n",
       "      <th>Address</th>\n",
       "    </tr>\n",
       "  </thead>\n",
       "  <tbody>\n",
       "    <tr>\n",
       "      <th>0</th>\n",
       "      <td>non-Data Store</td>\n",
       "      <td>7</td>\n",
       "      <td>83</td>\n",
       "      <td>2</td>\n",
       "    </tr>\n",
       "    <tr>\n",
       "      <th>1</th>\n",
       "      <td>Data Store</td>\n",
       "      <td>0</td>\n",
       "      <td>36</td>\n",
       "      <td>0</td>\n",
       "    </tr>\n",
       "    <tr>\n",
       "      <th>2</th>\n",
       "      <td>Total</td>\n",
       "      <td>7</td>\n",
       "      <td>119</td>\n",
       "      <td>2</td>\n",
       "    </tr>\n",
       "  </tbody>\n",
       "</table>\n",
       "</div>"
      ],
      "text/plain": [
       "         Vertical  Email  CID  Address\n",
       "0  non-Data Store      7   83        2\n",
       "1      Data Store      0   36        0\n",
       "2           Total      7  119        2"
      ]
     },
     "execution_count": 81,
     "metadata": {},
     "output_type": "execute_result"
    }
   ],
   "source": [
    "pinless_aks = {'Vertical': ['non-Data Store', 'Data Store', 'Total'], \n",
    "               'Email': [7, 0, 7], \n",
    "               'CID': [83, 36, 119], \n",
    "               'Address': [2, 0, 2]\n",
    "                    }\n",
    "pinless_aks_table = pd.DataFrame(pinless_aks, columns = ['Vertical', 'Email', 'CID', 'Address'])\n",
    "pinless_aks_table"
   ]
  },
  {
   "cell_type": "markdown",
   "metadata": {
    "nteract": {
     "transient": {
      "deleting": false
     }
    }
   },
   "source": [
    "# Load Libraries, Modules"
   ]
  },
  {
   "cell_type": "code",
   "execution_count": null,
   "metadata": {
    "code_folding": [],
    "collapsed": true,
    "execution": {
     "iopub.execute_input": "2020-05-12T00:18:57.990Z",
     "iopub.status.busy": "2020-05-12T00:18:57.977Z",
     "iopub.status.idle": "2020-05-12T00:18:59.721Z",
     "shell.execute_reply": "2020-05-12T00:18:59.708Z"
    }
   },
   "outputs": [],
   "source": [
    "# import basics\n",
    "\n",
    "from google.cloud import bigquery\n",
    "import pandas as pd\n",
    "import numpy as np\n",
    "import matplotlib.pyplot as plt\n",
    "import matplotlib.patches as mpatches\n",
    "import pandas_gbq\n",
    "pd.set_option('display.max_rows', 500)"
   ]
  },
  {
   "cell_type": "markdown",
   "metadata": {
    "nteract": {
     "transient": {
      "deleting": false
     }
    }
   },
   "source": [
    "# Online audiences vs. Offline audiences"
   ]
  },
  {
   "cell_type": "markdown",
   "metadata": {
    "nteract": {
     "transient": {
      "deleting": false
     }
    }
   },
   "source": [
    "## results\n",
    "\n",
    "total enabled audiences:\n",
    "21,364\n",
    "\n",
    "offline audiences: 15,707\n",
    "\n",
    "online audiences: 5,117\n"
   ]
  },
  {
   "cell_type": "markdown",
   "metadata": {
    "nteract": {
     "transient": {
      "deleting": false
     }
    }
   },
   "source": [
    "## data wrangling"
   ]
  },
  {
   "cell_type": "markdown",
   "metadata": {
    "nteract": {
     "transient": {
      "deleting": false
     }
    }
   },
   "source": [
    "query all audiences -> enabled, non-FBR"
   ]
  },
  {
   "cell_type": "code",
   "execution_count": 25,
   "metadata": {},
   "outputs": [
    {
     "name": "stderr",
     "output_type": "stream",
     "text": [
      "Downloading: 100%|██████████| 20673/20673 [00:04<00:00, 5050.62rows/s]\n"
     ]
    }
   ],
   "source": [
    "sql = \"\"\"\n",
    "SELECT *\n",
    "FROM `corp-bi-us-prod.rldb.liveramp_customer_accounts` \n",
    "WHERE enabled = true AND customer_link_audience = false;\n",
    "\"\"\"\n",
    "lcas = pandas_gbq.read_gbq(sql, project_id='liveramp-ts-bigquery')"
   ]
  },
  {
   "cell_type": "markdown",
   "metadata": {
    "nteract": {
     "transient": {
      "deleting": false
     }
    }
   },
   "source": [
    "query audience type summary -> enabled, non-FBR"
   ]
  },
  {
   "cell_type": "code",
   "execution_count": 26,
   "metadata": {},
   "outputs": [
    {
     "name": "stderr",
     "output_type": "stream",
     "text": [
      "Downloading: 100%|██████████| 9/9 [00:00<00:00, 46.35rows/s]\n"
     ]
    }
   ],
   "source": [
    "sql = \"\"\"\n",
    "SELECT type, count(type) AS type_count\n",
    "FROM `corp-bi-us-prod.rldb.liveramp_customer_accounts` \n",
    "WHERE enabled = true AND customer_link_audience = false\n",
    "GROUP BY type\n",
    "ORDER BY type_count DESC\n",
    "\"\"\"\n",
    "\n",
    "aud_sum = pandas_gbq.read_gbq(sql, project_id='liveramp-ts-bigquery')"
   ]
  },
  {
   "cell_type": "code",
   "execution_count": 28,
   "metadata": {
    "execution": {
     "iopub.execute_input": "2020-04-30T19:05:46.711Z",
     "iopub.status.busy": "2020-04-30T19:05:46.707Z",
     "iopub.status.idle": "2020-04-30T19:05:46.720Z",
     "shell.execute_reply": "2020-04-30T19:05:46.725Z"
    },
    "jupyter": {
     "outputs_hidden": true
    }
   },
   "outputs": [
    {
     "data": {
      "text/html": [
       "<div>\n",
       "<style scoped>\n",
       "    .dataframe tbody tr th:only-of-type {\n",
       "        vertical-align: middle;\n",
       "    }\n",
       "\n",
       "    .dataframe tbody tr th {\n",
       "        vertical-align: top;\n",
       "    }\n",
       "\n",
       "    .dataframe thead th {\n",
       "        text-align: right;\n",
       "    }\n",
       "</style>\n",
       "<table border=\"1\" class=\"dataframe\">\n",
       "  <thead>\n",
       "    <tr style=\"text-align: right;\">\n",
       "      <th></th>\n",
       "      <th>type</th>\n",
       "      <th>type_count</th>\n",
       "    </tr>\n",
       "  </thead>\n",
       "  <tbody>\n",
       "    <tr>\n",
       "      <th>0</th>\n",
       "      <td>OfflineLiverampCustomerAccount</td>\n",
       "      <td>15103</td>\n",
       "    </tr>\n",
       "    <tr>\n",
       "      <th>1</th>\n",
       "      <td>OnlineLiverampCustomerAccount</td>\n",
       "      <td>4976</td>\n",
       "    </tr>\n",
       "  </tbody>\n",
       "</table>\n",
       "</div>"
      ],
      "text/plain": [
       "                             type  type_count\n",
       "0  OfflineLiverampCustomerAccount       15103\n",
       "1   OnlineLiverampCustomerAccount        4976"
      ]
     },
     "execution_count": 28,
     "metadata": {},
     "output_type": "execute_result"
    }
   ],
   "source": [
    "# aud_sum = pd.read_csv('/Users/aschul/Documents/Documents - aschul1118mac/Code_Base/Investigations/20200417_AK_analysis/all_LCAs_summary.csv')\n",
    "aud_sum.head(2)"
   ]
  },
  {
   "cell_type": "markdown",
   "metadata": {},
   "source": [
    "# Data store audiences vs. non-data store audiences"
   ]
  },
  {
   "cell_type": "markdown",
   "metadata": {
    "nteract": {
     "transient": {
      "deleting": false
     }
    }
   },
   "source": [
    "## results\n",
    "data provider customers - 804 (active customers, defined as having entry in the dms_provider table)\n",
    "\n",
    "total active audiences - 21,364\n",
    "___________________\n",
    "\n",
    "offline audiences - 15,707\n",
    "\n",
    "offline, data store provider audiences - 546\n",
    "\n",
    "___________________\n",
    "\n",
    "online audiences - 5,110\n",
    "\n",
    "online, data store provider audiences - 1,018\n",
    "___________________\n",
    "\n",
    "total data store provider audiences - 1,567\n",
    "\n"
   ]
  },
  {
   "cell_type": "markdown",
   "metadata": {
    "nteract": {
     "transient": {
      "deleting": false
     }
    }
   },
   "source": [
    "## data wrangling"
   ]
  },
  {
   "cell_type": "markdown",
   "metadata": {
    "nteract": {
     "transient": {
      "deleting": false
     }
    }
   },
   "source": [
    "query all data provider customers -> customer status = enabled"
   ]
  },
  {
   "cell_type": "code",
   "execution_count": 13,
   "metadata": {},
   "outputs": [
    {
     "name": "stderr",
     "output_type": "stream",
     "text": [
      "Downloading: 100%|██████████| 826/826 [00:00<00:00, 3588.00rows/s]\n"
     ]
    }
   ],
   "source": [
    "sql = \"\"\"\n",
    "SELECT dms_providers.customer_id, customers.id\n",
    "FROM `corp-bi-us-prod.rldb.dms_providers` AS dms_providers\n",
    "  INNER JOIN `corp-bi-us-prod.rldb.customers` AS customers\n",
    "    ON dms_providers.customer_id = customers.id\n",
    "WHERE customers.status = 1\n",
    "\"\"\"\n",
    "dms_providers = pandas_gbq.read_gbq(sql, project_id='liveramp-ts-bigquery')"
   ]
  },
  {
   "cell_type": "markdown",
   "metadata": {
    "nteract": {
     "transient": {
      "deleting": false
     }
    }
   },
   "source": [
    "query all data store audiences -> enabled, non-FBR audiences, customer status = enabled"
   ]
  },
  {
   "cell_type": "code",
   "execution_count": 34,
   "metadata": {},
   "outputs": [
    {
     "name": "stderr",
     "output_type": "stream",
     "text": [
      "Downloading: 100%|██████████| 1617/1617 [00:00<00:00, 6646.17rows/s]\n"
     ]
    },
    {
     "data": {
      "text/plain": [
       "audience_id      1617\n",
       "audience_name    1617\n",
       "customer_name    1617\n",
       "customer_id      1617\n",
       "type             1617\n",
       "dtype: int64"
      ]
     },
     "execution_count": 34,
     "metadata": {},
     "output_type": "execute_result"
    }
   ],
   "source": [
    "sql = \"\"\"\n",
    "SELECT lr_customer_accounts.id AS audience_id, lr_customer_accounts.display_name AS audience_name, customers.name AS customer_name, customers.id AS customer_id, lr_customer_accounts.type\n",
    "FROM `corp-bi-us-prod.rldb.dms_segments` AS dms_segments\n",
    "INNER JOIN `corp-bi-us-prod.rldb.lrc_field_definitions` AS lrc_field_definitions\n",
    "  ON dms_segments.lrc_field_definition_id = lrc_field_definitions.id\n",
    "INNER JOIN `corp-bi-us-prod.rldb.liveramp_customer_accounts` AS lr_customer_accounts\n",
    "  ON lrc_field_definitions.lr_customer_account_id = lr_customer_accounts.id\n",
    "INNER JOIN `corp-bi-us-prod.rldb.customers` AS customers\n",
    "  ON lr_customer_accounts.customer_id = customers.id\n",
    "WHERE lr_customer_accounts.enabled = true AND lr_customer_accounts.customer_link_audience = false AND customers.status = 1\n",
    "GROUP BY lr_customer_accounts.id, lr_customer_accounts.display_name, customers.name, customers.id, lr_customer_accounts.type\n",
    "\"\"\"\n",
    "dms_audiences = pandas_gbq.read_gbq(sql, project_id='liveramp-ts-bigquery')\n",
    "dms_audiences.count()"
   ]
  },
  {
   "cell_type": "markdown",
   "metadata": {
    "nteract": {
     "transient": {
      "deleting": false
     }
    }
   },
   "source": [
    "# Email-only audiences"
   ]
  },
  {
   "cell_type": "markdown",
   "metadata": {
    "nteract": {
     "transient": {
      "deleting": false
     }
    }
   },
   "source": [
    "## Results\n",
    "### all audiences\n",
    "enabled, non-FBR audiences where AK = email and customer = enabled\n",
    "\n",
    "audiences w/AK as raw email - 5,113\n",
    "\n",
    "audiences w/AK as hashed email - 253\n",
    "\n",
    "-------------\n",
    "audiences w/AK as MD5 email - 113\n",
    "\n",
    "audiences w/AK as SHA256 email - 54\n",
    "\n",
    "audiences w/AK as SHA1 email - 34\n",
    "\n",
    "audiences w/AK as unknown hash email - 52\n",
    "\n",
    "### non-DS audiences\n",
    "enabled, non-FBR audiences where AK = email and customer = enabled\n",
    "\n",
    "non DS audiences w/AK set as raw email - 5,034\n",
    "\n",
    "non-DS audienecs w/AK set as hashed email - 223\n",
    "\n",
    "-------------\n",
    "audiences w/AK set as MD5 email - 98\n",
    "\n",
    "audiences w/AK set as SHA256 email - 48\n",
    "\n",
    "audiences w/AK set as SHA1 email - 26\n",
    "\n",
    "audiences w/AK set as unknown hash email - 51\n",
    "\n",
    "### DS audiences\n",
    "enabled, non-FBR audiences where AK = email and customer = enabled\n",
    "\n",
    "DS audiences w/AK set as raw email - 79\n",
    "\n",
    "DS audiences w/AK set as hashed email - 30\n",
    "\n",
    "-------------\n",
    "DS audiences w/AK set as MD5 email - 15\n",
    "\n",
    "DS audiences w/AK set as SHA256 email - 6\n",
    "\n",
    "DS audiences w/AK set as SHA1 email - 8\n",
    "\n",
    "DS audiences w/AK set as unknown hash email - 1"
   ]
  },
  {
   "cell_type": "markdown",
   "metadata": {
    "nteract": {
     "transient": {
      "deleting": false
     }
    }
   },
   "source": [
    "## Data wrangling"
   ]
  },
  {
   "cell_type": "markdown",
   "metadata": {
    "nteract": {
     "transient": {
      "deleting": false
     }
    }
   },
   "source": [
    "query all audiences with AK -> enabled, non-FBR audiences, enabled customers"
   ]
  },
  {
   "cell_type": "code",
   "execution_count": 16,
   "metadata": {
    "code_folding": []
   },
   "outputs": [
    {
     "name": "stderr",
     "output_type": "stream",
     "text": [
      "Downloading: 100%|██████████| 5480/5480 [00:00<00:00, 9141.99rows/s]\n"
     ]
    }
   ],
   "source": [
    "sql = \"\"\"\n",
    "SELECT\n",
    "  audience_key_labels.id AS ak_id,\n",
    "  liveramp_customer_accounts.id,\n",
    "  audience_key_labels.key_index,\n",
    "  audience_key_labels.label,\n",
    "  liveramp_customer_accounts.customer_id,\n",
    "  liveramp_customer_accounts.display_name,\n",
    "  COUNT(audience_key_labels.id) AS count_AKs\n",
    "FROM\n",
    "  `corp-bi-us-prod.rldb.audience_key_labels` AS audience_key_labels\n",
    "INNER JOIN\n",
    "  `corp-bi-us-prod.rldb.liveramp_customer_accounts` AS liveramp_customer_accounts\n",
    "ON\n",
    "  audience_key_labels.liveramp_customer_account_id = liveramp_customer_accounts.id\n",
    "INNER JOIN\n",
    "  `corp-bi-us-prod.rldb.customers` AS customers\n",
    "ON\n",
    "  liveramp_customer_accounts.customer_id = customers.id\n",
    "WHERE\n",
    "  customers.status = 1\n",
    "  AND liveramp_customer_accounts.enabled = TRUE\n",
    "  AND liveramp_customer_accounts.customer_link_audience = FALSE\n",
    "  AND lower(audience_key_labels.label) LIKE '%email%'\n",
    "  AND audience_key_labels.key_index = 0\n",
    "GROUP BY\n",
    "  liveramp_customer_accounts.id,\n",
    "  liveramp_customer_accounts.display_name,\n",
    "  liveramp_customer_accounts.customer_id,\n",
    "  audience_key_labels.key_index,\n",
    "  ak_id,\n",
    "  audience_key_labels.label\n",
    "HAVING count_AKs = 1\n",
    "\"\"\"\n",
    "raw_emails_all_audiences = pandas_gbq.read_gbq(sql, project_id='liveramp-ts-bigquery')"
   ]
  },
  {
   "cell_type": "code",
   "execution_count": 22,
   "metadata": {
    "execution": {
     "iopub.execute_input": "2020-05-06T03:04:12.272Z",
     "iopub.status.busy": "2020-05-06T03:04:12.263Z",
     "iopub.status.idle": "2020-05-06T03:04:12.284Z",
     "shell.execute_reply": "2020-05-06T03:04:12.293Z"
    },
    "jupyter": {
     "outputs_hidden": false,
     "source_hidden": false
    },
    "nteract": {
     "transient": {
      "deleting": false
     }
    },
    "outputExpanded": false
   },
   "outputs": [
    {
     "data": {
      "text/html": [
       "<div>\n",
       "<style scoped>\n",
       "    .dataframe tbody tr th:only-of-type {\n",
       "        vertical-align: middle;\n",
       "    }\n",
       "\n",
       "    .dataframe tbody tr th {\n",
       "        vertical-align: top;\n",
       "    }\n",
       "\n",
       "    .dataframe thead th {\n",
       "        text-align: right;\n",
       "    }\n",
       "</style>\n",
       "<table border=\"1\" class=\"dataframe\">\n",
       "  <thead>\n",
       "    <tr style=\"text-align: right;\">\n",
       "      <th></th>\n",
       "      <th>label</th>\n",
       "    </tr>\n",
       "  </thead>\n",
       "  <tbody>\n",
       "    <tr>\n",
       "      <th>email</th>\n",
       "      <td>5149</td>\n",
       "    </tr>\n",
       "    <tr>\n",
       "      <th>MD5</th>\n",
       "      <td>113</td>\n",
       "    </tr>\n",
       "    <tr>\n",
       "      <th>SHA256</th>\n",
       "      <td>54</td>\n",
       "    </tr>\n",
       "    <tr>\n",
       "      <th>hashed_email</th>\n",
       "      <td>52</td>\n",
       "    </tr>\n",
       "    <tr>\n",
       "      <th>SHA1</th>\n",
       "      <td>34</td>\n",
       "    </tr>\n",
       "  </tbody>\n",
       "</table>\n",
       "</div>"
      ],
      "text/plain": [
       "              label\n",
       "email          5149\n",
       "MD5             113\n",
       "SHA256           54\n",
       "hashed_email     52\n",
       "SHA1             34"
      ]
     },
     "execution_count": 22,
     "metadata": {},
     "output_type": "execute_result"
    }
   ],
   "source": [
    "raw_email_values = pd.DataFrame(raw_emails_all_audiences[\"label\"].value_counts())\n",
    "raw_email_values.head()"
   ]
  },
  {
   "cell_type": "code",
   "execution_count": 21,
   "metadata": {
    "code_folding": [
     1
    ],
    "execution": {
     "iopub.execute_input": "2020-05-01T01:26:05.622Z",
     "iopub.status.busy": "2020-05-01T01:26:05.616Z",
     "iopub.status.idle": "2020-05-01T01:26:05.629Z",
     "shell.execute_reply": "2020-05-01T01:26:05.639Z"
    },
    "jupyter": {
     "outputs_hidden": false,
     "source_hidden": false
    },
    "nteract": {
     "transient": {
      "deleting": false
     }
    },
    "outputExpanded": true
   },
   "outputs": [],
   "source": [
    "# normalize email columns (raw, MD5, SHA1, SHA256)\n",
    "raw_emails_all_audiences[\"label\"].replace({\"Email\":\"email\", \n",
    "                             \"Email1\":\"email\",\n",
    "                             \"Email Address\":\"email\",\n",
    "                             \"EmailAddress\":\"email\", \n",
    "                             \"Emails\":\"email\",\n",
    "                             \"EMAIL\":\"email\",\n",
    "                             \"Email_1\":\"email\",\n",
    "                             \"EmailAddress\":\"email\",\n",
    "                             \"email_address\":\"email\",\n",
    "                             \"EMAIL_ADDRESS\":\"email\",\n",
    "                             \"Email 1\":\"email\",\n",
    "                             \"Email(s)\":\"email\",\n",
    "                             \"email1\":\"email\",\n",
    "                             \"EMAIL_ID\":\"email\",\n",
    "                             \"email1_MD5\":\"MD5\",\n",
    "                             \"emailmd5\":\"MD5\",\n",
    "                             \"profiles.email_address\":\"email\",\n",
    "                             \"EMAIL_ADDR\":\"email\",\n",
    "                             \"SHA256EMAIL1\":\"email\",\n",
    "                             \"email_addr\":\"email\",\n",
    "                             \"MD5EMAIL\":\"MD5\",\n",
    "                             \"EmailAddress\":\"email\",\n",
    "                             \"EMAIL1\":\"email\",\n",
    "                             \"cust_email_addr\":\"email\",\n",
    "                             \"Email_Address\":\"email\",\n",
    "                             \"md5_email\":\"MD5\",\n",
    "                             \"Email_ID\":\"email\",\n",
    "                             \"EMAIL_ADDR_TXT\":\"email\",\n",
    "                             \"emailAddress\":\"email\",\n",
    "                             \"sha1_email\":\"SHA1\",\n",
    "                             \"MD5Email\":\"MD5\",\n",
    "                             \"email_1\":\"email\",\n",
    "                             \"LRI_G_SHA1EMAIL1\":\"SHA1\",\n",
    "                             \"LRI_G_SHA256EMAIL1\":\"SHA256\",\n",
    "                             \"loweremailmd5\":\"MD5\",\n",
    "                             \"email_sha256\":\"SHA256\",\n",
    "                             \"SHA256_EMAIL\":\"SHA256\",\n",
    "                             \"MD5_Email\":\"MD5\",\n",
    "                             \"LRI_DER_SHA256EMAIL1\":\"SHA256\",\n",
    "                             \"email_SHA-1\":\"SHA1\",\n",
    "                             \"sha256email\":\"SHA256\",\n",
    "                             \"email address\":\"email\",\n",
    "                             \"purch_email_addr\":\"email\",\n",
    "                             \"HashedEmail\":\"hashed_email\",\n",
    "                             \"P_EMAIL_ADDRESS\":\"email\",\n",
    "                             \"Member Email Address\":\"email\",\n",
    "                             \"Email Addresses\":\"email\",\n",
    "                             \"email_md5\":\"MD5\",\n",
    "                             \"emails\":\"email\",\n",
    "                             \"Email Hash\":\"hashed_email\",\n",
    "                             \"customer_email\":\"email\",\n",
    "                             \"EMAIL_ADDRESS_\":\"email\",\n",
    "                             \"SHA 256 Email\":\"SHA256\",\n",
    "                             \"EMAILADDRESS\":\"email\",\n",
    "                             \"LRI_DER_SHA1EMAIL1\":\"SHA1\",\n",
    "                             \"email_hash\":\"hashed_email\",\n",
    "                             \"LRI_G_MD5EMAIL1\":\"MD5\",\n",
    "                             \"EMAIL_SHA256\":\"SHA256\",\n",
    "                             \"PII_EMAIL_ADDRESS\":\"email\",\n",
    "                             \"EMail\":\"email\",\n",
    "                             \"Email address\":\"email\",\n",
    "                             \"SHA1_Email\":\"SHA1\",\n",
    "                             \"LRI_DER_MD5EMAIL1\":\"MD5\",\n",
    "                             \"EMAIL_1\":\"email\",\n",
    "                             \"sha256_email\":\"SHA256\",\n",
    "                             \"SHA256EMAIL\":\"SHA256\",\n",
    "                             \"SHA256Email\":\"email\",\n",
    "                             \"emailaddress\":\"email\",\n",
    "                             \"email_id\":\"email\",\n",
    "                             \"SHA1EMAIL\":\"SHA1\",\n",
    "                             \"hashed email\":\"hashed_email\",\n",
    "                             \"SHA256HASHEDEMAIL\":\"SHA256\",\n",
    "                             \"email2\":\"email\",\n",
    "                             \"EMAIL_ADDRESS_1\":\"email\",\n",
    "                             \"md5email\":\"MD5\",\n",
    "                             \"hashedemail\":\"hashed_email\",\n",
    "                             \"EMAIL_HASHED\":\"hashed_email\",\n",
    "                             \"Broker Email\":\"email\",\n",
    "                             \"HASH_MD5_LOWER_EMAIL\":\"MD5\",\n",
    "                             \"profileEmail\":\"email\",\n",
    "                             \"email_Address\":\"email\",\n",
    "                             \"Hashed_Email\":\"hashed_email\",\n",
    "                             \"PER_EMAIL\":\"email\",\n",
    "                             \"Hashed_Email_Address\":\"email\",\n",
    "                             \"Peloton Order Order Email\":\"email\",\n",
    "                             \"EMAIL,FN,LN,,ZIP,CT,PHONE,\":\"email\",\n",
    "                             \"Hashed_Email_ID_Hex\":\"hashed_email\",\n",
    "                             \"#email_lc_md5\":\"MD5\",\n",
    "                             \"MD5_EMAIL\":\"MD5\",\n",
    "                             \"\\EMAIL\\\"\":\"email\",\n",
    "                             \"Customer Email\":\"email\",\n",
    "                             \"CUSTOMERS_SalesOrder_BILLTOLookup::Email\":\"email\",\n",
    "                             \"profile.email\":\"email\",\n",
    "                             \"HASHED_EMAIL\":\"hashed_email\",\n",
    "                             \"sha256email1\":\"SHA256\",\n",
    "                             \"Hashed Email\":\"hashed_email\",\n",
    "                             \"CUST_EMAIL\":\"email\",\n",
    "                             \"SHA256 Email\":\"SHA256\",\n",
    "                             \"email,fn,ln,st,zip,ct,phone,\":\"email\",\n",
    "                             \"best_email\":\"email\",\n",
    "                             \"LRI_G_EMAIL1\":\"email\",\n",
    "                             \"SHA2_EMAIL\":\"SHA2\",\n",
    "                             \"Md5 Email\":\"MD5\",\n",
    "                             \"md5(email1)\":\"MD5\",\n",
    "                             \"master_email\":\"email\",\n",
    "                             \"HASHED_CUST_EMAIL\":\"hashed_email\",\n",
    "                             \"REAL_EMAIL\":\"email\",\n",
    "                             \"email_sha1\":\"SHA1\",\n",
    "                             \"MD5 EMAIL\":\"MD5\",\n",
    "                             \"Email/Email\":\"email\",\n",
    "                             \"hash_email\":\"hashed_email\",\n",
    "                             \"email md5\":\"MD5\",\n",
    "                             \"Email_address\":\"email\",\n",
    "                             \"Email1_SHA-1\":\"SHA1\",\n",
    "                             \"MD5 Hashed Email\":\"MD5\",\n",
    "                             \"EE_EMAIL_ADDRESS\":\"email\",\n",
    "                             \"Email1 Address\":\"email\",\n",
    "                             \"DMD_EMAIL\":\"email\",\n",
    "                             \"QBOVRT_master_email\":\"email\",\n",
    "                             \"lower(b.email_addr_hash_txt)\":\"hashed_email\",\n",
    "                             \"Email1_SHA256\":\"SHA256\",\n",
    "                             \"HashedEmail1\":\"hashed_email\",\n",
    "                             \"CONTACT_EMAIL_ADDR\":\"email\",\n",
    "                             \"Email \":\"email\",\n",
    "                             \"EmailAddressmd5\":\"MD5\",\n",
    "                             \"CONTACT EMAIL\":\"email\",\n",
    "                             \"MD5EMAIL1\":\"MD5\",\n",
    "                             \"MD5email\":\"MD5\",\n",
    "                             \"sha256email\\\",470121,624331,470121,UPHE - Onboarding - Salesforce Data\\\"\":\"SHA256\",\n",
    "                             \"sha256email\\\",287259,579949,28236,Swirl McGarryBowen - Onboarding\\\"\":\"SHA256\",\n",
    "                             \"AX_CUREMAIL_10\":\"email\",\n",
    "                             \"Email \":\"email\",\n",
    "                             \"SHA256_email\":\"SHA256\",\n",
    "                             \"USA_EMAIL\":\"email\",\n",
    "                             \"Right_email\":\"email\",\n",
    "                             \"MDG EMAIL\":\"MD5\",\n",
    "                             \"email3\":\"email\",\n",
    "                             \"sha256email\\\",287259,579949,28236,Swirl McGarryBowen - Onboarding\\\"\":\"SHA256\",\n",
    "                             \"sha256email\\\",470121,624331,470121,UPHE - Onboarding - Salesforce Data\\\"\":\"SHA256\",\n",
    "                             \"email_SHA_256\":\"SHA256\",\n",
    "                             \"hashed_emailId\":\"hashed_email\",\n",
    "                             \"EMAIL_ADDRESS1\":\"email\",\n",
    "                             \"email_adr1\":\"email\",\n",
    "                             \"EmailAddressHash_MD5\":\"MD5\",\n",
    "                             \"LRI_G_email_address\":\"email\",\n",
    "                             \"DANDRVINSON@EMAIL.COM\":\"email\",\n",
    "                             \"user_email\":\"email\",\n",
    "                             \"Email_hashed\":\"hashed_email\",\n",
    "                             \"P_EMAIL\":\"email\",\n",
    "                             \"Hashed email\":\"hashed_email\",\n",
    "                             \"SHA250Email\":\"SHA256\",\n",
    "                             \"sha256email\\\",287259,579949,28236,Swirl McGarryBowen - Onboarding\\\"\":\"SHA256\",\n",
    "                             \"sha256email\\\",470121,624331,470121,UPHE - Onboarding - Salesforce Data\\\"\":\"SHA256\",\n",
    "                             \"Email5\":\"email\",\n",
    "                             \"Orders Customer Email\":\"email\",\n",
    "                             \"Encrypted Email address\":\"hashed_email\",\n",
    "                             \"eMail\":\"email\",\n",
    "                             \"patron_email_addr\":\"email\",\n",
    "                             \"Client_Email\":\"email\",\n",
    "                             \"email_01\":\"email\",\n",
    "                             \"emailhash_md5\":\"MD5\",\n",
    "                             \"Person Account: Email\":\"email\",\n",
    "                             \"Email_Appended\":\"email\",\n",
    "                             \"Email_address_hash\":\"hashed_email\",\n",
    "                             \"sha256email\\\",470121,624331,470121,UPHE - Onboarding - Salesforce Data\\\"\":\"SHA256\",\n",
    "                             \"EMAIL_HASH\":\"hashed_email\",\n",
    "                             \"Email ID\":\"email\",\n",
    "                             \"email_billing\":\"email\",\n",
    "                             \"PRIMARY_EMAIL_ADDRESS\":\"email\",\n",
    "                             \"Opportunity Email\":\"email\",\n",
    "                             \"CnPh_1_01_Email\":\"email\",\n",
    "                             \"MD5_email\":\"MD5\",\n",
    "                             \"email_address_256hash\":\"SHA256\",\n",
    "                             \"EMAIL ADDR\":\"email\",\n",
    "                             \"sha256email\\\",154996,542386,15314,StubHub - Salesforce Onboarding\\\"\":\"SHA256\",\n",
    "                             \"Hash Email\":\"hashed_email\",\n",
    "                             \"prmry_email_addr\":\"email\",\n",
    "                             \"sha256email\\\",248499,508256,24412,Caesars - Salesforce RFP\\\"\":\"SHA256\",\n",
    "                             \"MEMBER_EMAIL\":\"email\",\n",
    "                             \"Sha1_Email\":\"SHA1\",\n",
    "                             \"HASH EMAIL ADDR\":\"hashed_email\",\n",
    "                             \"Sha1_Email\":\"SHA1\",\n",
    "                             \"HASH EMAIL ADDR\":\"hashed_email\",\n",
    "                             \"CUS_EMAIL_ADDRESS\":\"email\",\n",
    "                             \"channels.email.address\":\"email\",\n",
    "                             \"\\Email1\\\"\\\"\":\"email\",\n",
    "                             \"primaryEmail\":\"email\",\n",
    "                             \"sha256email\\\",313789,533849,313789,Audi - Salesforce Imports\\\"\":\"SHA256\",\n",
    "                             \"HASEHD_EMAIL\":\"hashed_email\",\n",
    "                             \"\\Email1\\\"\\\"\":\"email\",\n",
    "                             \"hash email\":\"hashed_email\",\n",
    "                             \"REGI_EMAIL_ADDR\":\"email\",\n",
    "                             \"Customers Email\":\"email\",\n",
    "                             \"email_addres\":\"email\",\n",
    "                             \"sha256email\\\",116909,533639,11536,Weight Watchers - Onboarding\\\"\":\"SHA256\",\n",
    "                             \"EMAIL-sha1\":\"SHA1\",\n",
    "                             \"Email Address 1\":\"email\",\n",
    "                             \"Contact Business Email\":\"email\",\n",
    "                             \"\\Email1\\\"\\\"\":\"email\",\n",
    "                             \"Personal_email\":\"email\",\n",
    "                             \"sha256email\\\",154996,542386,15314,StubHub - Salesforce Onboarding\\\"\":\"SHA256\",\n",
    "                             \"EMAIL_MATCH_ID_1\":\"email\",\n",
    "                             \"MD5 Email\":\"MD5\",\n",
    "                             \"associatedemailaddress\":\"email\",\n",
    "                             \"Email_Hash\":\"hashed_email\",\n",
    "                             \"Email_Hash \":\"hashed_email\",\n",
    "                             \"EMAIL ADDRESS\t\":\"email\",\n",
    "                             \"EMAILADDR\":\"email\",\n",
    "                             \"EMAILADDR \":\"email\",\n",
    "                             \"Contact: Primary Email\":\"email\",\n",
    "                             \"Email Address - Prospects\":\"email\",\n",
    "                             \"sha_email\t\":\"hashed_email\",\n",
    "                             \"sha_email\":\"hashed_email\",\n",
    "                             \"primary_contact_primary_email\":\"email\",\n",
    "                             \"EMAIL_ADDR_1\":\"email\",\n",
    "                             \"Primary_Email_Address\":\"email\",\n",
    "                             \"CUST_EMAIL_ADDR\":\"email\",\n",
    "                             \"AlternateEmail\":\"email\"\n",
    "                            }, inplace = True)                       "
   ]
  },
  {
   "cell_type": "markdown",
   "metadata": {
    "nteract": {
     "transient": {
      "deleting": false
     }
    }
   },
   "source": [
    "query all audiences with AK like '%email%' -> enabled, non-FBR audiences, enabled customers, data store"
   ]
  },
  {
   "cell_type": "code",
   "execution_count": null,
   "metadata": {
    "code_folding": [],
    "collapsed": true
   },
   "outputs": [],
   "source": [
    "sql = \"\"\"\n",
    "SELECT\n",
    "  audience_key_labels.id AS ak_id,\n",
    "  liveramp_customer_accounts.id,\n",
    "  audience_key_labels.key_index,\n",
    "  audience_key_labels.label,\n",
    "  liveramp_customer_accounts.customer_id,\n",
    "  customers.name,\n",
    "  liveramp_customer_accounts.display_name,\n",
    "  COUNT(audience_key_labels.id) AS count_AKs\n",
    "FROM\n",
    "  `corp-bi-us-prod.rldb.audience_key_labels` AS audience_key_labels\n",
    "INNER JOIN\n",
    "  `corp-bi-us-prod.rldb.liveramp_customer_accounts` AS liveramp_customer_accounts\n",
    "ON\n",
    "  audience_key_labels.liveramp_customer_account_id = liveramp_customer_accounts.id\n",
    "INNER JOIN\n",
    "  `corp-bi-us-prod.rldb.customers` AS customers\n",
    "ON\n",
    "  liveramp_customer_accounts.customer_id = customers.id\n",
    "WHERE\n",
    "  liveramp_customer_accounts.id IN (\n",
    "              SELECT\n",
    "                lr_customer_accounts.id\n",
    "              FROM\n",
    "                `corp-bi-us-prod.rldb.dms_segments` AS dms_segments\n",
    "              INNER JOIN\n",
    "                `corp-bi-us-prod.rldb.lrc_field_definitions` AS lrc_field_definitions\n",
    "              ON\n",
    "                dms_segments.lrc_field_definition_id = lrc_field_definitions.id\n",
    "              INNER JOIN\n",
    "                `corp-bi-us-prod.rldb.liveramp_customer_accounts` AS lr_customer_accounts\n",
    "              ON\n",
    "                lrc_field_definitions.lr_customer_account_id = lr_customer_accounts.id\n",
    "              INNER JOIN\n",
    "                `corp-bi-us-prod.rldb.customers` AS customers\n",
    "              ON\n",
    "                lr_customer_accounts.customer_id = customers.id\n",
    "              WHERE\n",
    "                lr_customer_accounts.enabled = TRUE\n",
    "                AND lr_customer_accounts.customer_link_audience = FALSE\n",
    "                AND customers.status = 1\n",
    "              GROUP BY\n",
    "                lr_customer_accounts.id)\n",
    "  AND customers.status = 1\n",
    "  AND liveramp_customer_accounts.enabled = TRUE\n",
    "  AND liveramp_customer_accounts.customer_link_audience = FALSE\n",
    "  AND LOWER(audience_key_labels.label) LIKE '%email%'\n",
    "  AND audience_key_labels.key_index = 0\n",
    "GROUP BY\n",
    "  liveramp_customer_accounts.id,\n",
    "  liveramp_customer_accounts.display_name,\n",
    "  liveramp_customer_accounts.customer_id,\n",
    "  customers.name,\n",
    "  audience_key_labels.key_index,\n",
    "  ak_id,\n",
    "  audience_key_labels.label\n",
    "HAVING\n",
    "  count_AKs = 1\n",
    "\"\"\"\n",
    "raw_emails_DS = pandas_gbq.read_gbq(sql, project_id='liveramp-ts-bigquery')"
   ]
  },
  {
   "cell_type": "code",
   "execution_count": null,
   "metadata": {
    "collapsed": true,
    "execution": {
     "iopub.execute_input": "2020-05-06T03:05:54.200Z",
     "iopub.status.busy": "2020-05-06T03:05:54.191Z",
     "iopub.status.idle": "2020-05-06T03:05:54.211Z",
     "shell.execute_reply": "2020-05-06T03:05:54.218Z"
    },
    "jupyter": {
     "outputs_hidden": false,
     "source_hidden": false
    },
    "nteract": {
     "transient": {
      "deleting": false
     }
    },
    "outputExpanded": false
   },
   "outputs": [],
   "source": [
    "raw_emails_DS_values = pd.DataFrame(raw_emails_DS[\"label\"].value_counts())\n",
    "raw_emails_DS_values"
   ]
  },
  {
   "cell_type": "code",
   "execution_count": null,
   "metadata": {
    "code_folding": [
     1
    ],
    "collapsed": true,
    "execution": {
     "iopub.execute_input": "2020-05-06T03:06:22.254Z",
     "iopub.status.busy": "2020-05-06T03:06:22.246Z",
     "iopub.status.idle": "2020-05-06T03:06:22.267Z",
     "shell.execute_reply": "2020-05-06T03:06:22.281Z"
    },
    "jupyter": {
     "outputs_hidden": false,
     "source_hidden": false
    },
    "nteract": {
     "transient": {
      "deleting": false
     }
    },
    "outputExpanded": false
   },
   "outputs": [],
   "source": [
    "# normalize email columns (raw, MD5, SHA1, SHA256)\n",
    "raw_emails_DS[\"label\"].replace({\"Email\":\"email\", \n",
    "                             \"Email1\":\"email\",\n",
    "                             \"Email Address\":\"email\",\n",
    "                             \"EmailAddress\":\"email\", \n",
    "                             \"Emails\":\"email\",\n",
    "                             \"EMAIL\":\"email\",\n",
    "                             \"Email_1\":\"email\",\n",
    "                             \"EmailAddress\":\"email\",\n",
    "                             \"email_address\":\"email\",\n",
    "                             \"EMAIL_ADDRESS\":\"email\",\n",
    "                             \"Email 1\":\"email\",\n",
    "                             \"Email(s)\":\"email\",\n",
    "                             \"email1\":\"email\",\n",
    "                             \"EMAIL_ID\":\"email\",\n",
    "                             \"email1_MD5\":\"MD5\",\n",
    "                             \"emailmd5\":\"MD5\",\n",
    "                             \"profiles.email_address\":\"email\",\n",
    "                             \"EMAIL_ADDR\":\"email\",\n",
    "                             \"SHA256EMAIL1\":\"email\",\n",
    "                             \"email_addr\":\"email\",\n",
    "                             \"MD5EMAIL\":\"MD5\",\n",
    "                             \"EmailAddress\":\"email\",\n",
    "                             \"EMAIL1\":\"email\",\n",
    "                             \"cust_email_addr\":\"email\",\n",
    "                             \"Email_Address\":\"email\",\n",
    "                             \"md5_email\":\"MD5\",\n",
    "                             \"Email_ID\":\"email\",\n",
    "                             \"EMAIL_ADDR_TXT\":\"email\",\n",
    "                             \"emailAddress\":\"email\",\n",
    "                             \"sha1_email\":\"SHA1\",\n",
    "                             \"MD5Email\":\"MD5\",\n",
    "                             \"email_1\":\"email\",\n",
    "                             \"LRI_G_SHA1EMAIL1\":\"SHA1\",\n",
    "                             \"LRI_G_SHA256EMAIL1\":\"SHA256\",\n",
    "                             \"loweremailmd5\":\"MD5\",\n",
    "                             \"email_sha256\":\"SHA256\",\n",
    "                             \"SHA256_EMAIL\":\"SHA256\",\n",
    "                             \"MD5_Email\":\"MD5\",\n",
    "                             \"LRI_DER_SHA256EMAIL1\":\"SHA256\",\n",
    "                             \"email_SHA-1\":\"SHA1\",\n",
    "                             \"sha256email\":\"SHA256\",\n",
    "                             \"email address\":\"email\",\n",
    "                             \"purch_email_addr\":\"email\",\n",
    "                             \"HashedEmail\":\"hashed_email\",\n",
    "                             \"P_EMAIL_ADDRESS\":\"email\",\n",
    "                             \"Member Email Address\":\"email\",\n",
    "                             \"Email Addresses\":\"email\",\n",
    "                             \"email_md5\":\"MD5\",\n",
    "                             \"emails\":\"email\",\n",
    "                             \"Email Hash\":\"hashed_email\",\n",
    "                             \"customer_email\":\"email\",\n",
    "                             \"EMAIL_ADDRESS_\":\"email\",\n",
    "                             \"SHA 256 Email\":\"SHA256\",\n",
    "                             \"EMAILADDRESS\":\"email\",\n",
    "                             \"LRI_DER_SHA1EMAIL1\":\"SHA1\",\n",
    "                             \"email_hash\":\"hashed_email\",\n",
    "                             \"LRI_G_MD5EMAIL1\":\"MD5\",\n",
    "                             \"EMAIL_SHA256\":\"SHA256\",\n",
    "                             \"PII_EMAIL_ADDRESS\":\"email\",\n",
    "                             \"EMail\":\"email\",\n",
    "                             \"Email address\":\"email\",\n",
    "                             \"SHA1_Email\":\"SHA1\",\n",
    "                             \"LRI_DER_MD5EMAIL1\":\"MD5\",\n",
    "                             \"EMAIL_1\":\"email\",\n",
    "                             \"sha256_email\":\"SHA256\",\n",
    "                             \"SHA256EMAIL\":\"SHA256\",\n",
    "                             \"SHA256Email\":\"email\",\n",
    "                             \"emailaddress\":\"email\",\n",
    "                             \"email_id\":\"email\",\n",
    "                             \"SHA1EMAIL\":\"SHA1\",\n",
    "                             \"hashed email\":\"hashed_email\",\n",
    "                             \"SHA256HASHEDEMAIL\":\"SHA256\",\n",
    "                             \"email2\":\"email\",\n",
    "                             \"EMAIL_ADDRESS_1\":\"email\",\n",
    "                             \"md5email\":\"MD5\",\n",
    "                             \"hashedemail\":\"hashed_email\",\n",
    "                             \"EMAIL_HASHED\":\"hashed_email\",\n",
    "                             \"Broker Email\":\"email\",\n",
    "                             \"HASH_MD5_LOWER_EMAIL\":\"MD5\",\n",
    "                             \"profileEmail\":\"email\",\n",
    "                             \"email_Address\":\"email\",\n",
    "                             \"Hashed_Email\":\"hashed_email\",\n",
    "                             \"PER_EMAIL\":\"email\",\n",
    "                             \"Hashed_Email_Address\":\"email\",\n",
    "                             \"Peloton Order Order Email\":\"email\",\n",
    "                             \"EMAIL,FN,LN,,ZIP,CT,PHONE,\":\"email\",\n",
    "                             \"Hashed_Email_ID_Hex\":\"hashed_email\",\n",
    "                             \"#email_lc_md5\":\"MD5\",\n",
    "                             \"MD5_EMAIL\":\"MD5\",\n",
    "                             \"\\EMAIL\\\"\":\"email\",\n",
    "                             \"Customer Email\":\"email\",\n",
    "                             \"CUSTOMERS_SalesOrder_BILLTOLookup::Email\":\"email\",\n",
    "                             \"profile.email\":\"email\",\n",
    "                             \"HASHED_EMAIL\":\"hashed_email\",\n",
    "                             \"sha256email1\":\"SHA256\",\n",
    "                             \"Hashed Email\":\"hashed_email\",\n",
    "                             \"CUST_EMAIL\":\"email\",\n",
    "                             \"SHA256 Email\":\"SHA256\",\n",
    "                             \"email,fn,ln,st,zip,ct,phone,\":\"email\",\n",
    "                             \"best_email\":\"email\",\n",
    "                             \"LRI_G_EMAIL1\":\"email\",\n",
    "                             \"SHA2_EMAIL\":\"SHA2\",\n",
    "                             \"Md5 Email\":\"MD5\",\n",
    "                             \"md5(email1)\":\"MD5\",\n",
    "                             \"master_email\":\"email\",\n",
    "                             \"HASHED_CUST_EMAIL\":\"hashed_email\",\n",
    "                             \"REAL_EMAIL\":\"email\",\n",
    "                             \"email_sha1\":\"SHA1\",\n",
    "                             \"MD5 EMAIL\":\"MD5\",\n",
    "                             \"Email/Email\":\"email\",\n",
    "                             \"hash_email\":\"hashed_email\",\n",
    "                             \"email md5\":\"MD5\",\n",
    "                             \"Email_address\":\"email\",\n",
    "                             \"Email1_SHA-1\":\"SHA1\",\n",
    "                             \"MD5 Hashed Email\":\"MD5\",\n",
    "                             \"EE_EMAIL_ADDRESS\":\"email\",\n",
    "                             \"Email1 Address\":\"email\",\n",
    "                             \"DMD_EMAIL\":\"email\",\n",
    "                             \"QBOVRT_master_email\":\"email\",\n",
    "                             \"lower(b.email_addr_hash_txt)\":\"hashed_email\",\n",
    "                             \"Email1_SHA256\":\"SHA256\",\n",
    "                             \"HashedEmail1\":\"hashed_email\",\n",
    "                             \"CONTACT_EMAIL_ADDR\":\"email\",\n",
    "                             \"Email \":\"email\",\n",
    "                             \"EmailAddressmd5\":\"MD5\",\n",
    "                             \"CONTACT EMAIL\":\"email\",\n",
    "                             \"MD5EMAIL1\":\"MD5\",\n",
    "                             \"MD5email\":\"MD5\",\n",
    "                             \"sha256email\\\",470121,624331,470121,UPHE - Onboarding - Salesforce Data\\\"\":\"SHA256\",\n",
    "                             \"sha256email\\\",287259,579949,28236,Swirl McGarryBowen - Onboarding\\\"\":\"SHA256\",\n",
    "                             \"AX_CUREMAIL_10\":\"email\",\n",
    "                             \"Email \":\"email\",\n",
    "                             \"SHA256_email\":\"SHA256\",\n",
    "                             \"USA_EMAIL\":\"email\",\n",
    "                             \"Right_email\":\"email\",\n",
    "                             \"MDG EMAIL\":\"MD5\",\n",
    "                             \"email3\":\"email\",\n",
    "                             \"sha256email\\\",287259,579949,28236,Swirl McGarryBowen - Onboarding\\\"\":\"SHA256\",\n",
    "                             \"sha256email\\\",470121,624331,470121,UPHE - Onboarding - Salesforce Data\\\"\":\"SHA256\",\n",
    "                             \"email_SHA_256\":\"SHA256\",\n",
    "                             \"hashed_emailId\":\"hashed_email\",\n",
    "                             \"EMAIL_ADDRESS1\":\"email\",\n",
    "                             \"email_adr1\":\"email\",\n",
    "                             \"EmailAddressHash_MD5\":\"MD5\",\n",
    "                             \"LRI_G_email_address\":\"email\",\n",
    "                             \"DANDRVINSON@EMAIL.COM\":\"email\",\n",
    "                             \"user_email\":\"email\",\n",
    "                             \"Email_hashed\":\"hashed_email\",\n",
    "                             \"P_EMAIL\":\"email\",\n",
    "                             \"Hashed email\":\"hashed_email\",\n",
    "                             \"SHA250Email\":\"SHA256\",\n",
    "                             \"sha256email\\\",287259,579949,28236,Swirl McGarryBowen - Onboarding\\\"\":\"SHA256\",\n",
    "                             \"sha256email\\\",470121,624331,470121,UPHE - Onboarding - Salesforce Data\\\"\":\"SHA256\",\n",
    "                             \"Email5\":\"email\",\n",
    "                             \"Orders Customer Email\":\"email\",\n",
    "                             \"Encrypted Email address\":\"hashed_email\",\n",
    "                             \"eMail\":\"email\",\n",
    "                             \"patron_email_addr\":\"email\",\n",
    "                             \"Client_Email\":\"email\",\n",
    "                             \"email_01\":\"email\",\n",
    "                             \"emailhash_md5\":\"MD5\",\n",
    "                             \"Person Account: Email\":\"email\",\n",
    "                             \"Email_Appended\":\"email\",\n",
    "                             \"Email_address_hash\":\"hashed_email\",\n",
    "                             \"sha256email\\\",470121,624331,470121,UPHE - Onboarding - Salesforce Data\\\"\":\"SHA256\",\n",
    "                             \"EMAIL_HASH\":\"hashed_email\",\n",
    "                             \"Email ID\":\"email\",\n",
    "                             \"email_billing\":\"email\",\n",
    "                             \"PRIMARY_EMAIL_ADDRESS\":\"email\",\n",
    "                             \"Opportunity Email\":\"email\",\n",
    "                             \"CnPh_1_01_Email\":\"email\",\n",
    "                             \"MD5_email\":\"MD5\",\n",
    "                             \"email_address_256hash\":\"SHA256\",\n",
    "                             \"EMAIL ADDR\":\"email\",\n",
    "                             \"sha256email\\\",154996,542386,15314,StubHub - Salesforce Onboarding\\\"\":\"SHA256\",\n",
    "                             \"Hash Email\":\"hashed_email\",\n",
    "                             \"prmry_email_addr\":\"email\",\n",
    "                             \"sha256email\\\",248499,508256,24412,Caesars - Salesforce RFP\\\"\":\"SHA256\",\n",
    "                             \"MEMBER_EMAIL\":\"email\",\n",
    "                             \"Sha1_Email\":\"SHA1\",\n",
    "                             \"HASH EMAIL ADDR\":\"hashed_email\",\n",
    "                             \"Sha1_Email\":\"SHA1\",\n",
    "                             \"HASH EMAIL ADDR\":\"hashed_email\",\n",
    "                             \"CUS_EMAIL_ADDRESS\":\"email\",\n",
    "                             \"channels.email.address\":\"email\",\n",
    "                             \"\\Email1\\\"\\\"\":\"email\",\n",
    "                             \"primaryEmail\":\"email\",\n",
    "                             \"sha256email\\\",313789,533849,313789,Audi - Salesforce Imports\\\"\":\"SHA256\",\n",
    "                             \"HASEHD_EMAIL\":\"hashed_email\",\n",
    "                             \"\\Email1\\\"\\\"\":\"email\",\n",
    "                             \"hash email\":\"hashed_email\",\n",
    "                             \"REGI_EMAIL_ADDR\":\"email\",\n",
    "                             \"Customers Email\":\"email\",\n",
    "                             \"email_addres\":\"email\",\n",
    "                             \"sha256email\\\",116909,533639,11536,Weight Watchers - Onboarding\\\"\":\"SHA256\",\n",
    "                             \"EMAIL-sha1\":\"SHA1\",\n",
    "                             \"Email Address 1\":\"email\",\n",
    "                             \"Contact Business Email\":\"email\",\n",
    "                             \"\\Email1\\\"\\\"\":\"email\",\n",
    "                             \"Personal_email\":\"email\",\n",
    "                             \"sha256email\\\",154996,542386,15314,StubHub - Salesforce Onboarding\\\"\":\"SHA256\",\n",
    "                             \"EMAIL_MATCH_ID_1\":\"email\",\n",
    "                             \"MD5 Email\":\"MD5\",\n",
    "                             \"associatedemailaddress\":\"email\",\n",
    "                             \"Email_Hash\":\"hashed_email\",\n",
    "                             \"Email_Hash \":\"hashed_email\",\n",
    "                             \"EMAIL ADDRESS\t\":\"email\",\n",
    "                             \"EMAILADDR\":\"email\",\n",
    "                             \"EMAILADDR \":\"email\",\n",
    "                             \"Contact: Primary Email\":\"email\",\n",
    "                             \"Email Address - Prospects\":\"email\",\n",
    "                             \"sha_email\t\":\"hashed_email\",\n",
    "                             \"sha_email\":\"hashed_email\",\n",
    "                             \"primary_contact_primary_email\":\"email\",\n",
    "                             \"EMAIL_ADDR_1\":\"email\",\n",
    "                             \"Primary_Email_Address\":\"email\",\n",
    "                             \"CUST_EMAIL_ADDR\":\"email\",\n",
    "                             \"AlternateEmail\":\"email\",\n",
    "                             \"PERSONEMAIL\":\"email\",\n",
    "                             \"email_address_01\":\"email\"\n",
    "                            }, inplace = True)                       "
   ]
  },
  {
   "cell_type": "markdown",
   "metadata": {
    "nteract": {
     "transient": {
      "deleting": false
     }
    }
   },
   "source": [
    "# CID-only audiences "
   ]
  },
  {
   "cell_type": "markdown",
   "metadata": {
    "nteract": {
     "transient": {
      "deleting": false
     }
    }
   },
   "source": [
    "## Results\n",
    "### all audiences\n",
    "enabled, non-FBR audiences where AK = CID and customer = enabled\n",
    "\n",
    "audiences w/AK as CID - 5,703\n",
    "\n",
    "offline audiences w/AK as CID - 4,292\n",
    "\n",
    "online audiences w/AK as CID - 1,162\n",
    "\n",
    "other audiences w/AK as CID - 249\n",
    "\n",
    "-------------\n",
    "\n",
    "\n",
    "### non-DS audiences\n",
    "enabled, non-FBR audiences where AK = CID and customer = enabled\n",
    "\n",
    "non DS audiences w/AK set as CID - 5,285\n",
    "\n",
    "non DS offline audiences w/AK as CID - 4050\n",
    "\n",
    "non DS online audiences w/AK as CID - 986\n",
    "\n",
    "-------------\n",
    "\n",
    "\n",
    "### DS audiences\n",
    "enabled, non-FBR audiences where AK = CID and customer = enabled\n",
    "\n",
    "DS audiences w/AK set as CID - 418\n",
    "\n",
    "DS offline audiences w/AK as CID - 242\n",
    "\n",
    "DS online audiences w/AK as CID - 176\n",
    "\n",
    "-------------\n"
   ]
  },
  {
   "cell_type": "markdown",
   "metadata": {
    "nteract": {
     "transient": {
      "deleting": false
     }
    }
   },
   "source": [
    "query all audiences with AK like '%id%' -> enabled, non-FBR audiences, enabled customers, not like: aaid, IDFA, cookie, device id, email, pel, identity_link, idl, liveramp, LR ID 1, LRID, MAID, mobile, order_id, PELID\n",
    "\n",
    "CID definition methodology: after combing through AK labels strings that match AK like '%id%', IDs that do not resemble CIDs were removed. This analysis thus treats a CID as a synthetic identifier distinguished from IDLs/PELs, cookies, and device IDs."
   ]
  },
  {
   "cell_type": "code",
   "execution_count": null,
   "metadata": {
    "collapsed": true
   },
   "outputs": [],
   "source": [
    "sql = \"\"\"\n",
    "SELECT\n",
    "  liveramp_customer_accounts.id AS audience_id,\n",
    "  customers.id AS cust_id, \n",
    "  audience_key_labels.key_index,\n",
    "  lower(audience_key_labels.label) AS aks,\n",
    "  COUNT(audience_key_labels.id) AS count_aks\n",
    "FROM\n",
    "  `corp-bi-us-prod.rldb.audience_key_labels` AS audience_key_labels\n",
    "INNER JOIN\n",
    "  `corp-bi-us-prod.rldb.liveramp_customer_accounts` AS liveramp_customer_accounts\n",
    "ON\n",
    "  audience_key_labels.liveramp_customer_account_id = liveramp_customer_accounts.id\n",
    "INNER JOIN\n",
    "  `corp-bi-us-prod.rldb.customers` AS customers\n",
    "ON\n",
    "  liveramp_customer_accounts.customer_id = customers.id\n",
    "WHERE\n",
    "  audience_key_labels.key_index = 0\n",
    "  AND lower(audience_key_labels.label) LIKE '%id%'\n",
    "  AND lower(audience_key_labels.label) NOT LIKE '%aaid%'\n",
    "  AND lower(audience_key_labels.label) NOT LIKE '%idfa%'\n",
    "  AND lower(audience_key_labels.label) NOT LIKE '%cookie%'\n",
    "  AND lower(audience_key_labels.label) NOT LIKE '%device id%'\n",
    "  AND lower(audience_key_labels.label) NOT LIKE '%device_id%'\n",
    "  AND lower(audience_key_labels.label) NOT LIKE '%device%'\n",
    "  AND lower(audience_key_labels.label) NOT LIKE '%email%'\n",
    "  AND lower(audience_key_labels.label) NOT LIKE '%pel%'\n",
    "  AND lower(audience_key_labels.label) NOT LIKE '%identity_link%'\n",
    "  AND lower(audience_key_labels.label) NOT LIKE '%idl%'\n",
    "  AND lower(audience_key_labels.label) NOT LIKE '%liveramp%'\n",
    "  AND lower(audience_key_labels.label) NOT LIKE '%lr id 1%'\n",
    "  AND lower(audience_key_labels.label) NOT LIKE '%lrid%'\n",
    "  AND lower(audience_key_labels.label) NOT LIKE '%maid%'\n",
    "  AND lower(audience_key_labels.label) NOT LIKE '%mobile%'\n",
    "  AND lower(audience_key_labels.label) NOT LIKE '%order_id%'\n",
    "  AND lower(audience_key_labels.label) NOT LIKE '%pelid%'\n",
    "  AND lower(audience_key_labels.label) NOT LIKE '%fb_ext_id%'\n",
    "  AND lower(audience_key_labels.label) NOT LIKE '%identitylink%'\n",
    "  AND lower(audience_key_labels.label) NOT LIKE '%muid%'\n",
    "  AND lower(audience_key_labels.label) NOT LIKE '%abilitec%'\n",
    "  AND lower(audience_key_labels.label) NOT LIKE '%acxiom_id%'\n",
    "  AND lower(audience_key_labels.label) NOT LIKE '%extern_id%'\n",
    "  AND lower(audience_key_labels.label) NOT LIKE '%cnsmr_link_id%'\n",
    "  AND lower(audience_key_labels.label) NOT LIKE '%ttd_android%'\n",
    "  AND customers.status = 1\n",
    "  AND liveramp_customer_accounts.enabled = TRUE\n",
    "  AND liveramp_customer_accounts.customer_link_audience = FALSE\n",
    "  AND audience_key_labels.key_index = 0\n",
    "GROUP BY\n",
    "  1, 2, 3, 4\n",
    "HAVING\n",
    "  COUNT(audience_key_labels.id) = 1\n",
    "\"\"\"\n",
    "\n",
    "CIDs_all_audiences = pandas_gbq.read_gbq(sql, project_id='liveramp-ts-bigquery')"
   ]
  },
  {
   "cell_type": "code",
   "execution_count": null,
   "metadata": {
    "collapsed": true,
    "execution": {
     "iopub.execute_input": "2020-05-07T01:27:40.980Z",
     "iopub.status.busy": "2020-05-07T01:27:40.971Z",
     "iopub.status.idle": "2020-05-07T01:27:41.022Z",
     "shell.execute_reply": "2020-05-07T01:27:41.031Z"
    },
    "jupyter": {
     "outputs_hidden": false,
     "source_hidden": false
    },
    "nteract": {
     "transient": {
      "deleting": false
     }
    },
    "outputExpanded": false
   },
   "outputs": [],
   "source": [
    "# CIDs_all_audiences = pd.read_csv('/Users/aschul/Documents/Documents - aschul1118mac/Code_Base/Investigations/20200417_AK_analysis/CID_AKs/query_result.csv')"
   ]
  },
  {
   "cell_type": "code",
   "execution_count": null,
   "metadata": {
    "collapsed": true,
    "execution": {
     "iopub.execute_input": "2020-05-07T01:27:43.581Z",
     "iopub.status.busy": "2020-05-07T01:27:43.570Z",
     "iopub.status.idle": "2020-05-07T01:27:43.601Z",
     "shell.execute_reply": "2020-05-07T01:27:43.625Z"
    },
    "jupyter": {
     "outputs_hidden": false,
     "source_hidden": false
    },
    "nteract": {
     "transient": {
      "deleting": false
     }
    },
    "outputExpanded": false
   },
   "outputs": [],
   "source": [
    "CIDs_all_audiences.head()"
   ]
  },
  {
   "cell_type": "code",
   "execution_count": null,
   "metadata": {
    "collapsed": true,
    "execution": {
     "iopub.execute_input": "2020-05-07T01:27:47.353Z",
     "iopub.status.busy": "2020-05-07T01:27:47.344Z",
     "iopub.status.idle": "2020-05-07T01:27:47.367Z",
     "shell.execute_reply": "2020-05-07T01:27:47.377Z"
    },
    "jupyter": {
     "outputs_hidden": false,
     "source_hidden": false
    },
    "nteract": {
     "transient": {
      "deleting": false
     }
    },
    "outputExpanded": false
   },
   "outputs": [],
   "source": [
    "CID_values = pd.DataFrame(CIDs_all_audiences[\"aks\"].value_counts())"
   ]
  },
  {
   "cell_type": "code",
   "execution_count": null,
   "metadata": {
    "collapsed": true,
    "execution": {
     "iopub.execute_input": "2020-05-12T00:17:47.880Z",
     "iopub.status.busy": "2020-05-12T00:17:47.869Z",
     "iopub.status.idle": "2020-05-12T00:17:47.904Z",
     "shell.execute_reply": "2020-05-12T00:17:48.221Z"
    },
    "jupyter": {
     "outputs_hidden": false,
     "source_hidden": false
    },
    "nteract": {
     "transient": {
      "deleting": false
     }
    },
    "outputExpanded": false
   },
   "outputs": [],
   "source": [
    "CID_values.head(10)"
   ]
  },
  {
   "cell_type": "code",
   "execution_count": null,
   "metadata": {
    "collapsed": true,
    "execution": {
     "iopub.execute_input": "2020-05-07T01:28:06.827Z",
     "iopub.status.busy": "2020-05-07T01:28:06.817Z",
     "iopub.status.idle": "2020-05-07T01:28:06.849Z",
     "shell.execute_reply": "2020-05-07T01:28:06.858Z"
    },
    "jupyter": {
     "outputs_hidden": false,
     "source_hidden": false
    },
    "nteract": {
     "transient": {
      "deleting": false
     }
    },
    "outputExpanded": false
   },
   "outputs": [],
   "source": [
    "CID_values.info()"
   ]
  },
  {
   "cell_type": "code",
   "execution_count": null,
   "metadata": {
    "collapsed": true,
    "execution": {
     "iopub.execute_input": "2020-05-07T01:28:15.703Z",
     "iopub.status.busy": "2020-05-07T01:28:15.692Z",
     "iopub.status.idle": "2020-05-07T01:28:15.723Z",
     "shell.execute_reply": "2020-05-07T01:28:15.731Z"
    },
    "jupyter": {
     "outputs_hidden": false,
     "source_hidden": false
    },
    "nteract": {
     "transient": {
      "deleting": false
     }
    },
    "outputExpanded": false
   },
   "outputs": [],
   "source": [
    "CID_values[\"aks\"]"
   ]
  },
  {
   "cell_type": "markdown",
   "metadata": {
    "nteract": {
     "transient": {
      "deleting": false
     }
    }
   },
   "source": [
    "query all audiences with AK like '%ID%' -> enabled, non-FBR audiences, enabled customers, data store"
   ]
  },
  {
   "cell_type": "code",
   "execution_count": null,
   "metadata": {
    "collapsed": true
   },
   "outputs": [],
   "source": [
    "sql = \"\"\"\n",
    "SELECT\n",
    "  liveramp_customer_accounts.id AS audience_id,\n",
    "  customers.id AS cust_id, \n",
    "  audience_key_labels.key_index AS key_index,\n",
    "  lower(audience_key_labels.label) AS label,\n",
    "  COUNT(audience_key_labels.id) AS count_AK\n",
    "FROM\n",
    "  `corp-bi-us-prod.rldb.audience_key_labels` AS audience_key_labels\n",
    "INNER JOIN\n",
    "  `corp-bi-us-prod.rldb.liveramp_customer_accounts` AS liveramp_customer_accounts\n",
    "ON\n",
    "  audience_key_labels.liveramp_customer_account_id = liveramp_customer_accounts.id\n",
    "INNER JOIN\n",
    "  `corp-bi-us-prod.rldb.customers` AS customers\n",
    "ON\n",
    "  liveramp_customer_accounts.customer_id = customers.id\n",
    "WHERE\n",
    "liveramp_customer_accounts.id IN (\n",
    "              SELECT\n",
    "                lr_customer_accounts.id\n",
    "              FROM\n",
    "                `corp-bi-us-prod.rldb.dms_segments` AS dms_segments\n",
    "              INNER JOIN\n",
    "                `corp-bi-us-prod.rldb.lrc_field_definitions` AS lrc_field_definitions\n",
    "              ON\n",
    "                dms_segments.lrc_field_definition_id = lrc_field_definitions.id\n",
    "              INNER JOIN\n",
    "                `corp-bi-us-prod.rldb.liveramp_customer_accounts` AS lr_customer_accounts\n",
    "              ON\n",
    "                lrc_field_definitions.lr_customer_account_id = lr_customer_accounts.id\n",
    "              INNER JOIN\n",
    "                `corp-bi-us-prod.rldb.customers` AS customers\n",
    "              ON\n",
    "                lr_customer_accounts.customer_id = customers.id\n",
    "              WHERE\n",
    "                lr_customer_accounts.enabled = TRUE\n",
    "                AND lr_customer_accounts.customer_link_audience = FALSE\n",
    "                AND customers.status = 1\n",
    "              GROUP BY\n",
    "                lr_customer_accounts.id) \n",
    "  AND \n",
    "  audience_key_labels.key_index = 0\n",
    "  AND lower(audience_key_labels.label) LIKE '%id%'\n",
    "  AND lower(audience_key_labels.label) NOT LIKE '%aaid%'\n",
    "  AND lower(audience_key_labels.label) NOT LIKE '%idfa%'\n",
    "  AND lower(audience_key_labels.label) NOT LIKE '%cookie%'\n",
    "  AND lower(audience_key_labels.label) NOT LIKE '%device id%'\n",
    "  AND lower(audience_key_labels.label) NOT LIKE '%device_id%'\n",
    "  AND lower(audience_key_labels.label) NOT LIKE '%device%'\n",
    "  AND lower(audience_key_labels.label) NOT LIKE '%email%'\n",
    "  AND lower(audience_key_labels.label) NOT LIKE '%pel%'\n",
    "  AND lower(audience_key_labels.label) NOT LIKE '%identity_link%'\n",
    "  AND lower(audience_key_labels.label) NOT LIKE '%idl%'\n",
    "  AND lower(audience_key_labels.label) NOT LIKE '%liveramp%'\n",
    "  AND lower(audience_key_labels.label) NOT LIKE '%lr id 1%'\n",
    "  AND lower(audience_key_labels.label) NOT LIKE '%lrid%'\n",
    "  AND lower(audience_key_labels.label) NOT LIKE '%maid%'\n",
    "  AND lower(audience_key_labels.label) NOT LIKE '%mobile%'\n",
    "  AND lower(audience_key_labels.label) NOT LIKE '%order_id%'\n",
    "  AND lower(audience_key_labels.label) NOT LIKE '%pelid%'\n",
    "  AND lower(audience_key_labels.label) NOT LIKE '%fb_ext_id%'\n",
    "  AND lower(audience_key_labels.label) NOT LIKE '%identitylink%'\n",
    "  AND lower(audience_key_labels.label) NOT LIKE '%muid%'\n",
    "  AND lower(audience_key_labels.label) NOT LIKE '%abilitec%'\n",
    "  AND lower(audience_key_labels.label) NOT LIKE '%acxiom_id%'\n",
    "  AND lower(audience_key_labels.label) NOT LIKE '%extern_id%'\n",
    "  AND lower(audience_key_labels.label) NOT LIKE '%cnsmr_link_id%'\n",
    "  AND lower(audience_key_labels.label) NOT LIKE '%ttd_android%'\n",
    "  AND customers.status = 1\n",
    "  AND liveramp_customer_accounts.enabled = TRUE\n",
    "  AND liveramp_customer_accounts.customer_link_audience = FALSE\n",
    "  AND audience_key_labels.key_index = 0\n",
    "  AND liveramp_customer_accounts.type = \"OfflineLiverampCustomerAccount\"\n",
    "GROUP BY\n",
    "  1, 2, 3, 4\n",
    "HAVING\n",
    "  COUNT(audience_key_labels.id) = 1\n",
    "\"\"\"\n",
    "CIDs_DS_audiences = pandas_gbq.read_gbq(sql, project_id='liveramp-ts-bigquery')"
   ]
  },
  {
   "cell_type": "code",
   "execution_count": null,
   "metadata": {
    "collapsed": true,
    "execution": {
     "iopub.execute_input": "2020-05-07T02:17:24.880Z",
     "iopub.status.busy": "2020-05-07T02:17:24.868Z",
     "iopub.status.idle": "2020-05-07T02:17:24.894Z",
     "shell.execute_reply": "2020-05-07T02:17:24.905Z"
    },
    "jupyter": {
     "outputs_hidden": false,
     "source_hidden": false
    },
    "nteract": {
     "transient": {
      "deleting": false
     }
    },
    "outputExpanded": false
   },
   "outputs": [],
   "source": [
    "# CIDs_DS_audiences = pd.read_csv('/Users/aschul/Documents/Documents - aschul1118mac/Code_Base/Investigations/20200417_AK_analysis/CID_AKs/query_result_DS.csv')"
   ]
  },
  {
   "cell_type": "code",
   "execution_count": null,
   "metadata": {
    "collapsed": true,
    "execution": {
     "iopub.execute_input": "2020-05-07T02:17:40.000Z",
     "iopub.status.busy": "2020-05-07T02:17:39.989Z",
     "iopub.status.idle": "2020-05-07T02:17:40.020Z",
     "shell.execute_reply": "2020-05-07T02:17:40.042Z"
    },
    "jupyter": {
     "outputs_hidden": false,
     "source_hidden": false
    },
    "nteract": {
     "transient": {
      "deleting": false
     }
    },
    "outputExpanded": false
   },
   "outputs": [],
   "source": [
    "CIDs_DS_audiences.head(5)"
   ]
  },
  {
   "cell_type": "code",
   "execution_count": null,
   "metadata": {
    "collapsed": true,
    "execution": {
     "iopub.execute_input": "2020-05-07T02:18:18.804Z",
     "iopub.status.busy": "2020-05-07T02:18:18.794Z",
     "iopub.status.idle": "2020-05-07T02:18:18.819Z",
     "shell.execute_reply": "2020-05-07T02:18:18.828Z"
    },
    "jupyter": {
     "outputs_hidden": false,
     "source_hidden": false
    },
    "nteract": {
     "transient": {
      "deleting": false
     }
    },
    "outputExpanded": false
   },
   "outputs": [],
   "source": [
    "CID_values_DS_audiences = pd.DataFrame(CIDs_DS_audiences[\"label\"].value_counts())"
   ]
  },
  {
   "cell_type": "code",
   "execution_count": null,
   "metadata": {
    "collapsed": true,
    "execution": {
     "iopub.execute_input": "2020-05-07T02:23:31.654Z",
     "iopub.status.busy": "2020-05-07T02:23:31.642Z",
     "iopub.status.idle": "2020-05-07T02:23:31.679Z",
     "shell.execute_reply": "2020-05-07T02:23:31.689Z"
    },
    "jupyter": {
     "outputs_hidden": false,
     "source_hidden": false
    },
    "nteract": {
     "transient": {
      "deleting": false
     }
    },
    "outputExpanded": false
   },
   "outputs": [],
   "source": [
    "CID_values_DS_audiences.head(10)"
   ]
  },
  {
   "cell_type": "markdown",
   "metadata": {},
   "source": [
    "# Address-only audiences\n"
   ]
  },
  {
   "cell_type": "markdown",
   "metadata": {
    "collapsed": true,
    "jupyter": {
     "outputs_hidden": false,
     "source_hidden": false
    },
    "nteract": {
     "transient": {
      "deleting": false
     }
    },
    "outputExpanded": false
   },
   "source": [
    "## Results\n",
    "\n",
    "### all audiences\n",
    "enabled, non-FBR audiences where customer = enabled and AK = address\n",
    "\n",
    "all audiences w/ak = address -> 1,145\n",
    "\n",
    "offline audiences w/ak = address -> 1,133\n",
    "\n",
    "online audiences w/ak = address -> 12\n",
    "\n",
    "### data store\n",
    "\n",
    "all audiences w/ak = address -> 90\n",
    "\n",
    "offline audiences w/ak = address -> 90\n",
    "\n",
    "online audiences w/ak = address -> 0\n"
   ]
  },
  {
   "cell_type": "markdown",
   "metadata": {
    "nteract": {
     "transient": {
      "deleting": false
     }
    }
   },
   "source": [
    "## Data Wrangling"
   ]
  },
  {
   "cell_type": "markdown",
   "metadata": {},
   "source": [
    "query all audiences for # of aks between 4 and 7 inclusive, enabled customers, enabled audiences, non-FBR"
   ]
  },
  {
   "cell_type": "code",
   "execution_count": null,
   "metadata": {
    "collapsed": true
   },
   "outputs": [],
   "source": [
    "sql = \"\"\"\n",
    "SELECT\n",
    "  audience_key_labels.liveramp_customer_account_id,\n",
    "  customers.id AS customer_id,\n",
    "  customers.name AS customer_name,\n",
    "  COUNT(audience_key_labels.id) AS ak_count,\n",
    "  STRING_AGG(LOWER(audience_key_labels.label)) AS aks,\n",
    "  liveramp_customer_accounts.type\n",
    "FROM\n",
    "  `corp-bi-us-prod.rldb.audience_key_labels` AS audience_key_labels\n",
    "INNER JOIN\n",
    "  `corp-bi-us-prod.rldb.liveramp_customer_accounts` AS liveramp_customer_accounts\n",
    "ON\n",
    "  audience_key_labels.liveramp_customer_account_id = liveramp_customer_accounts.id\n",
    "INNER JOIN\n",
    "  `corp-bi-us-prod.rldb.customers` AS customers\n",
    "ON\n",
    "  liveramp_customer_accounts.customer_id = customers.id\n",
    "WHERE\n",
    "  customers.status = 1\n",
    "  AND liveramp_customer_accounts.enabled = TRUE\n",
    "  AND liveramp_customer_accounts.customer_link_audience = FALSE\n",
    "\n",
    "GROUP BY\n",
    "  1,\n",
    "  2,\n",
    "  3,\n",
    "  6\n",
    "HAVING\n",
    "  ak_count > 3\n",
    "  AND ak_count < 8\n",
    "  AND aks NOT LIKE \"%transaction%\"\n",
    "  AND aks NOT LIKE \"%amount%\"\n",
    "  AND aks NOT LIKE \"%aaid%\"\n",
    "  AND aks NOT LIKE \"%email%\"\n",
    "  AND aks NOT LIKE \"%ordinal%\"\n",
    "ORDER BY\n",
    "  ak_count DESC\n",
    "\"\"\"\n",
    "address_aks = pandas_gbq.read_gbq(sql, project_id='liveramp-ts-bigquery')"
   ]
  },
  {
   "cell_type": "code",
   "execution_count": null,
   "metadata": {
    "collapsed": true
   },
   "outputs": [],
   "source": [
    "address_aks.head(5)"
   ]
  },
  {
   "cell_type": "code",
   "execution_count": null,
   "metadata": {
    "collapsed": true
   },
   "outputs": [],
   "source": [
    "# count types"
   ]
  },
  {
   "cell_type": "markdown",
   "metadata": {},
   "source": [
    "query all audiences for # of aks between 4 and 7 inclusive, enabled customers, enabled audiences, non-FBR, DS"
   ]
  },
  {
   "cell_type": "code",
   "execution_count": null,
   "metadata": {
    "collapsed": true
   },
   "outputs": [],
   "source": [
    "sql = \"\"\"\n",
    "SELECT\n",
    "  audience_key_labels.liveramp_customer_account_id,\n",
    "  customers.id AS customer_id,\n",
    "  customers.name AS customer_name,\n",
    "  COUNT(audience_key_labels.id) AS ak_count,\n",
    "  STRING_AGG(LOWER(audience_key_labels.label)) AS aks,\n",
    "  liveramp_customer_accounts.type\n",
    "FROM\n",
    "  `corp-bi-us-prod.rldb.audience_key_labels` AS audience_key_labels\n",
    "INNER JOIN\n",
    "  `corp-bi-us-prod.rldb.liveramp_customer_accounts` AS liveramp_customer_accounts\n",
    "ON\n",
    "  audience_key_labels.liveramp_customer_account_id = liveramp_customer_accounts.id\n",
    "INNER JOIN\n",
    "  `corp-bi-us-prod.rldb.customers` AS customers\n",
    "ON\n",
    "  liveramp_customer_accounts.customer_id = customers.id\n",
    "WHERE\n",
    "liveramp_customer_accounts.id IN (\n",
    "              SELECT\n",
    "                lr_customer_accounts.id\n",
    "              FROM\n",
    "                `corp-bi-us-prod.rldb.dms_segments` AS dms_segments\n",
    "              INNER JOIN\n",
    "                `corp-bi-us-prod.rldb.lrc_field_definitions` AS lrc_field_definitions\n",
    "              ON\n",
    "                dms_segments.lrc_field_definition_id = lrc_field_definitions.id\n",
    "              INNER JOIN\n",
    "                `corp-bi-us-prod.rldb.liveramp_customer_accounts` AS lr_customer_accounts\n",
    "              ON\n",
    "                lrc_field_definitions.lr_customer_account_id = lr_customer_accounts.id\n",
    "              INNER JOIN\n",
    "                `corp-bi-us-prod.rldb.customers` AS customers\n",
    "              ON\n",
    "                lr_customer_accounts.customer_id = customers.id\n",
    "              WHERE\n",
    "                lr_customer_accounts.enabled = TRUE\n",
    "                AND lr_customer_accounts.customer_link_audience = FALSE\n",
    "                AND customers.status = 1\n",
    "              GROUP BY\n",
    "                lr_customer_accounts.id) AND\n",
    "  customers.status = 1\n",
    "  AND liveramp_customer_accounts.enabled = TRUE\n",
    "  AND liveramp_customer_accounts.customer_link_audience = FALSE\n",
    "  AND liveramp_customer_accounts.type = \"OfflineLiverampCustomerAccount\"\n",
    "GROUP BY\n",
    "  1,\n",
    "  2,\n",
    "  3,\n",
    "  6\n",
    "HAVING\n",
    "  ak_count > 3\n",
    "  AND ak_count < 8\n",
    "  AND aks NOT LIKE \"%transaction%\"\n",
    "  AND aks NOT LIKE \"%amount%\"\n",
    "  AND aks NOT LIKE \"%aaid%\"\n",
    "  AND aks NOT LIKE \"%email%\"\n",
    "  AND aks NOT LIKE \"%ordinal%\"\n",
    "ORDER BY\n",
    "  ak_count DESC\n",
    "\"\"\"\n",
    "address_aks_DS = pandas_gbq.read_gbq(sql, project_id='liveramp-ts-bigquery')"
   ]
  },
  {
   "cell_type": "code",
   "execution_count": null,
   "metadata": {
    "collapsed": true
   },
   "outputs": [],
   "source": [
    "address_aks_DS"
   ]
  },
  {
   "cell_type": "markdown",
   "metadata": {
    "collapsed": true,
    "jupyter": {
     "outputs_hidden": false,
     "source_hidden": false
    },
    "nteract": {
     "transient": {
      "deleting": false
     }
    },
    "outputExpanded": false
   },
   "source": [
    "# PINless imports analysis"
   ]
  },
  {
   "cell_type": "markdown",
   "metadata": {},
   "source": [
    "## results\n",
    "non DS audiences \n",
    "email - 7\n",
    "CID - 83\n",
    "address - 2\n",
    "\n",
    "DS audiences - 103\n",
    "address - 6\n",
    "raw email - 8\n",
    "MD5 - 4\n",
    "SHA256 - 1\n",
    "CID - 76"
   ]
  },
  {
   "cell_type": "code",
   "execution_count": 87,
   "metadata": {
    "code_folding": [
     1
    ]
   },
   "outputs": [
    {
     "name": "stderr",
     "output_type": "stream",
     "text": [
      "Downloading: 100%|██████████| 959/959 [00:00<00:00, 3724.13rows/s]\n"
     ]
    },
    {
     "data": {
      "text/html": [
       "<div>\n",
       "<style scoped>\n",
       "    .dataframe tbody tr th:only-of-type {\n",
       "        vertical-align: middle;\n",
       "    }\n",
       "\n",
       "    .dataframe tbody tr th {\n",
       "        vertical-align: top;\n",
       "    }\n",
       "\n",
       "    .dataframe thead th {\n",
       "        text-align: right;\n",
       "    }\n",
       "</style>\n",
       "<table border=\"1\" class=\"dataframe\">\n",
       "  <thead>\n",
       "    <tr style=\"text-align: right;\">\n",
       "      <th></th>\n",
       "      <th>audience_id</th>\n",
       "      <th>audience_name</th>\n",
       "      <th>customer_name</th>\n",
       "      <th>customer_id</th>\n",
       "      <th>total_imports</th>\n",
       "      <th>PIN_imports</th>\n",
       "      <th>PINLESS_imports</th>\n",
       "      <th>percent_pinless</th>\n",
       "      <th>ak_count</th>\n",
       "      <th>aks</th>\n",
       "    </tr>\n",
       "  </thead>\n",
       "  <tbody>\n",
       "    <tr>\n",
       "      <th>0</th>\n",
       "      <td>378059</td>\n",
       "      <td>Tinuiti - Maurice's - Customer Attributes</td>\n",
       "      <td>Tinuiti - Maurice's</td>\n",
       "      <td>602259</td>\n",
       "      <td>1777</td>\n",
       "      <td>1773</td>\n",
       "      <td>4</td>\n",
       "      <td>0.002251</td>\n",
       "      <td>1</td>\n",
       "      <td>individual_id</td>\n",
       "    </tr>\n",
       "    <tr>\n",
       "      <th>1</th>\n",
       "      <td>381209</td>\n",
       "      <td>SRAX IR - Simple Onboard</td>\n",
       "      <td>SRAX IR</td>\n",
       "      <td>603459</td>\n",
       "      <td>33</td>\n",
       "      <td>9</td>\n",
       "      <td>24</td>\n",
       "      <td>0.727273</td>\n",
       "      <td>5</td>\n",
       "      <td>zip,city,address,lastname,firstname</td>\n",
       "    </tr>\n",
       "    <tr>\n",
       "      <th>2</th>\n",
       "      <td>369079</td>\n",
       "      <td>Jamloop -- Screen Strategies - Simple Onboard</td>\n",
       "      <td>Jamloop -- Screen Strategies</td>\n",
       "      <td>601179</td>\n",
       "      <td>3</td>\n",
       "      <td>0</td>\n",
       "      <td>3</td>\n",
       "      <td>1.000000</td>\n",
       "      <td>1</td>\n",
       "      <td>ccid</td>\n",
       "    </tr>\n",
       "    <tr>\n",
       "      <th>3</th>\n",
       "      <td>370129</td>\n",
       "      <td>Jamloop -- Paintzen - Simple Onboard</td>\n",
       "      <td>Jamloop -- Paintzen</td>\n",
       "      <td>601439</td>\n",
       "      <td>1</td>\n",
       "      <td>0</td>\n",
       "      <td>1</td>\n",
       "      <td>1.000000</td>\n",
       "      <td>1</td>\n",
       "      <td>ccid</td>\n",
       "    </tr>\n",
       "    <tr>\n",
       "      <th>4</th>\n",
       "      <td>374069</td>\n",
       "      <td>LumenAd - Master Onboarding Audience</td>\n",
       "      <td>LumenAd</td>\n",
       "      <td>602219</td>\n",
       "      <td>84</td>\n",
       "      <td>83</td>\n",
       "      <td>1</td>\n",
       "      <td>0.011905</td>\n",
       "      <td>1</td>\n",
       "      <td>email1</td>\n",
       "    </tr>\n",
       "  </tbody>\n",
       "</table>\n",
       "</div>"
      ],
      "text/plain": [
       "   audience_id                                  audience_name  \\\n",
       "0       378059      Tinuiti - Maurice's - Customer Attributes   \n",
       "1       381209                       SRAX IR - Simple Onboard   \n",
       "2       369079  Jamloop -- Screen Strategies - Simple Onboard   \n",
       "3       370129           Jamloop -- Paintzen - Simple Onboard   \n",
       "4       374069           LumenAd - Master Onboarding Audience   \n",
       "\n",
       "                  customer_name  customer_id  total_imports  PIN_imports  \\\n",
       "0           Tinuiti - Maurice's       602259           1777         1773   \n",
       "1                       SRAX IR       603459             33            9   \n",
       "2  Jamloop -- Screen Strategies       601179              3            0   \n",
       "3           Jamloop -- Paintzen       601439              1            0   \n",
       "4                       LumenAd       602219             84           83   \n",
       "\n",
       "   PINLESS_imports  percent_pinless  ak_count  \\\n",
       "0                4         0.002251         1   \n",
       "1               24         0.727273         5   \n",
       "2                3         1.000000         1   \n",
       "3                1         1.000000         1   \n",
       "4                1         0.011905         1   \n",
       "\n",
       "                                   aks  \n",
       "0                        individual_id  \n",
       "1  zip,city,address,lastname,firstname  \n",
       "2                                 ccid  \n",
       "3                                 ccid  \n",
       "4                               email1  "
      ]
     },
     "execution_count": 87,
     "metadata": {},
     "output_type": "execute_result"
    }
   ],
   "source": [
    "sql = \"\"\"\n",
    "WITH\n",
    "  pinless_audiences AS \n",
    "\n",
    "  (\n",
    "  SELECT\n",
    "    liveramp_customer_accounts.display_name AS audience_name,\n",
    "    liveramp_customer_accounts.id AS audience_id,\n",
    "    COUNT(liveramp_import_requests.id) AS total_imports,\n",
    "    COUNT(lir_pin_types.id) AS PIN_imports,\n",
    "    SUM(CASE\n",
    "        WHEN lir_pin_types.id IS NULL THEN 1\n",
    "      ELSE\n",
    "      0\n",
    "    END\n",
    "      ) AS PINLESS_imports,\n",
    "    SAFE_DIVIDE(SUM(CASE\n",
    "          WHEN lir_pin_types.id IS NULL THEN 1\n",
    "        ELSE\n",
    "        0\n",
    "      END\n",
    "        ),\n",
    "      COUNT(liveramp_import_requests.id)) AS percent_pinless\n",
    "  FROM\n",
    "    `corp-bi-us-prod.rldb.liveramp_customer_accounts` AS liveramp_customer_accounts\n",
    "  INNER JOIN\n",
    "    `corp-bi-us-prod.rldb.customers` AS customers\n",
    "  ON\n",
    "    liveramp_customer_accounts.customer_id = customers.id\n",
    "  INNER JOIN\n",
    "    `corp-bi-us-prod.rldb.liveramp_import_requests` AS liveramp_import_requests\n",
    "  ON\n",
    "    liveramp_customer_accounts.id = liveramp_import_requests.liveramp_customer_account_id\n",
    "  LEFT JOIN\n",
    "    `corp-bi-us-prod.rldb.lir_pin_types` AS lir_pin_types\n",
    "  ON\n",
    "    liveramp_import_requests.id = lir_pin_types.liveramp_import_request_id\n",
    "  WHERE\n",
    "    liveramp_customer_accounts.type = \"OfflineLiverampCustomerAccount\"\n",
    "    AND liveramp_customer_accounts.customer_link_audience = FALSE\n",
    "    AND liveramp_import_requests.status <> 11\n",
    "  GROUP BY\n",
    "    1,\n",
    "    2\n",
    "  HAVING\n",
    "    percent_pinless > 0 \n",
    "    )\n",
    "\n",
    "  ,\n",
    "  audience_aks AS \n",
    "  (\n",
    "  SELECT\n",
    "    audience_key_labels.liveramp_customer_account_id AS table_2_audience_id,\n",
    "    customers.id AS customer_id,\n",
    "    customers.name AS customer_name,\n",
    "    COUNT(audience_key_labels.id) AS ak_count,\n",
    "    STRING_AGG(LOWER(audience_key_labels.label)) AS aks,\n",
    "    liveramp_customer_accounts.type\n",
    "  FROM\n",
    "    `corp-bi-us-prod.rldb.audience_key_labels` AS audience_key_labels\n",
    "  INNER JOIN\n",
    "    `corp-bi-us-prod.rldb.liveramp_customer_accounts` AS liveramp_customer_accounts\n",
    "  ON\n",
    "    audience_key_labels.liveramp_customer_account_id = liveramp_customer_accounts.id\n",
    "  INNER JOIN\n",
    "    `corp-bi-us-prod.rldb.customers` AS customers\n",
    "  ON\n",
    "    liveramp_customer_accounts.customer_id = customers.id\n",
    "  WHERE\n",
    "    customers.status = 1\n",
    "    AND liveramp_customer_accounts.enabled = TRUE\n",
    "    AND liveramp_customer_accounts.customer_link_audience = FALSE\n",
    "  GROUP BY\n",
    "    1,\n",
    "    2,\n",
    "    3,\n",
    "    6\n",
    "  ORDER BY\n",
    "    ak_count DESC\n",
    "    )\n",
    "\n",
    "SELECT\n",
    "  audience_id, audience_name, customer_name, customer_id, total_imports, PIN_imports, PINLESS_imports, percent_pinless, ak_count, aks\n",
    "FROM\n",
    "  pinless_audiences\n",
    "INNER JOIN\n",
    "  audience_aks\n",
    "ON\n",
    "  audience_id = table_2_audience_id\n",
    "\"\"\"\n",
    "\n",
    "pinless_auds = pandas_gbq.read_gbq(sql, project_id='liveramp-ts-bigquery')\n",
    "pinless_auds.head()"
   ]
  },
  {
   "cell_type": "code",
   "execution_count": null,
   "metadata": {
    "collapsed": true
   },
   "outputs": [],
   "source": [
    "total_auds = pinless_auds.loc[pinless_auds['percent_pinless']>0.198]\n",
    "total_auds = total_auds.loc[total_auds['total_imports']>31]\n",
    "total_auds.info()"
   ]
  },
  {
   "cell_type": "code",
   "execution_count": null,
   "metadata": {
    "collapsed": true
   },
   "outputs": [],
   "source": [
    "# filter for audiences w/one audience key\n",
    "pinless_auds_1_ak = pinless_auds.loc[pinless_auds['ak_count'] == 1]\n",
    "# filter for audiences with %pinless imports in 50th percentile\n",
    "pinless_auds_1_ak_50 = pinless_auds_1_ak.loc[pinless_auds_1_ak['percent_pinless']>0.198]\n",
    "# 50th percentile number of imports, 50th percentile percent pinless\n",
    "pinless_auds_1_ak_50_50 = pinless_auds_1_ak_50.loc[pinless_auds_1_ak_50['total_imports']>31]"
   ]
  },
  {
   "cell_type": "code",
   "execution_count": null,
   "metadata": {
    "collapsed": true
   },
   "outputs": [],
   "source": [
    "pinless_auds_1_ak_50_50 \n",
    "pinless_auds_1_ak_50_50_values = pd.DataFrame(pinless_auds_1_ak_50_50[\"aks\"].value_counts())"
   ]
  },
  {
   "cell_type": "code",
   "execution_count": null,
   "metadata": {
    "collapsed": true
   },
   "outputs": [],
   "source": [
    "# audiences w/4-8 aks (addresses)\n",
    "# filter for audiences w/4-8 audience keys\n",
    "pinless_auds_4_ak = pinless_auds[(pinless_auds['ak_count'] >= 4) & (pinless_auds['ak_count'] <= 8)]\n",
    "# filter for audiences with %pinless imports in 50th percentile\n",
    "pinless_auds_4_ak_50 = pinless_auds_4_ak.loc[pinless_auds_4_ak['percent_pinless']>0.198]\n",
    "# 50th percentile number of imports, 50th percentile percent pinless\n",
    "pinless_auds_4_ak_50_50 = pinless_auds_4_ak_50.loc[pinless_auds_4_ak_50['total_imports']>31]"
   ]
  },
  {
   "cell_type": "markdown",
   "metadata": {},
   "source": [
    "Data Store audiences, query PINless audiences"
   ]
  },
  {
   "cell_type": "code",
   "execution_count": null,
   "metadata": {
    "code_folding": [
     1,
     81,
     83,
     85,
     87,
     89
    ],
    "collapsed": true
   },
   "outputs": [],
   "source": [
    "sql = \"\"\"\n",
    "WITH\n",
    "  pinless_audiences AS \n",
    "\n",
    "  (\n",
    "  SELECT\n",
    "    liveramp_customer_accounts.display_name AS audience_name,\n",
    "    liveramp_customer_accounts.id AS audience_id,\n",
    "    COUNT(liveramp_import_requests.id) AS total_imports,\n",
    "    COUNT(lir_pin_types.id) AS PIN_imports,\n",
    "    SUM(CASE\n",
    "        WHEN lir_pin_types.id IS NULL THEN 1\n",
    "      ELSE\n",
    "      0\n",
    "    END\n",
    "      ) AS PINLESS_imports,\n",
    "    SAFE_DIVIDE(SUM(CASE\n",
    "          WHEN lir_pin_types.id IS NULL THEN 1\n",
    "        ELSE\n",
    "        0\n",
    "      END\n",
    "        ),\n",
    "      COUNT(liveramp_import_requests.id)) AS percent_pinless\n",
    "  FROM\n",
    "    `corp-bi-us-prod.rldb.liveramp_customer_accounts` AS liveramp_customer_accounts\n",
    "  INNER JOIN\n",
    "    `corp-bi-us-prod.rldb.customers` AS customers\n",
    "  ON\n",
    "    liveramp_customer_accounts.customer_id = customers.id\n",
    "  INNER JOIN\n",
    "    `corp-bi-us-prod.rldb.liveramp_import_requests` AS liveramp_import_requests\n",
    "  ON\n",
    "    liveramp_customer_accounts.id = liveramp_import_requests.liveramp_customer_account_id\n",
    "  LEFT JOIN\n",
    "    `corp-bi-us-prod.rldb.lir_pin_types` AS lir_pin_types\n",
    "  ON\n",
    "    liveramp_import_requests.id = lir_pin_types.liveramp_import_request_id\n",
    "  WHERE\n",
    "    liveramp_customer_accounts.type = \"OfflineLiverampCustomerAccount\"\n",
    "    AND liveramp_customer_accounts.customer_link_audience = FALSE\n",
    "    AND liveramp_import_requests.status <> 11\n",
    "  GROUP BY\n",
    "    1,\n",
    "    2\n",
    "  HAVING\n",
    "    percent_pinless > 0 \n",
    "    )\n",
    "\n",
    "  ,\n",
    "  audience_aks AS \n",
    "  (\n",
    "  SELECT\n",
    "    audience_key_labels.liveramp_customer_account_id AS table_2_audience_id,\n",
    "    customers.id AS customer_id,\n",
    "    customers.name AS customer_name,\n",
    "    COUNT(audience_key_labels.id) AS ak_count,\n",
    "    STRING_AGG(LOWER(audience_key_labels.label)) AS aks,\n",
    "    liveramp_customer_accounts.type\n",
    "  FROM\n",
    "    `corp-bi-us-prod.rldb.audience_key_labels` AS audience_key_labels\n",
    "  INNER JOIN\n",
    "    `corp-bi-us-prod.rldb.liveramp_customer_accounts` AS liveramp_customer_accounts\n",
    "  ON\n",
    "    audience_key_labels.liveramp_customer_account_id = liveramp_customer_accounts.id\n",
    "  INNER JOIN\n",
    "    `corp-bi-us-prod.rldb.customers` AS customers\n",
    "  ON\n",
    "    liveramp_customer_accounts.customer_id = customers.id\n",
    "  WHERE\n",
    "    customers.status = 1\n",
    "    AND liveramp_customer_accounts.enabled = TRUE\n",
    "    AND liveramp_customer_accounts.customer_link_audience = FALSE\n",
    "  GROUP BY\n",
    "    1,\n",
    "    2,\n",
    "    3,\n",
    "    6\n",
    "  ORDER BY\n",
    "    ak_count DESC\n",
    "    )\n",
    "\n",
    "SELECT\n",
    "  audience_id, audience_name, customer_name, customer_id, total_imports, PIN_imports, PINLESS_imports, percent_pinless, ak_count, aks\n",
    "FROM\n",
    "  pinless_audiences\n",
    "INNER JOIN\n",
    "  audience_aks\n",
    "ON\n",
    "  audience_id = table_2_audience_id\n",
    "WHERE audience_id IN (\n",
    "              SELECT\n",
    "                lr_customer_accounts.id\n",
    "              FROM\n",
    "                `corp-bi-us-prod.rldb.dms_segments` AS dms_segments\n",
    "              INNER JOIN\n",
    "                `corp-bi-us-prod.rldb.lrc_field_definitions` AS lrc_field_definitions\n",
    "              ON\n",
    "                dms_segments.lrc_field_definition_id = lrc_field_definitions.id\n",
    "              INNER JOIN\n",
    "                `corp-bi-us-prod.rldb.liveramp_customer_accounts` AS lr_customer_accounts\n",
    "              ON\n",
    "                lrc_field_definitions.lr_customer_account_id = lr_customer_accounts.id\n",
    "              INNER JOIN\n",
    "                `corp-bi-us-prod.rldb.customers` AS customers\n",
    "              ON\n",
    "                lr_customer_accounts.customer_id = customers.id\n",
    "              WHERE\n",
    "                lr_customer_accounts.enabled = TRUE\n",
    "                AND lr_customer_accounts.customer_link_audience = FALSE\n",
    "                AND customers.status = 1\n",
    "              GROUP BY\n",
    "                lr_customer_accounts.id) \n",
    "\"\"\"\n",
    "pinless_auds_ds = pandas_gbq.read_gbq(sql, project_id='liveramp-ts-bigquery')"
   ]
  },
  {
   "cell_type": "code",
   "execution_count": null,
   "metadata": {
    "collapsed": true
   },
   "outputs": [],
   "source": [
    "# filter for audiences w/one audience key \n",
    "pinless_auds_ds_1 = pinless_auds_ds.loc[pinless_auds_ds['ak_count'] == 1] \n",
    "# filter for percent pinless > 0.198\n",
    "pinless_auds_ds_50 = pinless_auds_ds_1.loc[pinless_auds_ds_1['percent_pinless']>0.198]\n",
    "# filter for total imports > 32\n",
    "pinless_auds_ds_50_50 = pinless_auds_ds_50.loc[pinless_auds_ds_50['total_imports']>32]"
   ]
  },
  {
   "cell_type": "code",
   "execution_count": null,
   "metadata": {
    "collapsed": true
   },
   "outputs": [],
   "source": [
    "# filter for audiences w/4-8 audience keys\n",
    "pinless_auds_ds_4 = pinless_auds_ds[(pinless_auds_ds['ak_count'] >= 4) & (pinless_auds_ds['ak_count'] <= 8)]\n",
    "# filter for percent pinless > 0.198\n",
    "# NO RESULTS"
   ]
  },
  {
   "cell_type": "markdown",
   "metadata": {},
   "source": [
    "## appendix"
   ]
  },
  {
   "cell_type": "code",
   "execution_count": 88,
   "metadata": {},
   "outputs": [
    {
     "data": {
      "text/html": [
       "<div>\n",
       "<style scoped>\n",
       "    .dataframe tbody tr th:only-of-type {\n",
       "        vertical-align: middle;\n",
       "    }\n",
       "\n",
       "    .dataframe tbody tr th {\n",
       "        vertical-align: top;\n",
       "    }\n",
       "\n",
       "    .dataframe thead th {\n",
       "        text-align: right;\n",
       "    }\n",
       "</style>\n",
       "<table border=\"1\" class=\"dataframe\">\n",
       "  <thead>\n",
       "    <tr style=\"text-align: right;\">\n",
       "      <th></th>\n",
       "      <th>audience_id</th>\n",
       "      <th>customer_id</th>\n",
       "      <th>total_imports</th>\n",
       "      <th>PIN_imports</th>\n",
       "      <th>PINLESS_imports</th>\n",
       "      <th>percent_pinless</th>\n",
       "      <th>ak_count</th>\n",
       "    </tr>\n",
       "  </thead>\n",
       "  <tbody>\n",
       "    <tr>\n",
       "      <th>count</th>\n",
       "      <td>959.000000</td>\n",
       "      <td>959.000000</td>\n",
       "      <td>959.000000</td>\n",
       "      <td>959.000000</td>\n",
       "      <td>959.000000</td>\n",
       "      <td>959.000000</td>\n",
       "      <td>959.000000</td>\n",
       "    </tr>\n",
       "    <tr>\n",
       "      <th>mean</th>\n",
       "      <td>306100.762252</td>\n",
       "      <td>504707.696559</td>\n",
       "      <td>805.313869</td>\n",
       "      <td>651.157456</td>\n",
       "      <td>154.156413</td>\n",
       "      <td>0.321517</td>\n",
       "      <td>1.600626</td>\n",
       "    </tr>\n",
       "    <tr>\n",
       "      <th>std</th>\n",
       "      <td>143208.430149</td>\n",
       "      <td>149070.566740</td>\n",
       "      <td>5872.705208</td>\n",
       "      <td>5815.524525</td>\n",
       "      <td>818.019619</td>\n",
       "      <td>0.355022</td>\n",
       "      <td>2.355210</td>\n",
       "    </tr>\n",
       "    <tr>\n",
       "      <th>min</th>\n",
       "      <td>121.000000</td>\n",
       "      <td>741.000000</td>\n",
       "      <td>1.000000</td>\n",
       "      <td>0.000000</td>\n",
       "      <td>1.000000</td>\n",
       "      <td>0.000006</td>\n",
       "      <td>1.000000</td>\n",
       "    </tr>\n",
       "    <tr>\n",
       "      <th>25%</th>\n",
       "      <td>195241.000000</td>\n",
       "      <td>510399.000000</td>\n",
       "      <td>6.000000</td>\n",
       "      <td>3.000000</td>\n",
       "      <td>1.000000</td>\n",
       "      <td>0.018182</td>\n",
       "      <td>1.000000</td>\n",
       "    </tr>\n",
       "    <tr>\n",
       "      <th>50%</th>\n",
       "      <td>345089.000000</td>\n",
       "      <td>545886.000000</td>\n",
       "      <td>36.000000</td>\n",
       "      <td>19.000000</td>\n",
       "      <td>2.000000</td>\n",
       "      <td>0.166667</td>\n",
       "      <td>1.000000</td>\n",
       "    </tr>\n",
       "    <tr>\n",
       "      <th>75%</th>\n",
       "      <td>426746.000000</td>\n",
       "      <td>592289.000000</td>\n",
       "      <td>407.500000</td>\n",
       "      <td>233.000000</td>\n",
       "      <td>6.000000</td>\n",
       "      <td>0.500000</td>\n",
       "      <td>1.000000</td>\n",
       "    </tr>\n",
       "    <tr>\n",
       "      <th>max</th>\n",
       "      <td>500061.000000</td>\n",
       "      <td>630111.000000</td>\n",
       "      <td>170449.000000</td>\n",
       "      <td>170448.000000</td>\n",
       "      <td>10436.000000</td>\n",
       "      <td>1.000000</td>\n",
       "      <td>26.000000</td>\n",
       "    </tr>\n",
       "  </tbody>\n",
       "</table>\n",
       "</div>"
      ],
      "text/plain": [
       "         audience_id    customer_id  total_imports    PIN_imports  \\\n",
       "count     959.000000     959.000000     959.000000     959.000000   \n",
       "mean   306100.762252  504707.696559     805.313869     651.157456   \n",
       "std    143208.430149  149070.566740    5872.705208    5815.524525   \n",
       "min       121.000000     741.000000       1.000000       0.000000   \n",
       "25%    195241.000000  510399.000000       6.000000       3.000000   \n",
       "50%    345089.000000  545886.000000      36.000000      19.000000   \n",
       "75%    426746.000000  592289.000000     407.500000     233.000000   \n",
       "max    500061.000000  630111.000000  170449.000000  170448.000000   \n",
       "\n",
       "       PINLESS_imports  percent_pinless    ak_count  \n",
       "count       959.000000       959.000000  959.000000  \n",
       "mean        154.156413         0.321517    1.600626  \n",
       "std         818.019619         0.355022    2.355210  \n",
       "min           1.000000         0.000006    1.000000  \n",
       "25%           1.000000         0.018182    1.000000  \n",
       "50%           2.000000         0.166667    1.000000  \n",
       "75%           6.000000         0.500000    1.000000  \n",
       "max       10436.000000         1.000000   26.000000  "
      ]
     },
     "execution_count": 88,
     "metadata": {},
     "output_type": "execute_result"
    }
   ],
   "source": [
    "pinless_auds.describe()"
   ]
  },
  {
   "cell_type": "code",
   "execution_count": 90,
   "metadata": {},
   "outputs": [],
   "source": [
    "percent_pinless = pinless_auds['percent_pinless']"
   ]
  },
  {
   "cell_type": "code",
   "execution_count": 91,
   "metadata": {},
   "outputs": [
    {
     "data": {
      "text/plain": [
       "<matplotlib.axes._subplots.AxesSubplot at 0x1275c1310>"
      ]
     },
     "execution_count": 91,
     "metadata": {},
     "output_type": "execute_result"
    },
    {
     "data": {
      "image/png": "[encoded data removed]",
      "text/plain": [
       "<Figure size 432x288 with 1 Axes>"
      ]
     },
     "metadata": {
      "needs_background": "light"
     },
     "output_type": "display_data"
    }
   ],
   "source": [
    "percent_pinless.plot.hist()"
   ]
  },
  {
   "cell_type": "code",
   "execution_count": null,
   "metadata": {},
   "outputs": [],
   "source": []
  }
 ],
 "metadata": {
  "kernelspec": {
   "display_name": "Python 3",
   "language": "python",
   "name": "python3"
  },
  "language_info": {
   "codemirror_mode": {
    "name": "ipython",
    "version": 3
   },
   "file_extension": ".py",
   "mimetype": "text/x-python",
   "name": "python",
   "nbconvert_exporter": "python",
   "pygments_lexer": "ipython3",
   "version": "3.7.7"
  },
  "nteract": {
   "version": "0.23.1"
  },
  "toc": {
   "base_numbering": 1,
   "nav_menu": {},
   "number_sections": true,
   "sideBar": true,
   "skip_h1_title": false,
   "title_cell": "Table of Contents",
   "title_sidebar": "Contents",
   "toc_cell": true,
   "toc_position": {
    "height": "calc(100% - 180px)",
    "left": "10px",
    "top": "150px",
    "width": "361.875px"
   },
   "toc_section_display": true,
   "toc_window_display": true
  },
  "widgets": {
   "application/vnd.jupyter.widget-state+json": {
    "state": {},
    "version_major": 2,
    "version_minor": 0
   }
  }
 },
 "nbformat": 4,
 "nbformat_minor": 4
}
