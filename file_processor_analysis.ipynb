{
 "cells": [
  {
   "cell_type": "code",
   "execution_count": 5,
   "metadata": {},
   "outputs": [],
   "source": [
    "# import the basics\n",
    "import pandas as pd\n",
    "import numpy as np\n",
    "import matplotlib.pyplot as plt\n",
    "\n"
   ]
  },
  {
   "cell_type": "code",
   "execution_count": 6,
   "metadata": {},
   "outputs": [
    {
     "data": {
      "text/plain": [
       "'/Users/aschul/Documents/Code_Base/Investigations/20200414_file_processors'"
      ]
     },
     "execution_count": 6,
     "metadata": {},
     "output_type": "execute_result"
    }
   ],
   "source": [
    "pwd"
   ]
  },
  {
   "cell_type": "code",
   "execution_count": 9,
   "metadata": {},
   "outputs": [],
   "source": [
    "df = pd.read_csv('/Users/aschul/Documents/Code_Base/Investigations/20200414_file_processors/results-20200414-145541.csv')"
   ]
  },
  {
   "cell_type": "code",
   "execution_count": 31,
   "metadata": {},
   "outputs": [
    {
     "name": "stdout",
     "output_type": "stream",
     "text": [
      "<class 'pandas.core.frame.DataFrame'>\n",
      "RangeIndex: 15601 entries, 0 to 15600\n",
      "Data columns (total 18 columns):\n",
      " #   Column                           Non-Null Count  Dtype  \n",
      "---  ------                           --------------  -----  \n",
      " 0   id                               15601 non-null  int64  \n",
      " 1   liveramp_customer_account_id     15601 non-null  int64  \n",
      " 2   import_type                      14876 non-null  float64\n",
      " 3   file_processor                   15601 non-null  object \n",
      " 4   seed_liveramp_import_request_id  14926 non-null  float64\n",
      " 5   created_by                       15601 non-null  int64  \n",
      " 6   updated_by                       15601 non-null  int64  \n",
      " 7   created_at                       15601 non-null  object \n",
      " 8   updated_at                       15601 non-null  object \n",
      " 9   audience_input_dir               13683 non-null  object \n",
      " 10  enabled                          15601 non-null  bool   \n",
      " 11  stop_run                         15601 non-null  bool   \n",
      " 12  primary_delimiter                73 non-null     object \n",
      " 13  secondary_delimiter              72 non-null     object \n",
      " 14  use_decompression_service        15601 non-null  bool   \n",
      " 15  create_directory                 15601 non-null  bool   \n",
      " 16  priority                         15601 non-null  int64  \n",
      " 17  gcs_audience_input_dir           15534 non-null  object \n",
      "dtypes: bool(4), float64(2), int64(5), object(7)\n",
      "memory usage: 1.7+ MB\n"
     ]
    },
    {
     "data": {
      "text/html": [
       "<div>\n",
       "<style scoped>\n",
       "    .dataframe tbody tr th:only-of-type {\n",
       "        vertical-align: middle;\n",
       "    }\n",
       "\n",
       "    .dataframe tbody tr th {\n",
       "        vertical-align: top;\n",
       "    }\n",
       "\n",
       "    .dataframe thead th {\n",
       "        text-align: right;\n",
       "    }\n",
       "</style>\n",
       "<table border=\"1\" class=\"dataframe\">\n",
       "  <thead>\n",
       "    <tr style=\"text-align: right;\">\n",
       "      <th></th>\n",
       "      <th>id</th>\n",
       "      <th>liveramp_customer_account_id</th>\n",
       "      <th>import_type</th>\n",
       "      <th>seed_liveramp_import_request_id</th>\n",
       "      <th>created_by</th>\n",
       "      <th>updated_by</th>\n",
       "      <th>priority</th>\n",
       "    </tr>\n",
       "  </thead>\n",
       "  <tbody>\n",
       "    <tr>\n",
       "      <th>count</th>\n",
       "      <td>15601.000000</td>\n",
       "      <td>15601.000000</td>\n",
       "      <td>14876.000000</td>\n",
       "      <td>1.492600e+04</td>\n",
       "      <td>1.560100e+04</td>\n",
       "      <td>1.560100e+04</td>\n",
       "      <td>15601.000000</td>\n",
       "    </tr>\n",
       "    <tr>\n",
       "      <th>mean</th>\n",
       "      <td>197184.647715</td>\n",
       "      <td>248799.650728</td>\n",
       "      <td>1.890764</td>\n",
       "      <td>2.164070e+07</td>\n",
       "      <td>1.976451e+06</td>\n",
       "      <td>1.993390e+06</td>\n",
       "      <td>150.038459</td>\n",
       "    </tr>\n",
       "    <tr>\n",
       "      <th>std</th>\n",
       "      <td>116130.947554</td>\n",
       "      <td>136202.166212</td>\n",
       "      <td>0.388359</td>\n",
       "      <td>2.013540e+07</td>\n",
       "      <td>1.029328e+05</td>\n",
       "      <td>9.163101e+04</td>\n",
       "      <td>1.386217</td>\n",
       "    </tr>\n",
       "    <tr>\n",
       "      <th>min</th>\n",
       "      <td>39.000000</td>\n",
       "      <td>121.000000</td>\n",
       "      <td>1.000000</td>\n",
       "      <td>4.296000e+03</td>\n",
       "      <td>6.622410e+05</td>\n",
       "      <td>6.622410e+05</td>\n",
       "      <td>150.000000</td>\n",
       "    </tr>\n",
       "    <tr>\n",
       "      <th>25%</th>\n",
       "      <td>96449.000000</td>\n",
       "      <td>127629.000000</td>\n",
       "      <td>2.000000</td>\n",
       "      <td>2.464889e+06</td>\n",
       "      <td>1.934786e+06</td>\n",
       "      <td>1.938106e+06</td>\n",
       "      <td>150.000000</td>\n",
       "    </tr>\n",
       "    <tr>\n",
       "      <th>50%</th>\n",
       "      <td>194519.000000</td>\n",
       "      <td>251399.000000</td>\n",
       "      <td>2.000000</td>\n",
       "      <td>1.669019e+07</td>\n",
       "      <td>1.970729e+06</td>\n",
       "      <td>1.984889e+06</td>\n",
       "      <td>150.000000</td>\n",
       "    </tr>\n",
       "    <tr>\n",
       "      <th>75%</th>\n",
       "      <td>294619.000000</td>\n",
       "      <td>367839.000000</td>\n",
       "      <td>2.000000</td>\n",
       "      <td>3.811192e+07</td>\n",
       "      <td>2.038526e+06</td>\n",
       "      <td>2.057619e+06</td>\n",
       "      <td>150.000000</td>\n",
       "    </tr>\n",
       "    <tr>\n",
       "      <th>max</th>\n",
       "      <td>403471.000000</td>\n",
       "      <td>482471.000000</td>\n",
       "      <td>6.000000</td>\n",
       "      <td>6.863042e+07</td>\n",
       "      <td>2.188401e+06</td>\n",
       "      <td>2.196871e+06</td>\n",
       "      <td>200.000000</td>\n",
       "    </tr>\n",
       "  </tbody>\n",
       "</table>\n",
       "</div>"
      ],
      "text/plain": [
       "                  id  liveramp_customer_account_id   import_type  \\\n",
       "count   15601.000000                  15601.000000  14876.000000   \n",
       "mean   197184.647715                 248799.650728      1.890764   \n",
       "std    116130.947554                 136202.166212      0.388359   \n",
       "min        39.000000                    121.000000      1.000000   \n",
       "25%     96449.000000                 127629.000000      2.000000   \n",
       "50%    194519.000000                 251399.000000      2.000000   \n",
       "75%    294619.000000                 367839.000000      2.000000   \n",
       "max    403471.000000                 482471.000000      6.000000   \n",
       "\n",
       "       seed_liveramp_import_request_id    created_by    updated_by  \\\n",
       "count                     1.492600e+04  1.560100e+04  1.560100e+04   \n",
       "mean                      2.164070e+07  1.976451e+06  1.993390e+06   \n",
       "std                       2.013540e+07  1.029328e+05  9.163101e+04   \n",
       "min                       4.296000e+03  6.622410e+05  6.622410e+05   \n",
       "25%                       2.464889e+06  1.934786e+06  1.938106e+06   \n",
       "50%                       1.669019e+07  1.970729e+06  1.984889e+06   \n",
       "75%                       3.811192e+07  2.038526e+06  2.057619e+06   \n",
       "max                       6.863042e+07  2.188401e+06  2.196871e+06   \n",
       "\n",
       "           priority  \n",
       "count  15601.000000  \n",
       "mean     150.038459  \n",
       "std        1.386217  \n",
       "min      150.000000  \n",
       "25%      150.000000  \n",
       "50%      150.000000  \n",
       "75%      150.000000  \n",
       "max      200.000000  "
      ]
     },
     "execution_count": 31,
     "metadata": {},
     "output_type": "execute_result"
    }
   ],
   "source": [
    "df.info()\n",
    "df.describe()"
   ]
  },
  {
   "cell_type": "code",
   "execution_count": null,
   "metadata": {},
   "outputs": [],
   "source": []
  },
  {
   "cell_type": "code",
   "execution_count": null,
   "metadata": {},
   "outputs": [],
   "source": [
    "df.head()"
   ]
  },
  {
   "cell_type": "code",
   "execution_count": 27,
   "metadata": {},
   "outputs": [
    {
     "data": {
      "text/plain": [
       "StandardSingleFileProcessor                     10329\n",
       "StandardFileProcessor                            2755\n",
       "OnlineKeyValueFileProcessor                      1382\n",
       "OnlineMultipleDelimiterFileProcessor              440\n",
       "OnlineSingleDelimiterFileProcessor                305\n",
       "GoogleV1FileProcessor                             138\n",
       "FacebookFileProcessor                              58\n",
       "GoogleV1LrIdFileProcessor                          50\n",
       "EpsilonFileProcessor                               41\n",
       "OnlineMultipleDelimiterKeyValueFileProcessor       25\n",
       "FacebookLrIdFileProcessor                          22\n",
       "FacebookPelFileProcessor                           17\n",
       "GoogleV1PelFileProcessor                           13\n",
       "DcmFileProcessor                                   10\n",
       "HashedFileProcessor                                 4\n",
       "GoogleV2FileProcessor                               2\n",
       "V12FileProcessor                                    2\n",
       "SprintGoogleFileProcessor                           2\n",
       "GoogleV1UltaFileProcessor                           2\n",
       "NewFormatGoogleV1FileProcessor                      1\n",
       "GoogleV1EuPelFileProcessor                          1\n",
       "GoogleV1SephoraFileProcessor                        1\n",
       "NewFormatGoogleV1PelFileProcessor                   1\n",
       "Name: file_processor, dtype: int64"
      ]
     },
     "execution_count": 27,
     "metadata": {},
     "output_type": "execute_result"
    }
   ],
   "source": [
    "df['file_processor'].value_counts()"
   ]
  },
  {
   "cell_type": "code",
   "execution_count": 30,
   "metadata": {},
   "outputs": [
    {
     "data": {
      "text/plain": [
       "<matplotlib.axes._subplots.AxesSubplot at 0x119b58590>"
      ]
     },
     "execution_count": 30,
     "metadata": {},
     "output_type": "execute_result"
    },
    {
     "data": {
      "image/png": "[encoded data removed]",
      "text/plain": [
       "<Figure size 432x288 with 1 Axes>"
      ]
     },
     "metadata": {
      "needs_background": "light"
     },
     "output_type": "display_data"
    }
   ],
   "source": [
    "fileprocessor.plot.bar()"
   ]
  },
  {
   "cell_type": "code",
   "execution_count": 29,
   "metadata": {
    "scrolled": true
   },
   "outputs": [
    {
     "data": {
      "text/plain": [
       "<matplotlib.axes._subplots.AxesSubplot at 0x1190fd2d0>"
      ]
     },
     "execution_count": 29,
     "metadata": {},
     "output_type": "execute_result"
    },
    {
     "data": {
      "image/png": "[encoded data removed]",
      "text/plain": [
       "<Figure size 432x288 with 1 Axes>"
      ]
     },
     "metadata": {
      "needs_background": "light"
     },
     "output_type": "display_data"
    }
   ],
   "source": [
    "fileprocessor.plot.bar(logy=True, fig)"
   ]
  },
  {
   "cell_type": "code",
   "execution_count": 36,
   "metadata": {},
   "outputs": [
    {
     "data": {
      "text/plain": [
       "count                           15601\n",
       "unique                             23\n",
       "top       StandardSingleFileProcessor\n",
       "freq                            10329\n",
       "Name: file_processor, dtype: object"
      ]
     },
     "execution_count": 36,
     "metadata": {},
     "output_type": "execute_result"
    }
   ],
   "source": [
    "df['file_processor'].describe()"
   ]
  },
  {
   "cell_type": "markdown",
   "metadata": {},
   "source": [
    "For dev ingestion:\n",
    "1) Does having inactive or unused AICs bog down our system? \n",
    "2) Which preprocessors require the most OC work? \n",
    "3) Standard Single File vs Standard File processor? does it make a difference?\n",
    "\n",
    "For further analysis:\n",
    "4) OnlineKeyValue - is this as much of a painpoint as i think it is?\n"
   ]
  },
  {
   "cell_type": "code",
   "execution_count": null,
   "metadata": {},
   "outputs": [],
   "source": []
  },
  {
   "cell_type": "code",
   "execution_count": 34,
   "metadata": {},
   "outputs": [],
   "source": [
    "pre_p_last_updated = pd.read_csv('/Users/aschul/Documents/Code_Base/Investigations/20200414_file_processors/results-20200414-190515.csv')"
   ]
  },
  {
   "cell_type": "code",
   "execution_count": 35,
   "metadata": {},
   "outputs": [
    {
     "data": {
      "text/html": [
       "<div>\n",
       "<style scoped>\n",
       "    .dataframe tbody tr th:only-of-type {\n",
       "        vertical-align: middle;\n",
       "    }\n",
       "\n",
       "    .dataframe tbody tr th {\n",
       "        vertical-align: top;\n",
       "    }\n",
       "\n",
       "    .dataframe thead th {\n",
       "        text-align: right;\n",
       "    }\n",
       "</style>\n",
       "<table border=\"1\" class=\"dataframe\">\n",
       "  <thead>\n",
       "    <tr style=\"text-align: right;\">\n",
       "      <th></th>\n",
       "      <th>last_updated</th>\n",
       "      <th>file_processor</th>\n",
       "    </tr>\n",
       "  </thead>\n",
       "  <tbody>\n",
       "    <tr>\n",
       "      <th>0</th>\n",
       "      <td>2020-04-14 13:33:40 UTC</td>\n",
       "      <td>StandardSingleFileProcessor</td>\n",
       "    </tr>\n",
       "    <tr>\n",
       "      <th>1</th>\n",
       "      <td>2020-04-14 10:43:28 UTC</td>\n",
       "      <td>OnlineKeyValueFileProcessor</td>\n",
       "    </tr>\n",
       "    <tr>\n",
       "      <th>2</th>\n",
       "      <td>2020-04-13 13:37:36 UTC</td>\n",
       "      <td>StandardFileProcessor</td>\n",
       "    </tr>\n",
       "    <tr>\n",
       "      <th>3</th>\n",
       "      <td>2020-04-10 11:34:26 UTC</td>\n",
       "      <td>FacebookFileProcessor</td>\n",
       "    </tr>\n",
       "    <tr>\n",
       "      <th>4</th>\n",
       "      <td>2020-04-09 15:19:45 UTC</td>\n",
       "      <td>OnlineMultipleDelimiterFileProcessor</td>\n",
       "    </tr>\n",
       "    <tr>\n",
       "      <th>5</th>\n",
       "      <td>2020-04-01 10:48:36 UTC</td>\n",
       "      <td>FacebookLrIdFileProcessor</td>\n",
       "    </tr>\n",
       "    <tr>\n",
       "      <th>6</th>\n",
       "      <td>2020-03-27 13:06:01 UTC</td>\n",
       "      <td>OnlineSingleDelimiterFileProcessor</td>\n",
       "    </tr>\n",
       "    <tr>\n",
       "      <th>7</th>\n",
       "      <td>2019-12-23 10:08:36 UTC</td>\n",
       "      <td>OnlineMultipleDelimiterKeyValueFileProcessor</td>\n",
       "    </tr>\n",
       "    <tr>\n",
       "      <th>8</th>\n",
       "      <td>2019-11-05 18:29:58 UTC</td>\n",
       "      <td>FacebookPelFileProcessor</td>\n",
       "    </tr>\n",
       "    <tr>\n",
       "      <th>9</th>\n",
       "      <td>2019-09-17 12:28:26 UTC</td>\n",
       "      <td>GoogleV1FileProcessor</td>\n",
       "    </tr>\n",
       "    <tr>\n",
       "      <th>10</th>\n",
       "      <td>2019-09-17 12:28:18 UTC</td>\n",
       "      <td>GoogleV1LrIdFileProcessor</td>\n",
       "    </tr>\n",
       "    <tr>\n",
       "      <th>11</th>\n",
       "      <td>2019-09-17 12:28:18 UTC</td>\n",
       "      <td>GoogleV1EuPelFileProcessor</td>\n",
       "    </tr>\n",
       "    <tr>\n",
       "      <th>12</th>\n",
       "      <td>2019-09-17 12:28:13 UTC</td>\n",
       "      <td>GoogleV1PelFileProcessor</td>\n",
       "    </tr>\n",
       "    <tr>\n",
       "      <th>13</th>\n",
       "      <td>2019-09-17 12:27:54 UTC</td>\n",
       "      <td>DcmFileProcessor</td>\n",
       "    </tr>\n",
       "    <tr>\n",
       "      <th>14</th>\n",
       "      <td>2019-09-17 12:27:37 UTC</td>\n",
       "      <td>HashedFileProcessor</td>\n",
       "    </tr>\n",
       "    <tr>\n",
       "      <th>15</th>\n",
       "      <td>2019-08-07 14:32:10 UTC</td>\n",
       "      <td>GoogleV1SephoraFileProcessor</td>\n",
       "    </tr>\n",
       "    <tr>\n",
       "      <th>16</th>\n",
       "      <td>2019-08-07 14:16:31 UTC</td>\n",
       "      <td>V12FileProcessor</td>\n",
       "    </tr>\n",
       "    <tr>\n",
       "      <th>17</th>\n",
       "      <td>2019-08-07 14:02:50 UTC</td>\n",
       "      <td>SprintGoogleFileProcessor</td>\n",
       "    </tr>\n",
       "    <tr>\n",
       "      <th>18</th>\n",
       "      <td>2019-08-07 13:48:24 UTC</td>\n",
       "      <td>NewFormatGoogleV1PelFileProcessor</td>\n",
       "    </tr>\n",
       "    <tr>\n",
       "      <th>19</th>\n",
       "      <td>2019-08-07 13:46:25 UTC</td>\n",
       "      <td>EpsilonFileProcessor</td>\n",
       "    </tr>\n",
       "    <tr>\n",
       "      <th>20</th>\n",
       "      <td>2019-08-07 13:31:57 UTC</td>\n",
       "      <td>NewFormatGoogleV1FileProcessor</td>\n",
       "    </tr>\n",
       "    <tr>\n",
       "      <th>21</th>\n",
       "      <td>2019-08-07 13:25:41 UTC</td>\n",
       "      <td>GoogleV2FileProcessor</td>\n",
       "    </tr>\n",
       "    <tr>\n",
       "      <th>22</th>\n",
       "      <td>2019-08-07 13:24:23 UTC</td>\n",
       "      <td>GoogleV1UltaFileProcessor</td>\n",
       "    </tr>\n",
       "    <tr>\n",
       "      <th>23</th>\n",
       "      <td>2019-08-07 13:19:51 UTC</td>\n",
       "      <td>BaseFileProcessor</td>\n",
       "    </tr>\n",
       "  </tbody>\n",
       "</table>\n",
       "</div>"
      ],
      "text/plain": [
       "               last_updated                                file_processor\n",
       "0   2020-04-14 13:33:40 UTC                   StandardSingleFileProcessor\n",
       "1   2020-04-14 10:43:28 UTC                   OnlineKeyValueFileProcessor\n",
       "2   2020-04-13 13:37:36 UTC                         StandardFileProcessor\n",
       "3   2020-04-10 11:34:26 UTC                         FacebookFileProcessor\n",
       "4   2020-04-09 15:19:45 UTC          OnlineMultipleDelimiterFileProcessor\n",
       "5   2020-04-01 10:48:36 UTC                     FacebookLrIdFileProcessor\n",
       "6   2020-03-27 13:06:01 UTC            OnlineSingleDelimiterFileProcessor\n",
       "7   2019-12-23 10:08:36 UTC  OnlineMultipleDelimiterKeyValueFileProcessor\n",
       "8   2019-11-05 18:29:58 UTC                      FacebookPelFileProcessor\n",
       "9   2019-09-17 12:28:26 UTC                         GoogleV1FileProcessor\n",
       "10  2019-09-17 12:28:18 UTC                     GoogleV1LrIdFileProcessor\n",
       "11  2019-09-17 12:28:18 UTC                    GoogleV1EuPelFileProcessor\n",
       "12  2019-09-17 12:28:13 UTC                      GoogleV1PelFileProcessor\n",
       "13  2019-09-17 12:27:54 UTC                              DcmFileProcessor\n",
       "14  2019-09-17 12:27:37 UTC                           HashedFileProcessor\n",
       "15  2019-08-07 14:32:10 UTC                  GoogleV1SephoraFileProcessor\n",
       "16  2019-08-07 14:16:31 UTC                              V12FileProcessor\n",
       "17  2019-08-07 14:02:50 UTC                     SprintGoogleFileProcessor\n",
       "18  2019-08-07 13:48:24 UTC             NewFormatGoogleV1PelFileProcessor\n",
       "19  2019-08-07 13:46:25 UTC                          EpsilonFileProcessor\n",
       "20  2019-08-07 13:31:57 UTC                NewFormatGoogleV1FileProcessor\n",
       "21  2019-08-07 13:25:41 UTC                         GoogleV2FileProcessor\n",
       "22  2019-08-07 13:24:23 UTC                     GoogleV1UltaFileProcessor\n",
       "23  2019-08-07 13:19:51 UTC                             BaseFileProcessor"
      ]
     },
     "execution_count": 35,
     "metadata": {},
     "output_type": "execute_result"
    }
   ],
   "source": [
    "pre_p_last_updated"
   ]
  },
  {
   "cell_type": "code",
   "execution_count": null,
   "metadata": {},
   "outputs": [],
   "source": []
  },
  {
   "cell_type": "code",
   "execution_count": null,
   "metadata": {},
   "outputs": [],
   "source": []
  }
 ],
 "metadata": {
  "kernelspec": {
   "display_name": "Python 3",
   "language": "python",
   "name": "python3"
  },
  "language_info": {
   "codemirror_mode": {
    "name": "ipython",
    "version": 3
   },
   "file_extension": ".py",
   "mimetype": "text/x-python",
   "name": "python",
   "nbconvert_exporter": "python",
   "pygments_lexer": "ipython3",
   "version": "3.7.7"
  }
 },
 "nbformat": 4,
 "nbformat_minor": 4
}
